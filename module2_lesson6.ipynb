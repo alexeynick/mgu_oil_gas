{
  "nbformat": 4,
  "nbformat_minor": 0,
  "metadata": {
    "colab": {
      "name": "module2_lesson6.ipynb",
      "provenance": [],
      "collapsed_sections": [],
      "authorship_tag": "ABX9TyMb1mwVv9hBZTejxT7Nwxi8",
      "include_colab_link": true
    },
    "kernelspec": {
      "name": "python3",
      "display_name": "Python 3"
    },
    "language_info": {
      "name": "python"
    }
  },
  "cells": [
    {
      "cell_type": "markdown",
      "metadata": {
        "id": "view-in-github",
        "colab_type": "text"
      },
      "source": [
        "<a href=\"https://colab.research.google.com/github/alexeynick/msu_oil_gas/blob/main/module2_lesson6.ipynb\" target=\"_parent\"><img src=\"https://colab.research.google.com/assets/colab-badge.svg\" alt=\"Open In Colab\"/></a>"
      ]
    },
    {
      "cell_type": "markdown",
      "metadata": {
        "id": "yTbQUBdRl2s7"
      },
      "source": [
        "## Задачи модуля №2. Характеристики вытеснения"
      ]
    },
    {
      "cell_type": "code",
      "metadata": {
        "id": "KPj-MO-omENw"
      },
      "source": [
        "import pandas as pd\n",
        "import numpy as np\n",
        "import io\n",
        "\n",
        "import plotly.express as px\n",
        "import plotly.graph_objects as go\n",
        "from plotly.graph_objs import *\n",
        "import matplotlib.pyplot as plt \n",
        "\n",
        "from sklearn.impute import KNNImputer\n",
        "\n",
        "import matplotlib.pyplot as plt\n",
        "from scipy.optimize import curve_fit\n",
        "\n",
        "from plotly.subplots import make_subplots\n"
      ],
      "execution_count": 1,
      "outputs": []
    },
    {
      "cell_type": "code",
      "metadata": {
        "id": "u6lPcN_Kap5x"
      },
      "source": [
        "anno_font = dict(\n",
        "        family=\"arial bold\",\n",
        "        size=36,\n",
        "        color=\"Black\"\n",
        "    )"
      ],
      "execution_count": 2,
      "outputs": []
    },
    {
      "cell_type": "code",
      "metadata": {
        "colab": {
          "base_uri": "https://localhost:8080/",
          "height": 348
        },
        "id": "3VTTXxwPlwXN",
        "outputId": "bf001be4-e211-4e1e-9d95-c7118a454c5a"
      },
      "source": [
        "df_object = pd.read_csv('https://raw.githubusercontent.com/alexeynick/msu_oil_gas/main/datasets/dynamic_object_5.csv')\n",
        "df_object.tail(10)"
      ],
      "execution_count": 3,
      "outputs": [
        {
          "output_type": "execute_result",
          "data": {
            "text/html": [
              "<div>\n",
              "<style scoped>\n",
              "    .dataframe tbody tr th:only-of-type {\n",
              "        vertical-align: middle;\n",
              "    }\n",
              "\n",
              "    .dataframe tbody tr th {\n",
              "        vertical-align: top;\n",
              "    }\n",
              "\n",
              "    .dataframe thead th {\n",
              "        text-align: right;\n",
              "    }\n",
              "</style>\n",
              "<table border=\"1\" class=\"dataframe\">\n",
              "  <thead>\n",
              "    <tr style=\"text-align: right;\">\n",
              "      <th></th>\n",
              "      <th>year</th>\n",
              "      <th>oil_year</th>\n",
              "      <th>production_frac</th>\n",
              "      <th>production_frac_rem</th>\n",
              "      <th>oil_total</th>\n",
              "      <th>production_frac_total</th>\n",
              "      <th>kin</th>\n",
              "      <th>water_year</th>\n",
              "      <th>water_total</th>\n",
              "      <th>water_cut</th>\n",
              "      <th>inject_year</th>\n",
              "      <th>inject_total</th>\n",
              "      <th>inject_comp_year</th>\n",
              "      <th>inject_comp_total</th>\n",
              "    </tr>\n",
              "  </thead>\n",
              "  <tbody>\n",
              "    <tr>\n",
              "      <th>35</th>\n",
              "      <td>2005</td>\n",
              "      <td>55.9</td>\n",
              "      <td>0.6</td>\n",
              "      <td>2.4</td>\n",
              "      <td>6661</td>\n",
              "      <td>74.06</td>\n",
              "      <td>0.307</td>\n",
              "      <td>429.7</td>\n",
              "      <td>21933</td>\n",
              "      <td>87.0</td>\n",
              "      <td>410.6</td>\n",
              "      <td>22481.0</td>\n",
              "      <td>101.1</td>\n",
              "      <td>103.2</td>\n",
              "    </tr>\n",
              "    <tr>\n",
              "      <th>36</th>\n",
              "      <td>2006</td>\n",
              "      <td>57.7</td>\n",
              "      <td>0.6</td>\n",
              "      <td>2.5</td>\n",
              "      <td>6719</td>\n",
              "      <td>74.70</td>\n",
              "      <td>0.309</td>\n",
              "      <td>388.5</td>\n",
              "      <td>22322</td>\n",
              "      <td>85.2</td>\n",
              "      <td>361.6</td>\n",
              "      <td>22842.6</td>\n",
              "      <td>98.0</td>\n",
              "      <td>103.1</td>\n",
              "    </tr>\n",
              "    <tr>\n",
              "      <th>37</th>\n",
              "      <td>2007</td>\n",
              "      <td>56.7</td>\n",
              "      <td>0.6</td>\n",
              "      <td>2.6</td>\n",
              "      <td>6776</td>\n",
              "      <td>75.33</td>\n",
              "      <td>0.312</td>\n",
              "      <td>215.6</td>\n",
              "      <td>22538</td>\n",
              "      <td>73.7</td>\n",
              "      <td>117.5</td>\n",
              "      <td>22960.1</td>\n",
              "      <td>55.5</td>\n",
              "      <td>102.7</td>\n",
              "    </tr>\n",
              "    <tr>\n",
              "      <th>38</th>\n",
              "      <td>2008</td>\n",
              "      <td>61.1</td>\n",
              "      <td>0.7</td>\n",
              "      <td>2.8</td>\n",
              "      <td>6837</td>\n",
              "      <td>76.01</td>\n",
              "      <td>0.315</td>\n",
              "      <td>208.9</td>\n",
              "      <td>22747</td>\n",
              "      <td>70.7</td>\n",
              "      <td>156.2</td>\n",
              "      <td>23116.4</td>\n",
              "      <td>75.5</td>\n",
              "      <td>102.4</td>\n",
              "    </tr>\n",
              "    <tr>\n",
              "      <th>39</th>\n",
              "      <td>2009</td>\n",
              "      <td>62.1</td>\n",
              "      <td>0.7</td>\n",
              "      <td>3.0</td>\n",
              "      <td>6899</td>\n",
              "      <td>76.70</td>\n",
              "      <td>0.318</td>\n",
              "      <td>202.4</td>\n",
              "      <td>22949</td>\n",
              "      <td>69.3</td>\n",
              "      <td>137.2</td>\n",
              "      <td>23253.5</td>\n",
              "      <td>68.2</td>\n",
              "      <td>102.1</td>\n",
              "    </tr>\n",
              "    <tr>\n",
              "      <th>40</th>\n",
              "      <td>2010</td>\n",
              "      <td>60.3</td>\n",
              "      <td>0.7</td>\n",
              "      <td>3.0</td>\n",
              "      <td>6959</td>\n",
              "      <td>77.37</td>\n",
              "      <td>0.320</td>\n",
              "      <td>205.3</td>\n",
              "      <td>23154</td>\n",
              "      <td>70.6</td>\n",
              "      <td>141.2</td>\n",
              "      <td>23394.8</td>\n",
              "      <td>69.5</td>\n",
              "      <td>101.8</td>\n",
              "    </tr>\n",
              "    <tr>\n",
              "      <th>41</th>\n",
              "      <td>2011</td>\n",
              "      <td>51.5</td>\n",
              "      <td>0.6</td>\n",
              "      <td>2.6</td>\n",
              "      <td>7011</td>\n",
              "      <td>77.94</td>\n",
              "      <td>0.323</td>\n",
              "      <td>192.5</td>\n",
              "      <td>23347</td>\n",
              "      <td>73.2</td>\n",
              "      <td>138.9</td>\n",
              "      <td>23533.6</td>\n",
              "      <td>73.4</td>\n",
              "      <td>101.6</td>\n",
              "    </tr>\n",
              "    <tr>\n",
              "      <th>42</th>\n",
              "      <td>2012</td>\n",
              "      <td>49.6</td>\n",
              "      <td>0.6</td>\n",
              "      <td>2.6</td>\n",
              "      <td>7061</td>\n",
              "      <td>78.49</td>\n",
              "      <td>0.325</td>\n",
              "      <td>201.8</td>\n",
              "      <td>23548</td>\n",
              "      <td>75.4</td>\n",
              "      <td>144.5</td>\n",
              "      <td>23678.1</td>\n",
              "      <td>73.3</td>\n",
              "      <td>101.4</td>\n",
              "    </tr>\n",
              "    <tr>\n",
              "      <th>43</th>\n",
              "      <td>2013</td>\n",
              "      <td>44.6</td>\n",
              "      <td>0.5</td>\n",
              "      <td>2.4</td>\n",
              "      <td>7105</td>\n",
              "      <td>78.99</td>\n",
              "      <td>0.327</td>\n",
              "      <td>213.5</td>\n",
              "      <td>23762</td>\n",
              "      <td>79.1</td>\n",
              "      <td>146.7</td>\n",
              "      <td>23824.9</td>\n",
              "      <td>71.1</td>\n",
              "      <td>101.1</td>\n",
              "    </tr>\n",
              "    <tr>\n",
              "      <th>44</th>\n",
              "      <td>2014</td>\n",
              "      <td>47.3</td>\n",
              "      <td>0.5</td>\n",
              "      <td>2.6</td>\n",
              "      <td>7153</td>\n",
              "      <td>79.52</td>\n",
              "      <td>0.329</td>\n",
              "      <td>231.3</td>\n",
              "      <td>23993</td>\n",
              "      <td>79.5</td>\n",
              "      <td>107.7</td>\n",
              "      <td>23932.6</td>\n",
              "      <td>48.2</td>\n",
              "      <td>100.6</td>\n",
              "    </tr>\n",
              "  </tbody>\n",
              "</table>\n",
              "</div>"
            ],
            "text/plain": [
              "    year  oil_year  ...  inject_comp_year  inject_comp_total\n",
              "35  2005      55.9  ...             101.1              103.2\n",
              "36  2006      57.7  ...              98.0              103.1\n",
              "37  2007      56.7  ...              55.5              102.7\n",
              "38  2008      61.1  ...              75.5              102.4\n",
              "39  2009      62.1  ...              68.2              102.1\n",
              "40  2010      60.3  ...              69.5              101.8\n",
              "41  2011      51.5  ...              73.4              101.6\n",
              "42  2012      49.6  ...              73.3              101.4\n",
              "43  2013      44.6  ...              71.1              101.1\n",
              "44  2014      47.3  ...              48.2              100.6\n",
              "\n",
              "[10 rows x 14 columns]"
            ]
          },
          "metadata": {
            "tags": []
          },
          "execution_count": 3
        }
      ]
    },
    {
      "cell_type": "code",
      "metadata": {
        "colab": {
          "base_uri": "https://localhost:8080/",
          "height": 198
        },
        "id": "DDNzeubrl98m",
        "outputId": "ca35996d-1e9a-40ee-dfb1-34447b8b16b6"
      },
      "source": [
        "df_graph = df_object[['year', 'oil_total', 'water_total']].copy()\n",
        "df_graph['oil_total'] = df_graph['oil_total'].astype(float)\n",
        "df_graph['water_total'] = df_graph['water_total'].astype(float)\n",
        "df_graph['water_total_deg_1'] = np.power(df_graph['water_total'].astype(float), -1)\n",
        "df_graph['water_total_ln'] = np.log(df_graph['water_total'].astype(float))\n",
        "df_graph['oil_total_ln'] = np.log(df_graph['oil_total'].astype(float))\n",
        "df_graph['water_to_oil_total'] = df_graph['water_total'].astype(float) / df_graph['oil_total'].astype(float)\n",
        "df_graph.head(5)"
      ],
      "execution_count": 4,
      "outputs": [
        {
          "output_type": "execute_result",
          "data": {
            "text/html": [
              "<div>\n",
              "<style scoped>\n",
              "    .dataframe tbody tr th:only-of-type {\n",
              "        vertical-align: middle;\n",
              "    }\n",
              "\n",
              "    .dataframe tbody tr th {\n",
              "        vertical-align: top;\n",
              "    }\n",
              "\n",
              "    .dataframe thead th {\n",
              "        text-align: right;\n",
              "    }\n",
              "</style>\n",
              "<table border=\"1\" class=\"dataframe\">\n",
              "  <thead>\n",
              "    <tr style=\"text-align: right;\">\n",
              "      <th></th>\n",
              "      <th>year</th>\n",
              "      <th>oil_total</th>\n",
              "      <th>water_total</th>\n",
              "      <th>water_total_deg_1</th>\n",
              "      <th>water_total_ln</th>\n",
              "      <th>oil_total_ln</th>\n",
              "      <th>water_to_oil_total</th>\n",
              "    </tr>\n",
              "  </thead>\n",
              "  <tbody>\n",
              "    <tr>\n",
              "      <th>0</th>\n",
              "      <td>1970</td>\n",
              "      <td>90.0</td>\n",
              "      <td>92.0</td>\n",
              "      <td>0.010870</td>\n",
              "      <td>4.521789</td>\n",
              "      <td>4.499810</td>\n",
              "      <td>1.022222</td>\n",
              "    </tr>\n",
              "    <tr>\n",
              "      <th>1</th>\n",
              "      <td>1971</td>\n",
              "      <td>181.0</td>\n",
              "      <td>190.0</td>\n",
              "      <td>0.005263</td>\n",
              "      <td>5.247024</td>\n",
              "      <td>5.198497</td>\n",
              "      <td>1.049724</td>\n",
              "    </tr>\n",
              "    <tr>\n",
              "      <th>2</th>\n",
              "      <td>1972</td>\n",
              "      <td>359.0</td>\n",
              "      <td>378.0</td>\n",
              "      <td>0.002646</td>\n",
              "      <td>5.934894</td>\n",
              "      <td>5.883322</td>\n",
              "      <td>1.052925</td>\n",
              "    </tr>\n",
              "    <tr>\n",
              "      <th>3</th>\n",
              "      <td>1973</td>\n",
              "      <td>754.0</td>\n",
              "      <td>796.0</td>\n",
              "      <td>0.001256</td>\n",
              "      <td>6.679599</td>\n",
              "      <td>6.625392</td>\n",
              "      <td>1.055703</td>\n",
              "    </tr>\n",
              "    <tr>\n",
              "      <th>4</th>\n",
              "      <td>1974</td>\n",
              "      <td>1175.0</td>\n",
              "      <td>1324.0</td>\n",
              "      <td>0.000755</td>\n",
              "      <td>7.188413</td>\n",
              "      <td>7.069023</td>\n",
              "      <td>1.126809</td>\n",
              "    </tr>\n",
              "  </tbody>\n",
              "</table>\n",
              "</div>"
            ],
            "text/plain": [
              "   year  oil_total  ...  oil_total_ln  water_to_oil_total\n",
              "0  1970       90.0  ...      4.499810            1.022222\n",
              "1  1971      181.0  ...      5.198497            1.049724\n",
              "2  1972      359.0  ...      5.883322            1.052925\n",
              "3  1973      754.0  ...      6.625392            1.055703\n",
              "4  1974     1175.0  ...      7.069023            1.126809\n",
              "\n",
              "[5 rows x 7 columns]"
            ]
          },
          "metadata": {
            "tags": []
          },
          "execution_count": 4
        }
      ]
    },
    {
      "cell_type": "code",
      "metadata": {
        "id": "HgEL1yD6OqHt"
      },
      "source": [
        "niz_total = 8995"
      ],
      "execution_count": 5,
      "outputs": []
    },
    {
      "cell_type": "code",
      "metadata": {
        "id": "3VfhRL6_w6Eh"
      },
      "source": [
        "def kambarov_func(x, a, b):\n",
        "    return a - b * (x ** -1)\n",
        "\n",
        "def kambarov_niz(a, b):\n",
        "    return a - (b * 0.02) ** 0.5\n",
        "\n",
        "def sazonov_func(x, a, b):\n",
        "    return a + b * np.log(x)\n",
        "\n",
        "def sazonov_niz(a, b):\n",
        "    return a + b * np.log(b / 0.02)\n",
        "\n",
        "def french_func(x, a, b):\n",
        "    return (a + 1) * x + b * (x ** 2)\n",
        "\n",
        "def french_niz(a, b):\n",
        "    fvk = 0.98\n",
        "    return (1 / (2 * b))  * (fvk / (1 - fvk) - a)\n",
        "\n",
        "def naz_sip_func(x, a, b):\n",
        "    return (a * x - b * (x ** 2)) / (1 - b * x)\n",
        "\n",
        "def naz_sip_niz(vvk, a, b):\n",
        "    return vvk / (a - 1 + b * vvk)"
      ],
      "execution_count": 6,
      "outputs": []
    },
    {
      "cell_type": "code",
      "metadata": {
        "colab": {
          "base_uri": "https://localhost:8080/"
        },
        "id": "uCq5Jb5Szwu7",
        "outputId": "72537d47-7c47-4a14-f864-747aa101d94d"
      },
      "source": [
        "xdata = df_graph[-25:]['water_total']\n",
        "ydata = df_graph[-25:]['oil_total']\n",
        "\n",
        "popt, pcov = curve_fit(kambarov_func, xdata, ydata)\n",
        "popt\n",
        "\n",
        "#print(popt)\n",
        "#print(kambarov_niz(*popt))\n",
        "\n",
        "#ydata_fit = func_kambarov(xdata, *popt)"
      ],
      "execution_count": 7,
      "outputs": [
        {
          "output_type": "execute_result",
          "data": {
            "text/plain": [
              "array([9.18132561e+03, 5.33728279e+07])"
            ]
          },
          "metadata": {
            "tags": []
          },
          "execution_count": 7
        }
      ]
    },
    {
      "cell_type": "code",
      "metadata": {
        "colab": {
          "base_uri": "https://localhost:8080/",
          "height": 717
        },
        "id": "nh11cNUV956w",
        "outputId": "29268339-1bd4-4593-9336-89d385825415"
      },
      "source": [
        "fig = make_subplots(\n",
        "    subplot_titles=[\n",
        "                    'Весь период',\n",
        "                    'Период аппроксимации'],\n",
        "    rows=1, \n",
        "    cols=2)\n",
        "\n",
        "fig.add_trace(go.Scatter(x=df_graph['water_total_deg_1'], y=df_graph['oil_total'],\n",
        "                    mode='lines+markers',\n",
        "                    name='Накопленный объем нефти, 10^6'),\n",
        "    row=1, col=1)\n",
        "\n",
        "fig.add_trace(go.Scatter(x=df_graph[-35:]['water_total_deg_1'], y=df_graph[-35:]['oil_total'],\n",
        "                    mode='lines+markers',\n",
        "                    name='Период аппроксимации'),\n",
        "    row=1, col=1)\n",
        "\n",
        "#####\n",
        "\n",
        "fig.add_trace(go.Scatter(x=df_graph[-35:]['water_total_deg_1'], y=df_graph[-35:]['oil_total'],\n",
        "                    mode='lines+markers',\n",
        "                    name='Годовой отбор жидкости, 10^6'),\n",
        "    row=1, col=2)\n",
        "\n",
        "fig.add_trace(go.Scatter(x=df_graph[-25:]['water_total_deg_1'], y=df_graph[-25:]['oil_total'],\n",
        "                    mode='lines+markers',\n",
        "                    name='Участок аппроксимации'),\n",
        "    row=1, col=2)\n",
        "\n",
        "fig.add_trace(go.Scatter(x=df_graph[-25:]['water_total_deg_1'], y=kambarov_func(xdata, *popt),\n",
        "                    mode='lines',\n",
        "                    name='Функция аппроксимации (Камбарова)'),\n",
        "    row=1, col=2)\n",
        "\n",
        "\n",
        "fig['layout']['xaxis1']['title']='1 / Накопленный объем жидкости, 10^-6'\n",
        "fig['layout']['xaxis1']['tickangle']=-45\n",
        "fig['layout']['xaxis1']['tickmode']='array'\n",
        "fig['layout']['yaxis1']['title']='Накопленный объем нефти, 10^6'\n",
        "\n",
        "fig['layout']['xaxis2']['title']='1 / Накопленный объем жидкости, 10^-6'\n",
        "fig['layout']['xaxis2']['tickangle']=-45\n",
        "\n",
        "\n",
        "\n",
        "fig.update_layout( \n",
        "    title={\n",
        "        'text': 'Зависимость накопленной добычи нефти от объема жидкости',\n",
        "        'y':0.95,\n",
        "        'x':0.45,\n",
        "        'xanchor': 'center',\n",
        "        'yanchor': 'top'},\n",
        "    autosize=False,\n",
        "    width=1400,\n",
        "    height=700)\n",
        "\n",
        "\n",
        "fig.show()"
      ],
      "execution_count": 8,
      "outputs": [
        {
          "output_type": "display_data",
          "data": {
            "text/html": [
              "<html>\n",
              "<head><meta charset=\"utf-8\" /></head>\n",
              "<body>\n",
              "    <div>\n",
              "            <script src=\"https://cdnjs.cloudflare.com/ajax/libs/mathjax/2.7.5/MathJax.js?config=TeX-AMS-MML_SVG\"></script><script type=\"text/javascript\">if (window.MathJax) {MathJax.Hub.Config({SVG: {font: \"STIX-Web\"}});}</script>\n",
              "                <script type=\"text/javascript\">window.PlotlyConfig = {MathJaxConfig: 'local'};</script>\n",
              "        <script src=\"https://cdn.plot.ly/plotly-latest.min.js\"></script>    \n",
              "            <div id=\"0649efaf-d404-431f-bc29-c973f4840095\" class=\"plotly-graph-div\" style=\"height:700px; width:1400px;\"></div>\n",
              "            <script type=\"text/javascript\">\n",
              "                \n",
              "                    window.PLOTLYENV=window.PLOTLYENV || {};\n",
              "                    \n",
              "                if (document.getElementById(\"0649efaf-d404-431f-bc29-c973f4840095\")) {\n",
              "                    Plotly.newPlot(\n",
              "                        '0649efaf-d404-431f-bc29-c973f4840095',\n",
              "                        [{\"mode\": \"lines+markers\", \"name\": \"\\u041d\\u0430\\u043a\\u043e\\u043f\\u043b\\u0435\\u043d\\u043d\\u044b\\u0439 \\u043e\\u0431\\u044a\\u0435\\u043c \\u043d\\u0435\\u0444\\u0442\\u0438, 10^6\", \"type\": \"scatter\", \"x\": [0.010869565217391304, 0.005263157894736842, 0.0026455026455026454, 0.001256281407035176, 0.0007552870090634441, 0.0004591368227731864, 0.00030646644192460924, 0.00023969319271332693, 0.00020308692120227456, 0.00017614937466971993, 0.00015271838729383018, 0.0001312852829197847, 0.00011798017932987259, 0.00010702054794520547, 9.864851533984413e-05, 9.177679882525697e-05, 8.557247989046722e-05, 8.027614995584812e-05, 7.496813854112003e-05, 7.065140596297866e-05, 6.741270055278414e-05, 6.438320885912955e-05, 6.218132073125233e-05, 5.986231667165519e-05, 5.789717461787865e-05, 5.641430666817105e-05, 5.536791982725209e-05, 5.417998591320366e-05, 5.285412262156448e-05, 5.161290322580645e-05, 5.0507601394009796e-05, 4.9478007025877e-05, 4.839099927413501e-05, 4.738213693437574e-05, 4.650297619047619e-05, 4.55933980759586e-05, 4.479885314935937e-05, 4.436950927322744e-05, 4.396184112190618e-05, 4.357488343718681e-05, 4.3189081800120926e-05, 4.283205551034394e-05, 4.246645150331238e-05, 4.2083999663328004e-05, 4.167882299003876e-05], \"xaxis\": \"x\", \"y\": [90.0, 181.0, 359.0, 754.0, 1175.0, 1881.0, 2655.0, 3247.0, 3666.0, 4018.0, 4343.0, 4637.0, 4822.0, 4948.0, 5068.0, 5185.0, 5297.0, 5410.0, 5543.0, 5660.0, 5762.0, 5858.0, 5928.0, 6003.0, 6062.0, 6114.0, 6163.0, 6214.0, 6271.0, 6324.0, 6377.0, 6433.0, 6494.0, 6548.0, 6606.0, 6661.0, 6719.0, 6776.0, 6837.0, 6899.0, 6959.0, 7011.0, 7061.0, 7105.0, 7153.0], \"yaxis\": \"y\"}, {\"mode\": \"lines+markers\", \"name\": \"\\u041f\\u0435\\u0440\\u0438\\u043e\\u0434 \\u0430\\u043f\\u043f\\u0440\\u043e\\u043a\\u0441\\u0438\\u043c\\u0430\\u0446\\u0438\\u0438\", \"type\": \"scatter\", \"x\": [0.00015271838729383018, 0.0001312852829197847, 0.00011798017932987259, 0.00010702054794520547, 9.864851533984413e-05, 9.177679882525697e-05, 8.557247989046722e-05, 8.027614995584812e-05, 7.496813854112003e-05, 7.065140596297866e-05, 6.741270055278414e-05, 6.438320885912955e-05, 6.218132073125233e-05, 5.986231667165519e-05, 5.789717461787865e-05, 5.641430666817105e-05, 5.536791982725209e-05, 5.417998591320366e-05, 5.285412262156448e-05, 5.161290322580645e-05, 5.0507601394009796e-05, 4.9478007025877e-05, 4.839099927413501e-05, 4.738213693437574e-05, 4.650297619047619e-05, 4.55933980759586e-05, 4.479885314935937e-05, 4.436950927322744e-05, 4.396184112190618e-05, 4.357488343718681e-05, 4.3189081800120926e-05, 4.283205551034394e-05, 4.246645150331238e-05, 4.2083999663328004e-05, 4.167882299003876e-05], \"xaxis\": \"x\", \"y\": [4343.0, 4637.0, 4822.0, 4948.0, 5068.0, 5185.0, 5297.0, 5410.0, 5543.0, 5660.0, 5762.0, 5858.0, 5928.0, 6003.0, 6062.0, 6114.0, 6163.0, 6214.0, 6271.0, 6324.0, 6377.0, 6433.0, 6494.0, 6548.0, 6606.0, 6661.0, 6719.0, 6776.0, 6837.0, 6899.0, 6959.0, 7011.0, 7061.0, 7105.0, 7153.0], \"yaxis\": \"y\"}, {\"mode\": \"lines+markers\", \"name\": \"\\u0413\\u043e\\u0434\\u043e\\u0432\\u043e\\u0439 \\u043e\\u0442\\u0431\\u043e\\u0440 \\u0436\\u0438\\u0434\\u043a\\u043e\\u0441\\u0442\\u0438, 10^6\", \"type\": \"scatter\", \"x\": [0.00015271838729383018, 0.0001312852829197847, 0.00011798017932987259, 0.00010702054794520547, 9.864851533984413e-05, 9.177679882525697e-05, 8.557247989046722e-05, 8.027614995584812e-05, 7.496813854112003e-05, 7.065140596297866e-05, 6.741270055278414e-05, 6.438320885912955e-05, 6.218132073125233e-05, 5.986231667165519e-05, 5.789717461787865e-05, 5.641430666817105e-05, 5.536791982725209e-05, 5.417998591320366e-05, 5.285412262156448e-05, 5.161290322580645e-05, 5.0507601394009796e-05, 4.9478007025877e-05, 4.839099927413501e-05, 4.738213693437574e-05, 4.650297619047619e-05, 4.55933980759586e-05, 4.479885314935937e-05, 4.436950927322744e-05, 4.396184112190618e-05, 4.357488343718681e-05, 4.3189081800120926e-05, 4.283205551034394e-05, 4.246645150331238e-05, 4.2083999663328004e-05, 4.167882299003876e-05], \"xaxis\": \"x2\", \"y\": [4343.0, 4637.0, 4822.0, 4948.0, 5068.0, 5185.0, 5297.0, 5410.0, 5543.0, 5660.0, 5762.0, 5858.0, 5928.0, 6003.0, 6062.0, 6114.0, 6163.0, 6214.0, 6271.0, 6324.0, 6377.0, 6433.0, 6494.0, 6548.0, 6606.0, 6661.0, 6719.0, 6776.0, 6837.0, 6899.0, 6959.0, 7011.0, 7061.0, 7105.0, 7153.0], \"yaxis\": \"y2\"}, {\"mode\": \"lines+markers\", \"name\": \"\\u0423\\u0447\\u0430\\u0441\\u0442\\u043e\\u043a \\u0430\\u043f\\u043f\\u0440\\u043e\\u043a\\u0441\\u0438\\u043c\\u0430\\u0446\\u0438\\u0438\", \"type\": \"scatter\", \"x\": [6.741270055278414e-05, 6.438320885912955e-05, 6.218132073125233e-05, 5.986231667165519e-05, 5.789717461787865e-05, 5.641430666817105e-05, 5.536791982725209e-05, 5.417998591320366e-05, 5.285412262156448e-05, 5.161290322580645e-05, 5.0507601394009796e-05, 4.9478007025877e-05, 4.839099927413501e-05, 4.738213693437574e-05, 4.650297619047619e-05, 4.55933980759586e-05, 4.479885314935937e-05, 4.436950927322744e-05, 4.396184112190618e-05, 4.357488343718681e-05, 4.3189081800120926e-05, 4.283205551034394e-05, 4.246645150331238e-05, 4.2083999663328004e-05, 4.167882299003876e-05], \"xaxis\": \"x2\", \"y\": [5762.0, 5858.0, 5928.0, 6003.0, 6062.0, 6114.0, 6163.0, 6214.0, 6271.0, 6324.0, 6377.0, 6433.0, 6494.0, 6548.0, 6606.0, 6661.0, 6719.0, 6776.0, 6837.0, 6899.0, 6959.0, 7011.0, 7061.0, 7105.0, 7153.0], \"yaxis\": \"y2\"}, {\"mode\": \"lines\", \"name\": \"\\u0424\\u0443\\u043d\\u043a\\u0446\\u0438\\u044f \\u0430\\u043f\\u043f\\u0440\\u043e\\u043a\\u0441\\u0438\\u043c\\u0430\\u0446\\u0438\\u0438 (\\u041a\\u0430\\u043c\\u0431\\u0430\\u0440\\u043e\\u0432\\u0430)\", \"type\": \"scatter\", \"x\": [6.741270055278414e-05, 6.438320885912955e-05, 6.218132073125233e-05, 5.986231667165519e-05, 5.789717461787865e-05, 5.641430666817105e-05, 5.536791982725209e-05, 5.417998591320366e-05, 5.285412262156448e-05, 5.161290322580645e-05, 5.0507601394009796e-05, 4.9478007025877e-05, 4.839099927413501e-05, 4.738213693437574e-05, 4.650297619047619e-05, 4.55933980759586e-05, 4.479885314935937e-05, 4.436950927322744e-05, 4.396184112190618e-05, 4.357488343718681e-05, 4.3189081800120926e-05, 4.283205551034394e-05, 4.246645150331238e-05, 4.2083999663328004e-05, 4.167882299003876e-05], \"xaxis\": \"x2\", \"y\": [5583.31914134878, 5745.011680283714, 5862.532676493367, 5986.304481176661, 6091.189669906005, 6170.334525855162, 6226.1831506824465, 6289.586543090396, 6360.351616437453, 6426.599005692808, 6485.592090191758, 6540.544453258208, 6598.561130969936, 6652.406967052995, 6699.33026217567, 6747.877018386967, 6790.284128051202, 6813.199424882464, 6834.95782698276, 6855.610852912394, 6876.202177309519, 6895.257680046653, 6914.770999811001, 6935.183536064835, 6956.808960936793], \"yaxis\": \"y2\"}],\n",
              "                        {\"annotations\": [{\"font\": {\"size\": 16}, \"showarrow\": false, \"text\": \"\\u0412\\u0435\\u0441\\u044c \\u043f\\u0435\\u0440\\u0438\\u043e\\u0434\", \"x\": 0.225, \"xanchor\": \"center\", \"xref\": \"paper\", \"y\": 1.0, \"yanchor\": \"bottom\", \"yref\": \"paper\"}, {\"font\": {\"size\": 16}, \"showarrow\": false, \"text\": \"\\u041f\\u0435\\u0440\\u0438\\u043e\\u0434 \\u0430\\u043f\\u043f\\u0440\\u043e\\u043a\\u0441\\u0438\\u043c\\u0430\\u0446\\u0438\\u0438\", \"x\": 0.775, \"xanchor\": \"center\", \"xref\": \"paper\", \"y\": 1.0, \"yanchor\": \"bottom\", \"yref\": \"paper\"}], \"autosize\": false, \"height\": 700, \"template\": {\"data\": {\"bar\": [{\"error_x\": {\"color\": \"#2a3f5f\"}, \"error_y\": {\"color\": \"#2a3f5f\"}, \"marker\": {\"line\": {\"color\": \"#E5ECF6\", \"width\": 0.5}}, \"type\": \"bar\"}], \"barpolar\": [{\"marker\": {\"line\": {\"color\": \"#E5ECF6\", \"width\": 0.5}}, \"type\": \"barpolar\"}], \"carpet\": [{\"aaxis\": {\"endlinecolor\": \"#2a3f5f\", \"gridcolor\": \"white\", \"linecolor\": \"white\", \"minorgridcolor\": \"white\", \"startlinecolor\": \"#2a3f5f\"}, \"baxis\": {\"endlinecolor\": \"#2a3f5f\", \"gridcolor\": \"white\", \"linecolor\": \"white\", \"minorgridcolor\": \"white\", \"startlinecolor\": \"#2a3f5f\"}, \"type\": \"carpet\"}], \"choropleth\": [{\"colorbar\": {\"outlinewidth\": 0, \"ticks\": \"\"}, \"type\": \"choropleth\"}], \"contour\": [{\"colorbar\": {\"outlinewidth\": 0, \"ticks\": \"\"}, \"colorscale\": [[0.0, \"#0d0887\"], [0.1111111111111111, \"#46039f\"], [0.2222222222222222, \"#7201a8\"], [0.3333333333333333, \"#9c179e\"], [0.4444444444444444, \"#bd3786\"], [0.5555555555555556, \"#d8576b\"], [0.6666666666666666, \"#ed7953\"], [0.7777777777777778, \"#fb9f3a\"], [0.8888888888888888, \"#fdca26\"], [1.0, \"#f0f921\"]], \"type\": \"contour\"}], \"contourcarpet\": [{\"colorbar\": {\"outlinewidth\": 0, \"ticks\": \"\"}, \"type\": \"contourcarpet\"}], \"heatmap\": [{\"colorbar\": {\"outlinewidth\": 0, \"ticks\": \"\"}, \"colorscale\": [[0.0, \"#0d0887\"], [0.1111111111111111, \"#46039f\"], [0.2222222222222222, \"#7201a8\"], [0.3333333333333333, \"#9c179e\"], [0.4444444444444444, \"#bd3786\"], [0.5555555555555556, \"#d8576b\"], [0.6666666666666666, \"#ed7953\"], [0.7777777777777778, \"#fb9f3a\"], [0.8888888888888888, \"#fdca26\"], [1.0, \"#f0f921\"]], \"type\": \"heatmap\"}], \"heatmapgl\": [{\"colorbar\": {\"outlinewidth\": 0, \"ticks\": \"\"}, \"colorscale\": [[0.0, \"#0d0887\"], [0.1111111111111111, \"#46039f\"], [0.2222222222222222, \"#7201a8\"], [0.3333333333333333, \"#9c179e\"], [0.4444444444444444, \"#bd3786\"], [0.5555555555555556, \"#d8576b\"], [0.6666666666666666, \"#ed7953\"], [0.7777777777777778, \"#fb9f3a\"], [0.8888888888888888, \"#fdca26\"], [1.0, \"#f0f921\"]], \"type\": \"heatmapgl\"}], \"histogram\": [{\"marker\": {\"colorbar\": {\"outlinewidth\": 0, \"ticks\": \"\"}}, \"type\": \"histogram\"}], \"histogram2d\": [{\"colorbar\": {\"outlinewidth\": 0, \"ticks\": \"\"}, \"colorscale\": [[0.0, \"#0d0887\"], [0.1111111111111111, \"#46039f\"], [0.2222222222222222, \"#7201a8\"], [0.3333333333333333, \"#9c179e\"], [0.4444444444444444, \"#bd3786\"], [0.5555555555555556, \"#d8576b\"], [0.6666666666666666, \"#ed7953\"], [0.7777777777777778, \"#fb9f3a\"], [0.8888888888888888, \"#fdca26\"], [1.0, \"#f0f921\"]], \"type\": \"histogram2d\"}], \"histogram2dcontour\": [{\"colorbar\": {\"outlinewidth\": 0, \"ticks\": \"\"}, \"colorscale\": [[0.0, \"#0d0887\"], [0.1111111111111111, \"#46039f\"], [0.2222222222222222, \"#7201a8\"], [0.3333333333333333, \"#9c179e\"], [0.4444444444444444, \"#bd3786\"], [0.5555555555555556, \"#d8576b\"], [0.6666666666666666, \"#ed7953\"], [0.7777777777777778, \"#fb9f3a\"], [0.8888888888888888, \"#fdca26\"], [1.0, \"#f0f921\"]], \"type\": \"histogram2dcontour\"}], \"mesh3d\": [{\"colorbar\": {\"outlinewidth\": 0, \"ticks\": \"\"}, \"type\": \"mesh3d\"}], \"parcoords\": [{\"line\": {\"colorbar\": {\"outlinewidth\": 0, \"ticks\": \"\"}}, \"type\": \"parcoords\"}], \"pie\": [{\"automargin\": true, \"type\": \"pie\"}], \"scatter\": [{\"marker\": {\"colorbar\": {\"outlinewidth\": 0, \"ticks\": \"\"}}, \"type\": \"scatter\"}], \"scatter3d\": [{\"line\": {\"colorbar\": {\"outlinewidth\": 0, \"ticks\": \"\"}}, \"marker\": {\"colorbar\": {\"outlinewidth\": 0, \"ticks\": \"\"}}, \"type\": \"scatter3d\"}], \"scattercarpet\": [{\"marker\": {\"colorbar\": {\"outlinewidth\": 0, \"ticks\": \"\"}}, \"type\": \"scattercarpet\"}], \"scattergeo\": [{\"marker\": {\"colorbar\": {\"outlinewidth\": 0, \"ticks\": \"\"}}, \"type\": \"scattergeo\"}], \"scattergl\": [{\"marker\": {\"colorbar\": {\"outlinewidth\": 0, \"ticks\": \"\"}}, \"type\": \"scattergl\"}], \"scattermapbox\": [{\"marker\": {\"colorbar\": {\"outlinewidth\": 0, \"ticks\": \"\"}}, \"type\": \"scattermapbox\"}], \"scatterpolar\": [{\"marker\": {\"colorbar\": {\"outlinewidth\": 0, \"ticks\": \"\"}}, \"type\": \"scatterpolar\"}], \"scatterpolargl\": [{\"marker\": {\"colorbar\": {\"outlinewidth\": 0, \"ticks\": \"\"}}, \"type\": \"scatterpolargl\"}], \"scatterternary\": [{\"marker\": {\"colorbar\": {\"outlinewidth\": 0, \"ticks\": \"\"}}, \"type\": \"scatterternary\"}], \"surface\": [{\"colorbar\": {\"outlinewidth\": 0, \"ticks\": \"\"}, \"colorscale\": [[0.0, \"#0d0887\"], [0.1111111111111111, \"#46039f\"], [0.2222222222222222, \"#7201a8\"], [0.3333333333333333, \"#9c179e\"], [0.4444444444444444, \"#bd3786\"], [0.5555555555555556, \"#d8576b\"], [0.6666666666666666, \"#ed7953\"], [0.7777777777777778, \"#fb9f3a\"], [0.8888888888888888, \"#fdca26\"], [1.0, \"#f0f921\"]], \"type\": \"surface\"}], \"table\": [{\"cells\": {\"fill\": {\"color\": \"#EBF0F8\"}, \"line\": {\"color\": \"white\"}}, \"header\": {\"fill\": {\"color\": \"#C8D4E3\"}, \"line\": {\"color\": \"white\"}}, \"type\": \"table\"}]}, \"layout\": {\"annotationdefaults\": {\"arrowcolor\": \"#2a3f5f\", \"arrowhead\": 0, \"arrowwidth\": 1}, \"coloraxis\": {\"colorbar\": {\"outlinewidth\": 0, \"ticks\": \"\"}}, \"colorscale\": {\"diverging\": [[0, \"#8e0152\"], [0.1, \"#c51b7d\"], [0.2, \"#de77ae\"], [0.3, \"#f1b6da\"], [0.4, \"#fde0ef\"], [0.5, \"#f7f7f7\"], [0.6, \"#e6f5d0\"], [0.7, \"#b8e186\"], [0.8, \"#7fbc41\"], [0.9, \"#4d9221\"], [1, \"#276419\"]], \"sequential\": [[0.0, \"#0d0887\"], [0.1111111111111111, \"#46039f\"], [0.2222222222222222, \"#7201a8\"], [0.3333333333333333, \"#9c179e\"], [0.4444444444444444, \"#bd3786\"], [0.5555555555555556, \"#d8576b\"], [0.6666666666666666, \"#ed7953\"], [0.7777777777777778, \"#fb9f3a\"], [0.8888888888888888, \"#fdca26\"], [1.0, \"#f0f921\"]], \"sequentialminus\": [[0.0, \"#0d0887\"], [0.1111111111111111, \"#46039f\"], [0.2222222222222222, \"#7201a8\"], [0.3333333333333333, \"#9c179e\"], [0.4444444444444444, \"#bd3786\"], [0.5555555555555556, \"#d8576b\"], [0.6666666666666666, \"#ed7953\"], [0.7777777777777778, \"#fb9f3a\"], [0.8888888888888888, \"#fdca26\"], [1.0, \"#f0f921\"]]}, \"colorway\": [\"#636efa\", \"#EF553B\", \"#00cc96\", \"#ab63fa\", \"#FFA15A\", \"#19d3f3\", \"#FF6692\", \"#B6E880\", \"#FF97FF\", \"#FECB52\"], \"font\": {\"color\": \"#2a3f5f\"}, \"geo\": {\"bgcolor\": \"white\", \"lakecolor\": \"white\", \"landcolor\": \"#E5ECF6\", \"showlakes\": true, \"showland\": true, \"subunitcolor\": \"white\"}, \"hoverlabel\": {\"align\": \"left\"}, \"hovermode\": \"closest\", \"mapbox\": {\"style\": \"light\"}, \"paper_bgcolor\": \"white\", \"plot_bgcolor\": \"#E5ECF6\", \"polar\": {\"angularaxis\": {\"gridcolor\": \"white\", \"linecolor\": \"white\", \"ticks\": \"\"}, \"bgcolor\": \"#E5ECF6\", \"radialaxis\": {\"gridcolor\": \"white\", \"linecolor\": \"white\", \"ticks\": \"\"}}, \"scene\": {\"xaxis\": {\"backgroundcolor\": \"#E5ECF6\", \"gridcolor\": \"white\", \"gridwidth\": 2, \"linecolor\": \"white\", \"showbackground\": true, \"ticks\": \"\", \"zerolinecolor\": \"white\"}, \"yaxis\": {\"backgroundcolor\": \"#E5ECF6\", \"gridcolor\": \"white\", \"gridwidth\": 2, \"linecolor\": \"white\", \"showbackground\": true, \"ticks\": \"\", \"zerolinecolor\": \"white\"}, \"zaxis\": {\"backgroundcolor\": \"#E5ECF6\", \"gridcolor\": \"white\", \"gridwidth\": 2, \"linecolor\": \"white\", \"showbackground\": true, \"ticks\": \"\", \"zerolinecolor\": \"white\"}}, \"shapedefaults\": {\"line\": {\"color\": \"#2a3f5f\"}}, \"ternary\": {\"aaxis\": {\"gridcolor\": \"white\", \"linecolor\": \"white\", \"ticks\": \"\"}, \"baxis\": {\"gridcolor\": \"white\", \"linecolor\": \"white\", \"ticks\": \"\"}, \"bgcolor\": \"#E5ECF6\", \"caxis\": {\"gridcolor\": \"white\", \"linecolor\": \"white\", \"ticks\": \"\"}}, \"title\": {\"x\": 0.05}, \"xaxis\": {\"automargin\": true, \"gridcolor\": \"white\", \"linecolor\": \"white\", \"ticks\": \"\", \"title\": {\"standoff\": 15}, \"zerolinecolor\": \"white\", \"zerolinewidth\": 2}, \"yaxis\": {\"automargin\": true, \"gridcolor\": \"white\", \"linecolor\": \"white\", \"ticks\": \"\", \"title\": {\"standoff\": 15}, \"zerolinecolor\": \"white\", \"zerolinewidth\": 2}}}, \"title\": {\"text\": \"\\u0417\\u0430\\u0432\\u0438\\u0441\\u0438\\u043c\\u043e\\u0441\\u0442\\u044c \\u043d\\u0430\\u043a\\u043e\\u043f\\u043b\\u0435\\u043d\\u043d\\u043e\\u0439 \\u0434\\u043e\\u0431\\u044b\\u0447\\u0438 \\u043d\\u0435\\u0444\\u0442\\u0438 \\u043e\\u0442 \\u043e\\u0431\\u044a\\u0435\\u043c\\u0430 \\u0436\\u0438\\u0434\\u043a\\u043e\\u0441\\u0442\\u0438\", \"x\": 0.45, \"xanchor\": \"center\", \"y\": 0.95, \"yanchor\": \"top\"}, \"width\": 1400, \"xaxis\": {\"anchor\": \"y\", \"domain\": [0.0, 0.45], \"tickangle\": -45, \"tickmode\": \"array\", \"title\": {\"text\": \"1 / \\u041d\\u0430\\u043a\\u043e\\u043f\\u043b\\u0435\\u043d\\u043d\\u044b\\u0439 \\u043e\\u0431\\u044a\\u0435\\u043c \\u0436\\u0438\\u0434\\u043a\\u043e\\u0441\\u0442\\u0438, 10^-6\"}}, \"xaxis2\": {\"anchor\": \"y2\", \"domain\": [0.55, 1.0], \"tickangle\": -45, \"title\": {\"text\": \"1 / \\u041d\\u0430\\u043a\\u043e\\u043f\\u043b\\u0435\\u043d\\u043d\\u044b\\u0439 \\u043e\\u0431\\u044a\\u0435\\u043c \\u0436\\u0438\\u0434\\u043a\\u043e\\u0441\\u0442\\u0438, 10^-6\"}}, \"yaxis\": {\"anchor\": \"x\", \"domain\": [0.0, 1.0], \"title\": {\"text\": \"\\u041d\\u0430\\u043a\\u043e\\u043f\\u043b\\u0435\\u043d\\u043d\\u044b\\u0439 \\u043e\\u0431\\u044a\\u0435\\u043c \\u043d\\u0435\\u0444\\u0442\\u0438, 10^6\"}}, \"yaxis2\": {\"anchor\": \"x2\", \"domain\": [0.0, 1.0]}},\n",
              "                        {\"responsive\": true}\n",
              "                    ).then(function(){\n",
              "                            \n",
              "var gd = document.getElementById('0649efaf-d404-431f-bc29-c973f4840095');\n",
              "var x = new MutationObserver(function (mutations, observer) {{\n",
              "        var display = window.getComputedStyle(gd).display;\n",
              "        if (!display || display === 'none') {{\n",
              "            console.log([gd, 'removed!']);\n",
              "            Plotly.purge(gd);\n",
              "            observer.disconnect();\n",
              "        }}\n",
              "}});\n",
              "\n",
              "// Listen for the removal of the full notebook cells\n",
              "var notebookContainer = gd.closest('#notebook-container');\n",
              "if (notebookContainer) {{\n",
              "    x.observe(notebookContainer, {childList: true});\n",
              "}}\n",
              "\n",
              "// Listen for the clearing of the current output cell\n",
              "var outputEl = gd.closest('.output');\n",
              "if (outputEl) {{\n",
              "    x.observe(outputEl, {childList: true});\n",
              "}}\n",
              "\n",
              "                        })\n",
              "                };\n",
              "                \n",
              "            </script>\n",
              "        </div>\n",
              "</body>\n",
              "</html>"
            ]
          },
          "metadata": {
            "tags": []
          }
        }
      ]
    },
    {
      "cell_type": "code",
      "metadata": {
        "id": "FldyUYG-P8Yr"
      },
      "source": [
        "frame_range = [10, 25]\n",
        "shift_range = [0, 15]"
      ],
      "execution_count": 9,
      "outputs": []
    },
    {
      "cell_type": "code",
      "metadata": {
        "id": "oe3or7O0P8hx"
      },
      "source": [
        "data = []\n",
        "\n",
        "for shift in range(shift_range[0], shift_range[1] + 1):\n",
        "  for frame in range(frame_range[0], frame_range[1] + 1):\n",
        "    if shift == 0:\n",
        "      xdata = df_graph[-frame:]['water_total']\n",
        "      ydata = df_graph[-frame:]['oil_total']\n",
        "    else:\n",
        "      xdata = df_graph[-(frame + shift):-shift]['water_total']\n",
        "      ydata = df_graph[-(frame + shift):-shift]['oil_total']      \n",
        "\n",
        "    popt, pcov = curve_fit(kambarov_func, xdata, ydata)\n",
        "    popt\n",
        "\n",
        "    data.append([shift, frame, kambarov_niz(*popt)])\n",
        "\n",
        "    #print(popt[0], popt[1], np.abs(kambarov_niz(popt[0], popt[1]) - niz_total))\n",
        "\n",
        "df_approx = pd.DataFrame(data, columns=['shift', 'frame', 'niz'])\n",
        "df_approx['err'] = np.abs(df_approx['niz'] - niz_total)"
      ],
      "execution_count": 10,
      "outputs": []
    },
    {
      "cell_type": "code",
      "metadata": {
        "colab": {
          "base_uri": "https://localhost:8080/",
          "height": 198
        },
        "id": "pBTVJeByRRDD",
        "outputId": "9f96199e-ae99-470a-db53-9c0491e6ce5f"
      },
      "source": [
        "df_approx.head(5)"
      ],
      "execution_count": 11,
      "outputs": [
        {
          "output_type": "execute_result",
          "data": {
            "text/html": [
              "<div>\n",
              "<style scoped>\n",
              "    .dataframe tbody tr th:only-of-type {\n",
              "        vertical-align: middle;\n",
              "    }\n",
              "\n",
              "    .dataframe tbody tr th {\n",
              "        vertical-align: top;\n",
              "    }\n",
              "\n",
              "    .dataframe thead th {\n",
              "        text-align: right;\n",
              "    }\n",
              "</style>\n",
              "<table border=\"1\" class=\"dataframe\">\n",
              "  <thead>\n",
              "    <tr style=\"text-align: right;\">\n",
              "      <th></th>\n",
              "      <th>shift</th>\n",
              "      <th>frame</th>\n",
              "      <th>niz</th>\n",
              "      <th>err</th>\n",
              "    </tr>\n",
              "  </thead>\n",
              "  <tbody>\n",
              "    <tr>\n",
              "      <th>0</th>\n",
              "      <td>0</td>\n",
              "      <td>10</td>\n",
              "      <td>11114.592887</td>\n",
              "      <td>2119.592887</td>\n",
              "    </tr>\n",
              "    <tr>\n",
              "      <th>1</th>\n",
              "      <td>0</td>\n",
              "      <td>11</td>\n",
              "      <td>10672.699226</td>\n",
              "      <td>1677.699226</td>\n",
              "    </tr>\n",
              "    <tr>\n",
              "      <th>2</th>\n",
              "      <td>0</td>\n",
              "      <td>12</td>\n",
              "      <td>10302.446703</td>\n",
              "      <td>1307.446703</td>\n",
              "    </tr>\n",
              "    <tr>\n",
              "      <th>3</th>\n",
              "      <td>0</td>\n",
              "      <td>13</td>\n",
              "      <td>9960.872802</td>\n",
              "      <td>965.872802</td>\n",
              "    </tr>\n",
              "    <tr>\n",
              "      <th>4</th>\n",
              "      <td>0</td>\n",
              "      <td>14</td>\n",
              "      <td>9677.561126</td>\n",
              "      <td>682.561126</td>\n",
              "    </tr>\n",
              "  </tbody>\n",
              "</table>\n",
              "</div>"
            ],
            "text/plain": [
              "   shift  frame           niz          err\n",
              "0      0     10  11114.592887  2119.592887\n",
              "1      0     11  10672.699226  1677.699226\n",
              "2      0     12  10302.446703  1307.446703\n",
              "3      0     13   9960.872802   965.872802\n",
              "4      0     14   9677.561126   682.561126"
            ]
          },
          "metadata": {
            "tags": []
          },
          "execution_count": 11
        }
      ]
    },
    {
      "cell_type": "code",
      "metadata": {
        "id": "c32MPG7BLIIU"
      },
      "source": [
        "def print_approx_graph(df_approx):\n",
        "  fig = go.Figure()\n",
        "\n",
        "  for shift in range(shift_range[0], shift_range[1] + 1):\n",
        "    df_shift_data = df_approx.query('shift == @shift')\n",
        "\n",
        "    fig.add_trace(go.Scatter(x=df_shift_data['frame'], y=df_shift_data['err'],\n",
        "                        mode='lines',\n",
        "                        name='График при сдвиге: {0}'.format(shift)))\n",
        "\n",
        "  fig.update_layout( \n",
        "      xaxis=dict(\n",
        "          domain=[0.2, 0.9],\n",
        "          title='Размер окна',\n",
        "      ),\n",
        "      yaxis=dict(\n",
        "          title='Ошибка предсказания',\n",
        "      ),\n",
        "      title={\n",
        "          'text': \"Зависимость ошибки предсказания НИЗ от параметров аппроксимации\",\n",
        "          'y':0.95,\n",
        "          'x':0.50,\n",
        "          'xanchor': 'center',\n",
        "          'yanchor': 'top'},\n",
        "      autosize=False,\n",
        "      width=1400,\n",
        "      height=700\n",
        "  )\n",
        "\n",
        "  fig.show()"
      ],
      "execution_count": 12,
      "outputs": []
    },
    {
      "cell_type": "code",
      "metadata": {
        "colab": {
          "base_uri": "https://localhost:8080/",
          "height": 717
        },
        "id": "MnqR01inSCa4",
        "outputId": "87eb8e8f-ecfc-4dc1-cc32-1eaf5dbec79f"
      },
      "source": [
        "print_approx_graph(df_approx)"
      ],
      "execution_count": 13,
      "outputs": [
        {
          "output_type": "display_data",
          "data": {
            "text/html": [
              "<html>\n",
              "<head><meta charset=\"utf-8\" /></head>\n",
              "<body>\n",
              "    <div>\n",
              "            <script src=\"https://cdnjs.cloudflare.com/ajax/libs/mathjax/2.7.5/MathJax.js?config=TeX-AMS-MML_SVG\"></script><script type=\"text/javascript\">if (window.MathJax) {MathJax.Hub.Config({SVG: {font: \"STIX-Web\"}});}</script>\n",
              "                <script type=\"text/javascript\">window.PlotlyConfig = {MathJaxConfig: 'local'};</script>\n",
              "        <script src=\"https://cdn.plot.ly/plotly-latest.min.js\"></script>    \n",
              "            <div id=\"5087379f-3bb9-4792-8f4d-35760f45c740\" class=\"plotly-graph-div\" style=\"height:700px; width:1400px;\"></div>\n",
              "            <script type=\"text/javascript\">\n",
              "                \n",
              "                    window.PLOTLYENV=window.PLOTLYENV || {};\n",
              "                    \n",
              "                if (document.getElementById(\"5087379f-3bb9-4792-8f4d-35760f45c740\")) {\n",
              "                    Plotly.newPlot(\n",
              "                        '5087379f-3bb9-4792-8f4d-35760f45c740',\n",
              "                        [{\"mode\": \"lines\", \"name\": \"\\u0413\\u0440\\u0430\\u0444\\u0438\\u043a \\u043f\\u0440\\u0438 \\u0441\\u0434\\u0432\\u0438\\u0433\\u0435: 0\", \"type\": \"scatter\", \"x\": [10, 11, 12, 13, 14, 15, 16, 17, 18, 19, 20, 21, 22, 23, 24, 25], \"y\": [2119.5928871893066, 1677.699225708462, 1307.4467025478298, 965.8728020166327, 682.561126039107, 461.3617067655523, 271.84378709585326, 97.39440438731617, 58.401533213605944, 187.25509263841377, 287.6459954167185, 389.73716638950464, 505.07845076413105, 624.9599689375264, 735.8564130175382, 846.8522837268201]}, {\"mode\": \"lines\", \"name\": \"\\u0413\\u0440\\u0430\\u0444\\u0438\\u043a \\u043f\\u0440\\u0438 \\u0441\\u0434\\u0432\\u0438\\u0433\\u0435: 1\", \"type\": \"scatter\", \"x\": [10, 11, 12, 13, 14, 15, 16, 17, 18, 19, 20, 21, 22, 23, 24, 25], \"y\": [1618.0325857344142, 1212.4620921365859, 855.331455380292, 569.5591290601951, 352.0319581329313, 167.60067682034241, 1.6827845241568866, 152.10867176247302, 275.6843954615415, 371.0496765375501, 468.84128593352943, 580.4815706368609, 696.6597974117158, 803.8560935164996, 910.9844180803557, 1010.9042722646473]}, {\"mode\": \"lines\", \"name\": \"\\u0413\\u0440\\u0430\\u0444\\u0438\\u043a \\u043f\\u0440\\u0438 \\u0441\\u0434\\u0432\\u0438\\u0433\\u0435: 2\", \"type\": \"scatter\", \"x\": [10, 11, 12, 13, 14, 15, 16, 17, 18, 19, 20, 21, 22, 23, 24, 25], \"y\": [1083.9912868231877, 719.5258757565716, 437.90923129081966, 228.65657257375278, 52.50224752201029, 109.30930934199387, 252.6329071115524, 369.67773763294826, 459.1022244610467, 551.865273443329, 659.1903713885895, 771.1100932643694, 874.1399788217041, 976.9704480536639, 1072.558144286747, 1173.2111468581988]}, {\"mode\": \"lines\", \"name\": \"\\u0413\\u0440\\u0430\\u0444\\u0438\\u043a \\u043f\\u0440\\u0438 \\u0441\\u0434\\u0432\\u0438\\u0433\\u0435: 3\", \"type\": \"scatter\", \"x\": [10, 11, 12, 13, 14, 15, 16, 17, 18, 19, 20, 21, 22, 23, 24, 25], \"y\": [543.7449195157988, 277.15914413417704, 83.29662512135837, 79.74452461278452, 230.60005677863228, 364.2020465419173, 472.8146008096119, 554.9007622093959, 641.504749581738, 743.5454995423679, 850.3264408397808, 948.44992142507, 1046.3003702920487, 1136.96069445573, 1232.8867570887396, 1333.618527321899]}, {\"mode\": \"lines\", \"name\": \"\\u0413\\u0440\\u0430\\u0444\\u0438\\u043a \\u043f\\u0440\\u0438 \\u0441\\u0434\\u0432\\u0438\\u0433\\u0435: 4\", \"type\": \"scatter\", \"x\": [10, 11, 12, 13, 14, 15, 16, 17, 18, 19, 20, 21, 22, 23, 24, 25], \"y\": [95.34163989586341, 77.15107350834842, 223.2210851500622, 360.4741158939851, 482.4187186332565, 581.2257746642608, 654.9683941808289, 734.6458259678402, 830.7983120548051, 931.8982993210147, 1024.6586456921168, 1117.1036289913682, 1202.46246714694, 1293.3561190020127, 1389.3313950333131, 1482.8790832817522]}, {\"mode\": \"lines\", \"name\": \"\\u0413\\u0440\\u0430\\u0444\\u0438\\u043a \\u043f\\u0440\\u0438 \\u0441\\u0434\\u0432\\u0438\\u0433\\u0435: 5\", \"type\": \"scatter\", \"x\": [10, 11, 12, 13, 14, 15, 16, 17, 18, 19, 20, 21, 22, 23, 24, 25], \"y\": [251.7766982664798, 376.7559909713382, 497.7041187412415, 606.0648403019168, 693.727519715856, 758.1471267275938, 830.1957906440357, 919.9632216936834, 1014.9439930964618, 1101.970290941841, 1188.660899787572, 1268.4089896035111, 1354.035583570745, 1445.087195004653, 1534.455415019028, 1626.0786318439978]}, {\"mode\": \"lines\", \"name\": \"\\u0413\\u0440\\u0430\\u0444\\u0438\\u043a \\u043f\\u0440\\u0438 \\u0441\\u0434\\u0432\\u0438\\u0433\\u0435: 6\", \"type\": \"scatter\", \"x\": [10, 11, 12, 13, 14, 15, 16, 17, 18, 19, 20, 21, 22, 23, 24, 25], \"y\": [528.1607829281875, 631.9627092253977, 726.3177534301794, 802.6441405024743, 857.6080573945173, 922.1106679001523, 1005.781192839384, 1094.9256711871994, 1176.4416872866368, 1257.5632551745148, 1331.845900323844, 1412.392579046782, 1498.7363477998133, 1584.1521015606486, 1672.5516060301115, 1759.129914288953]}, {\"mode\": \"lines\", \"name\": \"\\u0413\\u0440\\u0430\\u0444\\u0438\\u043a \\u043f\\u0440\\u0438 \\u0441\\u0434\\u0432\\u0438\\u0433\\u0435: 7\", \"type\": \"scatter\", \"x\": [10, 11, 12, 13, 14, 15, 16, 17, 18, 19, 20, 21, 22, 23, 24, 25], \"y\": [753.7628288467313, 835.3847917721314, 901.39486251574, 947.598078807303, 1005.442006422637, 1084.1394457588594, 1168.4664947445044, 1245.2604466700668, 1321.475560295431, 1390.8163219861544, 1466.81164790791, 1548.9624660450118, 1630.890164246015, 1716.4979894200487, 1800.7344426096897, 1888.7134081730192]}, {\"mode\": \"lines\", \"name\": \"\\u0413\\u0440\\u0430\\u0444\\u0438\\u043a \\u043f\\u0440\\u0438 \\u0441\\u0434\\u0432\\u0438\\u0433\\u0435: 8\", \"type\": \"scatter\", \"x\": [10, 11, 12, 13, 14, 15, 16, 17, 18, 19, 20, 21, 22, 23, 24, 25], \"y\": [925.7082075702692, 983.903024702242, 1022.9689123687476, 1075.9713801582466, 1151.7910855269747, 1233.1170566505834, 1306.5315564037319, 1378.9317980425503, 1444.1621359067021, 1516.400787051426, 1595.0941142728752, 1674.163902089982, 1757.5427090760895, 1839.9048879701859, 1926.408792271949, 2023.9837570181953]}, {\"mode\": \"lines\", \"name\": \"\\u0413\\u0440\\u0430\\u0444\\u0438\\u043a \\u043f\\u0440\\u0438 \\u0441\\u0434\\u0432\\u0438\\u0433\\u0435: 9\", \"type\": \"scatter\", \"x\": [10, 11, 12, 13, 14, 15, 16, 17, 18, 19, 20, 21, 22, 23, 24, 25], \"y\": [1043.6705095959633, 1078.6507094310218, 1130.0324876119575, 1206.473955739406, 1287.6252621875583, 1359.5881152408465, 1429.6359857529978, 1491.790154150246, 1561.2200925264933, 1637.2962919475804, 1714.2014780389218, 1795.95587850244, 1876.9320765530447, 1962.3869411150145, 2059.303562262514, 2152.0693658827377]}, {\"mode\": \"lines\", \"name\": \"\\u0413\\u0440\\u0430\\u0444\\u0438\\u043a \\u043f\\u0440\\u0438 \\u0441\\u0434\\u0432\\u0438\\u0433\\u0435: 10\", \"type\": \"scatter\", \"x\": [10, 11, 12, 13, 14, 15, 16, 17, 18, 19, 20, 21, 22, 23, 24, 25], \"y\": [1128.3016569563388, 1179.0961598321082, 1257.6091759687142, 1339.503384942058, 1410.4228387425655, 1478.2888496643927, 1537.4029065279356, 1604.1430104746405, 1677.7694505694535, 1752.7107135137667, 1833.0692713626895, 1912.86677623798, 1997.4768794137517, 2093.949171550951, 2185.942946348049, 2284.4730135266536]}, {\"mode\": \"lines\", \"name\": \"\\u0413\\u0440\\u0430\\u0444\\u0438\\u043a \\u043f\\u0440\\u0438 \\u0441\\u0434\\u0432\\u0438\\u0433\\u0435: 11\", \"type\": \"scatter\", \"x\": [10, 11, 12, 13, 14, 15, 16, 17, 18, 19, 20, 21, 22, 23, 24, 25], \"y\": [1232.9288282195503, 1313.0574504742235, 1394.894947930121, 1463.8618389872545, 1528.628178052605, 1583.9199863190925, 1647.447830581641, 1718.2938736319484, 1791.1208499858494, 1870.0528759727486, 1948.6849675310914, 2032.5025473961978, 2128.6188788566906, 2219.891018579853, 2317.350788957101, 2400.9131153779517]}, {\"mode\": \"lines\", \"name\": \"\\u0413\\u0440\\u0430\\u0444\\u0438\\u043a \\u043f\\u0440\\u0438 \\u0441\\u0434\\u0432\\u0438\\u0433\\u0435: 12\", \"type\": \"scatter\", \"x\": [10, 11, 12, 13, 14, 15, 16, 17, 18, 19, 20, 21, 22, 23, 24, 25], \"y\": [1363.009926293581, 1446.3785910971583, 1514.0203695595246, 1575.9483464008454, 1627.5163050113551, 1688.0840652874986, 1756.4696679015824, 1827.524962247533, 1905.386721478263, 1983.1597796505885, 2066.4729730315476, 2162.5238766161965, 2253.2781355997713, 2349.822160859152, 2432.0273277102506, 2501.7551428867755]}, {\"mode\": \"lines\", \"name\": \"\\u0413\\u0440\\u0430\\u0444\\u0438\\u043a \\u043f\\u0440\\u0438 \\u0441\\u0434\\u0432\\u0438\\u0433\\u0435: 13\", \"type\": \"scatter\", \"x\": [10, 11, 12, 13, 14, 15, 16, 17, 18, 19, 20, 21, 22, 23, 24, 25], \"y\": [1504.3246735111488, 1568.7483724056738, 1626.1422496450214, 1672.700514132075, 1729.5203750181236, 1794.9822271187513, 1864.0688865686443, 1940.8229049152887, 2017.7504944274979, 2100.618707170678, 2196.7060413239424, 2286.9884488917687, 2382.6232363037207, 2463.4377176271983, 2531.7687387912256, 2601.090374503071]}, {\"mode\": \"lines\", \"name\": \"\\u0413\\u0440\\u0430\\u0444\\u0438\\u043a \\u043f\\u0440\\u0438 \\u0441\\u0434\\u0432\\u0438\\u0433\\u0435: 14\", \"type\": \"scatter\", \"x\": [10, 11, 12, 13, 14, 15, 16, 17, 18, 19, 20, 21, 22, 23, 24, 25], \"y\": [1619.7789252186558, 1672.493818462529, 1713.9984436399018, 1767.3704528075104, 1830.3497393326452, 1897.9442676429953, 1974.071798071188, 2050.56175350391, 2133.3615131786555, 2229.857944729627, 2319.9298206160465, 2414.8542830735505, 2494.3881796326577, 2561.3935626310686, 2629.7231193043744, 2732.305937263175]}, {\"mode\": \"lines\", \"name\": \"\\u0413\\u0440\\u0430\\u0444\\u0438\\u043a \\u043f\\u0440\\u0438 \\u0441\\u0434\\u0432\\u0438\\u0433\\u0435: 15\", \"type\": \"scatter\", \"x\": [10, 11, 12, 13, 14, 15, 16, 17, 18, 19, 20, 21, 22, 23, 24, 25], \"y\": [1714.3981213429834, 1751.0534711747114, 1801.5473526175701, 1862.6979174567987, 1929.4208324216434, 2005.5098425011029, 2082.0315637680533, 2165.182191205862, 2262.4952870626275, 2352.6144567655074, 2446.9975701498024, 2525.3141226046773, 2591.020245296286, 2658.397212057208, 2761.014727870578, 2979.4365484248]}],\n",
              "                        {\"autosize\": false, \"height\": 700, \"template\": {\"data\": {\"bar\": [{\"error_x\": {\"color\": \"#2a3f5f\"}, \"error_y\": {\"color\": \"#2a3f5f\"}, \"marker\": {\"line\": {\"color\": \"#E5ECF6\", \"width\": 0.5}}, \"type\": \"bar\"}], \"barpolar\": [{\"marker\": {\"line\": {\"color\": \"#E5ECF6\", \"width\": 0.5}}, \"type\": \"barpolar\"}], \"carpet\": [{\"aaxis\": {\"endlinecolor\": \"#2a3f5f\", \"gridcolor\": \"white\", \"linecolor\": \"white\", \"minorgridcolor\": \"white\", \"startlinecolor\": \"#2a3f5f\"}, \"baxis\": {\"endlinecolor\": \"#2a3f5f\", \"gridcolor\": \"white\", \"linecolor\": \"white\", \"minorgridcolor\": \"white\", \"startlinecolor\": \"#2a3f5f\"}, \"type\": \"carpet\"}], \"choropleth\": [{\"colorbar\": {\"outlinewidth\": 0, \"ticks\": \"\"}, \"type\": \"choropleth\"}], \"contour\": [{\"colorbar\": {\"outlinewidth\": 0, \"ticks\": \"\"}, \"colorscale\": [[0.0, \"#0d0887\"], [0.1111111111111111, \"#46039f\"], [0.2222222222222222, \"#7201a8\"], [0.3333333333333333, \"#9c179e\"], [0.4444444444444444, \"#bd3786\"], [0.5555555555555556, \"#d8576b\"], [0.6666666666666666, \"#ed7953\"], [0.7777777777777778, \"#fb9f3a\"], [0.8888888888888888, \"#fdca26\"], [1.0, \"#f0f921\"]], \"type\": \"contour\"}], \"contourcarpet\": [{\"colorbar\": {\"outlinewidth\": 0, \"ticks\": \"\"}, \"type\": \"contourcarpet\"}], \"heatmap\": [{\"colorbar\": {\"outlinewidth\": 0, \"ticks\": \"\"}, \"colorscale\": [[0.0, \"#0d0887\"], [0.1111111111111111, \"#46039f\"], [0.2222222222222222, \"#7201a8\"], [0.3333333333333333, \"#9c179e\"], [0.4444444444444444, \"#bd3786\"], [0.5555555555555556, \"#d8576b\"], [0.6666666666666666, \"#ed7953\"], [0.7777777777777778, \"#fb9f3a\"], [0.8888888888888888, \"#fdca26\"], [1.0, \"#f0f921\"]], \"type\": \"heatmap\"}], \"heatmapgl\": [{\"colorbar\": {\"outlinewidth\": 0, \"ticks\": \"\"}, \"colorscale\": [[0.0, \"#0d0887\"], [0.1111111111111111, \"#46039f\"], [0.2222222222222222, \"#7201a8\"], [0.3333333333333333, \"#9c179e\"], [0.4444444444444444, \"#bd3786\"], [0.5555555555555556, \"#d8576b\"], [0.6666666666666666, \"#ed7953\"], [0.7777777777777778, \"#fb9f3a\"], [0.8888888888888888, \"#fdca26\"], [1.0, \"#f0f921\"]], \"type\": \"heatmapgl\"}], \"histogram\": [{\"marker\": {\"colorbar\": {\"outlinewidth\": 0, \"ticks\": \"\"}}, \"type\": \"histogram\"}], \"histogram2d\": [{\"colorbar\": {\"outlinewidth\": 0, \"ticks\": \"\"}, \"colorscale\": [[0.0, \"#0d0887\"], [0.1111111111111111, \"#46039f\"], [0.2222222222222222, \"#7201a8\"], [0.3333333333333333, \"#9c179e\"], [0.4444444444444444, \"#bd3786\"], [0.5555555555555556, \"#d8576b\"], [0.6666666666666666, \"#ed7953\"], [0.7777777777777778, \"#fb9f3a\"], [0.8888888888888888, \"#fdca26\"], [1.0, \"#f0f921\"]], \"type\": \"histogram2d\"}], \"histogram2dcontour\": [{\"colorbar\": {\"outlinewidth\": 0, \"ticks\": \"\"}, \"colorscale\": [[0.0, \"#0d0887\"], [0.1111111111111111, \"#46039f\"], [0.2222222222222222, \"#7201a8\"], [0.3333333333333333, \"#9c179e\"], [0.4444444444444444, \"#bd3786\"], [0.5555555555555556, \"#d8576b\"], [0.6666666666666666, \"#ed7953\"], [0.7777777777777778, \"#fb9f3a\"], [0.8888888888888888, \"#fdca26\"], [1.0, \"#f0f921\"]], \"type\": \"histogram2dcontour\"}], \"mesh3d\": [{\"colorbar\": {\"outlinewidth\": 0, \"ticks\": \"\"}, \"type\": \"mesh3d\"}], \"parcoords\": [{\"line\": {\"colorbar\": {\"outlinewidth\": 0, \"ticks\": \"\"}}, \"type\": \"parcoords\"}], \"pie\": [{\"automargin\": true, \"type\": \"pie\"}], \"scatter\": [{\"marker\": {\"colorbar\": {\"outlinewidth\": 0, \"ticks\": \"\"}}, \"type\": \"scatter\"}], \"scatter3d\": [{\"line\": {\"colorbar\": {\"outlinewidth\": 0, \"ticks\": \"\"}}, \"marker\": {\"colorbar\": {\"outlinewidth\": 0, \"ticks\": \"\"}}, \"type\": \"scatter3d\"}], \"scattercarpet\": [{\"marker\": {\"colorbar\": {\"outlinewidth\": 0, \"ticks\": \"\"}}, \"type\": \"scattercarpet\"}], \"scattergeo\": [{\"marker\": {\"colorbar\": {\"outlinewidth\": 0, \"ticks\": \"\"}}, \"type\": \"scattergeo\"}], \"scattergl\": [{\"marker\": {\"colorbar\": {\"outlinewidth\": 0, \"ticks\": \"\"}}, \"type\": \"scattergl\"}], \"scattermapbox\": [{\"marker\": {\"colorbar\": {\"outlinewidth\": 0, \"ticks\": \"\"}}, \"type\": \"scattermapbox\"}], \"scatterpolar\": [{\"marker\": {\"colorbar\": {\"outlinewidth\": 0, \"ticks\": \"\"}}, \"type\": \"scatterpolar\"}], \"scatterpolargl\": [{\"marker\": {\"colorbar\": {\"outlinewidth\": 0, \"ticks\": \"\"}}, \"type\": \"scatterpolargl\"}], \"scatterternary\": [{\"marker\": {\"colorbar\": {\"outlinewidth\": 0, \"ticks\": \"\"}}, \"type\": \"scatterternary\"}], \"surface\": [{\"colorbar\": {\"outlinewidth\": 0, \"ticks\": \"\"}, \"colorscale\": [[0.0, \"#0d0887\"], [0.1111111111111111, \"#46039f\"], [0.2222222222222222, \"#7201a8\"], [0.3333333333333333, \"#9c179e\"], [0.4444444444444444, \"#bd3786\"], [0.5555555555555556, \"#d8576b\"], [0.6666666666666666, \"#ed7953\"], [0.7777777777777778, \"#fb9f3a\"], [0.8888888888888888, \"#fdca26\"], [1.0, \"#f0f921\"]], \"type\": \"surface\"}], \"table\": [{\"cells\": {\"fill\": {\"color\": \"#EBF0F8\"}, \"line\": {\"color\": \"white\"}}, \"header\": {\"fill\": {\"color\": \"#C8D4E3\"}, \"line\": {\"color\": \"white\"}}, \"type\": \"table\"}]}, \"layout\": {\"annotationdefaults\": {\"arrowcolor\": \"#2a3f5f\", \"arrowhead\": 0, \"arrowwidth\": 1}, \"coloraxis\": {\"colorbar\": {\"outlinewidth\": 0, \"ticks\": \"\"}}, \"colorscale\": {\"diverging\": [[0, \"#8e0152\"], [0.1, \"#c51b7d\"], [0.2, \"#de77ae\"], [0.3, \"#f1b6da\"], [0.4, \"#fde0ef\"], [0.5, \"#f7f7f7\"], [0.6, \"#e6f5d0\"], [0.7, \"#b8e186\"], [0.8, \"#7fbc41\"], [0.9, \"#4d9221\"], [1, \"#276419\"]], \"sequential\": [[0.0, \"#0d0887\"], [0.1111111111111111, \"#46039f\"], [0.2222222222222222, \"#7201a8\"], [0.3333333333333333, \"#9c179e\"], [0.4444444444444444, \"#bd3786\"], [0.5555555555555556, \"#d8576b\"], [0.6666666666666666, \"#ed7953\"], [0.7777777777777778, \"#fb9f3a\"], [0.8888888888888888, \"#fdca26\"], [1.0, \"#f0f921\"]], \"sequentialminus\": [[0.0, \"#0d0887\"], [0.1111111111111111, \"#46039f\"], [0.2222222222222222, \"#7201a8\"], [0.3333333333333333, \"#9c179e\"], [0.4444444444444444, \"#bd3786\"], [0.5555555555555556, \"#d8576b\"], [0.6666666666666666, \"#ed7953\"], [0.7777777777777778, \"#fb9f3a\"], [0.8888888888888888, \"#fdca26\"], [1.0, \"#f0f921\"]]}, \"colorway\": [\"#636efa\", \"#EF553B\", \"#00cc96\", \"#ab63fa\", \"#FFA15A\", \"#19d3f3\", \"#FF6692\", \"#B6E880\", \"#FF97FF\", \"#FECB52\"], \"font\": {\"color\": \"#2a3f5f\"}, \"geo\": {\"bgcolor\": \"white\", \"lakecolor\": \"white\", \"landcolor\": \"#E5ECF6\", \"showlakes\": true, \"showland\": true, \"subunitcolor\": \"white\"}, \"hoverlabel\": {\"align\": \"left\"}, \"hovermode\": \"closest\", \"mapbox\": {\"style\": \"light\"}, \"paper_bgcolor\": \"white\", \"plot_bgcolor\": \"#E5ECF6\", \"polar\": {\"angularaxis\": {\"gridcolor\": \"white\", \"linecolor\": \"white\", \"ticks\": \"\"}, \"bgcolor\": \"#E5ECF6\", \"radialaxis\": {\"gridcolor\": \"white\", \"linecolor\": \"white\", \"ticks\": \"\"}}, \"scene\": {\"xaxis\": {\"backgroundcolor\": \"#E5ECF6\", \"gridcolor\": \"white\", \"gridwidth\": 2, \"linecolor\": \"white\", \"showbackground\": true, \"ticks\": \"\", \"zerolinecolor\": \"white\"}, \"yaxis\": {\"backgroundcolor\": \"#E5ECF6\", \"gridcolor\": \"white\", \"gridwidth\": 2, \"linecolor\": \"white\", \"showbackground\": true, \"ticks\": \"\", \"zerolinecolor\": \"white\"}, \"zaxis\": {\"backgroundcolor\": \"#E5ECF6\", \"gridcolor\": \"white\", \"gridwidth\": 2, \"linecolor\": \"white\", \"showbackground\": true, \"ticks\": \"\", \"zerolinecolor\": \"white\"}}, \"shapedefaults\": {\"line\": {\"color\": \"#2a3f5f\"}}, \"ternary\": {\"aaxis\": {\"gridcolor\": \"white\", \"linecolor\": \"white\", \"ticks\": \"\"}, \"baxis\": {\"gridcolor\": \"white\", \"linecolor\": \"white\", \"ticks\": \"\"}, \"bgcolor\": \"#E5ECF6\", \"caxis\": {\"gridcolor\": \"white\", \"linecolor\": \"white\", \"ticks\": \"\"}}, \"title\": {\"x\": 0.05}, \"xaxis\": {\"automargin\": true, \"gridcolor\": \"white\", \"linecolor\": \"white\", \"ticks\": \"\", \"title\": {\"standoff\": 15}, \"zerolinecolor\": \"white\", \"zerolinewidth\": 2}, \"yaxis\": {\"automargin\": true, \"gridcolor\": \"white\", \"linecolor\": \"white\", \"ticks\": \"\", \"title\": {\"standoff\": 15}, \"zerolinecolor\": \"white\", \"zerolinewidth\": 2}}}, \"title\": {\"text\": \"\\u0417\\u0430\\u0432\\u0438\\u0441\\u0438\\u043c\\u043e\\u0441\\u0442\\u044c \\u043e\\u0448\\u0438\\u0431\\u043a\\u0438 \\u043f\\u0440\\u0435\\u0434\\u0441\\u043a\\u0430\\u0437\\u0430\\u043d\\u0438\\u044f \\u041d\\u0418\\u0417 \\u043e\\u0442 \\u043f\\u0430\\u0440\\u0430\\u043c\\u0435\\u0442\\u0440\\u043e\\u0432 \\u0430\\u043f\\u043f\\u0440\\u043e\\u043a\\u0441\\u0438\\u043c\\u0430\\u0446\\u0438\\u0438\", \"x\": 0.5, \"xanchor\": \"center\", \"y\": 0.95, \"yanchor\": \"top\"}, \"width\": 1400, \"xaxis\": {\"domain\": [0.2, 0.9], \"title\": {\"text\": \"\\u0420\\u0430\\u0437\\u043c\\u0435\\u0440 \\u043e\\u043a\\u043d\\u0430\"}}, \"yaxis\": {\"title\": {\"text\": \"\\u041e\\u0448\\u0438\\u0431\\u043a\\u0430 \\u043f\\u0440\\u0435\\u0434\\u0441\\u043a\\u0430\\u0437\\u0430\\u043d\\u0438\\u044f\"}}},\n",
              "                        {\"responsive\": true}\n",
              "                    ).then(function(){\n",
              "                            \n",
              "var gd = document.getElementById('5087379f-3bb9-4792-8f4d-35760f45c740');\n",
              "var x = new MutationObserver(function (mutations, observer) {{\n",
              "        var display = window.getComputedStyle(gd).display;\n",
              "        if (!display || display === 'none') {{\n",
              "            console.log([gd, 'removed!']);\n",
              "            Plotly.purge(gd);\n",
              "            observer.disconnect();\n",
              "        }}\n",
              "}});\n",
              "\n",
              "// Listen for the removal of the full notebook cells\n",
              "var notebookContainer = gd.closest('#notebook-container');\n",
              "if (notebookContainer) {{\n",
              "    x.observe(notebookContainer, {childList: true});\n",
              "}}\n",
              "\n",
              "// Listen for the clearing of the current output cell\n",
              "var outputEl = gd.closest('.output');\n",
              "if (outputEl) {{\n",
              "    x.observe(outputEl, {childList: true});\n",
              "}}\n",
              "\n",
              "                        })\n",
              "                };\n",
              "                \n",
              "            </script>\n",
              "        </div>\n",
              "</body>\n",
              "</html>"
            ]
          },
          "metadata": {
            "tags": []
          }
        }
      ]
    },
    {
      "cell_type": "code",
      "metadata": {
        "id": "0gSS3FnKXy8j"
      },
      "source": [
        "def df_to_plotly(df):\n",
        "    return {'z': df.values.tolist(),\n",
        "            'x': df.columns.tolist(),\n",
        "            'y': df.index.tolist()}"
      ],
      "execution_count": 15,
      "outputs": []
    },
    {
      "cell_type": "code",
      "metadata": {
        "id": "eGGH5dENMDtw"
      },
      "source": [
        "def plot_approx_heatmap(df_approx_pvt):\n",
        "  fig = go.Figure(data=go.Heatmap(\n",
        "          df_to_plotly(df_approx_pvt),\n",
        "          colorscale='blues'))\n",
        "\n",
        "  fig.update_layout( \n",
        "      xaxis=dict(\n",
        "          title='Размер окна',\n",
        "      ),\n",
        "      yaxis=dict(\n",
        "          title='Сдвиг',\n",
        "      ),\n",
        "      title={\n",
        "          'text': \"Зависимость ошибки предсказания НИЗ от параметров аппроксимации\",\n",
        "          'y':0.95,\n",
        "          'x':0.50,\n",
        "          'xanchor': 'center',\n",
        "          'yanchor': 'top'},\n",
        "      autosize=False,\n",
        "      width=1400,\n",
        "      height=700\n",
        "  )\n",
        "\n",
        "  fig.show()  "
      ],
      "execution_count": 45,
      "outputs": []
    },
    {
      "cell_type": "code",
      "metadata": {
        "colab": {
          "base_uri": "https://localhost:8080/",
          "height": 717
        },
        "id": "D8F34E8OMMvi",
        "outputId": "e9316c47-fba5-4d4c-b6ba-53584dd8a459"
      },
      "source": [
        "df_approx_pvt = df_approx.pivot(index='shift', columns='frame', values='err')\n",
        "\n",
        "plot_approx_heatmap(df_approx_pvt)"
      ],
      "execution_count": 46,
      "outputs": [
        {
          "output_type": "display_data",
          "data": {
            "text/html": [
              "<html>\n",
              "<head><meta charset=\"utf-8\" /></head>\n",
              "<body>\n",
              "    <div>\n",
              "            <script src=\"https://cdnjs.cloudflare.com/ajax/libs/mathjax/2.7.5/MathJax.js?config=TeX-AMS-MML_SVG\"></script><script type=\"text/javascript\">if (window.MathJax) {MathJax.Hub.Config({SVG: {font: \"STIX-Web\"}});}</script>\n",
              "                <script type=\"text/javascript\">window.PlotlyConfig = {MathJaxConfig: 'local'};</script>\n",
              "        <script src=\"https://cdn.plot.ly/plotly-latest.min.js\"></script>    \n",
              "            <div id=\"5b87fb74-b024-495a-870f-794938226d85\" class=\"plotly-graph-div\" style=\"height:700px; width:1400px;\"></div>\n",
              "            <script type=\"text/javascript\">\n",
              "                \n",
              "                    window.PLOTLYENV=window.PLOTLYENV || {};\n",
              "                    \n",
              "                if (document.getElementById(\"5b87fb74-b024-495a-870f-794938226d85\")) {\n",
              "                    Plotly.newPlot(\n",
              "                        '5b87fb74-b024-495a-870f-794938226d85',\n",
              "                        [{\"colorscale\": [[0.0, \"rgb(247,251,255)\"], [0.125, \"rgb(222,235,247)\"], [0.25, \"rgb(198,219,239)\"], [0.375, \"rgb(158,202,225)\"], [0.5, \"rgb(107,174,214)\"], [0.625, \"rgb(66,146,198)\"], [0.75, \"rgb(33,113,181)\"], [0.875, \"rgb(8,81,156)\"], [1.0, \"rgb(8,48,107)\"]], \"type\": \"heatmap\", \"x\": [10, 11, 12, 13, 14, 15, 16, 17, 18, 19, 20, 21, 22, 23, 24, 25], \"y\": [0, 1, 2, 3, 4, 5, 6, 7, 8, 9, 10, 11, 12, 13, 14, 15], \"z\": [[2119.5928871893066, 1677.699225708462, 1307.4467025478298, 965.8728020166327, 682.561126039107, 461.3617067655523, 271.84378709585326, 97.39440438731617, 58.401533213605944, 187.25509263841377, 287.6459954167185, 389.73716638950464, 505.07845076413105, 624.9599689375264, 735.8564130175382, 846.8522837268201], [1618.0325857344142, 1212.4620921365859, 855.331455380292, 569.5591290601951, 352.0319581329313, 167.60067682034241, 1.6827845241568866, 152.10867176247302, 275.6843954615415, 371.0496765375501, 468.84128593352943, 580.4815706368609, 696.6597974117158, 803.8560935164996, 910.9844180803557, 1010.9042722646473], [1083.9912868231877, 719.5258757565716, 437.90923129081966, 228.65657257375278, 52.50224752201029, 109.30930934199387, 252.6329071115524, 369.67773763294826, 459.1022244610467, 551.865273443329, 659.1903713885895, 771.1100932643694, 874.1399788217041, 976.9704480536639, 1072.558144286747, 1173.2111468581988], [543.7449195157988, 277.15914413417704, 83.29662512135837, 79.74452461278452, 230.60005677863228, 364.2020465419173, 472.8146008096119, 554.9007622093959, 641.504749581738, 743.5454995423679, 850.3264408397808, 948.44992142507, 1046.3003702920487, 1136.96069445573, 1232.8867570887396, 1333.618527321899], [95.34163989586341, 77.15107350834842, 223.2210851500622, 360.4741158939851, 482.4187186332565, 581.2257746642608, 654.9683941808289, 734.6458259678402, 830.7983120548051, 931.8982993210147, 1024.6586456921168, 1117.1036289913682, 1202.46246714694, 1293.3561190020127, 1389.3313950333131, 1482.8790832817522], [251.7766982664798, 376.7559909713382, 497.7041187412415, 606.0648403019168, 693.727519715856, 758.1471267275938, 830.1957906440357, 919.9632216936834, 1014.9439930964618, 1101.970290941841, 1188.660899787572, 1268.4089896035111, 1354.035583570745, 1445.087195004653, 1534.455415019028, 1626.0786318439978], [528.1607829281875, 631.9627092253977, 726.3177534301794, 802.6441405024743, 857.6080573945173, 922.1106679001523, 1005.781192839384, 1094.9256711871994, 1176.4416872866368, 1257.5632551745148, 1331.845900323844, 1412.392579046782, 1498.7363477998133, 1584.1521015606486, 1672.5516060301115, 1759.129914288953], [753.7628288467313, 835.3847917721314, 901.39486251574, 947.598078807303, 1005.442006422637, 1084.1394457588594, 1168.4664947445044, 1245.2604466700668, 1321.475560295431, 1390.8163219861544, 1466.81164790791, 1548.9624660450118, 1630.890164246015, 1716.4979894200487, 1800.7344426096897, 1888.7134081730192], [925.7082075702692, 983.903024702242, 1022.9689123687476, 1075.9713801582466, 1151.7910855269747, 1233.1170566505834, 1306.5315564037319, 1378.9317980425503, 1444.1621359067021, 1516.400787051426, 1595.0941142728752, 1674.163902089982, 1757.5427090760895, 1839.9048879701859, 1926.408792271949, 2023.9837570181953], [1043.6705095959633, 1078.6507094310218, 1130.0324876119575, 1206.473955739406, 1287.6252621875583, 1359.5881152408465, 1429.6359857529978, 1491.790154150246, 1561.2200925264933, 1637.2962919475804, 1714.2014780389218, 1795.95587850244, 1876.9320765530447, 1962.3869411150145, 2059.303562262514, 2152.0693658827377], [1128.3016569563388, 1179.0961598321082, 1257.6091759687142, 1339.503384942058, 1410.4228387425655, 1478.2888496643927, 1537.4029065279356, 1604.1430104746405, 1677.7694505694535, 1752.7107135137667, 1833.0692713626895, 1912.86677623798, 1997.4768794137517, 2093.949171550951, 2185.942946348049, 2284.4730135266536], [1232.9288282195503, 1313.0574504742235, 1394.894947930121, 1463.8618389872545, 1528.628178052605, 1583.9199863190925, 1647.447830581641, 1718.2938736319484, 1791.1208499858494, 1870.0528759727486, 1948.6849675310914, 2032.5025473961978, 2128.6188788566906, 2219.891018579853, 2317.350788957101, 2400.9131153779517], [1363.009926293581, 1446.3785910971583, 1514.0203695595246, 1575.9483464008454, 1627.5163050113551, 1688.0840652874986, 1756.4696679015824, 1827.524962247533, 1905.386721478263, 1983.1597796505885, 2066.4729730315476, 2162.5238766161965, 2253.2781355997713, 2349.822160859152, 2432.0273277102506, 2501.7551428867755], [1504.3246735111488, 1568.7483724056738, 1626.1422496450214, 1672.700514132075, 1729.5203750181236, 1794.9822271187513, 1864.0688865686443, 1940.8229049152887, 2017.7504944274979, 2100.618707170678, 2196.7060413239424, 2286.9884488917687, 2382.6232363037207, 2463.4377176271983, 2531.7687387912256, 2601.090374503071], [1619.7789252186558, 1672.493818462529, 1713.9984436399018, 1767.3704528075104, 1830.3497393326452, 1897.9442676429953, 1974.071798071188, 2050.56175350391, 2133.3615131786555, 2229.857944729627, 2319.9298206160465, 2414.8542830735505, 2494.3881796326577, 2561.3935626310686, 2629.7231193043744, 2732.305937263175], [1714.3981213429834, 1751.0534711747114, 1801.5473526175701, 1862.6979174567987, 1929.4208324216434, 2005.5098425011029, 2082.0315637680533, 2165.182191205862, 2262.4952870626275, 2352.6144567655074, 2446.9975701498024, 2525.3141226046773, 2591.020245296286, 2658.397212057208, 2761.014727870578, 2979.4365484248]]}],\n",
              "                        {\"autosize\": false, \"height\": 700, \"template\": {\"data\": {\"bar\": [{\"error_x\": {\"color\": \"#2a3f5f\"}, \"error_y\": {\"color\": \"#2a3f5f\"}, \"marker\": {\"line\": {\"color\": \"#E5ECF6\", \"width\": 0.5}}, \"type\": \"bar\"}], \"barpolar\": [{\"marker\": {\"line\": {\"color\": \"#E5ECF6\", \"width\": 0.5}}, \"type\": \"barpolar\"}], \"carpet\": [{\"aaxis\": {\"endlinecolor\": \"#2a3f5f\", \"gridcolor\": \"white\", \"linecolor\": \"white\", \"minorgridcolor\": \"white\", \"startlinecolor\": \"#2a3f5f\"}, \"baxis\": {\"endlinecolor\": \"#2a3f5f\", \"gridcolor\": \"white\", \"linecolor\": \"white\", \"minorgridcolor\": \"white\", \"startlinecolor\": \"#2a3f5f\"}, \"type\": \"carpet\"}], \"choropleth\": [{\"colorbar\": {\"outlinewidth\": 0, \"ticks\": \"\"}, \"type\": \"choropleth\"}], \"contour\": [{\"colorbar\": {\"outlinewidth\": 0, \"ticks\": \"\"}, \"colorscale\": [[0.0, \"#0d0887\"], [0.1111111111111111, \"#46039f\"], [0.2222222222222222, \"#7201a8\"], [0.3333333333333333, \"#9c179e\"], [0.4444444444444444, \"#bd3786\"], [0.5555555555555556, \"#d8576b\"], [0.6666666666666666, \"#ed7953\"], [0.7777777777777778, \"#fb9f3a\"], [0.8888888888888888, \"#fdca26\"], [1.0, \"#f0f921\"]], \"type\": \"contour\"}], \"contourcarpet\": [{\"colorbar\": {\"outlinewidth\": 0, \"ticks\": \"\"}, \"type\": \"contourcarpet\"}], \"heatmap\": [{\"colorbar\": {\"outlinewidth\": 0, \"ticks\": \"\"}, \"colorscale\": [[0.0, \"#0d0887\"], [0.1111111111111111, \"#46039f\"], [0.2222222222222222, \"#7201a8\"], [0.3333333333333333, \"#9c179e\"], [0.4444444444444444, \"#bd3786\"], [0.5555555555555556, \"#d8576b\"], [0.6666666666666666, \"#ed7953\"], [0.7777777777777778, \"#fb9f3a\"], [0.8888888888888888, \"#fdca26\"], [1.0, \"#f0f921\"]], \"type\": \"heatmap\"}], \"heatmapgl\": [{\"colorbar\": {\"outlinewidth\": 0, \"ticks\": \"\"}, \"colorscale\": [[0.0, \"#0d0887\"], [0.1111111111111111, \"#46039f\"], [0.2222222222222222, \"#7201a8\"], [0.3333333333333333, \"#9c179e\"], [0.4444444444444444, \"#bd3786\"], [0.5555555555555556, \"#d8576b\"], [0.6666666666666666, \"#ed7953\"], [0.7777777777777778, \"#fb9f3a\"], [0.8888888888888888, \"#fdca26\"], [1.0, \"#f0f921\"]], \"type\": \"heatmapgl\"}], \"histogram\": [{\"marker\": {\"colorbar\": {\"outlinewidth\": 0, \"ticks\": \"\"}}, \"type\": \"histogram\"}], \"histogram2d\": [{\"colorbar\": {\"outlinewidth\": 0, \"ticks\": \"\"}, \"colorscale\": [[0.0, \"#0d0887\"], [0.1111111111111111, \"#46039f\"], [0.2222222222222222, \"#7201a8\"], [0.3333333333333333, \"#9c179e\"], [0.4444444444444444, \"#bd3786\"], [0.5555555555555556, \"#d8576b\"], [0.6666666666666666, \"#ed7953\"], [0.7777777777777778, \"#fb9f3a\"], [0.8888888888888888, \"#fdca26\"], [1.0, \"#f0f921\"]], \"type\": \"histogram2d\"}], \"histogram2dcontour\": [{\"colorbar\": {\"outlinewidth\": 0, \"ticks\": \"\"}, \"colorscale\": [[0.0, \"#0d0887\"], [0.1111111111111111, \"#46039f\"], [0.2222222222222222, \"#7201a8\"], [0.3333333333333333, \"#9c179e\"], [0.4444444444444444, \"#bd3786\"], [0.5555555555555556, \"#d8576b\"], [0.6666666666666666, \"#ed7953\"], [0.7777777777777778, \"#fb9f3a\"], [0.8888888888888888, \"#fdca26\"], [1.0, \"#f0f921\"]], \"type\": \"histogram2dcontour\"}], \"mesh3d\": [{\"colorbar\": {\"outlinewidth\": 0, \"ticks\": \"\"}, \"type\": \"mesh3d\"}], \"parcoords\": [{\"line\": {\"colorbar\": {\"outlinewidth\": 0, \"ticks\": \"\"}}, \"type\": \"parcoords\"}], \"pie\": [{\"automargin\": true, \"type\": \"pie\"}], \"scatter\": [{\"marker\": {\"colorbar\": {\"outlinewidth\": 0, \"ticks\": \"\"}}, \"type\": \"scatter\"}], \"scatter3d\": [{\"line\": {\"colorbar\": {\"outlinewidth\": 0, \"ticks\": \"\"}}, \"marker\": {\"colorbar\": {\"outlinewidth\": 0, \"ticks\": \"\"}}, \"type\": \"scatter3d\"}], \"scattercarpet\": [{\"marker\": {\"colorbar\": {\"outlinewidth\": 0, \"ticks\": \"\"}}, \"type\": \"scattercarpet\"}], \"scattergeo\": [{\"marker\": {\"colorbar\": {\"outlinewidth\": 0, \"ticks\": \"\"}}, \"type\": \"scattergeo\"}], \"scattergl\": [{\"marker\": {\"colorbar\": {\"outlinewidth\": 0, \"ticks\": \"\"}}, \"type\": \"scattergl\"}], \"scattermapbox\": [{\"marker\": {\"colorbar\": {\"outlinewidth\": 0, \"ticks\": \"\"}}, \"type\": \"scattermapbox\"}], \"scatterpolar\": [{\"marker\": {\"colorbar\": {\"outlinewidth\": 0, \"ticks\": \"\"}}, \"type\": \"scatterpolar\"}], \"scatterpolargl\": [{\"marker\": {\"colorbar\": {\"outlinewidth\": 0, \"ticks\": \"\"}}, \"type\": \"scatterpolargl\"}], \"scatterternary\": [{\"marker\": {\"colorbar\": {\"outlinewidth\": 0, \"ticks\": \"\"}}, \"type\": \"scatterternary\"}], \"surface\": [{\"colorbar\": {\"outlinewidth\": 0, \"ticks\": \"\"}, \"colorscale\": [[0.0, \"#0d0887\"], [0.1111111111111111, \"#46039f\"], [0.2222222222222222, \"#7201a8\"], [0.3333333333333333, \"#9c179e\"], [0.4444444444444444, \"#bd3786\"], [0.5555555555555556, \"#d8576b\"], [0.6666666666666666, \"#ed7953\"], [0.7777777777777778, \"#fb9f3a\"], [0.8888888888888888, \"#fdca26\"], [1.0, \"#f0f921\"]], \"type\": \"surface\"}], \"table\": [{\"cells\": {\"fill\": {\"color\": \"#EBF0F8\"}, \"line\": {\"color\": \"white\"}}, \"header\": {\"fill\": {\"color\": \"#C8D4E3\"}, \"line\": {\"color\": \"white\"}}, \"type\": \"table\"}]}, \"layout\": {\"annotationdefaults\": {\"arrowcolor\": \"#2a3f5f\", \"arrowhead\": 0, \"arrowwidth\": 1}, \"coloraxis\": {\"colorbar\": {\"outlinewidth\": 0, \"ticks\": \"\"}}, \"colorscale\": {\"diverging\": [[0, \"#8e0152\"], [0.1, \"#c51b7d\"], [0.2, \"#de77ae\"], [0.3, \"#f1b6da\"], [0.4, \"#fde0ef\"], [0.5, \"#f7f7f7\"], [0.6, \"#e6f5d0\"], [0.7, \"#b8e186\"], [0.8, \"#7fbc41\"], [0.9, \"#4d9221\"], [1, \"#276419\"]], \"sequential\": [[0.0, \"#0d0887\"], [0.1111111111111111, \"#46039f\"], [0.2222222222222222, \"#7201a8\"], [0.3333333333333333, \"#9c179e\"], [0.4444444444444444, \"#bd3786\"], [0.5555555555555556, \"#d8576b\"], [0.6666666666666666, \"#ed7953\"], [0.7777777777777778, \"#fb9f3a\"], [0.8888888888888888, \"#fdca26\"], [1.0, \"#f0f921\"]], \"sequentialminus\": [[0.0, \"#0d0887\"], [0.1111111111111111, \"#46039f\"], [0.2222222222222222, \"#7201a8\"], [0.3333333333333333, \"#9c179e\"], [0.4444444444444444, \"#bd3786\"], [0.5555555555555556, \"#d8576b\"], [0.6666666666666666, \"#ed7953\"], [0.7777777777777778, \"#fb9f3a\"], [0.8888888888888888, \"#fdca26\"], [1.0, \"#f0f921\"]]}, \"colorway\": [\"#636efa\", \"#EF553B\", \"#00cc96\", \"#ab63fa\", \"#FFA15A\", \"#19d3f3\", \"#FF6692\", \"#B6E880\", \"#FF97FF\", \"#FECB52\"], \"font\": {\"color\": \"#2a3f5f\"}, \"geo\": {\"bgcolor\": \"white\", \"lakecolor\": \"white\", \"landcolor\": \"#E5ECF6\", \"showlakes\": true, \"showland\": true, \"subunitcolor\": \"white\"}, \"hoverlabel\": {\"align\": \"left\"}, \"hovermode\": \"closest\", \"mapbox\": {\"style\": \"light\"}, \"paper_bgcolor\": \"white\", \"plot_bgcolor\": \"#E5ECF6\", \"polar\": {\"angularaxis\": {\"gridcolor\": \"white\", \"linecolor\": \"white\", \"ticks\": \"\"}, \"bgcolor\": \"#E5ECF6\", \"radialaxis\": {\"gridcolor\": \"white\", \"linecolor\": \"white\", \"ticks\": \"\"}}, \"scene\": {\"xaxis\": {\"backgroundcolor\": \"#E5ECF6\", \"gridcolor\": \"white\", \"gridwidth\": 2, \"linecolor\": \"white\", \"showbackground\": true, \"ticks\": \"\", \"zerolinecolor\": \"white\"}, \"yaxis\": {\"backgroundcolor\": \"#E5ECF6\", \"gridcolor\": \"white\", \"gridwidth\": 2, \"linecolor\": \"white\", \"showbackground\": true, \"ticks\": \"\", \"zerolinecolor\": \"white\"}, \"zaxis\": {\"backgroundcolor\": \"#E5ECF6\", \"gridcolor\": \"white\", \"gridwidth\": 2, \"linecolor\": \"white\", \"showbackground\": true, \"ticks\": \"\", \"zerolinecolor\": \"white\"}}, \"shapedefaults\": {\"line\": {\"color\": \"#2a3f5f\"}}, \"ternary\": {\"aaxis\": {\"gridcolor\": \"white\", \"linecolor\": \"white\", \"ticks\": \"\"}, \"baxis\": {\"gridcolor\": \"white\", \"linecolor\": \"white\", \"ticks\": \"\"}, \"bgcolor\": \"#E5ECF6\", \"caxis\": {\"gridcolor\": \"white\", \"linecolor\": \"white\", \"ticks\": \"\"}}, \"title\": {\"x\": 0.05}, \"xaxis\": {\"automargin\": true, \"gridcolor\": \"white\", \"linecolor\": \"white\", \"ticks\": \"\", \"title\": {\"standoff\": 15}, \"zerolinecolor\": \"white\", \"zerolinewidth\": 2}, \"yaxis\": {\"automargin\": true, \"gridcolor\": \"white\", \"linecolor\": \"white\", \"ticks\": \"\", \"title\": {\"standoff\": 15}, \"zerolinecolor\": \"white\", \"zerolinewidth\": 2}}}, \"title\": {\"text\": \"\\u0417\\u0430\\u0432\\u0438\\u0441\\u0438\\u043c\\u043e\\u0441\\u0442\\u044c \\u043e\\u0448\\u0438\\u0431\\u043a\\u0438 \\u043f\\u0440\\u0435\\u0434\\u0441\\u043a\\u0430\\u0437\\u0430\\u043d\\u0438\\u044f \\u041d\\u0418\\u0417 \\u043e\\u0442 \\u043f\\u0430\\u0440\\u0430\\u043c\\u0435\\u0442\\u0440\\u043e\\u0432 \\u0430\\u043f\\u043f\\u0440\\u043e\\u043a\\u0441\\u0438\\u043c\\u0430\\u0446\\u0438\\u0438\", \"x\": 0.5, \"xanchor\": \"center\", \"y\": 0.95, \"yanchor\": \"top\"}, \"width\": 1400, \"xaxis\": {\"title\": {\"text\": \"\\u0420\\u0430\\u0437\\u043c\\u0435\\u0440 \\u043e\\u043a\\u043d\\u0430\"}}, \"yaxis\": {\"title\": {\"text\": \"\\u0421\\u0434\\u0432\\u0438\\u0433\"}}},\n",
              "                        {\"responsive\": true}\n",
              "                    ).then(function(){\n",
              "                            \n",
              "var gd = document.getElementById('5b87fb74-b024-495a-870f-794938226d85');\n",
              "var x = new MutationObserver(function (mutations, observer) {{\n",
              "        var display = window.getComputedStyle(gd).display;\n",
              "        if (!display || display === 'none') {{\n",
              "            console.log([gd, 'removed!']);\n",
              "            Plotly.purge(gd);\n",
              "            observer.disconnect();\n",
              "        }}\n",
              "}});\n",
              "\n",
              "// Listen for the removal of the full notebook cells\n",
              "var notebookContainer = gd.closest('#notebook-container');\n",
              "if (notebookContainer) {{\n",
              "    x.observe(notebookContainer, {childList: true});\n",
              "}}\n",
              "\n",
              "// Listen for the clearing of the current output cell\n",
              "var outputEl = gd.closest('.output');\n",
              "if (outputEl) {{\n",
              "    x.observe(outputEl, {childList: true});\n",
              "}}\n",
              "\n",
              "                        })\n",
              "                };\n",
              "                \n",
              "            </script>\n",
              "        </div>\n",
              "</body>\n",
              "</html>"
            ]
          },
          "metadata": {
            "tags": []
          }
        }
      ]
    },
    {
      "cell_type": "code",
      "metadata": {
        "colab": {
          "base_uri": "https://localhost:8080/"
        },
        "id": "AWGpcWzYZHXa",
        "outputId": "dbb73d23-522d-47c1-c09f-12323006349d"
      },
      "source": [
        "xdata = df_graph[-17:-1]['water_total']\n",
        "ydata = df_graph[-17:-1]['oil_total']\n",
        "\n",
        "popt, pcov = curve_fit(kambarov_func, xdata, ydata)\n",
        "\n",
        "kambarov_niz(*popt)"
      ],
      "execution_count": 17,
      "outputs": [
        {
          "output_type": "execute_result",
          "data": {
            "text/plain": [
              "8993.317215475843"
            ]
          },
          "metadata": {
            "tags": []
          },
          "execution_count": 17
        }
      ]
    },
    {
      "cell_type": "code",
      "metadata": {
        "colab": {
          "base_uri": "https://localhost:8080/",
          "height": 717
        },
        "id": "hqgdN1yaZbSP",
        "outputId": "d46bd518-718e-485d-a881-c0dfb30627b4"
      },
      "source": [
        "fig = make_subplots(\n",
        "    subplot_titles=[\n",
        "                    'Весь период',\n",
        "                    'Период аппроксимации'],\n",
        "    rows=1, \n",
        "    cols=2)\n",
        "\n",
        "fig.add_trace(go.Scatter(x=df_graph['water_total_deg_1'], y=df_graph['oil_total'],\n",
        "                    mode='lines+markers',\n",
        "                    name='Накопленный объем нефти, 10^6'),\n",
        "    row=1, col=1)\n",
        "\n",
        "fig.add_trace(go.Scatter(x=df_graph[-35:]['water_total_deg_1'], y=df_graph[-35:]['oil_total'],\n",
        "                    mode='lines+markers',\n",
        "                    name='Период аппроксимации'),\n",
        "    row=1, col=1)\n",
        "\n",
        "#####\n",
        "\n",
        "fig.add_trace(go.Scatter(x=df_graph[-35:]['water_total_deg_1'], y=df_graph[-35:]['oil_total'],\n",
        "                    mode='lines+markers',\n",
        "                    name='Годовой отбор жидкости, 10^6'),\n",
        "    row=1, col=2)\n",
        "\n",
        "fig.add_trace(go.Scatter(x=df_graph[-17:-1]['water_total_deg_1'], y=df_graph[-17:-1]['oil_total'],\n",
        "                    mode='lines+markers',\n",
        "                    name='Участок аппроксимации'),\n",
        "    row=1, col=2)\n",
        "\n",
        "fig.add_trace(go.Scatter(x=df_graph[-17:-1]['water_total_deg_1'], y=kambarov_func(xdata, *popt),\n",
        "                    mode='lines',\n",
        "                    name='Функция аппроксимации (Камбарова)'),\n",
        "    row=1, col=2)\n",
        "\n",
        "fig.add_annotation(x=10**(-4), y=7000, text=\"НИЗ={0}\".format(int(kambarov_niz(*popt))), showarrow=False, yshift=10, font=anno_font,\n",
        "    row=1, col=2)\n",
        "\n",
        "fig['layout']['xaxis1']['title']='1 / Накопленный объем жидкости, 10^-6'\n",
        "fig['layout']['xaxis1']['tickangle']=-45\n",
        "fig['layout']['xaxis1']['tickmode']='array'\n",
        "fig['layout']['yaxis1']['title']='Накопленный объем нефти, 10^6'\n",
        "\n",
        "fig['layout']['xaxis2']['title']='1 / Накопленный объем жидкости, 10^-6'\n",
        "fig['layout']['xaxis2']['tickangle']=-45\n",
        "\n",
        "\n",
        "\n",
        "fig.update_layout( \n",
        "    title={\n",
        "        'text': 'Зависимость накопленной добычи нефти от объема жидкости',\n",
        "        'y':0.95,\n",
        "        'x':0.45,\n",
        "        'xanchor': 'center',\n",
        "        'yanchor': 'top'},\n",
        "    autosize=False,\n",
        "    width=1400,\n",
        "    height=700)\n",
        "\n",
        "\n",
        "fig.show()"
      ],
      "execution_count": 18,
      "outputs": [
        {
          "output_type": "display_data",
          "data": {
            "text/html": [
              "<html>\n",
              "<head><meta charset=\"utf-8\" /></head>\n",
              "<body>\n",
              "    <div>\n",
              "            <script src=\"https://cdnjs.cloudflare.com/ajax/libs/mathjax/2.7.5/MathJax.js?config=TeX-AMS-MML_SVG\"></script><script type=\"text/javascript\">if (window.MathJax) {MathJax.Hub.Config({SVG: {font: \"STIX-Web\"}});}</script>\n",
              "                <script type=\"text/javascript\">window.PlotlyConfig = {MathJaxConfig: 'local'};</script>\n",
              "        <script src=\"https://cdn.plot.ly/plotly-latest.min.js\"></script>    \n",
              "            <div id=\"a9ea0c8f-ca07-4705-8308-27409486426f\" class=\"plotly-graph-div\" style=\"height:700px; width:1400px;\"></div>\n",
              "            <script type=\"text/javascript\">\n",
              "                \n",
              "                    window.PLOTLYENV=window.PLOTLYENV || {};\n",
              "                    \n",
              "                if (document.getElementById(\"a9ea0c8f-ca07-4705-8308-27409486426f\")) {\n",
              "                    Plotly.newPlot(\n",
              "                        'a9ea0c8f-ca07-4705-8308-27409486426f',\n",
              "                        [{\"mode\": \"lines+markers\", \"name\": \"\\u041d\\u0430\\u043a\\u043e\\u043f\\u043b\\u0435\\u043d\\u043d\\u044b\\u0439 \\u043e\\u0431\\u044a\\u0435\\u043c \\u043d\\u0435\\u0444\\u0442\\u0438, 10^6\", \"type\": \"scatter\", \"x\": [0.010869565217391304, 0.005263157894736842, 0.0026455026455026454, 0.001256281407035176, 0.0007552870090634441, 0.0004591368227731864, 0.00030646644192460924, 0.00023969319271332693, 0.00020308692120227456, 0.00017614937466971993, 0.00015271838729383018, 0.0001312852829197847, 0.00011798017932987259, 0.00010702054794520547, 9.864851533984413e-05, 9.177679882525697e-05, 8.557247989046722e-05, 8.027614995584812e-05, 7.496813854112003e-05, 7.065140596297866e-05, 6.741270055278414e-05, 6.438320885912955e-05, 6.218132073125233e-05, 5.986231667165519e-05, 5.789717461787865e-05, 5.641430666817105e-05, 5.536791982725209e-05, 5.417998591320366e-05, 5.285412262156448e-05, 5.161290322580645e-05, 5.0507601394009796e-05, 4.9478007025877e-05, 4.839099927413501e-05, 4.738213693437574e-05, 4.650297619047619e-05, 4.55933980759586e-05, 4.479885314935937e-05, 4.436950927322744e-05, 4.396184112190618e-05, 4.357488343718681e-05, 4.3189081800120926e-05, 4.283205551034394e-05, 4.246645150331238e-05, 4.2083999663328004e-05, 4.167882299003876e-05], \"xaxis\": \"x\", \"y\": [90.0, 181.0, 359.0, 754.0, 1175.0, 1881.0, 2655.0, 3247.0, 3666.0, 4018.0, 4343.0, 4637.0, 4822.0, 4948.0, 5068.0, 5185.0, 5297.0, 5410.0, 5543.0, 5660.0, 5762.0, 5858.0, 5928.0, 6003.0, 6062.0, 6114.0, 6163.0, 6214.0, 6271.0, 6324.0, 6377.0, 6433.0, 6494.0, 6548.0, 6606.0, 6661.0, 6719.0, 6776.0, 6837.0, 6899.0, 6959.0, 7011.0, 7061.0, 7105.0, 7153.0], \"yaxis\": \"y\"}, {\"mode\": \"lines+markers\", \"name\": \"\\u041f\\u0435\\u0440\\u0438\\u043e\\u0434 \\u0430\\u043f\\u043f\\u0440\\u043e\\u043a\\u0441\\u0438\\u043c\\u0430\\u0446\\u0438\\u0438\", \"type\": \"scatter\", \"x\": [0.00015271838729383018, 0.0001312852829197847, 0.00011798017932987259, 0.00010702054794520547, 9.864851533984413e-05, 9.177679882525697e-05, 8.557247989046722e-05, 8.027614995584812e-05, 7.496813854112003e-05, 7.065140596297866e-05, 6.741270055278414e-05, 6.438320885912955e-05, 6.218132073125233e-05, 5.986231667165519e-05, 5.789717461787865e-05, 5.641430666817105e-05, 5.536791982725209e-05, 5.417998591320366e-05, 5.285412262156448e-05, 5.161290322580645e-05, 5.0507601394009796e-05, 4.9478007025877e-05, 4.839099927413501e-05, 4.738213693437574e-05, 4.650297619047619e-05, 4.55933980759586e-05, 4.479885314935937e-05, 4.436950927322744e-05, 4.396184112190618e-05, 4.357488343718681e-05, 4.3189081800120926e-05, 4.283205551034394e-05, 4.246645150331238e-05, 4.2083999663328004e-05, 4.167882299003876e-05], \"xaxis\": \"x\", \"y\": [4343.0, 4637.0, 4822.0, 4948.0, 5068.0, 5185.0, 5297.0, 5410.0, 5543.0, 5660.0, 5762.0, 5858.0, 5928.0, 6003.0, 6062.0, 6114.0, 6163.0, 6214.0, 6271.0, 6324.0, 6377.0, 6433.0, 6494.0, 6548.0, 6606.0, 6661.0, 6719.0, 6776.0, 6837.0, 6899.0, 6959.0, 7011.0, 7061.0, 7105.0, 7153.0], \"yaxis\": \"y\"}, {\"mode\": \"lines+markers\", \"name\": \"\\u0413\\u043e\\u0434\\u043e\\u0432\\u043e\\u0439 \\u043e\\u0442\\u0431\\u043e\\u0440 \\u0436\\u0438\\u0434\\u043a\\u043e\\u0441\\u0442\\u0438, 10^6\", \"type\": \"scatter\", \"x\": [0.00015271838729383018, 0.0001312852829197847, 0.00011798017932987259, 0.00010702054794520547, 9.864851533984413e-05, 9.177679882525697e-05, 8.557247989046722e-05, 8.027614995584812e-05, 7.496813854112003e-05, 7.065140596297866e-05, 6.741270055278414e-05, 6.438320885912955e-05, 6.218132073125233e-05, 5.986231667165519e-05, 5.789717461787865e-05, 5.641430666817105e-05, 5.536791982725209e-05, 5.417998591320366e-05, 5.285412262156448e-05, 5.161290322580645e-05, 5.0507601394009796e-05, 4.9478007025877e-05, 4.839099927413501e-05, 4.738213693437574e-05, 4.650297619047619e-05, 4.55933980759586e-05, 4.479885314935937e-05, 4.436950927322744e-05, 4.396184112190618e-05, 4.357488343718681e-05, 4.3189081800120926e-05, 4.283205551034394e-05, 4.246645150331238e-05, 4.2083999663328004e-05, 4.167882299003876e-05], \"xaxis\": \"x2\", \"y\": [4343.0, 4637.0, 4822.0, 4948.0, 5068.0, 5185.0, 5297.0, 5410.0, 5543.0, 5660.0, 5762.0, 5858.0, 5928.0, 6003.0, 6062.0, 6114.0, 6163.0, 6214.0, 6271.0, 6324.0, 6377.0, 6433.0, 6494.0, 6548.0, 6606.0, 6661.0, 6719.0, 6776.0, 6837.0, 6899.0, 6959.0, 7011.0, 7061.0, 7105.0, 7153.0], \"yaxis\": \"y2\"}, {\"mode\": \"lines+markers\", \"name\": \"\\u0423\\u0447\\u0430\\u0441\\u0442\\u043e\\u043a \\u0430\\u043f\\u043f\\u0440\\u043e\\u043a\\u0441\\u0438\\u043c\\u0430\\u0446\\u0438\\u0438\", \"type\": \"scatter\", \"x\": [5.285412262156448e-05, 5.161290322580645e-05, 5.0507601394009796e-05, 4.9478007025877e-05, 4.839099927413501e-05, 4.738213693437574e-05, 4.650297619047619e-05, 4.55933980759586e-05, 4.479885314935937e-05, 4.436950927322744e-05, 4.396184112190618e-05, 4.357488343718681e-05, 4.3189081800120926e-05, 4.283205551034394e-05, 4.246645150331238e-05, 4.2083999663328004e-05], \"xaxis\": \"x2\", \"y\": [6271.0, 6324.0, 6377.0, 6433.0, 6494.0, 6548.0, 6606.0, 6661.0, 6719.0, 6776.0, 6837.0, 6899.0, 6959.0, 7011.0, 7061.0, 7105.0], \"yaxis\": \"y2\"}, {\"mode\": \"lines\", \"name\": \"\\u0424\\u0443\\u043d\\u043a\\u0446\\u0438\\u044f \\u0430\\u043f\\u043f\\u0440\\u043e\\u043a\\u0441\\u0438\\u043c\\u0430\\u0446\\u0438\\u0438 (\\u041a\\u0430\\u043c\\u0431\\u0430\\u0440\\u043e\\u0432\\u0430)\", \"type\": \"scatter\", \"x\": [5.285412262156448e-05, 5.161290322580645e-05, 5.0507601394009796e-05, 4.9478007025877e-05, 4.839099927413501e-05, 4.738213693437574e-05, 4.650297619047619e-05, 4.55933980759586e-05, 4.479885314935937e-05, 4.436950927322744e-05, 4.396184112190618e-05, 4.357488343718681e-05, 4.3189081800120926e-05, 4.283205551034394e-05, 4.246645150331238e-05, 4.2083999663328004e-05], \"xaxis\": \"x2\", \"y\": [6185.171825404141, 6280.173257316754, 6364.771723208585, 6443.57563136218, 6526.773890484235, 6603.990994251219, 6671.280894680793, 6740.898903882761, 6801.712411956996, 6834.573873157846, 6865.776300587716, 6895.393573942906, 6924.922364808364, 6952.248725381827, 6980.231614063466, 7009.5040155102215], \"yaxis\": \"y2\"}],\n",
              "                        {\"annotations\": [{\"font\": {\"size\": 16}, \"showarrow\": false, \"text\": \"\\u0412\\u0435\\u0441\\u044c \\u043f\\u0435\\u0440\\u0438\\u043e\\u0434\", \"x\": 0.225, \"xanchor\": \"center\", \"xref\": \"paper\", \"y\": 1.0, \"yanchor\": \"bottom\", \"yref\": \"paper\"}, {\"font\": {\"size\": 16}, \"showarrow\": false, \"text\": \"\\u041f\\u0435\\u0440\\u0438\\u043e\\u0434 \\u0430\\u043f\\u043f\\u0440\\u043e\\u043a\\u0441\\u0438\\u043c\\u0430\\u0446\\u0438\\u0438\", \"x\": 0.775, \"xanchor\": \"center\", \"xref\": \"paper\", \"y\": 1.0, \"yanchor\": \"bottom\", \"yref\": \"paper\"}, {\"font\": {\"color\": \"Black\", \"family\": \"arial bold\", \"size\": 36}, \"showarrow\": false, \"text\": \"\\u041d\\u0418\\u0417=8993\", \"x\": 0.0001, \"xref\": \"x2\", \"y\": 7000, \"yref\": \"y2\", \"yshift\": 10}], \"autosize\": false, \"height\": 700, \"template\": {\"data\": {\"bar\": [{\"error_x\": {\"color\": \"#2a3f5f\"}, \"error_y\": {\"color\": \"#2a3f5f\"}, \"marker\": {\"line\": {\"color\": \"#E5ECF6\", \"width\": 0.5}}, \"type\": \"bar\"}], \"barpolar\": [{\"marker\": {\"line\": {\"color\": \"#E5ECF6\", \"width\": 0.5}}, \"type\": \"barpolar\"}], \"carpet\": [{\"aaxis\": {\"endlinecolor\": \"#2a3f5f\", \"gridcolor\": \"white\", \"linecolor\": \"white\", \"minorgridcolor\": \"white\", \"startlinecolor\": \"#2a3f5f\"}, \"baxis\": {\"endlinecolor\": \"#2a3f5f\", \"gridcolor\": \"white\", \"linecolor\": \"white\", \"minorgridcolor\": \"white\", \"startlinecolor\": \"#2a3f5f\"}, \"type\": \"carpet\"}], \"choropleth\": [{\"colorbar\": {\"outlinewidth\": 0, \"ticks\": \"\"}, \"type\": \"choropleth\"}], \"contour\": [{\"colorbar\": {\"outlinewidth\": 0, \"ticks\": \"\"}, \"colorscale\": [[0.0, \"#0d0887\"], [0.1111111111111111, \"#46039f\"], [0.2222222222222222, \"#7201a8\"], [0.3333333333333333, \"#9c179e\"], [0.4444444444444444, \"#bd3786\"], [0.5555555555555556, \"#d8576b\"], [0.6666666666666666, \"#ed7953\"], [0.7777777777777778, \"#fb9f3a\"], [0.8888888888888888, \"#fdca26\"], [1.0, \"#f0f921\"]], \"type\": \"contour\"}], \"contourcarpet\": [{\"colorbar\": {\"outlinewidth\": 0, \"ticks\": \"\"}, \"type\": \"contourcarpet\"}], \"heatmap\": [{\"colorbar\": {\"outlinewidth\": 0, \"ticks\": \"\"}, \"colorscale\": [[0.0, \"#0d0887\"], [0.1111111111111111, \"#46039f\"], [0.2222222222222222, \"#7201a8\"], [0.3333333333333333, \"#9c179e\"], [0.4444444444444444, \"#bd3786\"], [0.5555555555555556, \"#d8576b\"], [0.6666666666666666, \"#ed7953\"], [0.7777777777777778, \"#fb9f3a\"], [0.8888888888888888, \"#fdca26\"], [1.0, \"#f0f921\"]], \"type\": \"heatmap\"}], \"heatmapgl\": [{\"colorbar\": {\"outlinewidth\": 0, \"ticks\": \"\"}, \"colorscale\": [[0.0, \"#0d0887\"], [0.1111111111111111, \"#46039f\"], [0.2222222222222222, \"#7201a8\"], [0.3333333333333333, \"#9c179e\"], [0.4444444444444444, \"#bd3786\"], [0.5555555555555556, \"#d8576b\"], [0.6666666666666666, \"#ed7953\"], [0.7777777777777778, \"#fb9f3a\"], [0.8888888888888888, \"#fdca26\"], [1.0, \"#f0f921\"]], \"type\": \"heatmapgl\"}], \"histogram\": [{\"marker\": {\"colorbar\": {\"outlinewidth\": 0, \"ticks\": \"\"}}, \"type\": \"histogram\"}], \"histogram2d\": [{\"colorbar\": {\"outlinewidth\": 0, \"ticks\": \"\"}, \"colorscale\": [[0.0, \"#0d0887\"], [0.1111111111111111, \"#46039f\"], [0.2222222222222222, \"#7201a8\"], [0.3333333333333333, \"#9c179e\"], [0.4444444444444444, \"#bd3786\"], [0.5555555555555556, \"#d8576b\"], [0.6666666666666666, \"#ed7953\"], [0.7777777777777778, \"#fb9f3a\"], [0.8888888888888888, \"#fdca26\"], [1.0, \"#f0f921\"]], \"type\": \"histogram2d\"}], \"histogram2dcontour\": [{\"colorbar\": {\"outlinewidth\": 0, \"ticks\": \"\"}, \"colorscale\": [[0.0, \"#0d0887\"], [0.1111111111111111, \"#46039f\"], [0.2222222222222222, \"#7201a8\"], [0.3333333333333333, \"#9c179e\"], [0.4444444444444444, \"#bd3786\"], [0.5555555555555556, \"#d8576b\"], [0.6666666666666666, \"#ed7953\"], [0.7777777777777778, \"#fb9f3a\"], [0.8888888888888888, \"#fdca26\"], [1.0, \"#f0f921\"]], \"type\": \"histogram2dcontour\"}], \"mesh3d\": [{\"colorbar\": {\"outlinewidth\": 0, \"ticks\": \"\"}, \"type\": \"mesh3d\"}], \"parcoords\": [{\"line\": {\"colorbar\": {\"outlinewidth\": 0, \"ticks\": \"\"}}, \"type\": \"parcoords\"}], \"pie\": [{\"automargin\": true, \"type\": \"pie\"}], \"scatter\": [{\"marker\": {\"colorbar\": {\"outlinewidth\": 0, \"ticks\": \"\"}}, \"type\": \"scatter\"}], \"scatter3d\": [{\"line\": {\"colorbar\": {\"outlinewidth\": 0, \"ticks\": \"\"}}, \"marker\": {\"colorbar\": {\"outlinewidth\": 0, \"ticks\": \"\"}}, \"type\": \"scatter3d\"}], \"scattercarpet\": [{\"marker\": {\"colorbar\": {\"outlinewidth\": 0, \"ticks\": \"\"}}, \"type\": \"scattercarpet\"}], \"scattergeo\": [{\"marker\": {\"colorbar\": {\"outlinewidth\": 0, \"ticks\": \"\"}}, \"type\": \"scattergeo\"}], \"scattergl\": [{\"marker\": {\"colorbar\": {\"outlinewidth\": 0, \"ticks\": \"\"}}, \"type\": \"scattergl\"}], \"scattermapbox\": [{\"marker\": {\"colorbar\": {\"outlinewidth\": 0, \"ticks\": \"\"}}, \"type\": \"scattermapbox\"}], \"scatterpolar\": [{\"marker\": {\"colorbar\": {\"outlinewidth\": 0, \"ticks\": \"\"}}, \"type\": \"scatterpolar\"}], \"scatterpolargl\": [{\"marker\": {\"colorbar\": {\"outlinewidth\": 0, \"ticks\": \"\"}}, \"type\": \"scatterpolargl\"}], \"scatterternary\": [{\"marker\": {\"colorbar\": {\"outlinewidth\": 0, \"ticks\": \"\"}}, \"type\": \"scatterternary\"}], \"surface\": [{\"colorbar\": {\"outlinewidth\": 0, \"ticks\": \"\"}, \"colorscale\": [[0.0, \"#0d0887\"], [0.1111111111111111, \"#46039f\"], [0.2222222222222222, \"#7201a8\"], [0.3333333333333333, \"#9c179e\"], [0.4444444444444444, \"#bd3786\"], [0.5555555555555556, \"#d8576b\"], [0.6666666666666666, \"#ed7953\"], [0.7777777777777778, \"#fb9f3a\"], [0.8888888888888888, \"#fdca26\"], [1.0, \"#f0f921\"]], \"type\": \"surface\"}], \"table\": [{\"cells\": {\"fill\": {\"color\": \"#EBF0F8\"}, \"line\": {\"color\": \"white\"}}, \"header\": {\"fill\": {\"color\": \"#C8D4E3\"}, \"line\": {\"color\": \"white\"}}, \"type\": \"table\"}]}, \"layout\": {\"annotationdefaults\": {\"arrowcolor\": \"#2a3f5f\", \"arrowhead\": 0, \"arrowwidth\": 1}, \"coloraxis\": {\"colorbar\": {\"outlinewidth\": 0, \"ticks\": \"\"}}, \"colorscale\": {\"diverging\": [[0, \"#8e0152\"], [0.1, \"#c51b7d\"], [0.2, \"#de77ae\"], [0.3, \"#f1b6da\"], [0.4, \"#fde0ef\"], [0.5, \"#f7f7f7\"], [0.6, \"#e6f5d0\"], [0.7, \"#b8e186\"], [0.8, \"#7fbc41\"], [0.9, \"#4d9221\"], [1, \"#276419\"]], \"sequential\": [[0.0, \"#0d0887\"], [0.1111111111111111, \"#46039f\"], [0.2222222222222222, \"#7201a8\"], [0.3333333333333333, \"#9c179e\"], [0.4444444444444444, \"#bd3786\"], [0.5555555555555556, \"#d8576b\"], [0.6666666666666666, \"#ed7953\"], [0.7777777777777778, \"#fb9f3a\"], [0.8888888888888888, \"#fdca26\"], [1.0, \"#f0f921\"]], \"sequentialminus\": [[0.0, \"#0d0887\"], [0.1111111111111111, \"#46039f\"], [0.2222222222222222, \"#7201a8\"], [0.3333333333333333, \"#9c179e\"], [0.4444444444444444, \"#bd3786\"], [0.5555555555555556, \"#d8576b\"], [0.6666666666666666, \"#ed7953\"], [0.7777777777777778, \"#fb9f3a\"], [0.8888888888888888, \"#fdca26\"], [1.0, \"#f0f921\"]]}, \"colorway\": [\"#636efa\", \"#EF553B\", \"#00cc96\", \"#ab63fa\", \"#FFA15A\", \"#19d3f3\", \"#FF6692\", \"#B6E880\", \"#FF97FF\", \"#FECB52\"], \"font\": {\"color\": \"#2a3f5f\"}, \"geo\": {\"bgcolor\": \"white\", \"lakecolor\": \"white\", \"landcolor\": \"#E5ECF6\", \"showlakes\": true, \"showland\": true, \"subunitcolor\": \"white\"}, \"hoverlabel\": {\"align\": \"left\"}, \"hovermode\": \"closest\", \"mapbox\": {\"style\": \"light\"}, \"paper_bgcolor\": \"white\", \"plot_bgcolor\": \"#E5ECF6\", \"polar\": {\"angularaxis\": {\"gridcolor\": \"white\", \"linecolor\": \"white\", \"ticks\": \"\"}, \"bgcolor\": \"#E5ECF6\", \"radialaxis\": {\"gridcolor\": \"white\", \"linecolor\": \"white\", \"ticks\": \"\"}}, \"scene\": {\"xaxis\": {\"backgroundcolor\": \"#E5ECF6\", \"gridcolor\": \"white\", \"gridwidth\": 2, \"linecolor\": \"white\", \"showbackground\": true, \"ticks\": \"\", \"zerolinecolor\": \"white\"}, \"yaxis\": {\"backgroundcolor\": \"#E5ECF6\", \"gridcolor\": \"white\", \"gridwidth\": 2, \"linecolor\": \"white\", \"showbackground\": true, \"ticks\": \"\", \"zerolinecolor\": \"white\"}, \"zaxis\": {\"backgroundcolor\": \"#E5ECF6\", \"gridcolor\": \"white\", \"gridwidth\": 2, \"linecolor\": \"white\", \"showbackground\": true, \"ticks\": \"\", \"zerolinecolor\": \"white\"}}, \"shapedefaults\": {\"line\": {\"color\": \"#2a3f5f\"}}, \"ternary\": {\"aaxis\": {\"gridcolor\": \"white\", \"linecolor\": \"white\", \"ticks\": \"\"}, \"baxis\": {\"gridcolor\": \"white\", \"linecolor\": \"white\", \"ticks\": \"\"}, \"bgcolor\": \"#E5ECF6\", \"caxis\": {\"gridcolor\": \"white\", \"linecolor\": \"white\", \"ticks\": \"\"}}, \"title\": {\"x\": 0.05}, \"xaxis\": {\"automargin\": true, \"gridcolor\": \"white\", \"linecolor\": \"white\", \"ticks\": \"\", \"title\": {\"standoff\": 15}, \"zerolinecolor\": \"white\", \"zerolinewidth\": 2}, \"yaxis\": {\"automargin\": true, \"gridcolor\": \"white\", \"linecolor\": \"white\", \"ticks\": \"\", \"title\": {\"standoff\": 15}, \"zerolinecolor\": \"white\", \"zerolinewidth\": 2}}}, \"title\": {\"text\": \"\\u0417\\u0430\\u0432\\u0438\\u0441\\u0438\\u043c\\u043e\\u0441\\u0442\\u044c \\u043d\\u0430\\u043a\\u043e\\u043f\\u043b\\u0435\\u043d\\u043d\\u043e\\u0439 \\u0434\\u043e\\u0431\\u044b\\u0447\\u0438 \\u043d\\u0435\\u0444\\u0442\\u0438 \\u043e\\u0442 \\u043e\\u0431\\u044a\\u0435\\u043c\\u0430 \\u0436\\u0438\\u0434\\u043a\\u043e\\u0441\\u0442\\u0438\", \"x\": 0.45, \"xanchor\": \"center\", \"y\": 0.95, \"yanchor\": \"top\"}, \"width\": 1400, \"xaxis\": {\"anchor\": \"y\", \"domain\": [0.0, 0.45], \"tickangle\": -45, \"tickmode\": \"array\", \"title\": {\"text\": \"1 / \\u041d\\u0430\\u043a\\u043e\\u043f\\u043b\\u0435\\u043d\\u043d\\u044b\\u0439 \\u043e\\u0431\\u044a\\u0435\\u043c \\u0436\\u0438\\u0434\\u043a\\u043e\\u0441\\u0442\\u0438, 10^-6\"}}, \"xaxis2\": {\"anchor\": \"y2\", \"domain\": [0.55, 1.0], \"tickangle\": -45, \"title\": {\"text\": \"1 / \\u041d\\u0430\\u043a\\u043e\\u043f\\u043b\\u0435\\u043d\\u043d\\u044b\\u0439 \\u043e\\u0431\\u044a\\u0435\\u043c \\u0436\\u0438\\u0434\\u043a\\u043e\\u0441\\u0442\\u0438, 10^-6\"}}, \"yaxis\": {\"anchor\": \"x\", \"domain\": [0.0, 1.0], \"title\": {\"text\": \"\\u041d\\u0430\\u043a\\u043e\\u043f\\u043b\\u0435\\u043d\\u043d\\u044b\\u0439 \\u043e\\u0431\\u044a\\u0435\\u043c \\u043d\\u0435\\u0444\\u0442\\u0438, 10^6\"}}, \"yaxis2\": {\"anchor\": \"x2\", \"domain\": [0.0, 1.0]}},\n",
              "                        {\"responsive\": true}\n",
              "                    ).then(function(){\n",
              "                            \n",
              "var gd = document.getElementById('a9ea0c8f-ca07-4705-8308-27409486426f');\n",
              "var x = new MutationObserver(function (mutations, observer) {{\n",
              "        var display = window.getComputedStyle(gd).display;\n",
              "        if (!display || display === 'none') {{\n",
              "            console.log([gd, 'removed!']);\n",
              "            Plotly.purge(gd);\n",
              "            observer.disconnect();\n",
              "        }}\n",
              "}});\n",
              "\n",
              "// Listen for the removal of the full notebook cells\n",
              "var notebookContainer = gd.closest('#notebook-container');\n",
              "if (notebookContainer) {{\n",
              "    x.observe(notebookContainer, {childList: true});\n",
              "}}\n",
              "\n",
              "// Listen for the clearing of the current output cell\n",
              "var outputEl = gd.closest('.output');\n",
              "if (outputEl) {{\n",
              "    x.observe(outputEl, {childList: true});\n",
              "}}\n",
              "\n",
              "                        })\n",
              "                };\n",
              "                \n",
              "            </script>\n",
              "        </div>\n",
              "</body>\n",
              "</html>"
            ]
          },
          "metadata": {
            "tags": []
          }
        }
      ]
    },
    {
      "cell_type": "code",
      "metadata": {
        "id": "WI2dzBF3ZdQl"
      },
      "source": [
        ""
      ],
      "execution_count": 18,
      "outputs": []
    },
    {
      "cell_type": "code",
      "metadata": {
        "colab": {
          "base_uri": "https://localhost:8080/"
        },
        "id": "0T1bCGVQZdts",
        "outputId": "b377e3c5-1d61-421e-af03-b25651ed72f3"
      },
      "source": [
        "xdata = df_graph[-20:]['oil_total']\n",
        "ydata = df_graph[-20:]['water_total']\n",
        "\n",
        "popt, pcov = curve_fit(french_func, xdata, ydata)\n",
        "popt\n",
        "\n",
        "#print(popt)\n",
        "#print(kambarov_niz(*popt))\n",
        "\n",
        "ydata_fit = french_func(xdata, *popt)\n",
        "ydata_fit"
      ],
      "execution_count": 19,
      "outputs": [
        {
          "output_type": "execute_result",
          "data": {
            "text/plain": [
              "25    18242.958836\n",
              "26    18516.481317\n",
              "27    18803.318116\n",
              "28    19126.495760\n",
              "29    19429.452170\n",
              "30    19734.777102\n",
              "31    20059.957993\n",
              "32    20417.181816\n",
              "33    20736.030848\n",
              "34    21081.237008\n",
              "35    21411.207890\n",
              "36    21761.940318\n",
              "37    22109.389191\n",
              "38    22484.255083\n",
              "39    22868.481401\n",
              "40    23243.399398\n",
              "41    23570.783699\n",
              "42    23887.726430\n",
              "43    24168.379751\n",
              "44    24476.408775\n",
              "Name: oil_total, dtype: float64"
            ]
          },
          "metadata": {
            "tags": []
          },
          "execution_count": 19
        }
      ]
    },
    {
      "cell_type": "code",
      "metadata": {
        "colab": {
          "base_uri": "https://localhost:8080/"
        },
        "id": "wY2KPcx9d44u",
        "outputId": "45896e53-0c7c-4f5d-b4ce-449fefb8dc61"
      },
      "source": [
        "french_niz(*popt)"
      ],
      "execution_count": 20,
      "outputs": [
        {
          "output_type": "execute_result",
          "data": {
            "text/plain": [
              "58816.89903729069"
            ]
          },
          "metadata": {
            "tags": []
          },
          "execution_count": 20
        }
      ]
    },
    {
      "cell_type": "code",
      "metadata": {
        "colab": {
          "base_uri": "https://localhost:8080/"
        },
        "id": "Qzgui7wdeCMW",
        "outputId": "fe96d0da-98ac-430e-9bb3-28ae47006e51"
      },
      "source": [
        "popt"
      ],
      "execution_count": 21,
      "outputs": [
        {
          "output_type": "execute_result",
          "data": {
            "text/plain": [
              "array([-5.93831446e-01,  4.21595088e-04])"
            ]
          },
          "metadata": {
            "tags": []
          },
          "execution_count": 21
        }
      ]
    },
    {
      "cell_type": "code",
      "metadata": {
        "colab": {
          "base_uri": "https://localhost:8080/",
          "height": 717
        },
        "id": "vflaqIhfZdwn",
        "outputId": "56d6ab7f-6434-4b55-9b40-49eb6598dd9a"
      },
      "source": [
        "fig = make_subplots(\n",
        "    subplot_titles=[\n",
        "                    'Весь период',\n",
        "                    'Период аппроксимации'],\n",
        "    rows=1, \n",
        "    cols=2)\n",
        "\n",
        "fig.add_trace(go.Scatter(x=df_graph['oil_total'], y=df_graph['water_to_oil_total'] - 1,\n",
        "                    mode='lines+markers',\n",
        "                    name='Накопленный объем нефти, 10^6'),\n",
        "    row=1, col=1)\n",
        "\n",
        "fig.add_trace(go.Scatter(x=df_graph[-35:]['oil_total'], y=df_graph[-35:]['water_to_oil_total'] - 1,\n",
        "                    mode='lines+markers',\n",
        "                    name='Период аппроксимации'),\n",
        "    row=1, col=1)\n",
        "\n",
        "#####\n",
        "\n",
        "fig.add_trace(go.Scatter(x=df_graph[-35:]['oil_total'], y=df_graph[-35:]['water_to_oil_total'] - 1,\n",
        "                    mode='lines+markers',\n",
        "                    name='Годовой отбор жидкости, 10^6'),\n",
        "    row=1, col=2)\n",
        "\n",
        "fig.add_trace(go.Scatter(x=df_graph[-25:]['oil_total'], y=df_graph[-25:]['water_to_oil_total'] - 1,\n",
        "                    mode='lines+markers',\n",
        "                    name='Участок аппроксимации'),\n",
        "    row=1, col=2)\n",
        "\n",
        "fig.add_trace(go.Scatter(x=df_graph[-20:]['oil_total'], y= (french_func(xdata, *popt) / df_graph[-20:]['oil_total']) - 1,\n",
        "                    mode='lines',\n",
        "                    name='Функция аппроксимации (Камбарова)'),\n",
        "    row=1, col=2)\n",
        "\n",
        "\n",
        "fig['layout']['xaxis1']['title']='1 / Накопленный объем нефти, 10^-6'\n",
        "fig['layout']['xaxis1']['tickangle']=-45\n",
        "fig['layout']['xaxis1']['tickmode']='array'\n",
        "fig['layout']['yaxis1']['title']='Соотношение вода/нефти, 10^6'\n",
        "\n",
        "fig['layout']['xaxis2']['title']='1 / Накопленный объем нефти, 10^-6'\n",
        "fig['layout']['xaxis2']['tickangle']=-45\n",
        "\n",
        "\n",
        "\n",
        "fig.update_layout( \n",
        "    title={\n",
        "        'text': 'Зависимость накопленной добычи нефти от объема жидкости',\n",
        "        'y':0.95,\n",
        "        'x':0.45,\n",
        "        'xanchor': 'center',\n",
        "        'yanchor': 'top'},\n",
        "    autosize=False,\n",
        "    width=1400,\n",
        "    height=700)\n",
        "\n",
        "\n",
        "fig.show()"
      ],
      "execution_count": 22,
      "outputs": [
        {
          "output_type": "display_data",
          "data": {
            "text/html": [
              "<html>\n",
              "<head><meta charset=\"utf-8\" /></head>\n",
              "<body>\n",
              "    <div>\n",
              "            <script src=\"https://cdnjs.cloudflare.com/ajax/libs/mathjax/2.7.5/MathJax.js?config=TeX-AMS-MML_SVG\"></script><script type=\"text/javascript\">if (window.MathJax) {MathJax.Hub.Config({SVG: {font: \"STIX-Web\"}});}</script>\n",
              "                <script type=\"text/javascript\">window.PlotlyConfig = {MathJaxConfig: 'local'};</script>\n",
              "        <script src=\"https://cdn.plot.ly/plotly-latest.min.js\"></script>    \n",
              "            <div id=\"af690c37-7fc7-4e81-bacc-440879564cc5\" class=\"plotly-graph-div\" style=\"height:700px; width:1400px;\"></div>\n",
              "            <script type=\"text/javascript\">\n",
              "                \n",
              "                    window.PLOTLYENV=window.PLOTLYENV || {};\n",
              "                    \n",
              "                if (document.getElementById(\"af690c37-7fc7-4e81-bacc-440879564cc5\")) {\n",
              "                    Plotly.newPlot(\n",
              "                        'af690c37-7fc7-4e81-bacc-440879564cc5',\n",
              "                        [{\"mode\": \"lines+markers\", \"name\": \"\\u041d\\u0430\\u043a\\u043e\\u043f\\u043b\\u0435\\u043d\\u043d\\u044b\\u0439 \\u043e\\u0431\\u044a\\u0435\\u043c \\u043d\\u0435\\u0444\\u0442\\u0438, 10^6\", \"type\": \"scatter\", \"x\": [90.0, 181.0, 359.0, 754.0, 1175.0, 1881.0, 2655.0, 3247.0, 3666.0, 4018.0, 4343.0, 4637.0, 4822.0, 4948.0, 5068.0, 5185.0, 5297.0, 5410.0, 5543.0, 5660.0, 5762.0, 5858.0, 5928.0, 6003.0, 6062.0, 6114.0, 6163.0, 6214.0, 6271.0, 6324.0, 6377.0, 6433.0, 6494.0, 6548.0, 6606.0, 6661.0, 6719.0, 6776.0, 6837.0, 6899.0, 6959.0, 7011.0, 7061.0, 7105.0, 7153.0], \"xaxis\": \"x\", \"y\": [0.022222222222222143, 0.04972375690607733, 0.052924791086351064, 0.0557029177718833, 0.1268085106382979, 0.1578947368421053, 0.22900188323917137, 0.2848783492454574, 0.34315330060010907, 0.4128919860627178, 0.5077135620538797, 0.6426568902307526, 0.757776856076317, 0.8884397736459175, 1.000197316495659, 1.101446480231437, 1.2061544270341704, 1.3025878003696856, 1.4064585964279273, 1.500706713780919, 1.5744533148212425, 1.6514168658245136, 1.7128879892037787, 1.782775279027153, 1.8492246783239854, 1.8992476283938502, 1.9305533019633296, 1.9702285162536208, 2.0170626694307128, 2.0637254901960786, 2.1047514505253253, 2.1417690035753147, 2.1821681552202032, 2.223121563836286, 2.2552225249772935, 2.2927488365110342, 2.3222205685369848, 2.326151121605667, 2.3270440251572326, 2.3264241194375996, 2.327202184221871, 2.3300527742119526, 2.3349383939951847, 2.344405348346235, 2.3542569551237245], \"yaxis\": \"y\"}, {\"mode\": \"lines+markers\", \"name\": \"\\u041f\\u0435\\u0440\\u0438\\u043e\\u0434 \\u0430\\u043f\\u043f\\u0440\\u043e\\u043a\\u0441\\u0438\\u043c\\u0430\\u0446\\u0438\\u0438\", \"type\": \"scatter\", \"x\": [4343.0, 4637.0, 4822.0, 4948.0, 5068.0, 5185.0, 5297.0, 5410.0, 5543.0, 5660.0, 5762.0, 5858.0, 5928.0, 6003.0, 6062.0, 6114.0, 6163.0, 6214.0, 6271.0, 6324.0, 6377.0, 6433.0, 6494.0, 6548.0, 6606.0, 6661.0, 6719.0, 6776.0, 6837.0, 6899.0, 6959.0, 7011.0, 7061.0, 7105.0, 7153.0], \"xaxis\": \"x\", \"y\": [0.5077135620538797, 0.6426568902307526, 0.757776856076317, 0.8884397736459175, 1.000197316495659, 1.101446480231437, 1.2061544270341704, 1.3025878003696856, 1.4064585964279273, 1.500706713780919, 1.5744533148212425, 1.6514168658245136, 1.7128879892037787, 1.782775279027153, 1.8492246783239854, 1.8992476283938502, 1.9305533019633296, 1.9702285162536208, 2.0170626694307128, 2.0637254901960786, 2.1047514505253253, 2.1417690035753147, 2.1821681552202032, 2.223121563836286, 2.2552225249772935, 2.2927488365110342, 2.3222205685369848, 2.326151121605667, 2.3270440251572326, 2.3264241194375996, 2.327202184221871, 2.3300527742119526, 2.3349383939951847, 2.344405348346235, 2.3542569551237245], \"yaxis\": \"y\"}, {\"mode\": \"lines+markers\", \"name\": \"\\u0413\\u043e\\u0434\\u043e\\u0432\\u043e\\u0439 \\u043e\\u0442\\u0431\\u043e\\u0440 \\u0436\\u0438\\u0434\\u043a\\u043e\\u0441\\u0442\\u0438, 10^6\", \"type\": \"scatter\", \"x\": [4343.0, 4637.0, 4822.0, 4948.0, 5068.0, 5185.0, 5297.0, 5410.0, 5543.0, 5660.0, 5762.0, 5858.0, 5928.0, 6003.0, 6062.0, 6114.0, 6163.0, 6214.0, 6271.0, 6324.0, 6377.0, 6433.0, 6494.0, 6548.0, 6606.0, 6661.0, 6719.0, 6776.0, 6837.0, 6899.0, 6959.0, 7011.0, 7061.0, 7105.0, 7153.0], \"xaxis\": \"x2\", \"y\": [0.5077135620538797, 0.6426568902307526, 0.757776856076317, 0.8884397736459175, 1.000197316495659, 1.101446480231437, 1.2061544270341704, 1.3025878003696856, 1.4064585964279273, 1.500706713780919, 1.5744533148212425, 1.6514168658245136, 1.7128879892037787, 1.782775279027153, 1.8492246783239854, 1.8992476283938502, 1.9305533019633296, 1.9702285162536208, 2.0170626694307128, 2.0637254901960786, 2.1047514505253253, 2.1417690035753147, 2.1821681552202032, 2.223121563836286, 2.2552225249772935, 2.2927488365110342, 2.3222205685369848, 2.326151121605667, 2.3270440251572326, 2.3264241194375996, 2.327202184221871, 2.3300527742119526, 2.3349383939951847, 2.344405348346235, 2.3542569551237245], \"yaxis\": \"y2\"}, {\"mode\": \"lines+markers\", \"name\": \"\\u0423\\u0447\\u0430\\u0441\\u0442\\u043e\\u043a \\u0430\\u043f\\u043f\\u0440\\u043e\\u043a\\u0441\\u0438\\u043c\\u0430\\u0446\\u0438\\u0438\", \"type\": \"scatter\", \"x\": [5762.0, 5858.0, 5928.0, 6003.0, 6062.0, 6114.0, 6163.0, 6214.0, 6271.0, 6324.0, 6377.0, 6433.0, 6494.0, 6548.0, 6606.0, 6661.0, 6719.0, 6776.0, 6837.0, 6899.0, 6959.0, 7011.0, 7061.0, 7105.0, 7153.0], \"xaxis\": \"x2\", \"y\": [1.5744533148212425, 1.6514168658245136, 1.7128879892037787, 1.782775279027153, 1.8492246783239854, 1.8992476283938502, 1.9305533019633296, 1.9702285162536208, 2.0170626694307128, 2.0637254901960786, 2.1047514505253253, 2.1417690035753147, 2.1821681552202032, 2.223121563836286, 2.2552225249772935, 2.2927488365110342, 2.3222205685369848, 2.326151121605667, 2.3270440251572326, 2.3264241194375996, 2.327202184221871, 2.3300527742119526, 2.3349383939951847, 2.344405348346235, 2.3542569551237245], \"yaxis\": \"y2\"}, {\"mode\": \"lines\", \"name\": \"\\u0424\\u0443\\u043d\\u043a\\u0446\\u0438\\u044f \\u0430\\u043f\\u043f\\u0440\\u043e\\u043a\\u0441\\u0438\\u043c\\u0430\\u0446\\u0438\\u0438 (\\u041a\\u0430\\u043c\\u0431\\u0430\\u0440\\u043e\\u0432\\u0430)\", \"type\": \"scatter\", \"x\": [6114.0, 6163.0, 6214.0, 6271.0, 6324.0, 6377.0, 6433.0, 6494.0, 6548.0, 6606.0, 6661.0, 6719.0, 6776.0, 6837.0, 6899.0, 6959.0, 7011.0, 7061.0, 7105.0, 7153.0], \"xaxis\": \"x2\", \"y\": [1.9838009217748809, 2.0044590810847844, 2.0259604305706036, 2.0499913505841647, 2.0723358902458977, 2.0946804299076307, 2.1182897548332353, 2.1440070551986263, 2.1667731899483167, 2.191225705049835, 2.214413434887483, 2.238865949989002, 2.262896870002564, 2.2886141703679543, 2.3147530658213027, 2.3400487710987354, 2.3619717156725115, 2.383051470070373, 2.4016016539404905, 2.421838218162437], \"yaxis\": \"y2\"}],\n",
              "                        {\"annotations\": [{\"font\": {\"size\": 16}, \"showarrow\": false, \"text\": \"\\u0412\\u0435\\u0441\\u044c \\u043f\\u0435\\u0440\\u0438\\u043e\\u0434\", \"x\": 0.225, \"xanchor\": \"center\", \"xref\": \"paper\", \"y\": 1.0, \"yanchor\": \"bottom\", \"yref\": \"paper\"}, {\"font\": {\"size\": 16}, \"showarrow\": false, \"text\": \"\\u041f\\u0435\\u0440\\u0438\\u043e\\u0434 \\u0430\\u043f\\u043f\\u0440\\u043e\\u043a\\u0441\\u0438\\u043c\\u0430\\u0446\\u0438\\u0438\", \"x\": 0.775, \"xanchor\": \"center\", \"xref\": \"paper\", \"y\": 1.0, \"yanchor\": \"bottom\", \"yref\": \"paper\"}], \"autosize\": false, \"height\": 700, \"template\": {\"data\": {\"bar\": [{\"error_x\": {\"color\": \"#2a3f5f\"}, \"error_y\": {\"color\": \"#2a3f5f\"}, \"marker\": {\"line\": {\"color\": \"#E5ECF6\", \"width\": 0.5}}, \"type\": \"bar\"}], \"barpolar\": [{\"marker\": {\"line\": {\"color\": \"#E5ECF6\", \"width\": 0.5}}, \"type\": \"barpolar\"}], \"carpet\": [{\"aaxis\": {\"endlinecolor\": \"#2a3f5f\", \"gridcolor\": \"white\", \"linecolor\": \"white\", \"minorgridcolor\": \"white\", \"startlinecolor\": \"#2a3f5f\"}, \"baxis\": {\"endlinecolor\": \"#2a3f5f\", \"gridcolor\": \"white\", \"linecolor\": \"white\", \"minorgridcolor\": \"white\", \"startlinecolor\": \"#2a3f5f\"}, \"type\": \"carpet\"}], \"choropleth\": [{\"colorbar\": {\"outlinewidth\": 0, \"ticks\": \"\"}, \"type\": \"choropleth\"}], \"contour\": [{\"colorbar\": {\"outlinewidth\": 0, \"ticks\": \"\"}, \"colorscale\": [[0.0, \"#0d0887\"], [0.1111111111111111, \"#46039f\"], [0.2222222222222222, \"#7201a8\"], [0.3333333333333333, \"#9c179e\"], [0.4444444444444444, \"#bd3786\"], [0.5555555555555556, \"#d8576b\"], [0.6666666666666666, \"#ed7953\"], [0.7777777777777778, \"#fb9f3a\"], [0.8888888888888888, \"#fdca26\"], [1.0, \"#f0f921\"]], \"type\": \"contour\"}], \"contourcarpet\": [{\"colorbar\": {\"outlinewidth\": 0, \"ticks\": \"\"}, \"type\": \"contourcarpet\"}], \"heatmap\": [{\"colorbar\": {\"outlinewidth\": 0, \"ticks\": \"\"}, \"colorscale\": [[0.0, \"#0d0887\"], [0.1111111111111111, \"#46039f\"], [0.2222222222222222, \"#7201a8\"], [0.3333333333333333, \"#9c179e\"], [0.4444444444444444, \"#bd3786\"], [0.5555555555555556, \"#d8576b\"], [0.6666666666666666, \"#ed7953\"], [0.7777777777777778, \"#fb9f3a\"], [0.8888888888888888, \"#fdca26\"], [1.0, \"#f0f921\"]], \"type\": \"heatmap\"}], \"heatmapgl\": [{\"colorbar\": {\"outlinewidth\": 0, \"ticks\": \"\"}, \"colorscale\": [[0.0, \"#0d0887\"], [0.1111111111111111, \"#46039f\"], [0.2222222222222222, \"#7201a8\"], [0.3333333333333333, \"#9c179e\"], [0.4444444444444444, \"#bd3786\"], [0.5555555555555556, \"#d8576b\"], [0.6666666666666666, \"#ed7953\"], [0.7777777777777778, \"#fb9f3a\"], [0.8888888888888888, \"#fdca26\"], [1.0, \"#f0f921\"]], \"type\": \"heatmapgl\"}], \"histogram\": [{\"marker\": {\"colorbar\": {\"outlinewidth\": 0, \"ticks\": \"\"}}, \"type\": \"histogram\"}], \"histogram2d\": [{\"colorbar\": {\"outlinewidth\": 0, \"ticks\": \"\"}, \"colorscale\": [[0.0, \"#0d0887\"], [0.1111111111111111, \"#46039f\"], [0.2222222222222222, \"#7201a8\"], [0.3333333333333333, \"#9c179e\"], [0.4444444444444444, \"#bd3786\"], [0.5555555555555556, \"#d8576b\"], [0.6666666666666666, \"#ed7953\"], [0.7777777777777778, \"#fb9f3a\"], [0.8888888888888888, \"#fdca26\"], [1.0, \"#f0f921\"]], \"type\": \"histogram2d\"}], \"histogram2dcontour\": [{\"colorbar\": {\"outlinewidth\": 0, \"ticks\": \"\"}, \"colorscale\": [[0.0, \"#0d0887\"], [0.1111111111111111, \"#46039f\"], [0.2222222222222222, \"#7201a8\"], [0.3333333333333333, \"#9c179e\"], [0.4444444444444444, \"#bd3786\"], [0.5555555555555556, \"#d8576b\"], [0.6666666666666666, \"#ed7953\"], [0.7777777777777778, \"#fb9f3a\"], [0.8888888888888888, \"#fdca26\"], [1.0, \"#f0f921\"]], \"type\": \"histogram2dcontour\"}], \"mesh3d\": [{\"colorbar\": {\"outlinewidth\": 0, \"ticks\": \"\"}, \"type\": \"mesh3d\"}], \"parcoords\": [{\"line\": {\"colorbar\": {\"outlinewidth\": 0, \"ticks\": \"\"}}, \"type\": \"parcoords\"}], \"pie\": [{\"automargin\": true, \"type\": \"pie\"}], \"scatter\": [{\"marker\": {\"colorbar\": {\"outlinewidth\": 0, \"ticks\": \"\"}}, \"type\": \"scatter\"}], \"scatter3d\": [{\"line\": {\"colorbar\": {\"outlinewidth\": 0, \"ticks\": \"\"}}, \"marker\": {\"colorbar\": {\"outlinewidth\": 0, \"ticks\": \"\"}}, \"type\": \"scatter3d\"}], \"scattercarpet\": [{\"marker\": {\"colorbar\": {\"outlinewidth\": 0, \"ticks\": \"\"}}, \"type\": \"scattercarpet\"}], \"scattergeo\": [{\"marker\": {\"colorbar\": {\"outlinewidth\": 0, \"ticks\": \"\"}}, \"type\": \"scattergeo\"}], \"scattergl\": [{\"marker\": {\"colorbar\": {\"outlinewidth\": 0, \"ticks\": \"\"}}, \"type\": \"scattergl\"}], \"scattermapbox\": [{\"marker\": {\"colorbar\": {\"outlinewidth\": 0, \"ticks\": \"\"}}, \"type\": \"scattermapbox\"}], \"scatterpolar\": [{\"marker\": {\"colorbar\": {\"outlinewidth\": 0, \"ticks\": \"\"}}, \"type\": \"scatterpolar\"}], \"scatterpolargl\": [{\"marker\": {\"colorbar\": {\"outlinewidth\": 0, \"ticks\": \"\"}}, \"type\": \"scatterpolargl\"}], \"scatterternary\": [{\"marker\": {\"colorbar\": {\"outlinewidth\": 0, \"ticks\": \"\"}}, \"type\": \"scatterternary\"}], \"surface\": [{\"colorbar\": {\"outlinewidth\": 0, \"ticks\": \"\"}, \"colorscale\": [[0.0, \"#0d0887\"], [0.1111111111111111, \"#46039f\"], [0.2222222222222222, \"#7201a8\"], [0.3333333333333333, \"#9c179e\"], [0.4444444444444444, \"#bd3786\"], [0.5555555555555556, \"#d8576b\"], [0.6666666666666666, \"#ed7953\"], [0.7777777777777778, \"#fb9f3a\"], [0.8888888888888888, \"#fdca26\"], [1.0, \"#f0f921\"]], \"type\": \"surface\"}], \"table\": [{\"cells\": {\"fill\": {\"color\": \"#EBF0F8\"}, \"line\": {\"color\": \"white\"}}, \"header\": {\"fill\": {\"color\": \"#C8D4E3\"}, \"line\": {\"color\": \"white\"}}, \"type\": \"table\"}]}, \"layout\": {\"annotationdefaults\": {\"arrowcolor\": \"#2a3f5f\", \"arrowhead\": 0, \"arrowwidth\": 1}, \"coloraxis\": {\"colorbar\": {\"outlinewidth\": 0, \"ticks\": \"\"}}, \"colorscale\": {\"diverging\": [[0, \"#8e0152\"], [0.1, \"#c51b7d\"], [0.2, \"#de77ae\"], [0.3, \"#f1b6da\"], [0.4, \"#fde0ef\"], [0.5, \"#f7f7f7\"], [0.6, \"#e6f5d0\"], [0.7, \"#b8e186\"], [0.8, \"#7fbc41\"], [0.9, \"#4d9221\"], [1, \"#276419\"]], \"sequential\": [[0.0, \"#0d0887\"], [0.1111111111111111, \"#46039f\"], [0.2222222222222222, \"#7201a8\"], [0.3333333333333333, \"#9c179e\"], [0.4444444444444444, \"#bd3786\"], [0.5555555555555556, \"#d8576b\"], [0.6666666666666666, \"#ed7953\"], [0.7777777777777778, \"#fb9f3a\"], [0.8888888888888888, \"#fdca26\"], [1.0, \"#f0f921\"]], \"sequentialminus\": [[0.0, \"#0d0887\"], [0.1111111111111111, \"#46039f\"], [0.2222222222222222, \"#7201a8\"], [0.3333333333333333, \"#9c179e\"], [0.4444444444444444, \"#bd3786\"], [0.5555555555555556, \"#d8576b\"], [0.6666666666666666, \"#ed7953\"], [0.7777777777777778, \"#fb9f3a\"], [0.8888888888888888, \"#fdca26\"], [1.0, \"#f0f921\"]]}, \"colorway\": [\"#636efa\", \"#EF553B\", \"#00cc96\", \"#ab63fa\", \"#FFA15A\", \"#19d3f3\", \"#FF6692\", \"#B6E880\", \"#FF97FF\", \"#FECB52\"], \"font\": {\"color\": \"#2a3f5f\"}, \"geo\": {\"bgcolor\": \"white\", \"lakecolor\": \"white\", \"landcolor\": \"#E5ECF6\", \"showlakes\": true, \"showland\": true, \"subunitcolor\": \"white\"}, \"hoverlabel\": {\"align\": \"left\"}, \"hovermode\": \"closest\", \"mapbox\": {\"style\": \"light\"}, \"paper_bgcolor\": \"white\", \"plot_bgcolor\": \"#E5ECF6\", \"polar\": {\"angularaxis\": {\"gridcolor\": \"white\", \"linecolor\": \"white\", \"ticks\": \"\"}, \"bgcolor\": \"#E5ECF6\", \"radialaxis\": {\"gridcolor\": \"white\", \"linecolor\": \"white\", \"ticks\": \"\"}}, \"scene\": {\"xaxis\": {\"backgroundcolor\": \"#E5ECF6\", \"gridcolor\": \"white\", \"gridwidth\": 2, \"linecolor\": \"white\", \"showbackground\": true, \"ticks\": \"\", \"zerolinecolor\": \"white\"}, \"yaxis\": {\"backgroundcolor\": \"#E5ECF6\", \"gridcolor\": \"white\", \"gridwidth\": 2, \"linecolor\": \"white\", \"showbackground\": true, \"ticks\": \"\", \"zerolinecolor\": \"white\"}, \"zaxis\": {\"backgroundcolor\": \"#E5ECF6\", \"gridcolor\": \"white\", \"gridwidth\": 2, \"linecolor\": \"white\", \"showbackground\": true, \"ticks\": \"\", \"zerolinecolor\": \"white\"}}, \"shapedefaults\": {\"line\": {\"color\": \"#2a3f5f\"}}, \"ternary\": {\"aaxis\": {\"gridcolor\": \"white\", \"linecolor\": \"white\", \"ticks\": \"\"}, \"baxis\": {\"gridcolor\": \"white\", \"linecolor\": \"white\", \"ticks\": \"\"}, \"bgcolor\": \"#E5ECF6\", \"caxis\": {\"gridcolor\": \"white\", \"linecolor\": \"white\", \"ticks\": \"\"}}, \"title\": {\"x\": 0.05}, \"xaxis\": {\"automargin\": true, \"gridcolor\": \"white\", \"linecolor\": \"white\", \"ticks\": \"\", \"title\": {\"standoff\": 15}, \"zerolinecolor\": \"white\", \"zerolinewidth\": 2}, \"yaxis\": {\"automargin\": true, \"gridcolor\": \"white\", \"linecolor\": \"white\", \"ticks\": \"\", \"title\": {\"standoff\": 15}, \"zerolinecolor\": \"white\", \"zerolinewidth\": 2}}}, \"title\": {\"text\": \"\\u0417\\u0430\\u0432\\u0438\\u0441\\u0438\\u043c\\u043e\\u0441\\u0442\\u044c \\u043d\\u0430\\u043a\\u043e\\u043f\\u043b\\u0435\\u043d\\u043d\\u043e\\u0439 \\u0434\\u043e\\u0431\\u044b\\u0447\\u0438 \\u043d\\u0435\\u0444\\u0442\\u0438 \\u043e\\u0442 \\u043e\\u0431\\u044a\\u0435\\u043c\\u0430 \\u0436\\u0438\\u0434\\u043a\\u043e\\u0441\\u0442\\u0438\", \"x\": 0.45, \"xanchor\": \"center\", \"y\": 0.95, \"yanchor\": \"top\"}, \"width\": 1400, \"xaxis\": {\"anchor\": \"y\", \"domain\": [0.0, 0.45], \"tickangle\": -45, \"tickmode\": \"array\", \"title\": {\"text\": \"1 / \\u041d\\u0430\\u043a\\u043e\\u043f\\u043b\\u0435\\u043d\\u043d\\u044b\\u0439 \\u043e\\u0431\\u044a\\u0435\\u043c \\u043d\\u0435\\u0444\\u0442\\u0438, 10^-6\"}}, \"xaxis2\": {\"anchor\": \"y2\", \"domain\": [0.55, 1.0], \"tickangle\": -45, \"title\": {\"text\": \"1 / \\u041d\\u0430\\u043a\\u043e\\u043f\\u043b\\u0435\\u043d\\u043d\\u044b\\u0439 \\u043e\\u0431\\u044a\\u0435\\u043c \\u043d\\u0435\\u0444\\u0442\\u0438, 10^-6\"}}, \"yaxis\": {\"anchor\": \"x\", \"domain\": [0.0, 1.0], \"title\": {\"text\": \"\\u0421\\u043e\\u043e\\u0442\\u043d\\u043e\\u0448\\u0435\\u043d\\u0438\\u0435 \\u0432\\u043e\\u0434\\u0430/\\u043d\\u0435\\u0444\\u0442\\u0438, 10^6\"}}, \"yaxis2\": {\"anchor\": \"x2\", \"domain\": [0.0, 1.0]}},\n",
              "                        {\"responsive\": true}\n",
              "                    ).then(function(){\n",
              "                            \n",
              "var gd = document.getElementById('af690c37-7fc7-4e81-bacc-440879564cc5');\n",
              "var x = new MutationObserver(function (mutations, observer) {{\n",
              "        var display = window.getComputedStyle(gd).display;\n",
              "        if (!display || display === 'none') {{\n",
              "            console.log([gd, 'removed!']);\n",
              "            Plotly.purge(gd);\n",
              "            observer.disconnect();\n",
              "        }}\n",
              "}});\n",
              "\n",
              "// Listen for the removal of the full notebook cells\n",
              "var notebookContainer = gd.closest('#notebook-container');\n",
              "if (notebookContainer) {{\n",
              "    x.observe(notebookContainer, {childList: true});\n",
              "}}\n",
              "\n",
              "// Listen for the clearing of the current output cell\n",
              "var outputEl = gd.closest('.output');\n",
              "if (outputEl) {{\n",
              "    x.observe(outputEl, {childList: true});\n",
              "}}\n",
              "\n",
              "                        })\n",
              "                };\n",
              "                \n",
              "            </script>\n",
              "        </div>\n",
              "</body>\n",
              "</html>"
            ]
          },
          "metadata": {
            "tags": []
          }
        }
      ]
    },
    {
      "cell_type": "code",
      "metadata": {
        "id": "FQ2kfn_AZdzH"
      },
      "source": [
        "data = []\n",
        "\n",
        "for shift in range(shift_range[0], shift_range[1] + 1):\n",
        "  for frame in range(frame_range[0], frame_range[1] + 1):\n",
        "    if shift == 0:\n",
        "      xdata = df_graph[-frame:]['oil_total']\n",
        "      ydata = df_graph[-frame:]['water_total']\n",
        "    else:\n",
        "      xdata = df_graph[-(frame + shift):-shift]['oil_total']\n",
        "      ydata = df_graph[-(frame + shift):-shift]['water_total']      \n",
        "\n",
        "    popt, pcov = curve_fit(french_func, xdata, ydata)\n",
        "    popt\n",
        "\n",
        "    data.append([shift, frame, french_niz(*popt)])\n",
        "\n",
        "    #print(popt[0], popt[1], np.abs(kambarov_niz(popt[0], popt[1]) - niz_total))\n",
        "\n",
        "df_approx = pd.DataFrame(data, columns=['shift', 'frame', 'niz'])\n",
        "df_approx['err'] = np.abs(df_approx['niz'] - niz_total)"
      ],
      "execution_count": 23,
      "outputs": []
    },
    {
      "cell_type": "code",
      "metadata": {
        "colab": {
          "base_uri": "https://localhost:8080/",
          "height": 198
        },
        "id": "KtrAg4d6and8",
        "outputId": "8cdb960d-a7d4-43bc-8a16-1294055b49e1"
      },
      "source": [
        "df_approx.head(5)"
      ],
      "execution_count": 24,
      "outputs": [
        {
          "output_type": "execute_result",
          "data": {
            "text/html": [
              "<div>\n",
              "<style scoped>\n",
              "    .dataframe tbody tr th:only-of-type {\n",
              "        vertical-align: middle;\n",
              "    }\n",
              "\n",
              "    .dataframe tbody tr th {\n",
              "        vertical-align: top;\n",
              "    }\n",
              "\n",
              "    .dataframe thead th {\n",
              "        text-align: right;\n",
              "    }\n",
              "</style>\n",
              "<table border=\"1\" class=\"dataframe\">\n",
              "  <thead>\n",
              "    <tr style=\"text-align: right;\">\n",
              "      <th></th>\n",
              "      <th>shift</th>\n",
              "      <th>frame</th>\n",
              "      <th>niz</th>\n",
              "      <th>err</th>\n",
              "    </tr>\n",
              "  </thead>\n",
              "  <tbody>\n",
              "    <tr>\n",
              "      <th>0</th>\n",
              "      <td>0</td>\n",
              "      <td>10</td>\n",
              "      <td>286341.797723</td>\n",
              "      <td>277346.797723</td>\n",
              "    </tr>\n",
              "    <tr>\n",
              "      <th>1</th>\n",
              "      <td>0</td>\n",
              "      <td>11</td>\n",
              "      <td>197690.696842</td>\n",
              "      <td>188695.696842</td>\n",
              "    </tr>\n",
              "    <tr>\n",
              "      <th>2</th>\n",
              "      <td>0</td>\n",
              "      <td>12</td>\n",
              "      <td>150872.997381</td>\n",
              "      <td>141877.997381</td>\n",
              "    </tr>\n",
              "    <tr>\n",
              "      <th>3</th>\n",
              "      <td>0</td>\n",
              "      <td>13</td>\n",
              "      <td>120619.158981</td>\n",
              "      <td>111624.158981</td>\n",
              "    </tr>\n",
              "    <tr>\n",
              "      <th>4</th>\n",
              "      <td>0</td>\n",
              "      <td>14</td>\n",
              "      <td>101219.748334</td>\n",
              "      <td>92224.748334</td>\n",
              "    </tr>\n",
              "  </tbody>\n",
              "</table>\n",
              "</div>"
            ],
            "text/plain": [
              "   shift  frame            niz            err\n",
              "0      0     10  286341.797723  277346.797723\n",
              "1      0     11  197690.696842  188695.696842\n",
              "2      0     12  150872.997381  141877.997381\n",
              "3      0     13  120619.158981  111624.158981\n",
              "4      0     14  101219.748334   92224.748334"
            ]
          },
          "metadata": {
            "tags": []
          },
          "execution_count": 24
        }
      ]
    },
    {
      "cell_type": "code",
      "metadata": {
        "colab": {
          "base_uri": "https://localhost:8080/",
          "height": 717
        },
        "id": "eqcSeIIYZd1z",
        "outputId": "974d467b-88e4-489e-a0d8-285d5780bf40"
      },
      "source": [
        "fig = go.Figure()\n",
        "\n",
        "for shift in range(shift_range[0], shift_range[1] + 1):\n",
        "  df_shift_data = df_approx.query('shift == @shift')\n",
        "\n",
        "  fig.add_trace(go.Scatter(x=df_shift_data['frame'], y=df_shift_data['err'],\n",
        "                      mode='lines',\n",
        "                      name='График при сдвиге: {0}'.format(shift)))\n",
        "\n",
        "fig.update_layout( \n",
        "    xaxis=dict(\n",
        "        domain=[0.2, 0.9],\n",
        "        title='Размер окна',\n",
        "    ),\n",
        "    yaxis=dict(\n",
        "        title='Ошибка предсказания',\n",
        "    ),\n",
        "    title={\n",
        "        'text': \"Зависимость ошибки предсказания НИЗ от параметров аппроксимации\",\n",
        "        'y':0.95,\n",
        "        'x':0.50,\n",
        "        'xanchor': 'center',\n",
        "        'yanchor': 'top'},\n",
        "    autosize=False,\n",
        "    width=1400,\n",
        "    height=700\n",
        ")\n",
        "\n",
        "fig.show()"
      ],
      "execution_count": 25,
      "outputs": [
        {
          "output_type": "display_data",
          "data": {
            "text/html": [
              "<html>\n",
              "<head><meta charset=\"utf-8\" /></head>\n",
              "<body>\n",
              "    <div>\n",
              "            <script src=\"https://cdnjs.cloudflare.com/ajax/libs/mathjax/2.7.5/MathJax.js?config=TeX-AMS-MML_SVG\"></script><script type=\"text/javascript\">if (window.MathJax) {MathJax.Hub.Config({SVG: {font: \"STIX-Web\"}});}</script>\n",
              "                <script type=\"text/javascript\">window.PlotlyConfig = {MathJaxConfig: 'local'};</script>\n",
              "        <script src=\"https://cdn.plot.ly/plotly-latest.min.js\"></script>    \n",
              "            <div id=\"8f477dfc-7c1d-4b37-a971-6ec0140e5006\" class=\"plotly-graph-div\" style=\"height:700px; width:1400px;\"></div>\n",
              "            <script type=\"text/javascript\">\n",
              "                \n",
              "                    window.PLOTLYENV=window.PLOTLYENV || {};\n",
              "                    \n",
              "                if (document.getElementById(\"8f477dfc-7c1d-4b37-a971-6ec0140e5006\")) {\n",
              "                    Plotly.newPlot(\n",
              "                        '8f477dfc-7c1d-4b37-a971-6ec0140e5006',\n",
              "                        [{\"mode\": \"lines\", \"name\": \"\\u0413\\u0440\\u0430\\u0444\\u0438\\u043a \\u043f\\u0440\\u0438 \\u0441\\u0434\\u0432\\u0438\\u0433\\u0435: 0\", \"type\": \"scatter\", \"x\": [10, 11, 12, 13, 14, 15, 16, 17, 18, 19, 20, 21, 22, 23, 24, 25], \"y\": [277346.797722809, 188695.69684188697, 141877.99738117235, 111624.15898106986, 92224.74833404094, 79585.48496778804, 70376.35411361155, 63095.509687138445, 57360.92743428769, 53009.099104789675, 49821.89903729069, 46953.725358466465, 44131.83021014074, 41537.580106630085, 39319.55270070292, 37373.003343920296]}, {\"mode\": \"lines\", \"name\": \"\\u0413\\u0440\\u0430\\u0444\\u0438\\u043a \\u043f\\u0440\\u0438 \\u0441\\u0434\\u0432\\u0438\\u0433\\u0435: 1\", \"type\": \"scatter\", \"x\": [10, 11, 12, 13, 14, 15, 16, 17, 18, 19, 20, 21, 22, 23, 24, 25], \"y\": [190075.31245064602, 137058.24269109935, 105749.6866389866, 86660.07509037583, 74606.21035348941, 65963.88127285245, 59181.36048267473, 53877.18163117865, 49884.57493478864, 46994.154581836054, 44379.37779086952, 41781.35917561126, 39391.73718982806, 37356.27368171984, 35580.612095467564, 34127.698131523815]}, {\"mode\": \"lines\", \"name\": \"\\u0413\\u0440\\u0430\\u0444\\u0438\\u043a \\u043f\\u0440\\u0438 \\u0441\\u0434\\u0432\\u0438\\u0433\\u0435: 2\", \"type\": \"scatter\", \"x\": [10, 11, 12, 13, 14, 15, 16, 17, 18, 19, 20, 21, 22, 23, 24, 25], \"y\": [127901.67260016582, 97520.15198533935, 79710.4578497902, 68736.72143958659, 60944.84806919018, 54838.68293401951, 50081.39468677609, 46523.78968948148, 43980.53985003682, 41657.36597263089, 39314.16979731757, 37154.725694717636, 35321.802424824105, 33734.03506624182, 32453.567161998835, 31322.728938152788]}, {\"mode\": \"lines\", \"name\": \"\\u0413\\u0440\\u0430\\u0444\\u0438\\u043a \\u043f\\u0440\\u0438 \\u0441\\u0434\\u0432\\u0438\\u0433\\u0435: 3\", \"type\": \"scatter\", \"x\": [10, 11, 12, 13, 14, 15, 16, 17, 18, 19, 20, 21, 22, 23, 24, 25], \"y\": [85937.60532053305, 70780.72425539454, 61564.23356095872, 55010.761297474535, 49827.542409735885, 45781.66460399802, 42768.505068102364, 40647.00262097571, 38673.21866484061, 36632.52265743799, 34743.33317030758, 33144.85135317045, 31772.48939747976, 30687.5662590001, 29735.992960406234, 28926.15712195543]}, {\"mode\": \"lines\", \"name\": \"\\u0413\\u0440\\u0430\\u0444\\u0438\\u043a \\u043f\\u0440\\u0438 \\u0441\\u0434\\u0432\\u0438\\u0433\\u0435: 4\", \"type\": \"scatter\", \"x\": [10, 11, 12, 13, 14, 15, 16, 17, 18, 19, 20, 21, 22, 23, 24, 25], \"y\": [61184.50111744538, 53995.77817332602, 48826.47955878035, 44653.99210529357, 41376.122347489756, 38943.185414659834, 37267.13780757816, 35660.015032024254, 33934.97362728249, 32327.304451210097, 30972.071614760025, 29823.259823341425, 28941.056870928085, 28174.673748739944, 27533.968500725437, 26970.8078767065]}, {\"mode\": \"lines\", \"name\": \"\\u0413\\u0440\\u0430\\u0444\\u0438\\u043a \\u043f\\u0440\\u0438 \\u0441\\u0434\\u0432\\u0438\\u0433\\u0435: 5\", \"type\": \"scatter\", \"x\": [10, 11, 12, 13, 14, 15, 16, 17, 18, 19, 20, 21, 22, 23, 24, 25], \"y\": [46339.49740338837, 42620.20014865007, 39494.39483459089, 37006.532453091364, 35166.241546060395, 33943.66832467358, 32707.32325458915, 31299.120445899105, 29974.154071228215, 28862.86864533551, 27939.033245308667, 27261.263414327812, 26681.08301916146, 26209.824875655228, 25790.418307988126, 25370.9413371454]}, {\"mode\": \"lines\", \"name\": \"\\u0413\\u0440\\u0430\\u0444\\u0438\\u043a \\u043f\\u0440\\u0438 \\u0441\\u0434\\u0432\\u0438\\u0433\\u0435: 6\", \"type\": \"scatter\", \"x\": [10, 11, 12, 13, 14, 15, 16, 17, 18, 19, 20, 21, 22, 23, 24, 25], \"y\": [37110.541549978865, 34916.64298888077, 33133.17575635506, 31821.919359770764, 31007.02032695542, 30100.68357816621, 28970.460371498295, 27894.848826026486, 27000.063206760642, 26278.458980086092, 25786.63536484007, 25375.85959470902, 25058.73598415379, 24768.723161956324, 24456.52288028771, 24182.323514593438]}, {\"mode\": \"lines\", \"name\": \"\\u0413\\u0440\\u0430\\u0444\\u0438\\u043a \\u043f\\u0440\\u0438 \\u0441\\u0434\\u0432\\u0438\\u0433\\u0435: 7\", \"type\": \"scatter\", \"x\": [10, 11, 12, 13, 14, 15, 16, 17, 18, 19, 20, 21, 22, 23, 24, 25], \"y\": [31296.247798405806, 30060.671478498094, 29164.974562226882, 28677.765763060735, 28030.21346712998, 27110.08189050878, 26225.32490671966, 25499.576353274962, 24940.627495963796, 24602.653569917908, 24332.523546955286, 24143.825455323844, 23960.1421609228, 23734.26386977042, 23532.84192727466, 23318.07179424605]}, {\"mode\": \"lines\", \"name\": \"\\u0413\\u0440\\u0430\\u0444\\u0438\\u043a \\u043f\\u0440\\u0438 \\u0441\\u0434\\u0432\\u0438\\u0433\\u0435: 8\", \"type\": \"scatter\", \"x\": [10, 11, 12, 13, 14, 15, 16, 17, 18, 19, 20, 21, 22, 23, 24, 25], \"y\": [27969.561704216474, 27344.45784519067, 27085.381791913598, 26605.320069476293, 25806.168698045884, 25035.810966461795, 24418.31534518599, 23971.939660367556, 23747.91948544881, 23582.928843867758, 23491.234111194473, 23386.137413177083, 23221.721617478623, 23071.805854269838, 22899.111548747, 22662.799929814963]}, {\"mode\": \"lines\", \"name\": \"\\u0413\\u0440\\u0430\\u0444\\u0438\\u043a \\u043f\\u0440\\u0438 \\u0441\\u0434\\u0432\\u0438\\u0433\\u0435: 9\", \"type\": \"scatter\", \"x\": [10, 11, 12, 13, 14, 15, 16, 17, 18, 19, 20, 21, 22, 23, 24, 25], \"y\": [26524.57390056947, 26361.569808784698, 25925.65213823493, 25126.03464965047, 24369.17057929795, 23783.505092780128, 23389.1567117812, 23232.959431449257, 23132.806286752028, 23103.16391043856, 23046.298469727364, 22916.45985336832, 22795.45771771832, 22645.237200866362, 22424.430318377934, 22410.252308075167]}, {\"mode\": \"lines\", \"name\": \"\\u0413\\u0440\\u0430\\u0444\\u0438\\u043a \\u043f\\u0440\\u0438 \\u0441\\u0434\\u0432\\u0438\\u0433\\u0435: 10\", \"type\": \"scatter\", \"x\": [10, 11, 12, 13, 14, 15, 16, 17, 18, 19, 20, 21, 22, 23, 24, 25], \"y\": [25862.59051349434, 25438.606127312356, 24599.08788005251, 23827.762182705344, 23257.024995373627, 22905.007268342717, 22811.702588215754, 22771.03299129083, 22797.91313763687, 22782.779442168154, 22680.475112599765, 22582.09023116362, 22448.489749554778, 22237.540335731384, 22243.712543800222, 22641.42253064852]}, {\"mode\": \"lines\", \"name\": \"\\u0413\\u0440\\u0430\\u0444\\u0438\\u043a \\u043f\\u0440\\u0438 \\u0441\\u0434\\u0432\\u0438\\u0433\\u0435: 11\", \"type\": \"scatter\", \"x\": [10, 11, 12, 13, 14, 15, 16, 17, 18, 19, 20, 21, 22, 23, 24, 25], \"y\": [24800.933809717288, 23941.91328035608, 23180.321275219696, 22648.635839257047, 22363.639031196613, 22355.34532513878, 22390.541779982424, 22485.8479503796, 22519.211014721343, 22447.846433260856, 22374.119142822947, 22258.125679994508, 22057.18287939767, 22084.711102675206, 22523.856714940972, 23414.54118465227]}, {\"mode\": \"lines\", \"name\": \"\\u0413\\u0440\\u0430\\u0444\\u0438\\u043a \\u043f\\u0440\\u0438 \\u0441\\u0434\\u0432\\u0438\\u0433\\u0435: 12\", \"type\": \"scatter\", \"x\": [10, 11, 12, 13, 14, 15, 16, 17, 18, 19, 20, 21, 22, 23, 24, 25], \"y\": [23503.791211617914, 22702.856658993715, 22183.43484947062, 21950.903911256355, 22019.922514348553, 22121.87037706012, 22276.131535661432, 22347.631405589687, 22296.719139628494, 22238.71484839503, 22132.358386710588, 21933.988981367376, 21977.939904498326, 22456.393612963264, 23406.991173418453, 24736.54915936719]}, {\"mode\": \"lines\", \"name\": \"\\u0413\\u0440\\u0430\\u0444\\u0438\\u043a \\u043f\\u0440\\u0438 \\u0441\\u0434\\u0432\\u0438\\u0433\\u0435: 13\", \"type\": \"scatter\", \"x\": [10, 11, 12, 13, 14, 15, 16, 17, 18, 19, 20, 21, 22, 23, 24, 25], \"y\": [22039.520942824154, 21578.943398582134, 21442.957073863527, 21625.21492393304, 21818.271522401643, 22047.926126741226, 22166.309748271626, 22140.104905508288, 22100.473395969122, 22005.1754607958, 21809.826285055853, 21871.833123047934, 22393.13840440161, 23408.62289124014, 24816.911786993725, 26543.418679499133]}, {\"mode\": \"lines\", \"name\": \"\\u0413\\u0440\\u0430\\u0444\\u0438\\u043a \\u043f\\u0440\\u0438 \\u0441\\u0434\\u0432\\u0438\\u0433\\u0435: 14\", \"type\": \"scatter\", \"x\": [10, 11, 12, 13, 14, 15, 16, 17, 18, 19, 20, 21, 22, 23, 24, 25], \"y\": [21057.23080640314, 21022.660168865877, 21322.362963861593, 21603.54378498046, 21902.343340186926, 22058.94809478001, 22048.242573653682, 22019.253912428245, 21928.18062129784, 21729.506609893917, 21805.661807897017, 22368.6778587029, 23450.3607401182, 24940.29909906761, 26760.27629147353, 28831.7511019147]}, {\"mode\": \"lines\", \"name\": \"\\u0413\\u0440\\u0430\\u0444\\u0438\\u043a \\u043f\\u0440\\u0438 \\u0441\\u0434\\u0432\\u0438\\u0433\\u0435: 15\", \"type\": \"scatter\", \"x\": [10, 11, 12, 13, 14, 15, 16, 17, 18, 19, 20, 21, 22, 23, 24, 25], \"y\": [20752.03385196563, 21161.032764225976, 21516.21278423529, 21869.06442393906, 22048.34225498945, 22038.462684700313, 22008.52760358522, 21911.856138050076, 21700.972985549844, 21786.06479454198, 22389.609110059988, 23539.823994638737, 25115.986650913175, 27035.792939860272, 29220.56988477285, 31113.94701805996]}],\n",
              "                        {\"autosize\": false, \"height\": 700, \"template\": {\"data\": {\"bar\": [{\"error_x\": {\"color\": \"#2a3f5f\"}, \"error_y\": {\"color\": \"#2a3f5f\"}, \"marker\": {\"line\": {\"color\": \"#E5ECF6\", \"width\": 0.5}}, \"type\": \"bar\"}], \"barpolar\": [{\"marker\": {\"line\": {\"color\": \"#E5ECF6\", \"width\": 0.5}}, \"type\": \"barpolar\"}], \"carpet\": [{\"aaxis\": {\"endlinecolor\": \"#2a3f5f\", \"gridcolor\": \"white\", \"linecolor\": \"white\", \"minorgridcolor\": \"white\", \"startlinecolor\": \"#2a3f5f\"}, \"baxis\": {\"endlinecolor\": \"#2a3f5f\", \"gridcolor\": \"white\", \"linecolor\": \"white\", \"minorgridcolor\": \"white\", \"startlinecolor\": \"#2a3f5f\"}, \"type\": \"carpet\"}], \"choropleth\": [{\"colorbar\": {\"outlinewidth\": 0, \"ticks\": \"\"}, \"type\": \"choropleth\"}], \"contour\": [{\"colorbar\": {\"outlinewidth\": 0, \"ticks\": \"\"}, \"colorscale\": [[0.0, \"#0d0887\"], [0.1111111111111111, \"#46039f\"], [0.2222222222222222, \"#7201a8\"], [0.3333333333333333, \"#9c179e\"], [0.4444444444444444, \"#bd3786\"], [0.5555555555555556, \"#d8576b\"], [0.6666666666666666, \"#ed7953\"], [0.7777777777777778, \"#fb9f3a\"], [0.8888888888888888, \"#fdca26\"], [1.0, \"#f0f921\"]], \"type\": \"contour\"}], \"contourcarpet\": [{\"colorbar\": {\"outlinewidth\": 0, \"ticks\": \"\"}, \"type\": \"contourcarpet\"}], \"heatmap\": [{\"colorbar\": {\"outlinewidth\": 0, \"ticks\": \"\"}, \"colorscale\": [[0.0, \"#0d0887\"], [0.1111111111111111, \"#46039f\"], [0.2222222222222222, \"#7201a8\"], [0.3333333333333333, \"#9c179e\"], [0.4444444444444444, \"#bd3786\"], [0.5555555555555556, \"#d8576b\"], [0.6666666666666666, \"#ed7953\"], [0.7777777777777778, \"#fb9f3a\"], [0.8888888888888888, \"#fdca26\"], [1.0, \"#f0f921\"]], \"type\": \"heatmap\"}], \"heatmapgl\": [{\"colorbar\": {\"outlinewidth\": 0, \"ticks\": \"\"}, \"colorscale\": [[0.0, \"#0d0887\"], [0.1111111111111111, \"#46039f\"], [0.2222222222222222, \"#7201a8\"], [0.3333333333333333, \"#9c179e\"], [0.4444444444444444, \"#bd3786\"], [0.5555555555555556, \"#d8576b\"], [0.6666666666666666, \"#ed7953\"], [0.7777777777777778, \"#fb9f3a\"], [0.8888888888888888, \"#fdca26\"], [1.0, \"#f0f921\"]], \"type\": \"heatmapgl\"}], \"histogram\": [{\"marker\": {\"colorbar\": {\"outlinewidth\": 0, \"ticks\": \"\"}}, \"type\": \"histogram\"}], \"histogram2d\": [{\"colorbar\": {\"outlinewidth\": 0, \"ticks\": \"\"}, \"colorscale\": [[0.0, \"#0d0887\"], [0.1111111111111111, \"#46039f\"], [0.2222222222222222, \"#7201a8\"], [0.3333333333333333, \"#9c179e\"], [0.4444444444444444, \"#bd3786\"], [0.5555555555555556, \"#d8576b\"], [0.6666666666666666, \"#ed7953\"], [0.7777777777777778, \"#fb9f3a\"], [0.8888888888888888, \"#fdca26\"], [1.0, \"#f0f921\"]], \"type\": \"histogram2d\"}], \"histogram2dcontour\": [{\"colorbar\": {\"outlinewidth\": 0, \"ticks\": \"\"}, \"colorscale\": [[0.0, \"#0d0887\"], [0.1111111111111111, \"#46039f\"], [0.2222222222222222, \"#7201a8\"], [0.3333333333333333, \"#9c179e\"], [0.4444444444444444, \"#bd3786\"], [0.5555555555555556, \"#d8576b\"], [0.6666666666666666, \"#ed7953\"], [0.7777777777777778, \"#fb9f3a\"], [0.8888888888888888, \"#fdca26\"], [1.0, \"#f0f921\"]], \"type\": \"histogram2dcontour\"}], \"mesh3d\": [{\"colorbar\": {\"outlinewidth\": 0, \"ticks\": \"\"}, \"type\": \"mesh3d\"}], \"parcoords\": [{\"line\": {\"colorbar\": {\"outlinewidth\": 0, \"ticks\": \"\"}}, \"type\": \"parcoords\"}], \"pie\": [{\"automargin\": true, \"type\": \"pie\"}], \"scatter\": [{\"marker\": {\"colorbar\": {\"outlinewidth\": 0, \"ticks\": \"\"}}, \"type\": \"scatter\"}], \"scatter3d\": [{\"line\": {\"colorbar\": {\"outlinewidth\": 0, \"ticks\": \"\"}}, \"marker\": {\"colorbar\": {\"outlinewidth\": 0, \"ticks\": \"\"}}, \"type\": \"scatter3d\"}], \"scattercarpet\": [{\"marker\": {\"colorbar\": {\"outlinewidth\": 0, \"ticks\": \"\"}}, \"type\": \"scattercarpet\"}], \"scattergeo\": [{\"marker\": {\"colorbar\": {\"outlinewidth\": 0, \"ticks\": \"\"}}, \"type\": \"scattergeo\"}], \"scattergl\": [{\"marker\": {\"colorbar\": {\"outlinewidth\": 0, \"ticks\": \"\"}}, \"type\": \"scattergl\"}], \"scattermapbox\": [{\"marker\": {\"colorbar\": {\"outlinewidth\": 0, \"ticks\": \"\"}}, \"type\": \"scattermapbox\"}], \"scatterpolar\": [{\"marker\": {\"colorbar\": {\"outlinewidth\": 0, \"ticks\": \"\"}}, \"type\": \"scatterpolar\"}], \"scatterpolargl\": [{\"marker\": {\"colorbar\": {\"outlinewidth\": 0, \"ticks\": \"\"}}, \"type\": \"scatterpolargl\"}], \"scatterternary\": [{\"marker\": {\"colorbar\": {\"outlinewidth\": 0, \"ticks\": \"\"}}, \"type\": \"scatterternary\"}], \"surface\": [{\"colorbar\": {\"outlinewidth\": 0, \"ticks\": \"\"}, \"colorscale\": [[0.0, \"#0d0887\"], [0.1111111111111111, \"#46039f\"], [0.2222222222222222, \"#7201a8\"], [0.3333333333333333, \"#9c179e\"], [0.4444444444444444, \"#bd3786\"], [0.5555555555555556, \"#d8576b\"], [0.6666666666666666, \"#ed7953\"], [0.7777777777777778, \"#fb9f3a\"], [0.8888888888888888, \"#fdca26\"], [1.0, \"#f0f921\"]], \"type\": \"surface\"}], \"table\": [{\"cells\": {\"fill\": {\"color\": \"#EBF0F8\"}, \"line\": {\"color\": \"white\"}}, \"header\": {\"fill\": {\"color\": \"#C8D4E3\"}, \"line\": {\"color\": \"white\"}}, \"type\": \"table\"}]}, \"layout\": {\"annotationdefaults\": {\"arrowcolor\": \"#2a3f5f\", \"arrowhead\": 0, \"arrowwidth\": 1}, \"coloraxis\": {\"colorbar\": {\"outlinewidth\": 0, \"ticks\": \"\"}}, \"colorscale\": {\"diverging\": [[0, \"#8e0152\"], [0.1, \"#c51b7d\"], [0.2, \"#de77ae\"], [0.3, \"#f1b6da\"], [0.4, \"#fde0ef\"], [0.5, \"#f7f7f7\"], [0.6, \"#e6f5d0\"], [0.7, \"#b8e186\"], [0.8, \"#7fbc41\"], [0.9, \"#4d9221\"], [1, \"#276419\"]], \"sequential\": [[0.0, \"#0d0887\"], [0.1111111111111111, \"#46039f\"], [0.2222222222222222, \"#7201a8\"], [0.3333333333333333, \"#9c179e\"], [0.4444444444444444, \"#bd3786\"], [0.5555555555555556, \"#d8576b\"], [0.6666666666666666, \"#ed7953\"], [0.7777777777777778, \"#fb9f3a\"], [0.8888888888888888, \"#fdca26\"], [1.0, \"#f0f921\"]], \"sequentialminus\": [[0.0, \"#0d0887\"], [0.1111111111111111, \"#46039f\"], [0.2222222222222222, \"#7201a8\"], [0.3333333333333333, \"#9c179e\"], [0.4444444444444444, \"#bd3786\"], [0.5555555555555556, \"#d8576b\"], [0.6666666666666666, \"#ed7953\"], [0.7777777777777778, \"#fb9f3a\"], [0.8888888888888888, \"#fdca26\"], [1.0, \"#f0f921\"]]}, \"colorway\": [\"#636efa\", \"#EF553B\", \"#00cc96\", \"#ab63fa\", \"#FFA15A\", \"#19d3f3\", \"#FF6692\", \"#B6E880\", \"#FF97FF\", \"#FECB52\"], \"font\": {\"color\": \"#2a3f5f\"}, \"geo\": {\"bgcolor\": \"white\", \"lakecolor\": \"white\", \"landcolor\": \"#E5ECF6\", \"showlakes\": true, \"showland\": true, \"subunitcolor\": \"white\"}, \"hoverlabel\": {\"align\": \"left\"}, \"hovermode\": \"closest\", \"mapbox\": {\"style\": \"light\"}, \"paper_bgcolor\": \"white\", \"plot_bgcolor\": \"#E5ECF6\", \"polar\": {\"angularaxis\": {\"gridcolor\": \"white\", \"linecolor\": \"white\", \"ticks\": \"\"}, \"bgcolor\": \"#E5ECF6\", \"radialaxis\": {\"gridcolor\": \"white\", \"linecolor\": \"white\", \"ticks\": \"\"}}, \"scene\": {\"xaxis\": {\"backgroundcolor\": \"#E5ECF6\", \"gridcolor\": \"white\", \"gridwidth\": 2, \"linecolor\": \"white\", \"showbackground\": true, \"ticks\": \"\", \"zerolinecolor\": \"white\"}, \"yaxis\": {\"backgroundcolor\": \"#E5ECF6\", \"gridcolor\": \"white\", \"gridwidth\": 2, \"linecolor\": \"white\", \"showbackground\": true, \"ticks\": \"\", \"zerolinecolor\": \"white\"}, \"zaxis\": {\"backgroundcolor\": \"#E5ECF6\", \"gridcolor\": \"white\", \"gridwidth\": 2, \"linecolor\": \"white\", \"showbackground\": true, \"ticks\": \"\", \"zerolinecolor\": \"white\"}}, \"shapedefaults\": {\"line\": {\"color\": \"#2a3f5f\"}}, \"ternary\": {\"aaxis\": {\"gridcolor\": \"white\", \"linecolor\": \"white\", \"ticks\": \"\"}, \"baxis\": {\"gridcolor\": \"white\", \"linecolor\": \"white\", \"ticks\": \"\"}, \"bgcolor\": \"#E5ECF6\", \"caxis\": {\"gridcolor\": \"white\", \"linecolor\": \"white\", \"ticks\": \"\"}}, \"title\": {\"x\": 0.05}, \"xaxis\": {\"automargin\": true, \"gridcolor\": \"white\", \"linecolor\": \"white\", \"ticks\": \"\", \"title\": {\"standoff\": 15}, \"zerolinecolor\": \"white\", \"zerolinewidth\": 2}, \"yaxis\": {\"automargin\": true, \"gridcolor\": \"white\", \"linecolor\": \"white\", \"ticks\": \"\", \"title\": {\"standoff\": 15}, \"zerolinecolor\": \"white\", \"zerolinewidth\": 2}}}, \"title\": {\"text\": \"\\u0417\\u0430\\u0432\\u0438\\u0441\\u0438\\u043c\\u043e\\u0441\\u0442\\u044c \\u043e\\u0448\\u0438\\u0431\\u043a\\u0438 \\u043f\\u0440\\u0435\\u0434\\u0441\\u043a\\u0430\\u0437\\u0430\\u043d\\u0438\\u044f \\u041d\\u0418\\u0417 \\u043e\\u0442 \\u043f\\u0430\\u0440\\u0430\\u043c\\u0435\\u0442\\u0440\\u043e\\u0432 \\u0430\\u043f\\u043f\\u0440\\u043e\\u043a\\u0441\\u0438\\u043c\\u0430\\u0446\\u0438\\u0438\", \"x\": 0.5, \"xanchor\": \"center\", \"y\": 0.95, \"yanchor\": \"top\"}, \"width\": 1400, \"xaxis\": {\"domain\": [0.2, 0.9], \"title\": {\"text\": \"\\u0420\\u0430\\u0437\\u043c\\u0435\\u0440 \\u043e\\u043a\\u043d\\u0430\"}}, \"yaxis\": {\"title\": {\"text\": \"\\u041e\\u0448\\u0438\\u0431\\u043a\\u0430 \\u043f\\u0440\\u0435\\u0434\\u0441\\u043a\\u0430\\u0437\\u0430\\u043d\\u0438\\u044f\"}}},\n",
              "                        {\"responsive\": true}\n",
              "                    ).then(function(){\n",
              "                            \n",
              "var gd = document.getElementById('8f477dfc-7c1d-4b37-a971-6ec0140e5006');\n",
              "var x = new MutationObserver(function (mutations, observer) {{\n",
              "        var display = window.getComputedStyle(gd).display;\n",
              "        if (!display || display === 'none') {{\n",
              "            console.log([gd, 'removed!']);\n",
              "            Plotly.purge(gd);\n",
              "            observer.disconnect();\n",
              "        }}\n",
              "}});\n",
              "\n",
              "// Listen for the removal of the full notebook cells\n",
              "var notebookContainer = gd.closest('#notebook-container');\n",
              "if (notebookContainer) {{\n",
              "    x.observe(notebookContainer, {childList: true});\n",
              "}}\n",
              "\n",
              "// Listen for the clearing of the current output cell\n",
              "var outputEl = gd.closest('.output');\n",
              "if (outputEl) {{\n",
              "    x.observe(outputEl, {childList: true});\n",
              "}}\n",
              "\n",
              "                        })\n",
              "                };\n",
              "                \n",
              "            </script>\n",
              "        </div>\n",
              "</body>\n",
              "</html>"
            ]
          },
          "metadata": {
            "tags": []
          }
        }
      ]
    },
    {
      "cell_type": "code",
      "metadata": {
        "id": "rNLVBEm8Zd4p"
      },
      "source": [
        ""
      ],
      "execution_count": 25,
      "outputs": []
    },
    {
      "cell_type": "code",
      "metadata": {
        "colab": {
          "base_uri": "https://localhost:8080/"
        },
        "id": "VgdX0OqBZd9h",
        "outputId": "12b55fe4-6625-42f5-9786-1289dcff50cf"
      },
      "source": [
        "xdata = df_graph[-25:]['oil_total']\n",
        "ydata = df_graph[-25:]['water_total']\n",
        "\n",
        "popt, pcov = curve_fit(naz_sip_func, xdata, ydata, p0 = [2, 0])\n",
        "popt\n",
        "\n",
        "print(popt)\n",
        "print(xdata[-1:])\n",
        "print(naz_sip_niz(np.float(ydata[-1:] - xdata[-1:]), *popt))\n",
        "\n",
        "ydata_fit = naz_sip_func(xdata, *popt)\n",
        "ydata_fit"
      ],
      "execution_count": 109,
      "outputs": [
        {
          "output_type": "stream",
          "text": [
            "[1.82438511e+00 9.32447872e-05]\n",
            "44    7153.0\n",
            "Name: oil_total, dtype: float64\n",
            "7032.4095138507655\n"
          ],
          "name": "stdout"
        },
        {
          "output_type": "execute_result",
          "data": {
            "text/plain": [
              "20    16027.540090\n",
              "21    16500.453903\n",
              "22    16854.798547\n",
              "23    17243.809732\n",
              "24    17556.931328\n",
              "25    17838.295174\n",
              "26    18108.212077\n",
              "27    18394.243790\n",
              "28    18720.296555\n",
              "29    19029.722067\n",
              "30    19345.399759\n",
              "31    19685.995474\n",
              "32    20065.575225\n",
              "33    20409.362182\n",
              "34    20787.079240\n",
              "35    21153.690284\n",
              "36    21549.568816\n",
              "37    21948.292994\n",
              "38    22386.098423\n",
              "39    22843.395026\n",
              "40    23298.334496\n",
              "41    23702.938749\n",
              "42    24101.421102\n",
              "43    24460.049872\n",
              "44    24860.122819\n",
              "Name: oil_total, dtype: float64"
            ]
          },
          "metadata": {
            "tags": []
          },
          "execution_count": 109
        }
      ]
    },
    {
      "cell_type": "code",
      "metadata": {
        "colab": {
          "base_uri": "https://localhost:8080/",
          "height": 717
        },
        "id": "9qY2tC5sFBv7",
        "outputId": "ad10f947-4142-49cf-969e-af05d0055e13"
      },
      "source": [
        "fig = make_subplots(\n",
        "    subplot_titles=[\n",
        "                    'Весь период',\n",
        "                    'Период аппроксимации'],\n",
        "    rows=1, \n",
        "    cols=2)\n",
        "\n",
        "fig.add_trace(go.Scatter(x=df_graph['oil_total'], y=df_graph['water_total'],\n",
        "                    mode='lines+markers',\n",
        "                    name='Накопленный объем нефти, 10^6'),\n",
        "    row=1, col=1)\n",
        "\n",
        "fig.add_trace(go.Scatter(x=df_graph[-35:]['oil_total'], y=df_graph[-35:]['water_total'],\n",
        "                    mode='lines+markers',\n",
        "                    name='Период аппроксимации'),\n",
        "    row=1, col=1)\n",
        "\n",
        "#####\n",
        "\n",
        "fig.add_trace(go.Scatter(x=df_graph[-35:]['oil_total'], y=df_graph[-35:]['water_total'],\n",
        "                    mode='lines+markers',\n",
        "                    name='Годовой отбор жидкости, 10^6'),\n",
        "    row=1, col=2)\n",
        "\n",
        "fig.add_trace(go.Scatter(x=df_graph[-25:]['oil_total'], y=df_graph[-25:]['water_total'],\n",
        "                    mode='lines+markers',\n",
        "                    name='Участок аппроксимации'),\n",
        "    row=1, col=2)\n",
        "\n",
        "fig.add_trace(go.Scatter(x=df_graph[-25:]['oil_total'], y=naz_sip_func(xdata, *popt),\n",
        "                    mode='lines',\n",
        "                    name='Функция аппроксимации (Назаров-Сипачев)'),\n",
        "    row=1, col=2)\n",
        "\n",
        "\n",
        "fig['layout']['xaxis1']['title']='Накопленный объем нефти, 10^-6'\n",
        "fig['layout']['xaxis1']['tickangle']=-45\n",
        "fig['layout']['xaxis1']['tickmode']='array'\n",
        "fig['layout']['yaxis1']['title']='Накопленный объем жидкости, 10^6'\n",
        "\n",
        "fig['layout']['xaxis2']['title']='Накопленный объем нефти, 10^-6'\n",
        "fig['layout']['xaxis2']['tickangle']=-45\n",
        "\n",
        "\n",
        "\n",
        "fig.update_layout( \n",
        "    title={\n",
        "        'text': 'Зависимость накопленного объема жидкости от добычи нефти',\n",
        "        'y':0.95,\n",
        "        'x':0.45,\n",
        "        'xanchor': 'center',\n",
        "        'yanchor': 'top'},\n",
        "    autosize=False,\n",
        "    width=1400,\n",
        "    height=700)\n",
        "\n",
        "\n",
        "fig.show()"
      ],
      "execution_count": 110,
      "outputs": [
        {
          "output_type": "display_data",
          "data": {
            "text/html": [
              "<html>\n",
              "<head><meta charset=\"utf-8\" /></head>\n",
              "<body>\n",
              "    <div>\n",
              "            <script src=\"https://cdnjs.cloudflare.com/ajax/libs/mathjax/2.7.5/MathJax.js?config=TeX-AMS-MML_SVG\"></script><script type=\"text/javascript\">if (window.MathJax) {MathJax.Hub.Config({SVG: {font: \"STIX-Web\"}});}</script>\n",
              "                <script type=\"text/javascript\">window.PlotlyConfig = {MathJaxConfig: 'local'};</script>\n",
              "        <script src=\"https://cdn.plot.ly/plotly-latest.min.js\"></script>    \n",
              "            <div id=\"aa285434-67e0-4797-99e3-cc8ba2d7e5e8\" class=\"plotly-graph-div\" style=\"height:700px; width:1400px;\"></div>\n",
              "            <script type=\"text/javascript\">\n",
              "                \n",
              "                    window.PLOTLYENV=window.PLOTLYENV || {};\n",
              "                    \n",
              "                if (document.getElementById(\"aa285434-67e0-4797-99e3-cc8ba2d7e5e8\")) {\n",
              "                    Plotly.newPlot(\n",
              "                        'aa285434-67e0-4797-99e3-cc8ba2d7e5e8',\n",
              "                        [{\"mode\": \"lines+markers\", \"name\": \"\\u041d\\u0430\\u043a\\u043e\\u043f\\u043b\\u0435\\u043d\\u043d\\u044b\\u0439 \\u043e\\u0431\\u044a\\u0435\\u043c \\u043d\\u0435\\u0444\\u0442\\u0438, 10^6\", \"type\": \"scatter\", \"x\": [90.0, 181.0, 359.0, 754.0, 1175.0, 1881.0, 2655.0, 3247.0, 3666.0, 4018.0, 4343.0, 4637.0, 4822.0, 4948.0, 5068.0, 5185.0, 5297.0, 5410.0, 5543.0, 5660.0, 5762.0, 5858.0, 5928.0, 6003.0, 6062.0, 6114.0, 6163.0, 6214.0, 6271.0, 6324.0, 6377.0, 6433.0, 6494.0, 6548.0, 6606.0, 6661.0, 6719.0, 6776.0, 6837.0, 6899.0, 6959.0, 7011.0, 7061.0, 7105.0, 7153.0], \"xaxis\": \"x\", \"y\": [92.0, 190.0, 378.0, 796.0, 1324.0, 2178.0, 3263.0, 4172.0, 4924.0, 5677.0, 6548.0, 7617.0, 8476.0, 9344.0, 10137.0, 10896.0, 11686.0, 12457.0, 13339.0, 14154.0, 14834.0, 15532.0, 16082.0, 16705.0, 17272.0, 17726.0, 18061.0, 18457.0, 18920.0, 19375.0, 19799.0, 20211.0, 20665.0, 21105.0, 21504.0, 21933.0, 22322.0, 22538.0, 22747.0, 22949.0, 23154.0, 23347.0, 23548.0, 23762.0, 23993.0], \"yaxis\": \"y\"}, {\"mode\": \"lines+markers\", \"name\": \"\\u041f\\u0435\\u0440\\u0438\\u043e\\u0434 \\u0430\\u043f\\u043f\\u0440\\u043e\\u043a\\u0441\\u0438\\u043c\\u0430\\u0446\\u0438\\u0438\", \"type\": \"scatter\", \"x\": [4343.0, 4637.0, 4822.0, 4948.0, 5068.0, 5185.0, 5297.0, 5410.0, 5543.0, 5660.0, 5762.0, 5858.0, 5928.0, 6003.0, 6062.0, 6114.0, 6163.0, 6214.0, 6271.0, 6324.0, 6377.0, 6433.0, 6494.0, 6548.0, 6606.0, 6661.0, 6719.0, 6776.0, 6837.0, 6899.0, 6959.0, 7011.0, 7061.0, 7105.0, 7153.0], \"xaxis\": \"x\", \"y\": [6548.0, 7617.0, 8476.0, 9344.0, 10137.0, 10896.0, 11686.0, 12457.0, 13339.0, 14154.0, 14834.0, 15532.0, 16082.0, 16705.0, 17272.0, 17726.0, 18061.0, 18457.0, 18920.0, 19375.0, 19799.0, 20211.0, 20665.0, 21105.0, 21504.0, 21933.0, 22322.0, 22538.0, 22747.0, 22949.0, 23154.0, 23347.0, 23548.0, 23762.0, 23993.0], \"yaxis\": \"y\"}, {\"mode\": \"lines+markers\", \"name\": \"\\u0413\\u043e\\u0434\\u043e\\u0432\\u043e\\u0439 \\u043e\\u0442\\u0431\\u043e\\u0440 \\u0436\\u0438\\u0434\\u043a\\u043e\\u0441\\u0442\\u0438, 10^6\", \"type\": \"scatter\", \"x\": [4343.0, 4637.0, 4822.0, 4948.0, 5068.0, 5185.0, 5297.0, 5410.0, 5543.0, 5660.0, 5762.0, 5858.0, 5928.0, 6003.0, 6062.0, 6114.0, 6163.0, 6214.0, 6271.0, 6324.0, 6377.0, 6433.0, 6494.0, 6548.0, 6606.0, 6661.0, 6719.0, 6776.0, 6837.0, 6899.0, 6959.0, 7011.0, 7061.0, 7105.0, 7153.0], \"xaxis\": \"x2\", \"y\": [6548.0, 7617.0, 8476.0, 9344.0, 10137.0, 10896.0, 11686.0, 12457.0, 13339.0, 14154.0, 14834.0, 15532.0, 16082.0, 16705.0, 17272.0, 17726.0, 18061.0, 18457.0, 18920.0, 19375.0, 19799.0, 20211.0, 20665.0, 21105.0, 21504.0, 21933.0, 22322.0, 22538.0, 22747.0, 22949.0, 23154.0, 23347.0, 23548.0, 23762.0, 23993.0], \"yaxis\": \"y2\"}, {\"mode\": \"lines+markers\", \"name\": \"\\u0423\\u0447\\u0430\\u0441\\u0442\\u043e\\u043a \\u0430\\u043f\\u043f\\u0440\\u043e\\u043a\\u0441\\u0438\\u043c\\u0430\\u0446\\u0438\\u0438\", \"type\": \"scatter\", \"x\": [5762.0, 5858.0, 5928.0, 6003.0, 6062.0, 6114.0, 6163.0, 6214.0, 6271.0, 6324.0, 6377.0, 6433.0, 6494.0, 6548.0, 6606.0, 6661.0, 6719.0, 6776.0, 6837.0, 6899.0, 6959.0, 7011.0, 7061.0, 7105.0, 7153.0], \"xaxis\": \"x2\", \"y\": [14834.0, 15532.0, 16082.0, 16705.0, 17272.0, 17726.0, 18061.0, 18457.0, 18920.0, 19375.0, 19799.0, 20211.0, 20665.0, 21105.0, 21504.0, 21933.0, 22322.0, 22538.0, 22747.0, 22949.0, 23154.0, 23347.0, 23548.0, 23762.0, 23993.0], \"yaxis\": \"y2\"}, {\"mode\": \"lines\", \"name\": \"\\u0424\\u0443\\u043d\\u043a\\u0446\\u0438\\u044f \\u0430\\u043f\\u043f\\u0440\\u043e\\u043a\\u0441\\u0438\\u043c\\u0430\\u0446\\u0438\\u0438 (\\u041d\\u0430\\u0437\\u0430\\u0440\\u043e\\u0432-\\u0421\\u0438\\u043f\\u0430\\u0447\\u0435\\u0432)\", \"type\": \"scatter\", \"x\": [5762.0, 5858.0, 5928.0, 6003.0, 6062.0, 6114.0, 6163.0, 6214.0, 6271.0, 6324.0, 6377.0, 6433.0, 6494.0, 6548.0, 6606.0, 6661.0, 6719.0, 6776.0, 6837.0, 6899.0, 6959.0, 7011.0, 7061.0, 7105.0, 7153.0], \"xaxis\": \"x2\", \"y\": [16027.540090414424, 16500.453902934594, 16854.798546712667, 17243.809732017715, 17556.931328045142, 17838.29517404022, 18108.212077190416, 18394.243789797478, 18720.29655470069, 19029.722066609367, 19345.39975878027, 19685.995474452364, 20065.57522465664, 20409.3621816939, 20787.079240206585, 21153.690284392247, 21549.56881640673, 21948.292993740735, 22386.098422628325, 22843.39502629395, 23298.334495678453, 23702.9387486184, 24101.421102112177, 24460.049871573996, 24860.1228188487], \"yaxis\": \"y2\"}],\n",
              "                        {\"annotations\": [{\"font\": {\"size\": 16}, \"showarrow\": false, \"text\": \"\\u0412\\u0435\\u0441\\u044c \\u043f\\u0435\\u0440\\u0438\\u043e\\u0434\", \"x\": 0.225, \"xanchor\": \"center\", \"xref\": \"paper\", \"y\": 1.0, \"yanchor\": \"bottom\", \"yref\": \"paper\"}, {\"font\": {\"size\": 16}, \"showarrow\": false, \"text\": \"\\u041f\\u0435\\u0440\\u0438\\u043e\\u0434 \\u0430\\u043f\\u043f\\u0440\\u043e\\u043a\\u0441\\u0438\\u043c\\u0430\\u0446\\u0438\\u0438\", \"x\": 0.775, \"xanchor\": \"center\", \"xref\": \"paper\", \"y\": 1.0, \"yanchor\": \"bottom\", \"yref\": \"paper\"}], \"autosize\": false, \"height\": 700, \"template\": {\"data\": {\"bar\": [{\"error_x\": {\"color\": \"#2a3f5f\"}, \"error_y\": {\"color\": \"#2a3f5f\"}, \"marker\": {\"line\": {\"color\": \"#E5ECF6\", \"width\": 0.5}}, \"type\": \"bar\"}], \"barpolar\": [{\"marker\": {\"line\": {\"color\": \"#E5ECF6\", \"width\": 0.5}}, \"type\": \"barpolar\"}], \"carpet\": [{\"aaxis\": {\"endlinecolor\": \"#2a3f5f\", \"gridcolor\": \"white\", \"linecolor\": \"white\", \"minorgridcolor\": \"white\", \"startlinecolor\": \"#2a3f5f\"}, \"baxis\": {\"endlinecolor\": \"#2a3f5f\", \"gridcolor\": \"white\", \"linecolor\": \"white\", \"minorgridcolor\": \"white\", \"startlinecolor\": \"#2a3f5f\"}, \"type\": \"carpet\"}], \"choropleth\": [{\"colorbar\": {\"outlinewidth\": 0, \"ticks\": \"\"}, \"type\": \"choropleth\"}], \"contour\": [{\"colorbar\": {\"outlinewidth\": 0, \"ticks\": \"\"}, \"colorscale\": [[0.0, \"#0d0887\"], [0.1111111111111111, \"#46039f\"], [0.2222222222222222, \"#7201a8\"], [0.3333333333333333, \"#9c179e\"], [0.4444444444444444, \"#bd3786\"], [0.5555555555555556, \"#d8576b\"], [0.6666666666666666, \"#ed7953\"], [0.7777777777777778, \"#fb9f3a\"], [0.8888888888888888, \"#fdca26\"], [1.0, \"#f0f921\"]], \"type\": \"contour\"}], \"contourcarpet\": [{\"colorbar\": {\"outlinewidth\": 0, \"ticks\": \"\"}, \"type\": \"contourcarpet\"}], \"heatmap\": [{\"colorbar\": {\"outlinewidth\": 0, \"ticks\": \"\"}, \"colorscale\": [[0.0, \"#0d0887\"], [0.1111111111111111, \"#46039f\"], [0.2222222222222222, \"#7201a8\"], [0.3333333333333333, \"#9c179e\"], [0.4444444444444444, \"#bd3786\"], [0.5555555555555556, \"#d8576b\"], [0.6666666666666666, \"#ed7953\"], [0.7777777777777778, \"#fb9f3a\"], [0.8888888888888888, \"#fdca26\"], [1.0, \"#f0f921\"]], \"type\": \"heatmap\"}], \"heatmapgl\": [{\"colorbar\": {\"outlinewidth\": 0, \"ticks\": \"\"}, \"colorscale\": [[0.0, \"#0d0887\"], [0.1111111111111111, \"#46039f\"], [0.2222222222222222, \"#7201a8\"], [0.3333333333333333, \"#9c179e\"], [0.4444444444444444, \"#bd3786\"], [0.5555555555555556, \"#d8576b\"], [0.6666666666666666, \"#ed7953\"], [0.7777777777777778, \"#fb9f3a\"], [0.8888888888888888, \"#fdca26\"], [1.0, \"#f0f921\"]], \"type\": \"heatmapgl\"}], \"histogram\": [{\"marker\": {\"colorbar\": {\"outlinewidth\": 0, \"ticks\": \"\"}}, \"type\": \"histogram\"}], \"histogram2d\": [{\"colorbar\": {\"outlinewidth\": 0, \"ticks\": \"\"}, \"colorscale\": [[0.0, \"#0d0887\"], [0.1111111111111111, \"#46039f\"], [0.2222222222222222, \"#7201a8\"], [0.3333333333333333, \"#9c179e\"], [0.4444444444444444, \"#bd3786\"], [0.5555555555555556, \"#d8576b\"], [0.6666666666666666, \"#ed7953\"], [0.7777777777777778, \"#fb9f3a\"], [0.8888888888888888, \"#fdca26\"], [1.0, \"#f0f921\"]], \"type\": \"histogram2d\"}], \"histogram2dcontour\": [{\"colorbar\": {\"outlinewidth\": 0, \"ticks\": \"\"}, \"colorscale\": [[0.0, \"#0d0887\"], [0.1111111111111111, \"#46039f\"], [0.2222222222222222, \"#7201a8\"], [0.3333333333333333, \"#9c179e\"], [0.4444444444444444, \"#bd3786\"], [0.5555555555555556, \"#d8576b\"], [0.6666666666666666, \"#ed7953\"], [0.7777777777777778, \"#fb9f3a\"], [0.8888888888888888, \"#fdca26\"], [1.0, \"#f0f921\"]], \"type\": \"histogram2dcontour\"}], \"mesh3d\": [{\"colorbar\": {\"outlinewidth\": 0, \"ticks\": \"\"}, \"type\": \"mesh3d\"}], \"parcoords\": [{\"line\": {\"colorbar\": {\"outlinewidth\": 0, \"ticks\": \"\"}}, \"type\": \"parcoords\"}], \"pie\": [{\"automargin\": true, \"type\": \"pie\"}], \"scatter\": [{\"marker\": {\"colorbar\": {\"outlinewidth\": 0, \"ticks\": \"\"}}, \"type\": \"scatter\"}], \"scatter3d\": [{\"line\": {\"colorbar\": {\"outlinewidth\": 0, \"ticks\": \"\"}}, \"marker\": {\"colorbar\": {\"outlinewidth\": 0, \"ticks\": \"\"}}, \"type\": \"scatter3d\"}], \"scattercarpet\": [{\"marker\": {\"colorbar\": {\"outlinewidth\": 0, \"ticks\": \"\"}}, \"type\": \"scattercarpet\"}], \"scattergeo\": [{\"marker\": {\"colorbar\": {\"outlinewidth\": 0, \"ticks\": \"\"}}, \"type\": \"scattergeo\"}], \"scattergl\": [{\"marker\": {\"colorbar\": {\"outlinewidth\": 0, \"ticks\": \"\"}}, \"type\": \"scattergl\"}], \"scattermapbox\": [{\"marker\": {\"colorbar\": {\"outlinewidth\": 0, \"ticks\": \"\"}}, \"type\": \"scattermapbox\"}], \"scatterpolar\": [{\"marker\": {\"colorbar\": {\"outlinewidth\": 0, \"ticks\": \"\"}}, \"type\": \"scatterpolar\"}], \"scatterpolargl\": [{\"marker\": {\"colorbar\": {\"outlinewidth\": 0, \"ticks\": \"\"}}, \"type\": \"scatterpolargl\"}], \"scatterternary\": [{\"marker\": {\"colorbar\": {\"outlinewidth\": 0, \"ticks\": \"\"}}, \"type\": \"scatterternary\"}], \"surface\": [{\"colorbar\": {\"outlinewidth\": 0, \"ticks\": \"\"}, \"colorscale\": [[0.0, \"#0d0887\"], [0.1111111111111111, \"#46039f\"], [0.2222222222222222, \"#7201a8\"], [0.3333333333333333, \"#9c179e\"], [0.4444444444444444, \"#bd3786\"], [0.5555555555555556, \"#d8576b\"], [0.6666666666666666, \"#ed7953\"], [0.7777777777777778, \"#fb9f3a\"], [0.8888888888888888, \"#fdca26\"], [1.0, \"#f0f921\"]], \"type\": \"surface\"}], \"table\": [{\"cells\": {\"fill\": {\"color\": \"#EBF0F8\"}, \"line\": {\"color\": \"white\"}}, \"header\": {\"fill\": {\"color\": \"#C8D4E3\"}, \"line\": {\"color\": \"white\"}}, \"type\": \"table\"}]}, \"layout\": {\"annotationdefaults\": {\"arrowcolor\": \"#2a3f5f\", \"arrowhead\": 0, \"arrowwidth\": 1}, \"coloraxis\": {\"colorbar\": {\"outlinewidth\": 0, \"ticks\": \"\"}}, \"colorscale\": {\"diverging\": [[0, \"#8e0152\"], [0.1, \"#c51b7d\"], [0.2, \"#de77ae\"], [0.3, \"#f1b6da\"], [0.4, \"#fde0ef\"], [0.5, \"#f7f7f7\"], [0.6, \"#e6f5d0\"], [0.7, \"#b8e186\"], [0.8, \"#7fbc41\"], [0.9, \"#4d9221\"], [1, \"#276419\"]], \"sequential\": [[0.0, \"#0d0887\"], [0.1111111111111111, \"#46039f\"], [0.2222222222222222, \"#7201a8\"], [0.3333333333333333, \"#9c179e\"], [0.4444444444444444, \"#bd3786\"], [0.5555555555555556, \"#d8576b\"], [0.6666666666666666, \"#ed7953\"], [0.7777777777777778, \"#fb9f3a\"], [0.8888888888888888, \"#fdca26\"], [1.0, \"#f0f921\"]], \"sequentialminus\": [[0.0, \"#0d0887\"], [0.1111111111111111, \"#46039f\"], [0.2222222222222222, \"#7201a8\"], [0.3333333333333333, \"#9c179e\"], [0.4444444444444444, \"#bd3786\"], [0.5555555555555556, \"#d8576b\"], [0.6666666666666666, \"#ed7953\"], [0.7777777777777778, \"#fb9f3a\"], [0.8888888888888888, \"#fdca26\"], [1.0, \"#f0f921\"]]}, \"colorway\": [\"#636efa\", \"#EF553B\", \"#00cc96\", \"#ab63fa\", \"#FFA15A\", \"#19d3f3\", \"#FF6692\", \"#B6E880\", \"#FF97FF\", \"#FECB52\"], \"font\": {\"color\": \"#2a3f5f\"}, \"geo\": {\"bgcolor\": \"white\", \"lakecolor\": \"white\", \"landcolor\": \"#E5ECF6\", \"showlakes\": true, \"showland\": true, \"subunitcolor\": \"white\"}, \"hoverlabel\": {\"align\": \"left\"}, \"hovermode\": \"closest\", \"mapbox\": {\"style\": \"light\"}, \"paper_bgcolor\": \"white\", \"plot_bgcolor\": \"#E5ECF6\", \"polar\": {\"angularaxis\": {\"gridcolor\": \"white\", \"linecolor\": \"white\", \"ticks\": \"\"}, \"bgcolor\": \"#E5ECF6\", \"radialaxis\": {\"gridcolor\": \"white\", \"linecolor\": \"white\", \"ticks\": \"\"}}, \"scene\": {\"xaxis\": {\"backgroundcolor\": \"#E5ECF6\", \"gridcolor\": \"white\", \"gridwidth\": 2, \"linecolor\": \"white\", \"showbackground\": true, \"ticks\": \"\", \"zerolinecolor\": \"white\"}, \"yaxis\": {\"backgroundcolor\": \"#E5ECF6\", \"gridcolor\": \"white\", \"gridwidth\": 2, \"linecolor\": \"white\", \"showbackground\": true, \"ticks\": \"\", \"zerolinecolor\": \"white\"}, \"zaxis\": {\"backgroundcolor\": \"#E5ECF6\", \"gridcolor\": \"white\", \"gridwidth\": 2, \"linecolor\": \"white\", \"showbackground\": true, \"ticks\": \"\", \"zerolinecolor\": \"white\"}}, \"shapedefaults\": {\"line\": {\"color\": \"#2a3f5f\"}}, \"ternary\": {\"aaxis\": {\"gridcolor\": \"white\", \"linecolor\": \"white\", \"ticks\": \"\"}, \"baxis\": {\"gridcolor\": \"white\", \"linecolor\": \"white\", \"ticks\": \"\"}, \"bgcolor\": \"#E5ECF6\", \"caxis\": {\"gridcolor\": \"white\", \"linecolor\": \"white\", \"ticks\": \"\"}}, \"title\": {\"x\": 0.05}, \"xaxis\": {\"automargin\": true, \"gridcolor\": \"white\", \"linecolor\": \"white\", \"ticks\": \"\", \"title\": {\"standoff\": 15}, \"zerolinecolor\": \"white\", \"zerolinewidth\": 2}, \"yaxis\": {\"automargin\": true, \"gridcolor\": \"white\", \"linecolor\": \"white\", \"ticks\": \"\", \"title\": {\"standoff\": 15}, \"zerolinecolor\": \"white\", \"zerolinewidth\": 2}}}, \"title\": {\"text\": \"\\u0417\\u0430\\u0432\\u0438\\u0441\\u0438\\u043c\\u043e\\u0441\\u0442\\u044c \\u043d\\u0430\\u043a\\u043e\\u043f\\u043b\\u0435\\u043d\\u043d\\u043e\\u0433\\u043e \\u043e\\u0431\\u044a\\u0435\\u043c\\u0430 \\u0436\\u0438\\u0434\\u043a\\u043e\\u0441\\u0442\\u0438 \\u043e\\u0442 \\u0434\\u043e\\u0431\\u044b\\u0447\\u0438 \\u043d\\u0435\\u0444\\u0442\\u0438\", \"x\": 0.45, \"xanchor\": \"center\", \"y\": 0.95, \"yanchor\": \"top\"}, \"width\": 1400, \"xaxis\": {\"anchor\": \"y\", \"domain\": [0.0, 0.45], \"tickangle\": -45, \"tickmode\": \"array\", \"title\": {\"text\": \"\\u041d\\u0430\\u043a\\u043e\\u043f\\u043b\\u0435\\u043d\\u043d\\u044b\\u0439 \\u043e\\u0431\\u044a\\u0435\\u043c \\u043d\\u0435\\u0444\\u0442\\u0438, 10^-6\"}}, \"xaxis2\": {\"anchor\": \"y2\", \"domain\": [0.55, 1.0], \"tickangle\": -45, \"title\": {\"text\": \"\\u041d\\u0430\\u043a\\u043e\\u043f\\u043b\\u0435\\u043d\\u043d\\u044b\\u0439 \\u043e\\u0431\\u044a\\u0435\\u043c \\u043d\\u0435\\u0444\\u0442\\u0438, 10^-6\"}}, \"yaxis\": {\"anchor\": \"x\", \"domain\": [0.0, 1.0], \"title\": {\"text\": \"\\u041d\\u0430\\u043a\\u043e\\u043f\\u043b\\u0435\\u043d\\u043d\\u044b\\u0439 \\u043e\\u0431\\u044a\\u0435\\u043c \\u0436\\u0438\\u0434\\u043a\\u043e\\u0441\\u0442\\u0438, 10^6\"}}, \"yaxis2\": {\"anchor\": \"x2\", \"domain\": [0.0, 1.0]}},\n",
              "                        {\"responsive\": true}\n",
              "                    ).then(function(){\n",
              "                            \n",
              "var gd = document.getElementById('aa285434-67e0-4797-99e3-cc8ba2d7e5e8');\n",
              "var x = new MutationObserver(function (mutations, observer) {{\n",
              "        var display = window.getComputedStyle(gd).display;\n",
              "        if (!display || display === 'none') {{\n",
              "            console.log([gd, 'removed!']);\n",
              "            Plotly.purge(gd);\n",
              "            observer.disconnect();\n",
              "        }}\n",
              "}});\n",
              "\n",
              "// Listen for the removal of the full notebook cells\n",
              "var notebookContainer = gd.closest('#notebook-container');\n",
              "if (notebookContainer) {{\n",
              "    x.observe(notebookContainer, {childList: true});\n",
              "}}\n",
              "\n",
              "// Listen for the clearing of the current output cell\n",
              "var outputEl = gd.closest('.output');\n",
              "if (outputEl) {{\n",
              "    x.observe(outputEl, {childList: true});\n",
              "}}\n",
              "\n",
              "                        })\n",
              "                };\n",
              "                \n",
              "            </script>\n",
              "        </div>\n",
              "</body>\n",
              "</html>"
            ]
          },
          "metadata": {
            "tags": []
          }
        }
      ]
    },
    {
      "cell_type": "code",
      "metadata": {
        "colab": {
          "base_uri": "https://localhost:8080/"
        },
        "id": "J5LzbQIcFByf",
        "outputId": "03bda314-79da-4984-9cf8-ff412bbec641"
      },
      "source": [
        "ydata_fit[-1:]"
      ],
      "execution_count": 71,
      "outputs": [
        {
          "output_type": "execute_result",
          "data": {
            "text/plain": [
              "34    21839.75787\n",
              "Name: oil_total, dtype: float64"
            ]
          },
          "metadata": {
            "tags": []
          },
          "execution_count": 71
        }
      ]
    },
    {
      "cell_type": "code",
      "metadata": {
        "colab": {
          "base_uri": "https://localhost:8080/"
        },
        "id": "dw612DS1FB1H",
        "outputId": "e6f589c8-95c6-438e-f8fe-f21c70beb4e9"
      },
      "source": [
        "xdata[-1:]"
      ],
      "execution_count": 72,
      "outputs": [
        {
          "output_type": "execute_result",
          "data": {
            "text/plain": [
              "34    6606.0\n",
              "Name: oil_total, dtype: float64"
            ]
          },
          "metadata": {
            "tags": []
          },
          "execution_count": 72
        }
      ]
    },
    {
      "cell_type": "code",
      "metadata": {
        "colab": {
          "base_uri": "https://localhost:8080/"
        },
        "id": "ZMspGS6JFB3t",
        "outputId": "480568f5-317f-49d4-d88d-bbc3ddc6d1d2"
      },
      "source": [
        "naz_sip_niz(np.float(ydata[-1:] - xdata[-1:]), *popt)"
      ],
      "execution_count": 74,
      "outputs": [
        {
          "output_type": "execute_result",
          "data": {
            "text/plain": [
              "6570.450395472272"
            ]
          },
          "metadata": {
            "tags": []
          },
          "execution_count": 74
        }
      ]
    },
    {
      "cell_type": "code",
      "metadata": {
        "colab": {
          "base_uri": "https://localhost:8080/"
        },
        "id": "-uzs0V-hFB5_",
        "outputId": "1ace3f08-013b-4a8c-a0ea-522753966de1"
      },
      "source": [
        "vvk = np.float(ydata[-1:] - xdata[-1:])\n",
        "vvk = 23993\n",
        "vvk"
      ],
      "execution_count": 97,
      "outputs": [
        {
          "output_type": "execute_result",
          "data": {
            "text/plain": [
              "23993"
            ]
          },
          "metadata": {
            "tags": []
          },
          "execution_count": 97
        }
      ]
    },
    {
      "cell_type": "code",
      "metadata": {
        "colab": {
          "base_uri": "https://localhost:8080/"
        },
        "id": "5ngnZtmMIB3t",
        "outputId": "bea64e81-db30-4e2f-83fe-5669bb3036f0"
      },
      "source": [
        "popt[1]"
      ],
      "execution_count": 77,
      "outputs": [
        {
          "output_type": "execute_result",
          "data": {
            "text/plain": [
              "0.00011503603691330729"
            ]
          },
          "metadata": {
            "tags": []
          },
          "execution_count": 77
        }
      ]
    },
    {
      "cell_type": "code",
      "metadata": {
        "colab": {
          "base_uri": "https://localhost:8080/"
        },
        "id": "lsJlUXa7FB8c",
        "outputId": "105de29a-aa36-4f0a-c7fc-411e92aab2eb"
      },
      "source": [
        "vvk / (popt[0] - 1 + popt[1] * vvk)"
      ],
      "execution_count": 82,
      "outputs": [
        {
          "output_type": "execute_result",
          "data": {
            "text/plain": [
              "6760.813665876672"
            ]
          },
          "metadata": {
            "tags": []
          },
          "execution_count": 82
        }
      ]
    },
    {
      "cell_type": "code",
      "metadata": {
        "id": "6C1Slgn2Kqbp"
      },
      "source": [
        "frame_range = [3, 20]\n",
        "shift_range = [0, 12]"
      ],
      "execution_count": 94,
      "outputs": []
    },
    {
      "cell_type": "code",
      "metadata": {
        "id": "jJ56RH5xFB-8"
      },
      "source": [
        "data = []\n",
        "\n",
        "for shift in range(shift_range[0], shift_range[1] + 1):\n",
        "  for frame in range(frame_range[0], frame_range[1] + 1):\n",
        "    if shift == 0:\n",
        "      xdata = df_graph[-frame:]['oil_total']\n",
        "      ydata = df_graph[-frame:]['water_total']\n",
        "    else:\n",
        "      xdata = df_graph[-(frame + shift):-shift]['oil_total']\n",
        "      ydata = df_graph[-(frame + shift):-shift]['water_total']      \n",
        "\n",
        "    popt, pcov = curve_fit(naz_sip_func, xdata, ydata, p0 = [2, 0])\n",
        "    popt\n",
        "\n",
        "    #print(naz_sip_niz(np.float(ydata[-1:] - xdata[-1:]), *popt))\n",
        "    \n",
        "    #data.append([shift, frame, naz_sip_niz(np.float(ydata[-1:] - xdata[-1:]), *popt)])\n",
        "    data.append([shift, frame, naz_sip_niz(vvk, *popt)])\n",
        "\n",
        "    \n",
        "    #if (shift == 1 and frame == 6):\n",
        "      #print(naz_sip_niz(np.float(ydata[-1:] - xdata[-1:]), *popt))\n",
        "\n",
        "    #print(popt[0], popt[1], np.abs(kambarov_niz(popt[0], popt[1]) - niz_total))\n",
        "\n",
        "df_approx = pd.DataFrame(data, columns=['shift', 'frame', 'niz'])\n",
        "df_approx['err'] = np.abs(df_approx['niz'] - niz_total)"
      ],
      "execution_count": 98,
      "outputs": []
    },
    {
      "cell_type": "code",
      "metadata": {
        "colab": {
          "base_uri": "https://localhost:8080/",
          "height": 198
        },
        "id": "QS5yFpo7FCB2",
        "outputId": "1e506fe4-2242-4e75-bfce-ef1437d35535"
      },
      "source": [
        "df_approx.head(5)"
      ],
      "execution_count": 107,
      "outputs": [
        {
          "output_type": "execute_result",
          "data": {
            "text/html": [
              "<div>\n",
              "<style scoped>\n",
              "    .dataframe tbody tr th:only-of-type {\n",
              "        vertical-align: middle;\n",
              "    }\n",
              "\n",
              "    .dataframe tbody tr th {\n",
              "        vertical-align: top;\n",
              "    }\n",
              "\n",
              "    .dataframe thead th {\n",
              "        text-align: right;\n",
              "    }\n",
              "</style>\n",
              "<table border=\"1\" class=\"dataframe\">\n",
              "  <thead>\n",
              "    <tr style=\"text-align: right;\">\n",
              "      <th></th>\n",
              "      <th>shift</th>\n",
              "      <th>frame</th>\n",
              "      <th>niz</th>\n",
              "      <th>err</th>\n",
              "    </tr>\n",
              "  </thead>\n",
              "  <tbody>\n",
              "    <tr>\n",
              "      <th>0</th>\n",
              "      <td>0</td>\n",
              "      <td>3</td>\n",
              "      <td>8738.655338</td>\n",
              "      <td>256.344662</td>\n",
              "    </tr>\n",
              "    <tr>\n",
              "      <th>1</th>\n",
              "      <td>0</td>\n",
              "      <td>4</td>\n",
              "      <td>8877.380673</td>\n",
              "      <td>117.619327</td>\n",
              "    </tr>\n",
              "    <tr>\n",
              "      <th>2</th>\n",
              "      <td>0</td>\n",
              "      <td>5</td>\n",
              "      <td>9032.180154</td>\n",
              "      <td>37.180154</td>\n",
              "    </tr>\n",
              "    <tr>\n",
              "      <th>3</th>\n",
              "      <td>0</td>\n",
              "      <td>6</td>\n",
              "      <td>9211.621147</td>\n",
              "      <td>216.621147</td>\n",
              "    </tr>\n",
              "    <tr>\n",
              "      <th>4</th>\n",
              "      <td>0</td>\n",
              "      <td>7</td>\n",
              "      <td>9388.930974</td>\n",
              "      <td>393.930974</td>\n",
              "    </tr>\n",
              "  </tbody>\n",
              "</table>\n",
              "</div>"
            ],
            "text/plain": [
              "   shift  frame          niz         err\n",
              "0      0      3  8738.655338  256.344662\n",
              "1      0      4  8877.380673  117.619327\n",
              "2      0      5  9032.180154   37.180154\n",
              "3      0      6  9211.621147  216.621147\n",
              "4      0      7  9388.930974  393.930974"
            ]
          },
          "metadata": {
            "tags": []
          },
          "execution_count": 107
        }
      ]
    },
    {
      "cell_type": "code",
      "metadata": {
        "colab": {
          "base_uri": "https://localhost:8080/",
          "height": 717
        },
        "id": "UYi5aHjrFCD8",
        "outputId": "73168142-a525-4e88-8ae0-b4c270230dd6"
      },
      "source": [
        "print_approx_graph(df_approx)"
      ],
      "execution_count": 100,
      "outputs": [
        {
          "output_type": "display_data",
          "data": {
            "text/html": [
              "<html>\n",
              "<head><meta charset=\"utf-8\" /></head>\n",
              "<body>\n",
              "    <div>\n",
              "            <script src=\"https://cdnjs.cloudflare.com/ajax/libs/mathjax/2.7.5/MathJax.js?config=TeX-AMS-MML_SVG\"></script><script type=\"text/javascript\">if (window.MathJax) {MathJax.Hub.Config({SVG: {font: \"STIX-Web\"}});}</script>\n",
              "                <script type=\"text/javascript\">window.PlotlyConfig = {MathJaxConfig: 'local'};</script>\n",
              "        <script src=\"https://cdn.plot.ly/plotly-latest.min.js\"></script>    \n",
              "            <div id=\"206a7fb1-b4a2-44a0-8130-e0b6e11dd44f\" class=\"plotly-graph-div\" style=\"height:700px; width:1400px;\"></div>\n",
              "            <script type=\"text/javascript\">\n",
              "                \n",
              "                    window.PLOTLYENV=window.PLOTLYENV || {};\n",
              "                    \n",
              "                if (document.getElementById(\"206a7fb1-b4a2-44a0-8130-e0b6e11dd44f\")) {\n",
              "                    Plotly.newPlot(\n",
              "                        '206a7fb1-b4a2-44a0-8130-e0b6e11dd44f',\n",
              "                        [{\"mode\": \"lines\", \"name\": \"\\u0413\\u0440\\u0430\\u0444\\u0438\\u043a \\u043f\\u0440\\u0438 \\u0441\\u0434\\u0432\\u0438\\u0433\\u0435: 0\", \"type\": \"scatter\", \"x\": [3, 4, 5, 6, 7, 8, 9, 10, 11, 12, 13, 14, 15, 16, 17, 18, 19, 20], \"y\": [256.3446621608182, 117.61932658767364, 37.18015429885236, 216.62114749124157, 393.9309743242211, 524.2191867071833, 584.5519165674286, 403.55549429780876, 142.81753758385094, 72.26496821632281, 262.46551231371086, 417.53637535326015, 538.6512858126662, 639.8563173993607, 729.2016758790869, 806.952472542348, 871.6446206649389, 923.548307216156]}, {\"mode\": \"lines\", \"name\": \"\\u0413\\u0440\\u0430\\u0444\\u0438\\u043a \\u043f\\u0440\\u0438 \\u0441\\u0434\\u0432\\u0438\\u0433\\u0435: 1\", \"type\": \"scatter\", \"x\": [3, 4, 5, 6, 7, 8, 9, 10, 11, 12, 13, 14, 15, 16, 17, 18, 19, 20], \"y\": [10.830245452030795, 192.97286725120466, 406.3730887797992, 601.8175456917579, 724.5481728854102, 756.1666501089221, 481.4711171712752, 147.94632362732227, 103.29617588544534, 313.0196361640046, 477.2469802192518, 601.7776951189389, 704.0163503156928, 793.3686735451083, 870.4389695150385, 934.0013870167704, 984.5037186655036, 1032.4019508621586]}, {\"mode\": \"lines\", \"name\": \"\\u0413\\u0440\\u0430\\u0444\\u0438\\u043a \\u043f\\u0440\\u0438 \\u0441\\u0434\\u0432\\u0438\\u0433\\u0435: 2\", \"type\": \"scatter\", \"x\": [3, 4, 5, 6, 7, 8, 9, 10, 11, 12, 13, 14, 15, 16, 17, 18, 19, 20], \"y\": [475.27901620852754, 681.302339371101, 867.6985280990921, 955.0406170503338, 933.2702792863693, 531.3411714239701, 117.9805032872755, 165.0379168133495, 388.5438787064086, 556.8763166974422, 680.9800341560513, 781.3848184060353, 868.5642982492327, 943.2565618656363, 1004.4011194596333, 1052.514869749598, 1098.3750799575919, 1145.74071911822]}, {\"mode\": \"lines\", \"name\": \"\\u0413\\u0440\\u0430\\u0444\\u0438\\u043a \\u043f\\u0440\\u0438 \\u0441\\u0434\\u0432\\u0438\\u0433\\u0435: 3\", \"type\": \"scatter\", \"x\": [3, 4, 5, 6, 7, 8, 9, 10, 11, 12, 13, 14, 15, 16, 17, 18, 19, 20], \"y\": [895.6623941848411, 1082.311251361456, 1124.3598854998181, 1038.821619956665, 493.4687218560339, 14.484018151269993, 282.7126998389431, 506.5822284751066, 669.3516700036525, 786.3824180025767, 880.2537748908953, 961.7888726410692, 1031.469503239031, 1088.212744570841, 1132.423719095672, 1175.0215209840844, 1219.6760752981872, 1263.4524496805325]}, {\"mode\": \"lines\", \"name\": \"\\u0413\\u0440\\u0430\\u0444\\u0438\\u043a \\u043f\\u0440\\u0438 \\u0441\\u0434\\u0432\\u0438\\u0433\\u0435: 4\", \"type\": \"scatter\", \"x\": [3, 4, 5, 6, 7, 8, 9, 10, 11, 12, 13, 14, 15, 16, 17, 18, 19, 20], \"y\": [1296.629467982024, 1255.2812727690798, 1083.0660733432087, 370.58754636601407, 153.83474855418172, 445.57163566619965, 656.7651327565327, 805.2971421746497, 909.6475227566716, 993.2209754775267, 1066.4663044190838, 1129.1786636121778, 1180.0838882649314, 1219.3092252202205, 1257.8022662479116, 1299.0781291214362, 1339.8592205708683, 1377.1927115339786]}, {\"mode\": \"lines\", \"name\": \"\\u0413\\u0440\\u0430\\u0444\\u0438\\u043a \\u043f\\u0440\\u0438 \\u0441\\u0434\\u0432\\u0438\\u0433\\u0435: 5\", \"type\": \"scatter\", \"x\": [3, 4, 5, 6, 7, 8, 9, 10, 11, 12, 13, 14, 15, 16, 17, 18, 19, 20], \"y\": [1285.5109919123624, 1012.423346694075, 124.04934230987965, 401.60951237277186, 658.5817888155489, 840.4540214210065, 964.495881657178, 1049.8873314594794, 1119.139477173684, 1181.3766863494566, 1235.1630224054552, 1278.8210950153334, 1311.9958741786277, 1345.589912505422, 1382.8960172944744, 1420.1996969126567, 1454.48674981586, 1487.1447872398912]}, {\"mode\": \"lines\", \"name\": \"\\u0413\\u0440\\u0430\\u0444\\u0438\\u043a \\u043f\\u0440\\u0438 \\u0441\\u0434\\u0432\\u0438\\u0433\\u0435: 6\", \"type\": \"scatter\", \"x\": [3, 4, 5, 6, 7, 8, 9, 10, 11, 12, 13, 14, 15, 16, 17, 18, 19, 20], \"y\": [785.5854812674206, 242.57727037367295, 703.6481871781725, 896.0893347753408, 1035.3905566721987, 1127.9310675414335, 1190.6925281125395, 1243.69403000101, 1293.9219674291007, 1338.2063947630295, 1374.2869926681014, 1401.1778451213668, 1429.807402210099, 1463.226196844962, 1497.1733207328361, 1528.534202737751, 1558.5420406771127, 1585.8174860161498]}, {\"mode\": \"lines\", \"name\": \"\\u0413\\u0440\\u0430\\u0444\\u0438\\u043a \\u043f\\u0440\\u0438 \\u0441\\u0434\\u0432\\u0438\\u0433\\u0435: 7\", \"type\": \"scatter\", \"x\": [3, 4, 5, 6, 7, 8, 9, 10, 11, 12, 13, 14, 15, 16, 17, 18, 19, 20], \"y\": [684.7524901458, 1017.1467387346565, 1124.5077501604992, 1216.1524819472188, 1275.528944214063, 1315.5784491311178, 1353.0930137126088, 1392.4466491179728, 1428.2976015106206, 1457.6918940797814, 1478.953154968045, 1503.343589769851, 1533.7054399936178, 1565.0741604238756, 1594.175071415315, 1622.114518031587, 1647.4718849067167, 1673.148570456793]}, {\"mode\": \"lines\", \"name\": \"\\u0413\\u0440\\u0430\\u0444\\u0438\\u043a \\u043f\\u0440\\u0438 \\u0441\\u0434\\u0432\\u0438\\u0433\\u0435: 8\", \"type\": \"scatter\", \"x\": [3, 4, 5, 6, 7, 8, 9, 10, 11, 12, 13, 14, 15, 16, 17, 18, 19, 20], \"y\": [1301.9200948302396, 1310.1396577950545, 1358.188628703998, 1388.388607073768, 1409.3718813975747, 1435.0725479490175, 1467.0469114684256, 1497.298951448539, 1522.144211703061, 1539.279515621065, 1560.9366918285841, 1589.834703032875, 1620.0598744184963, 1648.0785047880236, 1674.962866532659, 1699.2291760996932, 1724.0737248358782, 1749.2065329513243]}, {\"mode\": \"lines\", \"name\": \"\\u0413\\u0440\\u0430\\u0444\\u0438\\u043a \\u043f\\u0440\\u0438 \\u0441\\u0434\\u0432\\u0438\\u0433\\u0435: 9\", \"type\": \"scatter\", \"x\": [3, 4, 5, 6, 7, 8, 9, 10, 11, 12, 13, 14, 15, 16, 17, 18, 19, 20], \"y\": [1358.7399411476608, 1408.98191467781, 1432.649463023873, 1448.0562666211154, 1472.4517649668114, 1505.5822171491864, 1536.4382158181506, 1560.9820652347798, 1576.7585476888526, 1598.3516514660632, 1628.5108027856586, 1659.9439613161185, 1688.71854767892, 1716.0568340609088, 1740.4169170525538, 1765.484940046421, 1790.9524019431674, 1816.2953596718908]}, {\"mode\": \"lines\", \"name\": \"\\u0413\\u0440\\u0430\\u0444\\u0438\\u043a \\u043f\\u0440\\u0438 \\u0441\\u0434\\u0432\\u0438\\u0433\\u0435: 10\", \"type\": \"scatter\", \"x\": [3, 4, 5, 6, 7, 8, 9, 10, 11, 12, 13, 14, 15, 16, 17, 18, 19, 20], \"y\": [1421.3703698882064, 1452.0874388363345, 1467.3513506563695, 1495.4467013950562, 1533.8732830254403, 1567.7440262209811, 1593.2293577124656, 1608.1181763820487, 1630.4181031950757, 1662.8515183880909, 1696.2722091569321, 1726.2939299083055, 1754.4034144568222, 1779.0302227113425, 1804.4896142509988, 1830.4533044951731, 1856.4062900699082, 1882.9165138671497]}, {\"mode\": \"lines\", \"name\": \"\\u0413\\u0440\\u0430\\u0444\\u0438\\u043a \\u043f\\u0440\\u0438 \\u0441\\u0434\\u0432\\u0438\\u0433\\u0435: 11\", \"type\": \"scatter\", \"x\": [3, 4, 5, 6, 7, 8, 9, 10, 11, 12, 13, 14, 15, 16, 17, 18, 19, 20], \"y\": [1516.809623024551, 1510.3604086661971, 1535.4016751736717, 1576.263706493377, 1610.4334146493302, 1634.5341098338158, 1646.459022134355, 1668.393886095897, 1702.6545818399572, 1737.552080059707, 1768.2433992090473, 1796.5183993703404, 1820.820721154817, 1846.21031735424, 1872.3175546101575, 1898.6347682097248, 1925.7622053110017, 1952.0149137949902]}, {\"mode\": \"lines\", \"name\": \"\\u0413\\u0440\\u0430\\u0444\\u0438\\u043a \\u043f\\u0440\\u0438 \\u0441\\u0434\\u0432\\u0438\\u0433\\u0435: 12\", \"type\": \"scatter\", \"x\": [3, 4, 5, 6, 7, 8, 9, 10, 11, 12, 13, 14, 15, 16, 17, 18, 19, 20], \"y\": [1490.6553862279043, 1539.376598160583, 1597.9796994580856, 1639.009715356523, 1664.4842559589251, 1674.326840239336, 1697.590627906472, 1735.7839741649896, 1773.5949745276248, 1805.7609571878738, 1834.6727317664017, 1858.8857217836594, 1884.4505982410956, 1910.9445121843492, 1937.8702484655596, 1965.8649779700645, 1993.0090530218777, 2019.9996000728352]}],\n",
              "                        {\"autosize\": false, \"height\": 700, \"template\": {\"data\": {\"bar\": [{\"error_x\": {\"color\": \"#2a3f5f\"}, \"error_y\": {\"color\": \"#2a3f5f\"}, \"marker\": {\"line\": {\"color\": \"#E5ECF6\", \"width\": 0.5}}, \"type\": \"bar\"}], \"barpolar\": [{\"marker\": {\"line\": {\"color\": \"#E5ECF6\", \"width\": 0.5}}, \"type\": \"barpolar\"}], \"carpet\": [{\"aaxis\": {\"endlinecolor\": \"#2a3f5f\", \"gridcolor\": \"white\", \"linecolor\": \"white\", \"minorgridcolor\": \"white\", \"startlinecolor\": \"#2a3f5f\"}, \"baxis\": {\"endlinecolor\": \"#2a3f5f\", \"gridcolor\": \"white\", \"linecolor\": \"white\", \"minorgridcolor\": \"white\", \"startlinecolor\": \"#2a3f5f\"}, \"type\": \"carpet\"}], \"choropleth\": [{\"colorbar\": {\"outlinewidth\": 0, \"ticks\": \"\"}, \"type\": \"choropleth\"}], \"contour\": [{\"colorbar\": {\"outlinewidth\": 0, \"ticks\": \"\"}, \"colorscale\": [[0.0, \"#0d0887\"], [0.1111111111111111, \"#46039f\"], [0.2222222222222222, \"#7201a8\"], [0.3333333333333333, \"#9c179e\"], [0.4444444444444444, \"#bd3786\"], [0.5555555555555556, \"#d8576b\"], [0.6666666666666666, \"#ed7953\"], [0.7777777777777778, \"#fb9f3a\"], [0.8888888888888888, \"#fdca26\"], [1.0, \"#f0f921\"]], \"type\": \"contour\"}], \"contourcarpet\": [{\"colorbar\": {\"outlinewidth\": 0, \"ticks\": \"\"}, \"type\": \"contourcarpet\"}], \"heatmap\": [{\"colorbar\": {\"outlinewidth\": 0, \"ticks\": \"\"}, \"colorscale\": [[0.0, \"#0d0887\"], [0.1111111111111111, \"#46039f\"], [0.2222222222222222, \"#7201a8\"], [0.3333333333333333, \"#9c179e\"], [0.4444444444444444, \"#bd3786\"], [0.5555555555555556, \"#d8576b\"], [0.6666666666666666, \"#ed7953\"], [0.7777777777777778, \"#fb9f3a\"], [0.8888888888888888, \"#fdca26\"], [1.0, \"#f0f921\"]], \"type\": \"heatmap\"}], \"heatmapgl\": [{\"colorbar\": {\"outlinewidth\": 0, \"ticks\": \"\"}, \"colorscale\": [[0.0, \"#0d0887\"], [0.1111111111111111, \"#46039f\"], [0.2222222222222222, \"#7201a8\"], [0.3333333333333333, \"#9c179e\"], [0.4444444444444444, \"#bd3786\"], [0.5555555555555556, \"#d8576b\"], [0.6666666666666666, \"#ed7953\"], [0.7777777777777778, \"#fb9f3a\"], [0.8888888888888888, \"#fdca26\"], [1.0, \"#f0f921\"]], \"type\": \"heatmapgl\"}], \"histogram\": [{\"marker\": {\"colorbar\": {\"outlinewidth\": 0, \"ticks\": \"\"}}, \"type\": \"histogram\"}], \"histogram2d\": [{\"colorbar\": {\"outlinewidth\": 0, \"ticks\": \"\"}, \"colorscale\": [[0.0, \"#0d0887\"], [0.1111111111111111, \"#46039f\"], [0.2222222222222222, \"#7201a8\"], [0.3333333333333333, \"#9c179e\"], [0.4444444444444444, \"#bd3786\"], [0.5555555555555556, \"#d8576b\"], [0.6666666666666666, \"#ed7953\"], [0.7777777777777778, \"#fb9f3a\"], [0.8888888888888888, \"#fdca26\"], [1.0, \"#f0f921\"]], \"type\": \"histogram2d\"}], \"histogram2dcontour\": [{\"colorbar\": {\"outlinewidth\": 0, \"ticks\": \"\"}, \"colorscale\": [[0.0, \"#0d0887\"], [0.1111111111111111, \"#46039f\"], [0.2222222222222222, \"#7201a8\"], [0.3333333333333333, \"#9c179e\"], [0.4444444444444444, \"#bd3786\"], [0.5555555555555556, \"#d8576b\"], [0.6666666666666666, \"#ed7953\"], [0.7777777777777778, \"#fb9f3a\"], [0.8888888888888888, \"#fdca26\"], [1.0, \"#f0f921\"]], \"type\": \"histogram2dcontour\"}], \"mesh3d\": [{\"colorbar\": {\"outlinewidth\": 0, \"ticks\": \"\"}, \"type\": \"mesh3d\"}], \"parcoords\": [{\"line\": {\"colorbar\": {\"outlinewidth\": 0, \"ticks\": \"\"}}, \"type\": \"parcoords\"}], \"pie\": [{\"automargin\": true, \"type\": \"pie\"}], \"scatter\": [{\"marker\": {\"colorbar\": {\"outlinewidth\": 0, \"ticks\": \"\"}}, \"type\": \"scatter\"}], \"scatter3d\": [{\"line\": {\"colorbar\": {\"outlinewidth\": 0, \"ticks\": \"\"}}, \"marker\": {\"colorbar\": {\"outlinewidth\": 0, \"ticks\": \"\"}}, \"type\": \"scatter3d\"}], \"scattercarpet\": [{\"marker\": {\"colorbar\": {\"outlinewidth\": 0, \"ticks\": \"\"}}, \"type\": \"scattercarpet\"}], \"scattergeo\": [{\"marker\": {\"colorbar\": {\"outlinewidth\": 0, \"ticks\": \"\"}}, \"type\": \"scattergeo\"}], \"scattergl\": [{\"marker\": {\"colorbar\": {\"outlinewidth\": 0, \"ticks\": \"\"}}, \"type\": \"scattergl\"}], \"scattermapbox\": [{\"marker\": {\"colorbar\": {\"outlinewidth\": 0, \"ticks\": \"\"}}, \"type\": \"scattermapbox\"}], \"scatterpolar\": [{\"marker\": {\"colorbar\": {\"outlinewidth\": 0, \"ticks\": \"\"}}, \"type\": \"scatterpolar\"}], \"scatterpolargl\": [{\"marker\": {\"colorbar\": {\"outlinewidth\": 0, \"ticks\": \"\"}}, \"type\": \"scatterpolargl\"}], \"scatterternary\": [{\"marker\": {\"colorbar\": {\"outlinewidth\": 0, \"ticks\": \"\"}}, \"type\": \"scatterternary\"}], \"surface\": [{\"colorbar\": {\"outlinewidth\": 0, \"ticks\": \"\"}, \"colorscale\": [[0.0, \"#0d0887\"], [0.1111111111111111, \"#46039f\"], [0.2222222222222222, \"#7201a8\"], [0.3333333333333333, \"#9c179e\"], [0.4444444444444444, \"#bd3786\"], [0.5555555555555556, \"#d8576b\"], [0.6666666666666666, \"#ed7953\"], [0.7777777777777778, \"#fb9f3a\"], [0.8888888888888888, \"#fdca26\"], [1.0, \"#f0f921\"]], \"type\": \"surface\"}], \"table\": [{\"cells\": {\"fill\": {\"color\": \"#EBF0F8\"}, \"line\": {\"color\": \"white\"}}, \"header\": {\"fill\": {\"color\": \"#C8D4E3\"}, \"line\": {\"color\": \"white\"}}, \"type\": \"table\"}]}, \"layout\": {\"annotationdefaults\": {\"arrowcolor\": \"#2a3f5f\", \"arrowhead\": 0, \"arrowwidth\": 1}, \"coloraxis\": {\"colorbar\": {\"outlinewidth\": 0, \"ticks\": \"\"}}, \"colorscale\": {\"diverging\": [[0, \"#8e0152\"], [0.1, \"#c51b7d\"], [0.2, \"#de77ae\"], [0.3, \"#f1b6da\"], [0.4, \"#fde0ef\"], [0.5, \"#f7f7f7\"], [0.6, \"#e6f5d0\"], [0.7, \"#b8e186\"], [0.8, \"#7fbc41\"], [0.9, \"#4d9221\"], [1, \"#276419\"]], \"sequential\": [[0.0, \"#0d0887\"], [0.1111111111111111, \"#46039f\"], [0.2222222222222222, \"#7201a8\"], [0.3333333333333333, \"#9c179e\"], [0.4444444444444444, \"#bd3786\"], [0.5555555555555556, \"#d8576b\"], [0.6666666666666666, \"#ed7953\"], [0.7777777777777778, \"#fb9f3a\"], [0.8888888888888888, \"#fdca26\"], [1.0, \"#f0f921\"]], \"sequentialminus\": [[0.0, \"#0d0887\"], [0.1111111111111111, \"#46039f\"], [0.2222222222222222, \"#7201a8\"], [0.3333333333333333, \"#9c179e\"], [0.4444444444444444, \"#bd3786\"], [0.5555555555555556, \"#d8576b\"], [0.6666666666666666, \"#ed7953\"], [0.7777777777777778, \"#fb9f3a\"], [0.8888888888888888, \"#fdca26\"], [1.0, \"#f0f921\"]]}, \"colorway\": [\"#636efa\", \"#EF553B\", \"#00cc96\", \"#ab63fa\", \"#FFA15A\", \"#19d3f3\", \"#FF6692\", \"#B6E880\", \"#FF97FF\", \"#FECB52\"], \"font\": {\"color\": \"#2a3f5f\"}, \"geo\": {\"bgcolor\": \"white\", \"lakecolor\": \"white\", \"landcolor\": \"#E5ECF6\", \"showlakes\": true, \"showland\": true, \"subunitcolor\": \"white\"}, \"hoverlabel\": {\"align\": \"left\"}, \"hovermode\": \"closest\", \"mapbox\": {\"style\": \"light\"}, \"paper_bgcolor\": \"white\", \"plot_bgcolor\": \"#E5ECF6\", \"polar\": {\"angularaxis\": {\"gridcolor\": \"white\", \"linecolor\": \"white\", \"ticks\": \"\"}, \"bgcolor\": \"#E5ECF6\", \"radialaxis\": {\"gridcolor\": \"white\", \"linecolor\": \"white\", \"ticks\": \"\"}}, \"scene\": {\"xaxis\": {\"backgroundcolor\": \"#E5ECF6\", \"gridcolor\": \"white\", \"gridwidth\": 2, \"linecolor\": \"white\", \"showbackground\": true, \"ticks\": \"\", \"zerolinecolor\": \"white\"}, \"yaxis\": {\"backgroundcolor\": \"#E5ECF6\", \"gridcolor\": \"white\", \"gridwidth\": 2, \"linecolor\": \"white\", \"showbackground\": true, \"ticks\": \"\", \"zerolinecolor\": \"white\"}, \"zaxis\": {\"backgroundcolor\": \"#E5ECF6\", \"gridcolor\": \"white\", \"gridwidth\": 2, \"linecolor\": \"white\", \"showbackground\": true, \"ticks\": \"\", \"zerolinecolor\": \"white\"}}, \"shapedefaults\": {\"line\": {\"color\": \"#2a3f5f\"}}, \"ternary\": {\"aaxis\": {\"gridcolor\": \"white\", \"linecolor\": \"white\", \"ticks\": \"\"}, \"baxis\": {\"gridcolor\": \"white\", \"linecolor\": \"white\", \"ticks\": \"\"}, \"bgcolor\": \"#E5ECF6\", \"caxis\": {\"gridcolor\": \"white\", \"linecolor\": \"white\", \"ticks\": \"\"}}, \"title\": {\"x\": 0.05}, \"xaxis\": {\"automargin\": true, \"gridcolor\": \"white\", \"linecolor\": \"white\", \"ticks\": \"\", \"title\": {\"standoff\": 15}, \"zerolinecolor\": \"white\", \"zerolinewidth\": 2}, \"yaxis\": {\"automargin\": true, \"gridcolor\": \"white\", \"linecolor\": \"white\", \"ticks\": \"\", \"title\": {\"standoff\": 15}, \"zerolinecolor\": \"white\", \"zerolinewidth\": 2}}}, \"title\": {\"text\": \"\\u0417\\u0430\\u0432\\u0438\\u0441\\u0438\\u043c\\u043e\\u0441\\u0442\\u044c \\u043e\\u0448\\u0438\\u0431\\u043a\\u0438 \\u043f\\u0440\\u0435\\u0434\\u0441\\u043a\\u0430\\u0437\\u0430\\u043d\\u0438\\u044f \\u041d\\u0418\\u0417 \\u043e\\u0442 \\u043f\\u0430\\u0440\\u0430\\u043c\\u0435\\u0442\\u0440\\u043e\\u0432 \\u0430\\u043f\\u043f\\u0440\\u043e\\u043a\\u0441\\u0438\\u043c\\u0430\\u0446\\u0438\\u0438\", \"x\": 0.5, \"xanchor\": \"center\", \"y\": 0.95, \"yanchor\": \"top\"}, \"width\": 1400, \"xaxis\": {\"domain\": [0.2, 0.9], \"title\": {\"text\": \"\\u0420\\u0430\\u0437\\u043c\\u0435\\u0440 \\u043e\\u043a\\u043d\\u0430\"}}, \"yaxis\": {\"title\": {\"text\": \"\\u041e\\u0448\\u0438\\u0431\\u043a\\u0430 \\u043f\\u0440\\u0435\\u0434\\u0441\\u043a\\u0430\\u0437\\u0430\\u043d\\u0438\\u044f\"}}},\n",
              "                        {\"responsive\": true}\n",
              "                    ).then(function(){\n",
              "                            \n",
              "var gd = document.getElementById('206a7fb1-b4a2-44a0-8130-e0b6e11dd44f');\n",
              "var x = new MutationObserver(function (mutations, observer) {{\n",
              "        var display = window.getComputedStyle(gd).display;\n",
              "        if (!display || display === 'none') {{\n",
              "            console.log([gd, 'removed!']);\n",
              "            Plotly.purge(gd);\n",
              "            observer.disconnect();\n",
              "        }}\n",
              "}});\n",
              "\n",
              "// Listen for the removal of the full notebook cells\n",
              "var notebookContainer = gd.closest('#notebook-container');\n",
              "if (notebookContainer) {{\n",
              "    x.observe(notebookContainer, {childList: true});\n",
              "}}\n",
              "\n",
              "// Listen for the clearing of the current output cell\n",
              "var outputEl = gd.closest('.output');\n",
              "if (outputEl) {{\n",
              "    x.observe(outputEl, {childList: true});\n",
              "}}\n",
              "\n",
              "                        })\n",
              "                };\n",
              "                \n",
              "            </script>\n",
              "        </div>\n",
              "</body>\n",
              "</html>"
            ]
          },
          "metadata": {
            "tags": []
          }
        }
      ]
    },
    {
      "cell_type": "code",
      "metadata": {
        "colab": {
          "base_uri": "https://localhost:8080/",
          "height": 717
        },
        "id": "Fv2yRW7bFCGZ",
        "outputId": "1bf8f8a9-ccbe-4f04-aa4d-7675fcff02bc"
      },
      "source": [
        "plot_approx_heatmap(df_approx.pivot(index='shift', columns='frame', values='err'))"
      ],
      "execution_count": 106,
      "outputs": [
        {
          "output_type": "display_data",
          "data": {
            "text/html": [
              "<html>\n",
              "<head><meta charset=\"utf-8\" /></head>\n",
              "<body>\n",
              "    <div>\n",
              "            <script src=\"https://cdnjs.cloudflare.com/ajax/libs/mathjax/2.7.5/MathJax.js?config=TeX-AMS-MML_SVG\"></script><script type=\"text/javascript\">if (window.MathJax) {MathJax.Hub.Config({SVG: {font: \"STIX-Web\"}});}</script>\n",
              "                <script type=\"text/javascript\">window.PlotlyConfig = {MathJaxConfig: 'local'};</script>\n",
              "        <script src=\"https://cdn.plot.ly/plotly-latest.min.js\"></script>    \n",
              "            <div id=\"34cabed4-432f-4007-82b1-d3a2b6541e7b\" class=\"plotly-graph-div\" style=\"height:700px; width:1400px;\"></div>\n",
              "            <script type=\"text/javascript\">\n",
              "                \n",
              "                    window.PLOTLYENV=window.PLOTLYENV || {};\n",
              "                    \n",
              "                if (document.getElementById(\"34cabed4-432f-4007-82b1-d3a2b6541e7b\")) {\n",
              "                    Plotly.newPlot(\n",
              "                        '34cabed4-432f-4007-82b1-d3a2b6541e7b',\n",
              "                        [{\"colorscale\": [[0.0, \"rgb(247,251,255)\"], [0.125, \"rgb(222,235,247)\"], [0.25, \"rgb(198,219,239)\"], [0.375, \"rgb(158,202,225)\"], [0.5, \"rgb(107,174,214)\"], [0.625, \"rgb(66,146,198)\"], [0.75, \"rgb(33,113,181)\"], [0.875, \"rgb(8,81,156)\"], [1.0, \"rgb(8,48,107)\"]], \"type\": \"heatmap\", \"x\": [3, 4, 5, 6, 7, 8, 9, 10, 11, 12, 13, 14, 15, 16, 17, 18, 19, 20], \"y\": [0, 1, 2, 3, 4, 5, 6, 7, 8, 9, 10, 11, 12], \"z\": [[256.3446621608182, 117.61932658767364, 37.18015429885236, 216.62114749124157, 393.9309743242211, 524.2191867071833, 584.5519165674286, 403.55549429780876, 142.81753758385094, 72.26496821632281, 262.46551231371086, 417.53637535326015, 538.6512858126662, 639.8563173993607, 729.2016758790869, 806.952472542348, 871.6446206649389, 923.548307216156], [10.830245452030795, 192.97286725120466, 406.3730887797992, 601.8175456917579, 724.5481728854102, 756.1666501089221, 481.4711171712752, 147.94632362732227, 103.29617588544534, 313.0196361640046, 477.2469802192518, 601.7776951189389, 704.0163503156928, 793.3686735451083, 870.4389695150385, 934.0013870167704, 984.5037186655036, 1032.4019508621586], [475.27901620852754, 681.302339371101, 867.6985280990921, 955.0406170503338, 933.2702792863693, 531.3411714239701, 117.9805032872755, 165.0379168133495, 388.5438787064086, 556.8763166974422, 680.9800341560513, 781.3848184060353, 868.5642982492327, 943.2565618656363, 1004.4011194596333, 1052.514869749598, 1098.3750799575919, 1145.74071911822], [895.6623941848411, 1082.311251361456, 1124.3598854998181, 1038.821619956665, 493.4687218560339, 14.484018151269993, 282.7126998389431, 506.5822284751066, 669.3516700036525, 786.3824180025767, 880.2537748908953, 961.7888726410692, 1031.469503239031, 1088.212744570841, 1132.423719095672, 1175.0215209840844, 1219.6760752981872, 1263.4524496805325], [1296.629467982024, 1255.2812727690798, 1083.0660733432087, 370.58754636601407, 153.83474855418172, 445.57163566619965, 656.7651327565327, 805.2971421746497, 909.6475227566716, 993.2209754775267, 1066.4663044190838, 1129.1786636121778, 1180.0838882649314, 1219.3092252202205, 1257.8022662479116, 1299.0781291214362, 1339.8592205708683, 1377.1927115339786], [1285.5109919123624, 1012.423346694075, 124.04934230987965, 401.60951237277186, 658.5817888155489, 840.4540214210065, 964.495881657178, 1049.8873314594794, 1119.139477173684, 1181.3766863494566, 1235.1630224054552, 1278.8210950153334, 1311.9958741786277, 1345.589912505422, 1382.8960172944744, 1420.1996969126567, 1454.48674981586, 1487.1447872398912], [785.5854812674206, 242.57727037367295, 703.6481871781725, 896.0893347753408, 1035.3905566721987, 1127.9310675414335, 1190.6925281125395, 1243.69403000101, 1293.9219674291007, 1338.2063947630295, 1374.2869926681014, 1401.1778451213668, 1429.807402210099, 1463.226196844962, 1497.1733207328361, 1528.534202737751, 1558.5420406771127, 1585.8174860161498], [684.7524901458, 1017.1467387346565, 1124.5077501604992, 1216.1524819472188, 1275.528944214063, 1315.5784491311178, 1353.0930137126088, 1392.4466491179728, 1428.2976015106206, 1457.6918940797814, 1478.953154968045, 1503.343589769851, 1533.7054399936178, 1565.0741604238756, 1594.175071415315, 1622.114518031587, 1647.4718849067167, 1673.148570456793], [1301.9200948302396, 1310.1396577950545, 1358.188628703998, 1388.388607073768, 1409.3718813975747, 1435.0725479490175, 1467.0469114684256, 1497.298951448539, 1522.144211703061, 1539.279515621065, 1560.9366918285841, 1589.834703032875, 1620.0598744184963, 1648.0785047880236, 1674.962866532659, 1699.2291760996932, 1724.0737248358782, 1749.2065329513243], [1358.7399411476608, 1408.98191467781, 1432.649463023873, 1448.0562666211154, 1472.4517649668114, 1505.5822171491864, 1536.4382158181506, 1560.9820652347798, 1576.7585476888526, 1598.3516514660632, 1628.5108027856586, 1659.9439613161185, 1688.71854767892, 1716.0568340609088, 1740.4169170525538, 1765.484940046421, 1790.9524019431674, 1816.2953596718908], [1421.3703698882064, 1452.0874388363345, 1467.3513506563695, 1495.4467013950562, 1533.8732830254403, 1567.7440262209811, 1593.2293577124656, 1608.1181763820487, 1630.4181031950757, 1662.8515183880909, 1696.2722091569321, 1726.2939299083055, 1754.4034144568222, 1779.0302227113425, 1804.4896142509988, 1830.4533044951731, 1856.4062900699082, 1882.9165138671497], [1516.809623024551, 1510.3604086661971, 1535.4016751736717, 1576.263706493377, 1610.4334146493302, 1634.5341098338158, 1646.459022134355, 1668.393886095897, 1702.6545818399572, 1737.552080059707, 1768.2433992090473, 1796.5183993703404, 1820.820721154817, 1846.21031735424, 1872.3175546101575, 1898.6347682097248, 1925.7622053110017, 1952.0149137949902], [1490.6553862279043, 1539.376598160583, 1597.9796994580856, 1639.009715356523, 1664.4842559589251, 1674.326840239336, 1697.590627906472, 1735.7839741649896, 1773.5949745276248, 1805.7609571878738, 1834.6727317664017, 1858.8857217836594, 1884.4505982410956, 1910.9445121843492, 1937.8702484655596, 1965.8649779700645, 1993.0090530218777, 2019.9996000728352]]}],\n",
              "                        {\"autosize\": false, \"height\": 700, \"template\": {\"data\": {\"bar\": [{\"error_x\": {\"color\": \"#2a3f5f\"}, \"error_y\": {\"color\": \"#2a3f5f\"}, \"marker\": {\"line\": {\"color\": \"#E5ECF6\", \"width\": 0.5}}, \"type\": \"bar\"}], \"barpolar\": [{\"marker\": {\"line\": {\"color\": \"#E5ECF6\", \"width\": 0.5}}, \"type\": \"barpolar\"}], \"carpet\": [{\"aaxis\": {\"endlinecolor\": \"#2a3f5f\", \"gridcolor\": \"white\", \"linecolor\": \"white\", \"minorgridcolor\": \"white\", \"startlinecolor\": \"#2a3f5f\"}, \"baxis\": {\"endlinecolor\": \"#2a3f5f\", \"gridcolor\": \"white\", \"linecolor\": \"white\", \"minorgridcolor\": \"white\", \"startlinecolor\": \"#2a3f5f\"}, \"type\": \"carpet\"}], \"choropleth\": [{\"colorbar\": {\"outlinewidth\": 0, \"ticks\": \"\"}, \"type\": \"choropleth\"}], \"contour\": [{\"colorbar\": {\"outlinewidth\": 0, \"ticks\": \"\"}, \"colorscale\": [[0.0, \"#0d0887\"], [0.1111111111111111, \"#46039f\"], [0.2222222222222222, \"#7201a8\"], [0.3333333333333333, \"#9c179e\"], [0.4444444444444444, \"#bd3786\"], [0.5555555555555556, \"#d8576b\"], [0.6666666666666666, \"#ed7953\"], [0.7777777777777778, \"#fb9f3a\"], [0.8888888888888888, \"#fdca26\"], [1.0, \"#f0f921\"]], \"type\": \"contour\"}], \"contourcarpet\": [{\"colorbar\": {\"outlinewidth\": 0, \"ticks\": \"\"}, \"type\": \"contourcarpet\"}], \"heatmap\": [{\"colorbar\": {\"outlinewidth\": 0, \"ticks\": \"\"}, \"colorscale\": [[0.0, \"#0d0887\"], [0.1111111111111111, \"#46039f\"], [0.2222222222222222, \"#7201a8\"], [0.3333333333333333, \"#9c179e\"], [0.4444444444444444, \"#bd3786\"], [0.5555555555555556, \"#d8576b\"], [0.6666666666666666, \"#ed7953\"], [0.7777777777777778, \"#fb9f3a\"], [0.8888888888888888, \"#fdca26\"], [1.0, \"#f0f921\"]], \"type\": \"heatmap\"}], \"heatmapgl\": [{\"colorbar\": {\"outlinewidth\": 0, \"ticks\": \"\"}, \"colorscale\": [[0.0, \"#0d0887\"], [0.1111111111111111, \"#46039f\"], [0.2222222222222222, \"#7201a8\"], [0.3333333333333333, \"#9c179e\"], [0.4444444444444444, \"#bd3786\"], [0.5555555555555556, \"#d8576b\"], [0.6666666666666666, \"#ed7953\"], [0.7777777777777778, \"#fb9f3a\"], [0.8888888888888888, \"#fdca26\"], [1.0, \"#f0f921\"]], \"type\": \"heatmapgl\"}], \"histogram\": [{\"marker\": {\"colorbar\": {\"outlinewidth\": 0, \"ticks\": \"\"}}, \"type\": \"histogram\"}], \"histogram2d\": [{\"colorbar\": {\"outlinewidth\": 0, \"ticks\": \"\"}, \"colorscale\": [[0.0, \"#0d0887\"], [0.1111111111111111, \"#46039f\"], [0.2222222222222222, \"#7201a8\"], [0.3333333333333333, \"#9c179e\"], [0.4444444444444444, \"#bd3786\"], [0.5555555555555556, \"#d8576b\"], [0.6666666666666666, \"#ed7953\"], [0.7777777777777778, \"#fb9f3a\"], [0.8888888888888888, \"#fdca26\"], [1.0, \"#f0f921\"]], \"type\": \"histogram2d\"}], \"histogram2dcontour\": [{\"colorbar\": {\"outlinewidth\": 0, \"ticks\": \"\"}, \"colorscale\": [[0.0, \"#0d0887\"], [0.1111111111111111, \"#46039f\"], [0.2222222222222222, \"#7201a8\"], [0.3333333333333333, \"#9c179e\"], [0.4444444444444444, \"#bd3786\"], [0.5555555555555556, \"#d8576b\"], [0.6666666666666666, \"#ed7953\"], [0.7777777777777778, \"#fb9f3a\"], [0.8888888888888888, \"#fdca26\"], [1.0, \"#f0f921\"]], \"type\": \"histogram2dcontour\"}], \"mesh3d\": [{\"colorbar\": {\"outlinewidth\": 0, \"ticks\": \"\"}, \"type\": \"mesh3d\"}], \"parcoords\": [{\"line\": {\"colorbar\": {\"outlinewidth\": 0, \"ticks\": \"\"}}, \"type\": \"parcoords\"}], \"pie\": [{\"automargin\": true, \"type\": \"pie\"}], \"scatter\": [{\"marker\": {\"colorbar\": {\"outlinewidth\": 0, \"ticks\": \"\"}}, \"type\": \"scatter\"}], \"scatter3d\": [{\"line\": {\"colorbar\": {\"outlinewidth\": 0, \"ticks\": \"\"}}, \"marker\": {\"colorbar\": {\"outlinewidth\": 0, \"ticks\": \"\"}}, \"type\": \"scatter3d\"}], \"scattercarpet\": [{\"marker\": {\"colorbar\": {\"outlinewidth\": 0, \"ticks\": \"\"}}, \"type\": \"scattercarpet\"}], \"scattergeo\": [{\"marker\": {\"colorbar\": {\"outlinewidth\": 0, \"ticks\": \"\"}}, \"type\": \"scattergeo\"}], \"scattergl\": [{\"marker\": {\"colorbar\": {\"outlinewidth\": 0, \"ticks\": \"\"}}, \"type\": \"scattergl\"}], \"scattermapbox\": [{\"marker\": {\"colorbar\": {\"outlinewidth\": 0, \"ticks\": \"\"}}, \"type\": \"scattermapbox\"}], \"scatterpolar\": [{\"marker\": {\"colorbar\": {\"outlinewidth\": 0, \"ticks\": \"\"}}, \"type\": \"scatterpolar\"}], \"scatterpolargl\": [{\"marker\": {\"colorbar\": {\"outlinewidth\": 0, \"ticks\": \"\"}}, \"type\": \"scatterpolargl\"}], \"scatterternary\": [{\"marker\": {\"colorbar\": {\"outlinewidth\": 0, \"ticks\": \"\"}}, \"type\": \"scatterternary\"}], \"surface\": [{\"colorbar\": {\"outlinewidth\": 0, \"ticks\": \"\"}, \"colorscale\": [[0.0, \"#0d0887\"], [0.1111111111111111, \"#46039f\"], [0.2222222222222222, \"#7201a8\"], [0.3333333333333333, \"#9c179e\"], [0.4444444444444444, \"#bd3786\"], [0.5555555555555556, \"#d8576b\"], [0.6666666666666666, \"#ed7953\"], [0.7777777777777778, \"#fb9f3a\"], [0.8888888888888888, \"#fdca26\"], [1.0, \"#f0f921\"]], \"type\": \"surface\"}], \"table\": [{\"cells\": {\"fill\": {\"color\": \"#EBF0F8\"}, \"line\": {\"color\": \"white\"}}, \"header\": {\"fill\": {\"color\": \"#C8D4E3\"}, \"line\": {\"color\": \"white\"}}, \"type\": \"table\"}]}, \"layout\": {\"annotationdefaults\": {\"arrowcolor\": \"#2a3f5f\", \"arrowhead\": 0, \"arrowwidth\": 1}, \"coloraxis\": {\"colorbar\": {\"outlinewidth\": 0, \"ticks\": \"\"}}, \"colorscale\": {\"diverging\": [[0, \"#8e0152\"], [0.1, \"#c51b7d\"], [0.2, \"#de77ae\"], [0.3, \"#f1b6da\"], [0.4, \"#fde0ef\"], [0.5, \"#f7f7f7\"], [0.6, \"#e6f5d0\"], [0.7, \"#b8e186\"], [0.8, \"#7fbc41\"], [0.9, \"#4d9221\"], [1, \"#276419\"]], \"sequential\": [[0.0, \"#0d0887\"], [0.1111111111111111, \"#46039f\"], [0.2222222222222222, \"#7201a8\"], [0.3333333333333333, \"#9c179e\"], [0.4444444444444444, \"#bd3786\"], [0.5555555555555556, \"#d8576b\"], [0.6666666666666666, \"#ed7953\"], [0.7777777777777778, \"#fb9f3a\"], [0.8888888888888888, \"#fdca26\"], [1.0, \"#f0f921\"]], \"sequentialminus\": [[0.0, \"#0d0887\"], [0.1111111111111111, \"#46039f\"], [0.2222222222222222, \"#7201a8\"], [0.3333333333333333, \"#9c179e\"], [0.4444444444444444, \"#bd3786\"], [0.5555555555555556, \"#d8576b\"], [0.6666666666666666, \"#ed7953\"], [0.7777777777777778, \"#fb9f3a\"], [0.8888888888888888, \"#fdca26\"], [1.0, \"#f0f921\"]]}, \"colorway\": [\"#636efa\", \"#EF553B\", \"#00cc96\", \"#ab63fa\", \"#FFA15A\", \"#19d3f3\", \"#FF6692\", \"#B6E880\", \"#FF97FF\", \"#FECB52\"], \"font\": {\"color\": \"#2a3f5f\"}, \"geo\": {\"bgcolor\": \"white\", \"lakecolor\": \"white\", \"landcolor\": \"#E5ECF6\", \"showlakes\": true, \"showland\": true, \"subunitcolor\": \"white\"}, \"hoverlabel\": {\"align\": \"left\"}, \"hovermode\": \"closest\", \"mapbox\": {\"style\": \"light\"}, \"paper_bgcolor\": \"white\", \"plot_bgcolor\": \"#E5ECF6\", \"polar\": {\"angularaxis\": {\"gridcolor\": \"white\", \"linecolor\": \"white\", \"ticks\": \"\"}, \"bgcolor\": \"#E5ECF6\", \"radialaxis\": {\"gridcolor\": \"white\", \"linecolor\": \"white\", \"ticks\": \"\"}}, \"scene\": {\"xaxis\": {\"backgroundcolor\": \"#E5ECF6\", \"gridcolor\": \"white\", \"gridwidth\": 2, \"linecolor\": \"white\", \"showbackground\": true, \"ticks\": \"\", \"zerolinecolor\": \"white\"}, \"yaxis\": {\"backgroundcolor\": \"#E5ECF6\", \"gridcolor\": \"white\", \"gridwidth\": 2, \"linecolor\": \"white\", \"showbackground\": true, \"ticks\": \"\", \"zerolinecolor\": \"white\"}, \"zaxis\": {\"backgroundcolor\": \"#E5ECF6\", \"gridcolor\": \"white\", \"gridwidth\": 2, \"linecolor\": \"white\", \"showbackground\": true, \"ticks\": \"\", \"zerolinecolor\": \"white\"}}, \"shapedefaults\": {\"line\": {\"color\": \"#2a3f5f\"}}, \"ternary\": {\"aaxis\": {\"gridcolor\": \"white\", \"linecolor\": \"white\", \"ticks\": \"\"}, \"baxis\": {\"gridcolor\": \"white\", \"linecolor\": \"white\", \"ticks\": \"\"}, \"bgcolor\": \"#E5ECF6\", \"caxis\": {\"gridcolor\": \"white\", \"linecolor\": \"white\", \"ticks\": \"\"}}, \"title\": {\"x\": 0.05}, \"xaxis\": {\"automargin\": true, \"gridcolor\": \"white\", \"linecolor\": \"white\", \"ticks\": \"\", \"title\": {\"standoff\": 15}, \"zerolinecolor\": \"white\", \"zerolinewidth\": 2}, \"yaxis\": {\"automargin\": true, \"gridcolor\": \"white\", \"linecolor\": \"white\", \"ticks\": \"\", \"title\": {\"standoff\": 15}, \"zerolinecolor\": \"white\", \"zerolinewidth\": 2}}}, \"title\": {\"text\": \"\\u0417\\u0430\\u0432\\u0438\\u0441\\u0438\\u043c\\u043e\\u0441\\u0442\\u044c \\u043e\\u0448\\u0438\\u0431\\u043a\\u0438 \\u043f\\u0440\\u0435\\u0434\\u0441\\u043a\\u0430\\u0437\\u0430\\u043d\\u0438\\u044f \\u041d\\u0418\\u0417 \\u043e\\u0442 \\u043f\\u0430\\u0440\\u0430\\u043c\\u0435\\u0442\\u0440\\u043e\\u0432 \\u0430\\u043f\\u043f\\u0440\\u043e\\u043a\\u0441\\u0438\\u043c\\u0430\\u0446\\u0438\\u0438\", \"x\": 0.5, \"xanchor\": \"center\", \"y\": 0.95, \"yanchor\": \"top\"}, \"width\": 1400, \"xaxis\": {\"title\": {\"text\": \"\\u0420\\u0430\\u0437\\u043c\\u0435\\u0440 \\u043e\\u043a\\u043d\\u0430\"}}, \"yaxis\": {\"title\": {\"text\": \"\\u0421\\u0434\\u0432\\u0438\\u0433\"}}},\n",
              "                        {\"responsive\": true}\n",
              "                    ).then(function(){\n",
              "                            \n",
              "var gd = document.getElementById('34cabed4-432f-4007-82b1-d3a2b6541e7b');\n",
              "var x = new MutationObserver(function (mutations, observer) {{\n",
              "        var display = window.getComputedStyle(gd).display;\n",
              "        if (!display || display === 'none') {{\n",
              "            console.log([gd, 'removed!']);\n",
              "            Plotly.purge(gd);\n",
              "            observer.disconnect();\n",
              "        }}\n",
              "}});\n",
              "\n",
              "// Listen for the removal of the full notebook cells\n",
              "var notebookContainer = gd.closest('#notebook-container');\n",
              "if (notebookContainer) {{\n",
              "    x.observe(notebookContainer, {childList: true});\n",
              "}}\n",
              "\n",
              "// Listen for the clearing of the current output cell\n",
              "var outputEl = gd.closest('.output');\n",
              "if (outputEl) {{\n",
              "    x.observe(outputEl, {childList: true});\n",
              "}}\n",
              "\n",
              "                        })\n",
              "                };\n",
              "                \n",
              "            </script>\n",
              "        </div>\n",
              "</body>\n",
              "</html>"
            ]
          },
          "metadata": {
            "tags": []
          }
        }
      ]
    },
    {
      "cell_type": "code",
      "metadata": {
        "colab": {
          "base_uri": "https://localhost:8080/"
        },
        "id": "xZM6KKcgM-4H",
        "outputId": "58a5e347-ad71-4a28-889d-3f602b54eccc"
      },
      "source": [
        "xdata = df_graph[-11:-3]['oil_total']\n",
        "ydata = df_graph[-11:-3]['water_total']\n",
        "\n",
        "popt, pcov = curve_fit(naz_sip_func, xdata, ydata, p0 = [2, 0])\n",
        "popt\n",
        "naz_sip_niz(vvk, *popt)"
      ],
      "execution_count": 101,
      "outputs": [
        {
          "output_type": "execute_result",
          "data": {
            "text/plain": [
              "9009.48401815127"
            ]
          },
          "metadata": {
            "tags": []
          },
          "execution_count": 101
        }
      ]
    },
    {
      "cell_type": "code",
      "metadata": {
        "colab": {
          "base_uri": "https://localhost:8080/",
          "height": 717
        },
        "id": "OOo-FnXvFCI5",
        "outputId": "40f911e2-1a8d-400e-d2dc-1e91b31f08cd"
      },
      "source": [
        "fig = make_subplots(\n",
        "    subplot_titles=[\n",
        "                    'Весь период',\n",
        "                    'Период аппроксимации'],\n",
        "    rows=1, \n",
        "    cols=2)\n",
        "\n",
        "fig.add_trace(go.Scatter(x=df_graph['oil_total'], y=df_graph['water_total'],\n",
        "                    mode='lines+markers',\n",
        "                    name='Накопленный объем нефти, 10^6'),\n",
        "    row=1, col=1)\n",
        "\n",
        "fig.add_trace(go.Scatter(x=df_graph[-35:]['oil_total'], y=df_graph[-35:]['water_total'],\n",
        "                    mode='lines+markers',\n",
        "                    name='Период аппроксимации'),\n",
        "    row=1, col=1)\n",
        "\n",
        "#####\n",
        "\n",
        "fig.add_trace(go.Scatter(x=df_graph[-35:]['oil_total'], y=df_graph[-35:]['water_total'],\n",
        "                    mode='lines+markers',\n",
        "                    name='Годовой отбор жидкости, 10^6'),\n",
        "    row=1, col=2)\n",
        "\n",
        "fig.add_trace(go.Scatter(x=df_graph[-11:-3]['oil_total'], y=df_graph[-11:-3]['water_total'],\n",
        "                    mode='lines+markers',\n",
        "                    name='Участок аппроксимации'),\n",
        "    row=1, col=2)\n",
        "\n",
        "fig.add_trace(go.Scatter(x=df_graph[-11:-3]['oil_total'], y=naz_sip_func(xdata, *popt),\n",
        "                    mode='lines',\n",
        "                    name='Функция аппроксимации (Камбарова)'),\n",
        "    row=1, col=2)\n",
        "\n",
        "fig.add_annotation(x=5500, y=23000, text=\"НИЗ={0}\".format(int(naz_sip_niz(vvk, *popt))), showarrow=False, yshift=10, font=anno_font,\n",
        "    row=1, col=2)\n",
        "\n",
        "fig['layout']['xaxis1']['title']='Накопленный объем нефти, 10^-6'\n",
        "fig['layout']['xaxis1']['tickangle']=-45\n",
        "fig['layout']['xaxis1']['tickmode']='array'\n",
        "fig['layout']['yaxis1']['title']='Накопленный объем жидкости, 10^6'\n",
        "\n",
        "fig['layout']['xaxis2']['title']='Накопленный объем нефти, 10^-6'\n",
        "fig['layout']['xaxis2']['tickangle']=-45\n",
        "\n",
        "\n",
        "\n",
        "fig.update_layout( \n",
        "    title={\n",
        "        'text': 'Зависимость накопленного объема жидкости от добычи нефти',\n",
        "        'y':0.95,\n",
        "        'x':0.45,\n",
        "        'xanchor': 'center',\n",
        "        'yanchor': 'top'},\n",
        "    autosize=False,\n",
        "    width=1400,\n",
        "    height=700)\n",
        "\n",
        "\n",
        "fig.show()"
      ],
      "execution_count": 108,
      "outputs": [
        {
          "output_type": "display_data",
          "data": {
            "text/html": [
              "<html>\n",
              "<head><meta charset=\"utf-8\" /></head>\n",
              "<body>\n",
              "    <div>\n",
              "            <script src=\"https://cdnjs.cloudflare.com/ajax/libs/mathjax/2.7.5/MathJax.js?config=TeX-AMS-MML_SVG\"></script><script type=\"text/javascript\">if (window.MathJax) {MathJax.Hub.Config({SVG: {font: \"STIX-Web\"}});}</script>\n",
              "                <script type=\"text/javascript\">window.PlotlyConfig = {MathJaxConfig: 'local'};</script>\n",
              "        <script src=\"https://cdn.plot.ly/plotly-latest.min.js\"></script>    \n",
              "            <div id=\"2f7d2869-d195-478e-8342-627b86d6990f\" class=\"plotly-graph-div\" style=\"height:700px; width:1400px;\"></div>\n",
              "            <script type=\"text/javascript\">\n",
              "                \n",
              "                    window.PLOTLYENV=window.PLOTLYENV || {};\n",
              "                    \n",
              "                if (document.getElementById(\"2f7d2869-d195-478e-8342-627b86d6990f\")) {\n",
              "                    Plotly.newPlot(\n",
              "                        '2f7d2869-d195-478e-8342-627b86d6990f',\n",
              "                        [{\"mode\": \"lines+markers\", \"name\": \"\\u041d\\u0430\\u043a\\u043e\\u043f\\u043b\\u0435\\u043d\\u043d\\u044b\\u0439 \\u043e\\u0431\\u044a\\u0435\\u043c \\u043d\\u0435\\u0444\\u0442\\u0438, 10^6\", \"type\": \"scatter\", \"x\": [90.0, 181.0, 359.0, 754.0, 1175.0, 1881.0, 2655.0, 3247.0, 3666.0, 4018.0, 4343.0, 4637.0, 4822.0, 4948.0, 5068.0, 5185.0, 5297.0, 5410.0, 5543.0, 5660.0, 5762.0, 5858.0, 5928.0, 6003.0, 6062.0, 6114.0, 6163.0, 6214.0, 6271.0, 6324.0, 6377.0, 6433.0, 6494.0, 6548.0, 6606.0, 6661.0, 6719.0, 6776.0, 6837.0, 6899.0, 6959.0, 7011.0, 7061.0, 7105.0, 7153.0], \"xaxis\": \"x\", \"y\": [92.0, 190.0, 378.0, 796.0, 1324.0, 2178.0, 3263.0, 4172.0, 4924.0, 5677.0, 6548.0, 7617.0, 8476.0, 9344.0, 10137.0, 10896.0, 11686.0, 12457.0, 13339.0, 14154.0, 14834.0, 15532.0, 16082.0, 16705.0, 17272.0, 17726.0, 18061.0, 18457.0, 18920.0, 19375.0, 19799.0, 20211.0, 20665.0, 21105.0, 21504.0, 21933.0, 22322.0, 22538.0, 22747.0, 22949.0, 23154.0, 23347.0, 23548.0, 23762.0, 23993.0], \"yaxis\": \"y\"}, {\"mode\": \"lines+markers\", \"name\": \"\\u041f\\u0435\\u0440\\u0438\\u043e\\u0434 \\u0430\\u043f\\u043f\\u0440\\u043e\\u043a\\u0441\\u0438\\u043c\\u0430\\u0446\\u0438\\u0438\", \"type\": \"scatter\", \"x\": [4343.0, 4637.0, 4822.0, 4948.0, 5068.0, 5185.0, 5297.0, 5410.0, 5543.0, 5660.0, 5762.0, 5858.0, 5928.0, 6003.0, 6062.0, 6114.0, 6163.0, 6214.0, 6271.0, 6324.0, 6377.0, 6433.0, 6494.0, 6548.0, 6606.0, 6661.0, 6719.0, 6776.0, 6837.0, 6899.0, 6959.0, 7011.0, 7061.0, 7105.0, 7153.0], \"xaxis\": \"x\", \"y\": [6548.0, 7617.0, 8476.0, 9344.0, 10137.0, 10896.0, 11686.0, 12457.0, 13339.0, 14154.0, 14834.0, 15532.0, 16082.0, 16705.0, 17272.0, 17726.0, 18061.0, 18457.0, 18920.0, 19375.0, 19799.0, 20211.0, 20665.0, 21105.0, 21504.0, 21933.0, 22322.0, 22538.0, 22747.0, 22949.0, 23154.0, 23347.0, 23548.0, 23762.0, 23993.0], \"yaxis\": \"y\"}, {\"mode\": \"lines+markers\", \"name\": \"\\u0413\\u043e\\u0434\\u043e\\u0432\\u043e\\u0439 \\u043e\\u0442\\u0431\\u043e\\u0440 \\u0436\\u0438\\u0434\\u043a\\u043e\\u0441\\u0442\\u0438, 10^6\", \"type\": \"scatter\", \"x\": [4343.0, 4637.0, 4822.0, 4948.0, 5068.0, 5185.0, 5297.0, 5410.0, 5543.0, 5660.0, 5762.0, 5858.0, 5928.0, 6003.0, 6062.0, 6114.0, 6163.0, 6214.0, 6271.0, 6324.0, 6377.0, 6433.0, 6494.0, 6548.0, 6606.0, 6661.0, 6719.0, 6776.0, 6837.0, 6899.0, 6959.0, 7011.0, 7061.0, 7105.0, 7153.0], \"xaxis\": \"x2\", \"y\": [6548.0, 7617.0, 8476.0, 9344.0, 10137.0, 10896.0, 11686.0, 12457.0, 13339.0, 14154.0, 14834.0, 15532.0, 16082.0, 16705.0, 17272.0, 17726.0, 18061.0, 18457.0, 18920.0, 19375.0, 19799.0, 20211.0, 20665.0, 21105.0, 21504.0, 21933.0, 22322.0, 22538.0, 22747.0, 22949.0, 23154.0, 23347.0, 23548.0, 23762.0, 23993.0], \"yaxis\": \"y2\"}, {\"mode\": \"lines+markers\", \"name\": \"\\u0423\\u0447\\u0430\\u0441\\u0442\\u043e\\u043a \\u0430\\u043f\\u043f\\u0440\\u043e\\u043a\\u0441\\u0438\\u043c\\u0430\\u0446\\u0438\\u0438\", \"type\": \"scatter\", \"x\": [6606.0, 6661.0, 6719.0, 6776.0, 6837.0, 6899.0, 6959.0, 7011.0], \"xaxis\": \"x2\", \"y\": [21504.0, 21933.0, 22322.0, 22538.0, 22747.0, 22949.0, 23154.0, 23347.0], \"yaxis\": \"y2\"}, {\"mode\": \"lines\", \"name\": \"\\u0424\\u0443\\u043d\\u043a\\u0446\\u0438\\u044f \\u0430\\u043f\\u043f\\u0440\\u043e\\u043a\\u0441\\u0438\\u043c\\u0430\\u0446\\u0438\\u0438 (\\u041a\\u0430\\u043c\\u0431\\u0430\\u0440\\u043e\\u0432\\u0430)\", \"type\": \"scatter\", \"x\": [6606.0, 6661.0, 6719.0, 6776.0, 6837.0, 6899.0, 6959.0, 7011.0], \"xaxis\": \"x2\", \"y\": [21704.88566393899, 21935.135136339708, 22179.1834326834, 22420.276507099872, 22679.678235161726, 22944.820838010244, 23202.85486356531, 23427.645646361172], \"yaxis\": \"y2\"}],\n",
              "                        {\"annotations\": [{\"font\": {\"size\": 16}, \"showarrow\": false, \"text\": \"\\u0412\\u0435\\u0441\\u044c \\u043f\\u0435\\u0440\\u0438\\u043e\\u0434\", \"x\": 0.225, \"xanchor\": \"center\", \"xref\": \"paper\", \"y\": 1.0, \"yanchor\": \"bottom\", \"yref\": \"paper\"}, {\"font\": {\"size\": 16}, \"showarrow\": false, \"text\": \"\\u041f\\u0435\\u0440\\u0438\\u043e\\u0434 \\u0430\\u043f\\u043f\\u0440\\u043e\\u043a\\u0441\\u0438\\u043c\\u0430\\u0446\\u0438\\u0438\", \"x\": 0.775, \"xanchor\": \"center\", \"xref\": \"paper\", \"y\": 1.0, \"yanchor\": \"bottom\", \"yref\": \"paper\"}, {\"font\": {\"color\": \"Black\", \"family\": \"arial bold\", \"size\": 36}, \"showarrow\": false, \"text\": \"\\u041d\\u0418\\u0417=9009\", \"x\": 5500, \"xref\": \"x2\", \"y\": 23000, \"yref\": \"y2\", \"yshift\": 10}], \"autosize\": false, \"height\": 700, \"template\": {\"data\": {\"bar\": [{\"error_x\": {\"color\": \"#2a3f5f\"}, \"error_y\": {\"color\": \"#2a3f5f\"}, \"marker\": {\"line\": {\"color\": \"#E5ECF6\", \"width\": 0.5}}, \"type\": \"bar\"}], \"barpolar\": [{\"marker\": {\"line\": {\"color\": \"#E5ECF6\", \"width\": 0.5}}, \"type\": \"barpolar\"}], \"carpet\": [{\"aaxis\": {\"endlinecolor\": \"#2a3f5f\", \"gridcolor\": \"white\", \"linecolor\": \"white\", \"minorgridcolor\": \"white\", \"startlinecolor\": \"#2a3f5f\"}, \"baxis\": {\"endlinecolor\": \"#2a3f5f\", \"gridcolor\": \"white\", \"linecolor\": \"white\", \"minorgridcolor\": \"white\", \"startlinecolor\": \"#2a3f5f\"}, \"type\": \"carpet\"}], \"choropleth\": [{\"colorbar\": {\"outlinewidth\": 0, \"ticks\": \"\"}, \"type\": \"choropleth\"}], \"contour\": [{\"colorbar\": {\"outlinewidth\": 0, \"ticks\": \"\"}, \"colorscale\": [[0.0, \"#0d0887\"], [0.1111111111111111, \"#46039f\"], [0.2222222222222222, \"#7201a8\"], [0.3333333333333333, \"#9c179e\"], [0.4444444444444444, \"#bd3786\"], [0.5555555555555556, \"#d8576b\"], [0.6666666666666666, \"#ed7953\"], [0.7777777777777778, \"#fb9f3a\"], [0.8888888888888888, \"#fdca26\"], [1.0, \"#f0f921\"]], \"type\": \"contour\"}], \"contourcarpet\": [{\"colorbar\": {\"outlinewidth\": 0, \"ticks\": \"\"}, \"type\": \"contourcarpet\"}], \"heatmap\": [{\"colorbar\": {\"outlinewidth\": 0, \"ticks\": \"\"}, \"colorscale\": [[0.0, \"#0d0887\"], [0.1111111111111111, \"#46039f\"], [0.2222222222222222, \"#7201a8\"], [0.3333333333333333, \"#9c179e\"], [0.4444444444444444, \"#bd3786\"], [0.5555555555555556, \"#d8576b\"], [0.6666666666666666, \"#ed7953\"], [0.7777777777777778, \"#fb9f3a\"], [0.8888888888888888, \"#fdca26\"], [1.0, \"#f0f921\"]], \"type\": \"heatmap\"}], \"heatmapgl\": [{\"colorbar\": {\"outlinewidth\": 0, \"ticks\": \"\"}, \"colorscale\": [[0.0, \"#0d0887\"], [0.1111111111111111, \"#46039f\"], [0.2222222222222222, \"#7201a8\"], [0.3333333333333333, \"#9c179e\"], [0.4444444444444444, \"#bd3786\"], [0.5555555555555556, \"#d8576b\"], [0.6666666666666666, \"#ed7953\"], [0.7777777777777778, \"#fb9f3a\"], [0.8888888888888888, \"#fdca26\"], [1.0, \"#f0f921\"]], \"type\": \"heatmapgl\"}], \"histogram\": [{\"marker\": {\"colorbar\": {\"outlinewidth\": 0, \"ticks\": \"\"}}, \"type\": \"histogram\"}], \"histogram2d\": [{\"colorbar\": {\"outlinewidth\": 0, \"ticks\": \"\"}, \"colorscale\": [[0.0, \"#0d0887\"], [0.1111111111111111, \"#46039f\"], [0.2222222222222222, \"#7201a8\"], [0.3333333333333333, \"#9c179e\"], [0.4444444444444444, \"#bd3786\"], [0.5555555555555556, \"#d8576b\"], [0.6666666666666666, \"#ed7953\"], [0.7777777777777778, \"#fb9f3a\"], [0.8888888888888888, \"#fdca26\"], [1.0, \"#f0f921\"]], \"type\": \"histogram2d\"}], \"histogram2dcontour\": [{\"colorbar\": {\"outlinewidth\": 0, \"ticks\": \"\"}, \"colorscale\": [[0.0, \"#0d0887\"], [0.1111111111111111, \"#46039f\"], [0.2222222222222222, \"#7201a8\"], [0.3333333333333333, \"#9c179e\"], [0.4444444444444444, \"#bd3786\"], [0.5555555555555556, \"#d8576b\"], [0.6666666666666666, \"#ed7953\"], [0.7777777777777778, \"#fb9f3a\"], [0.8888888888888888, \"#fdca26\"], [1.0, \"#f0f921\"]], \"type\": \"histogram2dcontour\"}], \"mesh3d\": [{\"colorbar\": {\"outlinewidth\": 0, \"ticks\": \"\"}, \"type\": \"mesh3d\"}], \"parcoords\": [{\"line\": {\"colorbar\": {\"outlinewidth\": 0, \"ticks\": \"\"}}, \"type\": \"parcoords\"}], \"pie\": [{\"automargin\": true, \"type\": \"pie\"}], \"scatter\": [{\"marker\": {\"colorbar\": {\"outlinewidth\": 0, \"ticks\": \"\"}}, \"type\": \"scatter\"}], \"scatter3d\": [{\"line\": {\"colorbar\": {\"outlinewidth\": 0, \"ticks\": \"\"}}, \"marker\": {\"colorbar\": {\"outlinewidth\": 0, \"ticks\": \"\"}}, \"type\": \"scatter3d\"}], \"scattercarpet\": [{\"marker\": {\"colorbar\": {\"outlinewidth\": 0, \"ticks\": \"\"}}, \"type\": \"scattercarpet\"}], \"scattergeo\": [{\"marker\": {\"colorbar\": {\"outlinewidth\": 0, \"ticks\": \"\"}}, \"type\": \"scattergeo\"}], \"scattergl\": [{\"marker\": {\"colorbar\": {\"outlinewidth\": 0, \"ticks\": \"\"}}, \"type\": \"scattergl\"}], \"scattermapbox\": [{\"marker\": {\"colorbar\": {\"outlinewidth\": 0, \"ticks\": \"\"}}, \"type\": \"scattermapbox\"}], \"scatterpolar\": [{\"marker\": {\"colorbar\": {\"outlinewidth\": 0, \"ticks\": \"\"}}, \"type\": \"scatterpolar\"}], \"scatterpolargl\": [{\"marker\": {\"colorbar\": {\"outlinewidth\": 0, \"ticks\": \"\"}}, \"type\": \"scatterpolargl\"}], \"scatterternary\": [{\"marker\": {\"colorbar\": {\"outlinewidth\": 0, \"ticks\": \"\"}}, \"type\": \"scatterternary\"}], \"surface\": [{\"colorbar\": {\"outlinewidth\": 0, \"ticks\": \"\"}, \"colorscale\": [[0.0, \"#0d0887\"], [0.1111111111111111, \"#46039f\"], [0.2222222222222222, \"#7201a8\"], [0.3333333333333333, \"#9c179e\"], [0.4444444444444444, \"#bd3786\"], [0.5555555555555556, \"#d8576b\"], [0.6666666666666666, \"#ed7953\"], [0.7777777777777778, \"#fb9f3a\"], [0.8888888888888888, \"#fdca26\"], [1.0, \"#f0f921\"]], \"type\": \"surface\"}], \"table\": [{\"cells\": {\"fill\": {\"color\": \"#EBF0F8\"}, \"line\": {\"color\": \"white\"}}, \"header\": {\"fill\": {\"color\": \"#C8D4E3\"}, \"line\": {\"color\": \"white\"}}, \"type\": \"table\"}]}, \"layout\": {\"annotationdefaults\": {\"arrowcolor\": \"#2a3f5f\", \"arrowhead\": 0, \"arrowwidth\": 1}, \"coloraxis\": {\"colorbar\": {\"outlinewidth\": 0, \"ticks\": \"\"}}, \"colorscale\": {\"diverging\": [[0, \"#8e0152\"], [0.1, \"#c51b7d\"], [0.2, \"#de77ae\"], [0.3, \"#f1b6da\"], [0.4, \"#fde0ef\"], [0.5, \"#f7f7f7\"], [0.6, \"#e6f5d0\"], [0.7, \"#b8e186\"], [0.8, \"#7fbc41\"], [0.9, \"#4d9221\"], [1, \"#276419\"]], \"sequential\": [[0.0, \"#0d0887\"], [0.1111111111111111, \"#46039f\"], [0.2222222222222222, \"#7201a8\"], [0.3333333333333333, \"#9c179e\"], [0.4444444444444444, \"#bd3786\"], [0.5555555555555556, \"#d8576b\"], [0.6666666666666666, \"#ed7953\"], [0.7777777777777778, \"#fb9f3a\"], [0.8888888888888888, \"#fdca26\"], [1.0, \"#f0f921\"]], \"sequentialminus\": [[0.0, \"#0d0887\"], [0.1111111111111111, \"#46039f\"], [0.2222222222222222, \"#7201a8\"], [0.3333333333333333, \"#9c179e\"], [0.4444444444444444, \"#bd3786\"], [0.5555555555555556, \"#d8576b\"], [0.6666666666666666, \"#ed7953\"], [0.7777777777777778, \"#fb9f3a\"], [0.8888888888888888, \"#fdca26\"], [1.0, \"#f0f921\"]]}, \"colorway\": [\"#636efa\", \"#EF553B\", \"#00cc96\", \"#ab63fa\", \"#FFA15A\", \"#19d3f3\", \"#FF6692\", \"#B6E880\", \"#FF97FF\", \"#FECB52\"], \"font\": {\"color\": \"#2a3f5f\"}, \"geo\": {\"bgcolor\": \"white\", \"lakecolor\": \"white\", \"landcolor\": \"#E5ECF6\", \"showlakes\": true, \"showland\": true, \"subunitcolor\": \"white\"}, \"hoverlabel\": {\"align\": \"left\"}, \"hovermode\": \"closest\", \"mapbox\": {\"style\": \"light\"}, \"paper_bgcolor\": \"white\", \"plot_bgcolor\": \"#E5ECF6\", \"polar\": {\"angularaxis\": {\"gridcolor\": \"white\", \"linecolor\": \"white\", \"ticks\": \"\"}, \"bgcolor\": \"#E5ECF6\", \"radialaxis\": {\"gridcolor\": \"white\", \"linecolor\": \"white\", \"ticks\": \"\"}}, \"scene\": {\"xaxis\": {\"backgroundcolor\": \"#E5ECF6\", \"gridcolor\": \"white\", \"gridwidth\": 2, \"linecolor\": \"white\", \"showbackground\": true, \"ticks\": \"\", \"zerolinecolor\": \"white\"}, \"yaxis\": {\"backgroundcolor\": \"#E5ECF6\", \"gridcolor\": \"white\", \"gridwidth\": 2, \"linecolor\": \"white\", \"showbackground\": true, \"ticks\": \"\", \"zerolinecolor\": \"white\"}, \"zaxis\": {\"backgroundcolor\": \"#E5ECF6\", \"gridcolor\": \"white\", \"gridwidth\": 2, \"linecolor\": \"white\", \"showbackground\": true, \"ticks\": \"\", \"zerolinecolor\": \"white\"}}, \"shapedefaults\": {\"line\": {\"color\": \"#2a3f5f\"}}, \"ternary\": {\"aaxis\": {\"gridcolor\": \"white\", \"linecolor\": \"white\", \"ticks\": \"\"}, \"baxis\": {\"gridcolor\": \"white\", \"linecolor\": \"white\", \"ticks\": \"\"}, \"bgcolor\": \"#E5ECF6\", \"caxis\": {\"gridcolor\": \"white\", \"linecolor\": \"white\", \"ticks\": \"\"}}, \"title\": {\"x\": 0.05}, \"xaxis\": {\"automargin\": true, \"gridcolor\": \"white\", \"linecolor\": \"white\", \"ticks\": \"\", \"title\": {\"standoff\": 15}, \"zerolinecolor\": \"white\", \"zerolinewidth\": 2}, \"yaxis\": {\"automargin\": true, \"gridcolor\": \"white\", \"linecolor\": \"white\", \"ticks\": \"\", \"title\": {\"standoff\": 15}, \"zerolinecolor\": \"white\", \"zerolinewidth\": 2}}}, \"title\": {\"text\": \"\\u0417\\u0430\\u0432\\u0438\\u0441\\u0438\\u043c\\u043e\\u0441\\u0442\\u044c \\u043d\\u0430\\u043a\\u043e\\u043f\\u043b\\u0435\\u043d\\u043d\\u043e\\u0433\\u043e \\u043e\\u0431\\u044a\\u0435\\u043c\\u0430 \\u0436\\u0438\\u0434\\u043a\\u043e\\u0441\\u0442\\u0438 \\u043e\\u0442 \\u0434\\u043e\\u0431\\u044b\\u0447\\u0438 \\u043d\\u0435\\u0444\\u0442\\u0438\", \"x\": 0.45, \"xanchor\": \"center\", \"y\": 0.95, \"yanchor\": \"top\"}, \"width\": 1400, \"xaxis\": {\"anchor\": \"y\", \"domain\": [0.0, 0.45], \"tickangle\": -45, \"tickmode\": \"array\", \"title\": {\"text\": \"\\u041d\\u0430\\u043a\\u043e\\u043f\\u043b\\u0435\\u043d\\u043d\\u044b\\u0439 \\u043e\\u0431\\u044a\\u0435\\u043c \\u043d\\u0435\\u0444\\u0442\\u0438, 10^-6\"}}, \"xaxis2\": {\"anchor\": \"y2\", \"domain\": [0.55, 1.0], \"tickangle\": -45, \"title\": {\"text\": \"\\u041d\\u0430\\u043a\\u043e\\u043f\\u043b\\u0435\\u043d\\u043d\\u044b\\u0439 \\u043e\\u0431\\u044a\\u0435\\u043c \\u043d\\u0435\\u0444\\u0442\\u0438, 10^-6\"}}, \"yaxis\": {\"anchor\": \"x\", \"domain\": [0.0, 1.0], \"title\": {\"text\": \"\\u041d\\u0430\\u043a\\u043e\\u043f\\u043b\\u0435\\u043d\\u043d\\u044b\\u0439 \\u043e\\u0431\\u044a\\u0435\\u043c \\u0436\\u0438\\u0434\\u043a\\u043e\\u0441\\u0442\\u0438, 10^6\"}}, \"yaxis2\": {\"anchor\": \"x2\", \"domain\": [0.0, 1.0]}},\n",
              "                        {\"responsive\": true}\n",
              "                    ).then(function(){\n",
              "                            \n",
              "var gd = document.getElementById('2f7d2869-d195-478e-8342-627b86d6990f');\n",
              "var x = new MutationObserver(function (mutations, observer) {{\n",
              "        var display = window.getComputedStyle(gd).display;\n",
              "        if (!display || display === 'none') {{\n",
              "            console.log([gd, 'removed!']);\n",
              "            Plotly.purge(gd);\n",
              "            observer.disconnect();\n",
              "        }}\n",
              "}});\n",
              "\n",
              "// Listen for the removal of the full notebook cells\n",
              "var notebookContainer = gd.closest('#notebook-container');\n",
              "if (notebookContainer) {{\n",
              "    x.observe(notebookContainer, {childList: true});\n",
              "}}\n",
              "\n",
              "// Listen for the clearing of the current output cell\n",
              "var outputEl = gd.closest('.output');\n",
              "if (outputEl) {{\n",
              "    x.observe(outputEl, {childList: true});\n",
              "}}\n",
              "\n",
              "                        })\n",
              "                };\n",
              "                \n",
              "            </script>\n",
              "        </div>\n",
              "</body>\n",
              "</html>"
            ]
          },
          "metadata": {
            "tags": []
          }
        }
      ]
    },
    {
      "cell_type": "code",
      "metadata": {
        "id": "aQeBhoEoZeAY"
      },
      "source": [
        ""
      ],
      "execution_count": 37,
      "outputs": []
    },
    {
      "cell_type": "code",
      "metadata": {
        "id": "SckkHm_gZeDh"
      },
      "source": [
        ""
      ],
      "execution_count": 37,
      "outputs": []
    },
    {
      "cell_type": "code",
      "metadata": {
        "colab": {
          "base_uri": "https://localhost:8080/",
          "height": 207
        },
        "id": "bUaUn_W_Ao40",
        "outputId": "ecbb8757-8bf6-4856-ddbc-79155972ebc7"
      },
      "source": [
        "xdata = df_graph[-25:-5]['water_total']\n",
        "ydata = df_graph[-25:-5]['oil_total']\n",
        "\n",
        "popt, pcov = curve_fit(sazonov_func, xdata, ydata)\n",
        "popt\n",
        "\n",
        "ydata_fit = func_sazonov(xdata, *popt)"
      ],
      "execution_count": 38,
      "outputs": [
        {
          "output_type": "error",
          "ename": "NameError",
          "evalue": "ignored",
          "traceback": [
            "\u001b[0;31m---------------------------------------------------------------------------\u001b[0m",
            "\u001b[0;31mNameError\u001b[0m                                 Traceback (most recent call last)",
            "\u001b[0;32m<ipython-input-38-b1877a5b21e4>\u001b[0m in \u001b[0;36m<module>\u001b[0;34m()\u001b[0m\n\u001b[1;32m      5\u001b[0m \u001b[0mpopt\u001b[0m\u001b[0;34m\u001b[0m\u001b[0;34m\u001b[0m\u001b[0m\n\u001b[1;32m      6\u001b[0m \u001b[0;34m\u001b[0m\u001b[0m\n\u001b[0;32m----> 7\u001b[0;31m \u001b[0mydata_fit\u001b[0m \u001b[0;34m=\u001b[0m \u001b[0mfunc_sazonov\u001b[0m\u001b[0;34m(\u001b[0m\u001b[0mxdata\u001b[0m\u001b[0;34m,\u001b[0m \u001b[0;34m*\u001b[0m\u001b[0mpopt\u001b[0m\u001b[0;34m)\u001b[0m\u001b[0;34m\u001b[0m\u001b[0;34m\u001b[0m\u001b[0m\n\u001b[0m",
            "\u001b[0;31mNameError\u001b[0m: name 'func_sazonov' is not defined"
          ]
        }
      ]
    },
    {
      "cell_type": "code",
      "metadata": {
        "id": "IYIbuzPxZGM0"
      },
      "source": [
        ""
      ],
      "execution_count": null,
      "outputs": []
    },
    {
      "cell_type": "code",
      "metadata": {
        "id": "n4kz9zZjAo78"
      },
      "source": [
        "fig = make_subplots(\n",
        "    subplot_titles=[\n",
        "                    'Весь период',\n",
        "                    'Период аппроксимации'],\n",
        "    rows=1, \n",
        "    cols=2)\n",
        "\n",
        "fig.add_trace(go.Scatter(x=df_graph['water_total_ln'], y=df_graph['oil_total'],\n",
        "                    mode='lines+markers',\n",
        "                    name='Накопленный объем нефти, 10^6'),\n",
        "    row=1, col=1)\n",
        "\n",
        "fig.add_trace(go.Scatter(x=df_graph[-35:]['water_total_ln'], y=df_graph[-35:]['oil_total'],\n",
        "                    mode='lines+markers',\n",
        "                    name='Период аппроксимации'),\n",
        "    row=1, col=1)\n",
        "\n",
        "#####\n",
        "\n",
        "fig.add_trace(go.Scatter(x=df_graph[-35:]['water_total_ln'], y=df_graph[-35:]['oil_total'],\n",
        "                    mode='lines+markers',\n",
        "                    name='Годовой отбор жидкости, 10^6'),\n",
        "    row=1, col=2)\n",
        "\n",
        "fig.add_trace(go.Scatter(x=df_graph[-25:-5]['water_total_ln'], y=df_graph[-25:]['oil_total'],\n",
        "                    mode='lines+markers',\n",
        "                    name='Участок аппроксимации'),\n",
        "    row=1, col=2)\n",
        "\n",
        "fig.add_trace(go.Scatter(x=df_graph[-25:-5]['water_total_ln'], y=ydata_fit,\n",
        "                    mode='lines',\n",
        "                    name='Функция аппроксимации (Сазонова)'),\n",
        "    row=1, col=2)\n",
        "\n",
        "\n",
        "fig['layout']['xaxis1']['title']='ln(накопленный объем жидкости)'\n",
        "fig['layout']['xaxis1']['tickangle']=-45\n",
        "fig['layout']['xaxis1']['tickmode']='array'\n",
        "#fig['layout']['xaxis1']['tickvals']=df_data['year']\n",
        "fig['layout']['yaxis1']['title']='Накопленный объем нефти, 10^6'\n",
        "\n",
        "fig['layout']['xaxis2']['title']='ln(накопленный объем жидкости)'\n",
        "fig['layout']['xaxis2']['tickangle']=-45\n",
        "#fig['layout']['yaxis2']['title']='Обводненность, д.ед.'\n",
        "\n",
        "\n",
        "\n",
        "fig.update_layout( \n",
        "    title={\n",
        "        'text': 'Зависимость накопленной добычи нефти от объема жидкости',\n",
        "        'y':0.95,\n",
        "        'x':0.45,\n",
        "        'xanchor': 'center',\n",
        "        'yanchor': 'top'},\n",
        "    autosize=False,\n",
        "    width=1400,\n",
        "    height=700)\n",
        "\n",
        "\n",
        "fig.show()"
      ],
      "execution_count": null,
      "outputs": []
    },
    {
      "cell_type": "code",
      "metadata": {
        "id": "lOHNp5-OAo_B"
      },
      "source": [
        "frame_range = [10, 25]\n",
        "shift_range = [0, 15]"
      ],
      "execution_count": null,
      "outputs": []
    },
    {
      "cell_type": "code",
      "metadata": {
        "id": "_MlZGzqpApGl"
      },
      "source": [
        "for shift in range(shift_range[0], shift_range[1] + 1):\n",
        "  for frame in range(frame_range[0], frame_range[1] + 1):\n",
        "    if shift == 0:\n",
        "      xdata = df_graph[-frame:]['water_total']\n",
        "      ydata = df_graph[-frame:]['oil_total']\n",
        "    else:\n",
        "      xdata = df_graph[-(frame + shift):-shift]['water_total']\n",
        "      ydata = df_graph[-(frame + shift):-shift]['oil_total']      \n",
        "\n",
        "    #print(shift, frame)\n",
        "    #popt, pcov = curve_fit(func_kambarov, xdata, ydata)\n",
        "    popt, pcov = curve_fit(func_sazonov, xdata, ydata)\n",
        "    popt\n",
        "\n",
        "    #print(popt[0], popt[1], kambarov_niz(popt[0], np.abs(popt[1])))\n",
        "    print(popt[0], popt[1], sazonov_niz(popt[0], np.abs(popt[1])))\n",
        "\n",
        "\n",
        "    #ydata_fit = func_kambarov(xdata, *popt)\n"
      ],
      "execution_count": null,
      "outputs": []
    },
    {
      "cell_type": "code",
      "metadata": {
        "id": "1GG_aLm1yZmi"
      },
      "source": [
        "df_graph[-27:-2]['oil_total']"
      ],
      "execution_count": null,
      "outputs": []
    },
    {
      "cell_type": "code",
      "metadata": {
        "id": "6i-Mcdgln0vB"
      },
      "source": [
        "fig = go.Figure()\n",
        "\n",
        "fig.add_trace(go.Scatter(x=df_graph['water_total_deg_1'], y=df_graph['oil_total'],\n",
        "                    mode='lines+markers',\n",
        "                    name='Накопленный объем нефти, 10^6'))\n",
        "\n",
        "fig.add_trace(go.Scatter(x=df_graph[-35:]['water_total_deg_1'], y=df_graph[-35:]['oil_total'],\n",
        "                    mode='lines',\n",
        "                    name='Накопленный объем нефти <br>(предполагаемый период масштабирования)'))\n",
        "\n",
        "fig.update_layout( \n",
        "    xaxis=dict(\n",
        "        domain=[0.2, 0.9],\n",
        "        title='1 / Накопленный объем жидкости',\n",
        "    ),\n",
        "    yaxis=dict(\n",
        "        title='Накопленный объем нефти',\n",
        "    ),\n",
        "    title={\n",
        "        'text': \"Зависимость накопленной добычи нефти от объема жидкости\",\n",
        "        'y':0.95,\n",
        "        'x':0.50,\n",
        "        'xanchor': 'center',\n",
        "        'yanchor': 'top'},\n",
        "    autosize=False,\n",
        "    width=1400,\n",
        "    height=900\n",
        ")\n",
        "\n",
        "fig.show()"
      ],
      "execution_count": null,
      "outputs": []
    },
    {
      "cell_type": "code",
      "metadata": {
        "id": "kj1FMXaM6xHR"
      },
      "source": [
        "fig = go.Figure()\n",
        "\n",
        "fig.add_trace(go.Scatter(x=df_graph[-35:]['water_total_deg_1'], y=df_graph[-35:]['oil_total'],\n",
        "                    mode='lines+markers',\n",
        "                    name='Годовой отбор жидкости, 10^6'))\n",
        "\n",
        "fig.add_trace(go.Scatter(x=df_graph[-25:]['water_total_deg_1'], y=df_graph[-25:]['oil_total'],\n",
        "                    mode='lines+markers',\n",
        "                    name='Годовой отбор жидкости, 10^6'))\n",
        "\n",
        "fig.add_trace(go.Scatter(x=xdata, y=ydata_fit,\n",
        "                    mode='lines',\n",
        "                    name='Годовой отбор жидкости, 10^6'))\n",
        "\n",
        "fig.update_layout( \n",
        "    xaxis=dict(\n",
        "        domain=[0.2, 0.9],\n",
        "        title='Накопленный объем жидкости в степени -1',\n",
        "    ),\n",
        "    title={\n",
        "        'text': \"Зависимость накопленной добычи нефти от объема жидкости\",\n",
        "        'y':0.95,\n",
        "        'x':0.55,\n",
        "        'xanchor': 'center',\n",
        "        'yanchor': 'top'},\n",
        "    autosize=False,\n",
        "    width=1400,\n",
        "    height=900\n",
        ")\n",
        "\n",
        "fig.show()"
      ],
      "execution_count": null,
      "outputs": []
    },
    {
      "cell_type": "code",
      "metadata": {
        "id": "Hgl0tl8vw6Hf"
      },
      "source": [
        "popt, pcov = curve_fit(func_kambarov, xdata, ydata)\n",
        "popt\n",
        "\n",
        "plt.plot(xdata, func_kambarov(xdata, *popt), 'r-',\n",
        "         label='fit: a=%5.3f, b=%5.3f' % tuple(popt))"
      ],
      "execution_count": null,
      "outputs": []
    },
    {
      "cell_type": "code",
      "metadata": {
        "id": "Zm8ZEVtVw6KO"
      },
      "source": [
        "popt\n",
        "b = popt[1]"
      ],
      "execution_count": null,
      "outputs": []
    },
    {
      "cell_type": "code",
      "metadata": {
        "id": "kit5FeTbw6Ps"
      },
      "source": [
        ""
      ],
      "execution_count": null,
      "outputs": []
    },
    {
      "cell_type": "code",
      "metadata": {
        "id": "qtn5yNCftEZU"
      },
      "source": [
        "import matplotlib.pyplot as plt\n",
        "from scipy.optimize import curve_fit\n",
        "\n",
        "def func(x, a, b, c):\n",
        "    return a * np.exp(-b * x) + c\n",
        "\n",
        "xdata = np.linspace(0, 4, 50)\n",
        "y = func(xdata, 2.5, 1.3, 0.5)\n",
        "np.random.seed(1729)\n",
        "y_noise = 0.2 * np.random.normal(size=xdata.size)\n",
        "ydata = y + y_noise\n",
        "plt.plot(xdata, ydata, 'b-', label='data')"
      ],
      "execution_count": null,
      "outputs": []
    },
    {
      "cell_type": "code",
      "metadata": {
        "id": "KS34jtDGwQB6"
      },
      "source": [
        "def func2(x, a, b):\n",
        "    return a - b * x"
      ],
      "execution_count": null,
      "outputs": []
    },
    {
      "cell_type": "code",
      "metadata": {
        "id": "0za17ktptEi-"
      },
      "source": [
        "popt, pcov = curve_fit(func2, xdata, ydata)\n",
        "popt\n",
        "\n",
        "plt.plot(xdata, func2(xdata, *popt), 'r-',\n",
        "         label='fit: a=%5.3f, b=%5.3f' % tuple(popt))"
      ],
      "execution_count": null,
      "outputs": []
    },
    {
      "cell_type": "code",
      "metadata": {
        "id": "HN2MKMOZoSQW"
      },
      "source": [
        "popt, pcov = curve_fit(func, xdata, ydata, bounds=(0, [3., 1., 0.5]))\n",
        "popt\n",
        "\n",
        "plt.plot(xdata, func(xdata, *popt), 'g--',\n",
        "         label='fit: a=%5.3f, b=%5.3f, c=%5.3f' % tuple(popt))\n",
        "\n",
        "plt.xlabel('x')\n",
        "plt.ylabel('y')\n",
        "plt.legend()\n",
        "plt.show()"
      ],
      "execution_count": null,
      "outputs": []
    },
    {
      "cell_type": "code",
      "metadata": {
        "id": "UU8iOXrrtkRf"
      },
      "source": [
        ""
      ],
      "execution_count": null,
      "outputs": []
    }
  ]
}