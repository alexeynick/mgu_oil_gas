{
  "nbformat": 4,
  "nbformat_minor": 0,
  "metadata": {
    "colab": {
      "name": "module2_lesson6.ipynb",
      "provenance": [],
      "collapsed_sections": [],
      "authorship_tag": "ABX9TyN+Drh3nugOMIeTwGvFj7Yt",
      "include_colab_link": true
    },
    "kernelspec": {
      "name": "python3",
      "display_name": "Python 3"
    },
    "language_info": {
      "name": "python"
    }
  },
  "cells": [
    {
      "cell_type": "markdown",
      "metadata": {
        "id": "view-in-github",
        "colab_type": "text"
      },
      "source": [
        "<a href=\"https://colab.research.google.com/github/alexeynick/msu_oil_gas/blob/main/module2_lesson6.ipynb\" target=\"_parent\"><img src=\"https://colab.research.google.com/assets/colab-badge.svg\" alt=\"Open In Colab\"/></a>"
      ]
    },
    {
      "cell_type": "markdown",
      "metadata": {
        "id": "yTbQUBdRl2s7"
      },
      "source": [
        "## Задачи модуля №2. Характеристики вытеснения"
      ]
    },
    {
      "cell_type": "code",
      "metadata": {
        "id": "KPj-MO-omENw"
      },
      "source": [
        "import pandas as pd\n",
        "import numpy as np\n",
        "import io\n",
        "\n",
        "import plotly.express as px\n",
        "import plotly.graph_objects as go\n",
        "from plotly.graph_objs import *\n",
        "import matplotlib.pyplot as plt \n",
        "\n",
        "from sklearn.impute import KNNImputer\n",
        "\n",
        "import matplotlib.pyplot as plt\n",
        "from scipy.optimize import curve_fit\n",
        "\n",
        "from plotly.subplots import make_subplots\n"
      ],
      "execution_count": 1,
      "outputs": []
    },
    {
      "cell_type": "code",
      "metadata": {
        "id": "u6lPcN_Kap5x"
      },
      "source": [
        "anno_font = dict(\n",
        "        family=\"arial bold\",\n",
        "        size=36,\n",
        "        color=\"Black\"\n",
        "    )"
      ],
      "execution_count": 2,
      "outputs": []
    },
    {
      "cell_type": "code",
      "metadata": {
        "colab": {
          "base_uri": "https://localhost:8080/",
          "height": 359
        },
        "id": "3VTTXxwPlwXN",
        "outputId": "028ba67c-86e7-471a-c3a1-abb643dd7fbe"
      },
      "source": [
        "df_object = pd.read_csv('https://raw.githubusercontent.com/alexeynick/msu_oil_gas/main/datasets/dynamic_object_5.csv')\n",
        "df_object.tail(10)"
      ],
      "execution_count": 3,
      "outputs": [
        {
          "output_type": "execute_result",
          "data": {
            "text/html": [
              "<div>\n",
              "<style scoped>\n",
              "    .dataframe tbody tr th:only-of-type {\n",
              "        vertical-align: middle;\n",
              "    }\n",
              "\n",
              "    .dataframe tbody tr th {\n",
              "        vertical-align: top;\n",
              "    }\n",
              "\n",
              "    .dataframe thead th {\n",
              "        text-align: right;\n",
              "    }\n",
              "</style>\n",
              "<table border=\"1\" class=\"dataframe\">\n",
              "  <thead>\n",
              "    <tr style=\"text-align: right;\">\n",
              "      <th></th>\n",
              "      <th>year</th>\n",
              "      <th>oil_year</th>\n",
              "      <th>production_frac</th>\n",
              "      <th>production_frac_rem</th>\n",
              "      <th>oil_total</th>\n",
              "      <th>production_frac_total</th>\n",
              "      <th>kin</th>\n",
              "      <th>water_year</th>\n",
              "      <th>water_total</th>\n",
              "      <th>water_cut</th>\n",
              "      <th>inject_year</th>\n",
              "      <th>inject_total</th>\n",
              "      <th>inject_comp_year</th>\n",
              "      <th>inject_comp_total</th>\n",
              "    </tr>\n",
              "  </thead>\n",
              "  <tbody>\n",
              "    <tr>\n",
              "      <th>35</th>\n",
              "      <td>2005</td>\n",
              "      <td>55.9</td>\n",
              "      <td>0.6</td>\n",
              "      <td>2.4</td>\n",
              "      <td>6661</td>\n",
              "      <td>74.06</td>\n",
              "      <td>0.307</td>\n",
              "      <td>429.7</td>\n",
              "      <td>21933</td>\n",
              "      <td>87.0</td>\n",
              "      <td>410.6</td>\n",
              "      <td>22481.0</td>\n",
              "      <td>101.1</td>\n",
              "      <td>103.2</td>\n",
              "    </tr>\n",
              "    <tr>\n",
              "      <th>36</th>\n",
              "      <td>2006</td>\n",
              "      <td>57.7</td>\n",
              "      <td>0.6</td>\n",
              "      <td>2.5</td>\n",
              "      <td>6719</td>\n",
              "      <td>74.70</td>\n",
              "      <td>0.309</td>\n",
              "      <td>388.5</td>\n",
              "      <td>22322</td>\n",
              "      <td>85.2</td>\n",
              "      <td>361.6</td>\n",
              "      <td>22842.6</td>\n",
              "      <td>98.0</td>\n",
              "      <td>103.1</td>\n",
              "    </tr>\n",
              "    <tr>\n",
              "      <th>37</th>\n",
              "      <td>2007</td>\n",
              "      <td>56.7</td>\n",
              "      <td>0.6</td>\n",
              "      <td>2.6</td>\n",
              "      <td>6776</td>\n",
              "      <td>75.33</td>\n",
              "      <td>0.312</td>\n",
              "      <td>215.6</td>\n",
              "      <td>22538</td>\n",
              "      <td>73.7</td>\n",
              "      <td>117.5</td>\n",
              "      <td>22960.1</td>\n",
              "      <td>55.5</td>\n",
              "      <td>102.7</td>\n",
              "    </tr>\n",
              "    <tr>\n",
              "      <th>38</th>\n",
              "      <td>2008</td>\n",
              "      <td>61.1</td>\n",
              "      <td>0.7</td>\n",
              "      <td>2.8</td>\n",
              "      <td>6837</td>\n",
              "      <td>76.01</td>\n",
              "      <td>0.315</td>\n",
              "      <td>208.9</td>\n",
              "      <td>22747</td>\n",
              "      <td>70.7</td>\n",
              "      <td>156.2</td>\n",
              "      <td>23116.4</td>\n",
              "      <td>75.5</td>\n",
              "      <td>102.4</td>\n",
              "    </tr>\n",
              "    <tr>\n",
              "      <th>39</th>\n",
              "      <td>2009</td>\n",
              "      <td>62.1</td>\n",
              "      <td>0.7</td>\n",
              "      <td>3.0</td>\n",
              "      <td>6899</td>\n",
              "      <td>76.70</td>\n",
              "      <td>0.318</td>\n",
              "      <td>202.4</td>\n",
              "      <td>22949</td>\n",
              "      <td>69.3</td>\n",
              "      <td>137.2</td>\n",
              "      <td>23253.5</td>\n",
              "      <td>68.2</td>\n",
              "      <td>102.1</td>\n",
              "    </tr>\n",
              "    <tr>\n",
              "      <th>40</th>\n",
              "      <td>2010</td>\n",
              "      <td>60.3</td>\n",
              "      <td>0.7</td>\n",
              "      <td>3.0</td>\n",
              "      <td>6959</td>\n",
              "      <td>77.37</td>\n",
              "      <td>0.320</td>\n",
              "      <td>205.3</td>\n",
              "      <td>23154</td>\n",
              "      <td>70.6</td>\n",
              "      <td>141.2</td>\n",
              "      <td>23394.8</td>\n",
              "      <td>69.5</td>\n",
              "      <td>101.8</td>\n",
              "    </tr>\n",
              "    <tr>\n",
              "      <th>41</th>\n",
              "      <td>2011</td>\n",
              "      <td>51.5</td>\n",
              "      <td>0.6</td>\n",
              "      <td>2.6</td>\n",
              "      <td>7011</td>\n",
              "      <td>77.94</td>\n",
              "      <td>0.323</td>\n",
              "      <td>192.5</td>\n",
              "      <td>23347</td>\n",
              "      <td>73.2</td>\n",
              "      <td>138.9</td>\n",
              "      <td>23533.6</td>\n",
              "      <td>73.4</td>\n",
              "      <td>101.6</td>\n",
              "    </tr>\n",
              "    <tr>\n",
              "      <th>42</th>\n",
              "      <td>2012</td>\n",
              "      <td>49.6</td>\n",
              "      <td>0.6</td>\n",
              "      <td>2.6</td>\n",
              "      <td>7061</td>\n",
              "      <td>78.49</td>\n",
              "      <td>0.325</td>\n",
              "      <td>201.8</td>\n",
              "      <td>23548</td>\n",
              "      <td>75.4</td>\n",
              "      <td>144.5</td>\n",
              "      <td>23678.1</td>\n",
              "      <td>73.3</td>\n",
              "      <td>101.4</td>\n",
              "    </tr>\n",
              "    <tr>\n",
              "      <th>43</th>\n",
              "      <td>2013</td>\n",
              "      <td>44.6</td>\n",
              "      <td>0.5</td>\n",
              "      <td>2.4</td>\n",
              "      <td>7105</td>\n",
              "      <td>78.99</td>\n",
              "      <td>0.327</td>\n",
              "      <td>213.5</td>\n",
              "      <td>23762</td>\n",
              "      <td>79.1</td>\n",
              "      <td>146.7</td>\n",
              "      <td>23824.9</td>\n",
              "      <td>71.1</td>\n",
              "      <td>101.1</td>\n",
              "    </tr>\n",
              "    <tr>\n",
              "      <th>44</th>\n",
              "      <td>2014</td>\n",
              "      <td>47.3</td>\n",
              "      <td>0.5</td>\n",
              "      <td>2.6</td>\n",
              "      <td>7153</td>\n",
              "      <td>79.52</td>\n",
              "      <td>0.329</td>\n",
              "      <td>231.3</td>\n",
              "      <td>23993</td>\n",
              "      <td>79.5</td>\n",
              "      <td>107.7</td>\n",
              "      <td>23932.6</td>\n",
              "      <td>48.2</td>\n",
              "      <td>100.6</td>\n",
              "    </tr>\n",
              "  </tbody>\n",
              "</table>\n",
              "</div>"
            ],
            "text/plain": [
              "    year  oil_year  ...  inject_comp_year  inject_comp_total\n",
              "35  2005      55.9  ...             101.1              103.2\n",
              "36  2006      57.7  ...              98.0              103.1\n",
              "37  2007      56.7  ...              55.5              102.7\n",
              "38  2008      61.1  ...              75.5              102.4\n",
              "39  2009      62.1  ...              68.2              102.1\n",
              "40  2010      60.3  ...              69.5              101.8\n",
              "41  2011      51.5  ...              73.4              101.6\n",
              "42  2012      49.6  ...              73.3              101.4\n",
              "43  2013      44.6  ...              71.1              101.1\n",
              "44  2014      47.3  ...              48.2              100.6\n",
              "\n",
              "[10 rows x 14 columns]"
            ]
          },
          "metadata": {
            "tags": []
          },
          "execution_count": 3
        }
      ]
    },
    {
      "cell_type": "code",
      "metadata": {
        "colab": {
          "base_uri": "https://localhost:8080/",
          "height": 204
        },
        "id": "DDNzeubrl98m",
        "outputId": "c54c0bab-7033-4e89-f8e1-6667104d6850"
      },
      "source": [
        "df_graph = df_object[['year', 'oil_total', 'water_total']].copy()\n",
        "df_graph['oil_total'] = df_graph['oil_total'].astype(float)\n",
        "df_graph['water_total'] = df_graph['water_total'].astype(float)\n",
        "df_graph['water_total_deg_1'] = np.power(df_graph['water_total'].astype(float), -1)\n",
        "df_graph['water_total_ln'] = np.log(df_graph['water_total'].astype(float))\n",
        "df_graph['oil_total_ln'] = np.log(df_graph['oil_total'].astype(float))\n",
        "df_graph.head(5)"
      ],
      "execution_count": 4,
      "outputs": [
        {
          "output_type": "execute_result",
          "data": {
            "text/html": [
              "<div>\n",
              "<style scoped>\n",
              "    .dataframe tbody tr th:only-of-type {\n",
              "        vertical-align: middle;\n",
              "    }\n",
              "\n",
              "    .dataframe tbody tr th {\n",
              "        vertical-align: top;\n",
              "    }\n",
              "\n",
              "    .dataframe thead th {\n",
              "        text-align: right;\n",
              "    }\n",
              "</style>\n",
              "<table border=\"1\" class=\"dataframe\">\n",
              "  <thead>\n",
              "    <tr style=\"text-align: right;\">\n",
              "      <th></th>\n",
              "      <th>year</th>\n",
              "      <th>oil_total</th>\n",
              "      <th>water_total</th>\n",
              "      <th>water_total_deg_1</th>\n",
              "      <th>water_total_ln</th>\n",
              "      <th>oil_total_ln</th>\n",
              "    </tr>\n",
              "  </thead>\n",
              "  <tbody>\n",
              "    <tr>\n",
              "      <th>0</th>\n",
              "      <td>1970</td>\n",
              "      <td>90.0</td>\n",
              "      <td>92.0</td>\n",
              "      <td>0.010870</td>\n",
              "      <td>4.521789</td>\n",
              "      <td>4.499810</td>\n",
              "    </tr>\n",
              "    <tr>\n",
              "      <th>1</th>\n",
              "      <td>1971</td>\n",
              "      <td>181.0</td>\n",
              "      <td>190.0</td>\n",
              "      <td>0.005263</td>\n",
              "      <td>5.247024</td>\n",
              "      <td>5.198497</td>\n",
              "    </tr>\n",
              "    <tr>\n",
              "      <th>2</th>\n",
              "      <td>1972</td>\n",
              "      <td>359.0</td>\n",
              "      <td>378.0</td>\n",
              "      <td>0.002646</td>\n",
              "      <td>5.934894</td>\n",
              "      <td>5.883322</td>\n",
              "    </tr>\n",
              "    <tr>\n",
              "      <th>3</th>\n",
              "      <td>1973</td>\n",
              "      <td>754.0</td>\n",
              "      <td>796.0</td>\n",
              "      <td>0.001256</td>\n",
              "      <td>6.679599</td>\n",
              "      <td>6.625392</td>\n",
              "    </tr>\n",
              "    <tr>\n",
              "      <th>4</th>\n",
              "      <td>1974</td>\n",
              "      <td>1175.0</td>\n",
              "      <td>1324.0</td>\n",
              "      <td>0.000755</td>\n",
              "      <td>7.188413</td>\n",
              "      <td>7.069023</td>\n",
              "    </tr>\n",
              "  </tbody>\n",
              "</table>\n",
              "</div>"
            ],
            "text/plain": [
              "   year  oil_total  ...  water_total_ln  oil_total_ln\n",
              "0  1970       90.0  ...        4.521789      4.499810\n",
              "1  1971      181.0  ...        5.247024      5.198497\n",
              "2  1972      359.0  ...        5.934894      5.883322\n",
              "3  1973      754.0  ...        6.679599      6.625392\n",
              "4  1974     1175.0  ...        7.188413      7.069023\n",
              "\n",
              "[5 rows x 6 columns]"
            ]
          },
          "metadata": {
            "tags": []
          },
          "execution_count": 4
        }
      ]
    },
    {
      "cell_type": "code",
      "metadata": {
        "id": "HgEL1yD6OqHt"
      },
      "source": [
        "niz_total = 8995"
      ],
      "execution_count": 5,
      "outputs": []
    },
    {
      "cell_type": "code",
      "metadata": {
        "id": "3VfhRL6_w6Eh"
      },
      "source": [
        "def kambarov_func(x, a, b):\n",
        "    return a - b * (x ** -1)\n",
        "\n",
        "def kambarov_niz(a, b):\n",
        "    return a - (b * 0.02) ** 0.5\n",
        "\n",
        "def sazonov_func(x, a, b):\n",
        "    return a + b * np.log(x)\n",
        "\n",
        "def sazonov_niz(a, b):\n",
        "    return a + b * np.log(b / 0.02)"
      ],
      "execution_count": 6,
      "outputs": []
    },
    {
      "cell_type": "code",
      "metadata": {
        "colab": {
          "base_uri": "https://localhost:8080/"
        },
        "id": "uCq5Jb5Szwu7",
        "outputId": "7911f577-2625-442b-d775-dff02045c3c8"
      },
      "source": [
        "xdata = df_graph[-25:]['water_total']\n",
        "ydata = df_graph[-25:]['oil_total']\n",
        "\n",
        "popt, pcov = curve_fit(kambarov_func, xdata, ydata)\n",
        "popt\n",
        "\n",
        "#print(popt)\n",
        "#print(kambarov_niz(*popt))\n",
        "\n",
        "#ydata_fit = func_kambarov(xdata, *popt)"
      ],
      "execution_count": 7,
      "outputs": [
        {
          "output_type": "execute_result",
          "data": {
            "text/plain": [
              "array([9.18132561e+03, 5.33728279e+07])"
            ]
          },
          "metadata": {
            "tags": []
          },
          "execution_count": 7
        }
      ]
    },
    {
      "cell_type": "code",
      "metadata": {
        "colab": {
          "base_uri": "https://localhost:8080/",
          "height": 717
        },
        "id": "nh11cNUV956w",
        "outputId": "e8e9d31e-3547-448a-ae08-e260773a6918"
      },
      "source": [
        "fig = make_subplots(\n",
        "    subplot_titles=[\n",
        "                    'Весь период',\n",
        "                    'Период аппроксимации'],\n",
        "    rows=1, \n",
        "    cols=2)\n",
        "\n",
        "fig.add_trace(go.Scatter(x=df_graph['water_total_deg_1'], y=df_graph['oil_total'],\n",
        "                    mode='lines+markers',\n",
        "                    name='Накопленный объем нефти, 10^6'),\n",
        "    row=1, col=1)\n",
        "\n",
        "fig.add_trace(go.Scatter(x=df_graph[-35:]['water_total_deg_1'], y=df_graph[-35:]['oil_total'],\n",
        "                    mode='lines+markers',\n",
        "                    name='Период аппроксимации'),\n",
        "    row=1, col=1)\n",
        "\n",
        "#####\n",
        "\n",
        "fig.add_trace(go.Scatter(x=df_graph[-35:]['water_total_deg_1'], y=df_graph[-35:]['oil_total'],\n",
        "                    mode='lines+markers',\n",
        "                    name='Годовой отбор жидкости, 10^6'),\n",
        "    row=1, col=2)\n",
        "\n",
        "fig.add_trace(go.Scatter(x=df_graph[-25:]['water_total_deg_1'], y=df_graph[-25:]['oil_total'],\n",
        "                    mode='lines+markers',\n",
        "                    name='Участок аппроксимации'),\n",
        "    row=1, col=2)\n",
        "\n",
        "fig.add_trace(go.Scatter(x=df_graph[-25:]['water_total_deg_1'], y=kambarov_func(xdata, *popt),\n",
        "                    mode='lines',\n",
        "                    name='Функция аппроксимации (Камбарова)'),\n",
        "    row=1, col=2)\n",
        "\n",
        "\n",
        "fig['layout']['xaxis1']['title']='1 / Накопленный объем жидкости, 10^-6'\n",
        "fig['layout']['xaxis1']['tickangle']=-45\n",
        "fig['layout']['xaxis1']['tickmode']='array'\n",
        "fig['layout']['yaxis1']['title']='Накопленный объем нефти, 10^6'\n",
        "\n",
        "fig['layout']['xaxis2']['title']='1 / Накопленный объем жидкости, 10^-6'\n",
        "fig['layout']['xaxis2']['tickangle']=-45\n",
        "\n",
        "\n",
        "\n",
        "fig.update_layout( \n",
        "    title={\n",
        "        'text': 'Зависимость накопленной добычи нефти от объема жидкости',\n",
        "        'y':0.95,\n",
        "        'x':0.45,\n",
        "        'xanchor': 'center',\n",
        "        'yanchor': 'top'},\n",
        "    autosize=False,\n",
        "    width=1400,\n",
        "    height=700)\n",
        "\n",
        "\n",
        "fig.show()"
      ],
      "execution_count": 8,
      "outputs": [
        {
          "output_type": "display_data",
          "data": {
            "text/html": [
              "<html>\n",
              "<head><meta charset=\"utf-8\" /></head>\n",
              "<body>\n",
              "    <div>\n",
              "            <script src=\"https://cdnjs.cloudflare.com/ajax/libs/mathjax/2.7.5/MathJax.js?config=TeX-AMS-MML_SVG\"></script><script type=\"text/javascript\">if (window.MathJax) {MathJax.Hub.Config({SVG: {font: \"STIX-Web\"}});}</script>\n",
              "                <script type=\"text/javascript\">window.PlotlyConfig = {MathJaxConfig: 'local'};</script>\n",
              "        <script src=\"https://cdn.plot.ly/plotly-latest.min.js\"></script>    \n",
              "            <div id=\"a2a2b7be-dc51-4a93-aac9-be63f07e3345\" class=\"plotly-graph-div\" style=\"height:700px; width:1400px;\"></div>\n",
              "            <script type=\"text/javascript\">\n",
              "                \n",
              "                    window.PLOTLYENV=window.PLOTLYENV || {};\n",
              "                    \n",
              "                if (document.getElementById(\"a2a2b7be-dc51-4a93-aac9-be63f07e3345\")) {\n",
              "                    Plotly.newPlot(\n",
              "                        'a2a2b7be-dc51-4a93-aac9-be63f07e3345',\n",
              "                        [{\"mode\": \"lines+markers\", \"name\": \"\\u041d\\u0430\\u043a\\u043e\\u043f\\u043b\\u0435\\u043d\\u043d\\u044b\\u0439 \\u043e\\u0431\\u044a\\u0435\\u043c \\u043d\\u0435\\u0444\\u0442\\u0438, 10^6\", \"type\": \"scatter\", \"x\": [0.010869565217391304, 0.005263157894736842, 0.0026455026455026454, 0.001256281407035176, 0.0007552870090634441, 0.0004591368227731864, 0.00030646644192460924, 0.00023969319271332693, 0.00020308692120227456, 0.00017614937466971993, 0.00015271838729383018, 0.0001312852829197847, 0.00011798017932987259, 0.00010702054794520547, 9.864851533984413e-05, 9.177679882525697e-05, 8.557247989046722e-05, 8.027614995584812e-05, 7.496813854112003e-05, 7.065140596297866e-05, 6.741270055278414e-05, 6.438320885912955e-05, 6.218132073125233e-05, 5.986231667165519e-05, 5.789717461787865e-05, 5.641430666817105e-05, 5.536791982725209e-05, 5.417998591320366e-05, 5.285412262156448e-05, 5.161290322580645e-05, 5.0507601394009796e-05, 4.9478007025877e-05, 4.839099927413501e-05, 4.738213693437574e-05, 4.650297619047619e-05, 4.55933980759586e-05, 4.479885314935937e-05, 4.436950927322744e-05, 4.396184112190618e-05, 4.357488343718681e-05, 4.3189081800120926e-05, 4.283205551034394e-05, 4.246645150331238e-05, 4.2083999663328004e-05, 4.167882299003876e-05], \"xaxis\": \"x\", \"y\": [90.0, 181.0, 359.0, 754.0, 1175.0, 1881.0, 2655.0, 3247.0, 3666.0, 4018.0, 4343.0, 4637.0, 4822.0, 4948.0, 5068.0, 5185.0, 5297.0, 5410.0, 5543.0, 5660.0, 5762.0, 5858.0, 5928.0, 6003.0, 6062.0, 6114.0, 6163.0, 6214.0, 6271.0, 6324.0, 6377.0, 6433.0, 6494.0, 6548.0, 6606.0, 6661.0, 6719.0, 6776.0, 6837.0, 6899.0, 6959.0, 7011.0, 7061.0, 7105.0, 7153.0], \"yaxis\": \"y\"}, {\"mode\": \"lines+markers\", \"name\": \"\\u041f\\u0435\\u0440\\u0438\\u043e\\u0434 \\u0430\\u043f\\u043f\\u0440\\u043e\\u043a\\u0441\\u0438\\u043c\\u0430\\u0446\\u0438\\u0438\", \"type\": \"scatter\", \"x\": [0.00015271838729383018, 0.0001312852829197847, 0.00011798017932987259, 0.00010702054794520547, 9.864851533984413e-05, 9.177679882525697e-05, 8.557247989046722e-05, 8.027614995584812e-05, 7.496813854112003e-05, 7.065140596297866e-05, 6.741270055278414e-05, 6.438320885912955e-05, 6.218132073125233e-05, 5.986231667165519e-05, 5.789717461787865e-05, 5.641430666817105e-05, 5.536791982725209e-05, 5.417998591320366e-05, 5.285412262156448e-05, 5.161290322580645e-05, 5.0507601394009796e-05, 4.9478007025877e-05, 4.839099927413501e-05, 4.738213693437574e-05, 4.650297619047619e-05, 4.55933980759586e-05, 4.479885314935937e-05, 4.436950927322744e-05, 4.396184112190618e-05, 4.357488343718681e-05, 4.3189081800120926e-05, 4.283205551034394e-05, 4.246645150331238e-05, 4.2083999663328004e-05, 4.167882299003876e-05], \"xaxis\": \"x\", \"y\": [4343.0, 4637.0, 4822.0, 4948.0, 5068.0, 5185.0, 5297.0, 5410.0, 5543.0, 5660.0, 5762.0, 5858.0, 5928.0, 6003.0, 6062.0, 6114.0, 6163.0, 6214.0, 6271.0, 6324.0, 6377.0, 6433.0, 6494.0, 6548.0, 6606.0, 6661.0, 6719.0, 6776.0, 6837.0, 6899.0, 6959.0, 7011.0, 7061.0, 7105.0, 7153.0], \"yaxis\": \"y\"}, {\"mode\": \"lines+markers\", \"name\": \"\\u0413\\u043e\\u0434\\u043e\\u0432\\u043e\\u0439 \\u043e\\u0442\\u0431\\u043e\\u0440 \\u0436\\u0438\\u0434\\u043a\\u043e\\u0441\\u0442\\u0438, 10^6\", \"type\": \"scatter\", \"x\": [0.00015271838729383018, 0.0001312852829197847, 0.00011798017932987259, 0.00010702054794520547, 9.864851533984413e-05, 9.177679882525697e-05, 8.557247989046722e-05, 8.027614995584812e-05, 7.496813854112003e-05, 7.065140596297866e-05, 6.741270055278414e-05, 6.438320885912955e-05, 6.218132073125233e-05, 5.986231667165519e-05, 5.789717461787865e-05, 5.641430666817105e-05, 5.536791982725209e-05, 5.417998591320366e-05, 5.285412262156448e-05, 5.161290322580645e-05, 5.0507601394009796e-05, 4.9478007025877e-05, 4.839099927413501e-05, 4.738213693437574e-05, 4.650297619047619e-05, 4.55933980759586e-05, 4.479885314935937e-05, 4.436950927322744e-05, 4.396184112190618e-05, 4.357488343718681e-05, 4.3189081800120926e-05, 4.283205551034394e-05, 4.246645150331238e-05, 4.2083999663328004e-05, 4.167882299003876e-05], \"xaxis\": \"x2\", \"y\": [4343.0, 4637.0, 4822.0, 4948.0, 5068.0, 5185.0, 5297.0, 5410.0, 5543.0, 5660.0, 5762.0, 5858.0, 5928.0, 6003.0, 6062.0, 6114.0, 6163.0, 6214.0, 6271.0, 6324.0, 6377.0, 6433.0, 6494.0, 6548.0, 6606.0, 6661.0, 6719.0, 6776.0, 6837.0, 6899.0, 6959.0, 7011.0, 7061.0, 7105.0, 7153.0], \"yaxis\": \"y2\"}, {\"mode\": \"lines+markers\", \"name\": \"\\u0423\\u0447\\u0430\\u0441\\u0442\\u043e\\u043a \\u0430\\u043f\\u043f\\u0440\\u043e\\u043a\\u0441\\u0438\\u043c\\u0430\\u0446\\u0438\\u0438\", \"type\": \"scatter\", \"x\": [6.741270055278414e-05, 6.438320885912955e-05, 6.218132073125233e-05, 5.986231667165519e-05, 5.789717461787865e-05, 5.641430666817105e-05, 5.536791982725209e-05, 5.417998591320366e-05, 5.285412262156448e-05, 5.161290322580645e-05, 5.0507601394009796e-05, 4.9478007025877e-05, 4.839099927413501e-05, 4.738213693437574e-05, 4.650297619047619e-05, 4.55933980759586e-05, 4.479885314935937e-05, 4.436950927322744e-05, 4.396184112190618e-05, 4.357488343718681e-05, 4.3189081800120926e-05, 4.283205551034394e-05, 4.246645150331238e-05, 4.2083999663328004e-05, 4.167882299003876e-05], \"xaxis\": \"x2\", \"y\": [5762.0, 5858.0, 5928.0, 6003.0, 6062.0, 6114.0, 6163.0, 6214.0, 6271.0, 6324.0, 6377.0, 6433.0, 6494.0, 6548.0, 6606.0, 6661.0, 6719.0, 6776.0, 6837.0, 6899.0, 6959.0, 7011.0, 7061.0, 7105.0, 7153.0], \"yaxis\": \"y2\"}, {\"mode\": \"lines\", \"name\": \"\\u0424\\u0443\\u043d\\u043a\\u0446\\u0438\\u044f \\u0430\\u043f\\u043f\\u0440\\u043e\\u043a\\u0441\\u0438\\u043c\\u0430\\u0446\\u0438\\u0438 (\\u041a\\u0430\\u043c\\u0431\\u0430\\u0440\\u043e\\u0432\\u0430)\", \"type\": \"scatter\", \"x\": [6.741270055278414e-05, 6.438320885912955e-05, 6.218132073125233e-05, 5.986231667165519e-05, 5.789717461787865e-05, 5.641430666817105e-05, 5.536791982725209e-05, 5.417998591320366e-05, 5.285412262156448e-05, 5.161290322580645e-05, 5.0507601394009796e-05, 4.9478007025877e-05, 4.839099927413501e-05, 4.738213693437574e-05, 4.650297619047619e-05, 4.55933980759586e-05, 4.479885314935937e-05, 4.436950927322744e-05, 4.396184112190618e-05, 4.357488343718681e-05, 4.3189081800120926e-05, 4.283205551034394e-05, 4.246645150331238e-05, 4.2083999663328004e-05, 4.167882299003876e-05], \"xaxis\": \"x2\", \"y\": [5583.31914134878, 5745.011680283714, 5862.532676493367, 5986.304481176661, 6091.189669906005, 6170.334525855162, 6226.1831506824465, 6289.586543090396, 6360.351616437453, 6426.599005692808, 6485.592090191758, 6540.544453258208, 6598.561130969936, 6652.406967052995, 6699.33026217567, 6747.877018386967, 6790.284128051202, 6813.199424882464, 6834.95782698276, 6855.610852912394, 6876.202177309519, 6895.257680046653, 6914.770999811001, 6935.183536064835, 6956.808960936793], \"yaxis\": \"y2\"}],\n",
              "                        {\"annotations\": [{\"font\": {\"size\": 16}, \"showarrow\": false, \"text\": \"\\u0412\\u0435\\u0441\\u044c \\u043f\\u0435\\u0440\\u0438\\u043e\\u0434\", \"x\": 0.225, \"xanchor\": \"center\", \"xref\": \"paper\", \"y\": 1.0, \"yanchor\": \"bottom\", \"yref\": \"paper\"}, {\"font\": {\"size\": 16}, \"showarrow\": false, \"text\": \"\\u041f\\u0435\\u0440\\u0438\\u043e\\u0434 \\u0430\\u043f\\u043f\\u0440\\u043e\\u043a\\u0441\\u0438\\u043c\\u0430\\u0446\\u0438\\u0438\", \"x\": 0.775, \"xanchor\": \"center\", \"xref\": \"paper\", \"y\": 1.0, \"yanchor\": \"bottom\", \"yref\": \"paper\"}], \"autosize\": false, \"height\": 700, \"template\": {\"data\": {\"bar\": [{\"error_x\": {\"color\": \"#2a3f5f\"}, \"error_y\": {\"color\": \"#2a3f5f\"}, \"marker\": {\"line\": {\"color\": \"#E5ECF6\", \"width\": 0.5}}, \"type\": \"bar\"}], \"barpolar\": [{\"marker\": {\"line\": {\"color\": \"#E5ECF6\", \"width\": 0.5}}, \"type\": \"barpolar\"}], \"carpet\": [{\"aaxis\": {\"endlinecolor\": \"#2a3f5f\", \"gridcolor\": \"white\", \"linecolor\": \"white\", \"minorgridcolor\": \"white\", \"startlinecolor\": \"#2a3f5f\"}, \"baxis\": {\"endlinecolor\": \"#2a3f5f\", \"gridcolor\": \"white\", \"linecolor\": \"white\", \"minorgridcolor\": \"white\", \"startlinecolor\": \"#2a3f5f\"}, \"type\": \"carpet\"}], \"choropleth\": [{\"colorbar\": {\"outlinewidth\": 0, \"ticks\": \"\"}, \"type\": \"choropleth\"}], \"contour\": [{\"colorbar\": {\"outlinewidth\": 0, \"ticks\": \"\"}, \"colorscale\": [[0.0, \"#0d0887\"], [0.1111111111111111, \"#46039f\"], [0.2222222222222222, \"#7201a8\"], [0.3333333333333333, \"#9c179e\"], [0.4444444444444444, \"#bd3786\"], [0.5555555555555556, \"#d8576b\"], [0.6666666666666666, \"#ed7953\"], [0.7777777777777778, \"#fb9f3a\"], [0.8888888888888888, \"#fdca26\"], [1.0, \"#f0f921\"]], \"type\": \"contour\"}], \"contourcarpet\": [{\"colorbar\": {\"outlinewidth\": 0, \"ticks\": \"\"}, \"type\": \"contourcarpet\"}], \"heatmap\": [{\"colorbar\": {\"outlinewidth\": 0, \"ticks\": \"\"}, \"colorscale\": [[0.0, \"#0d0887\"], [0.1111111111111111, \"#46039f\"], [0.2222222222222222, \"#7201a8\"], [0.3333333333333333, \"#9c179e\"], [0.4444444444444444, \"#bd3786\"], [0.5555555555555556, \"#d8576b\"], [0.6666666666666666, \"#ed7953\"], [0.7777777777777778, \"#fb9f3a\"], [0.8888888888888888, \"#fdca26\"], [1.0, \"#f0f921\"]], \"type\": \"heatmap\"}], \"heatmapgl\": [{\"colorbar\": {\"outlinewidth\": 0, \"ticks\": \"\"}, \"colorscale\": [[0.0, \"#0d0887\"], [0.1111111111111111, \"#46039f\"], [0.2222222222222222, \"#7201a8\"], [0.3333333333333333, \"#9c179e\"], [0.4444444444444444, \"#bd3786\"], [0.5555555555555556, \"#d8576b\"], [0.6666666666666666, \"#ed7953\"], [0.7777777777777778, \"#fb9f3a\"], [0.8888888888888888, \"#fdca26\"], [1.0, \"#f0f921\"]], \"type\": \"heatmapgl\"}], \"histogram\": [{\"marker\": {\"colorbar\": {\"outlinewidth\": 0, \"ticks\": \"\"}}, \"type\": \"histogram\"}], \"histogram2d\": [{\"colorbar\": {\"outlinewidth\": 0, \"ticks\": \"\"}, \"colorscale\": [[0.0, \"#0d0887\"], [0.1111111111111111, \"#46039f\"], [0.2222222222222222, \"#7201a8\"], [0.3333333333333333, \"#9c179e\"], [0.4444444444444444, \"#bd3786\"], [0.5555555555555556, \"#d8576b\"], [0.6666666666666666, \"#ed7953\"], [0.7777777777777778, \"#fb9f3a\"], [0.8888888888888888, \"#fdca26\"], [1.0, \"#f0f921\"]], \"type\": \"histogram2d\"}], \"histogram2dcontour\": [{\"colorbar\": {\"outlinewidth\": 0, \"ticks\": \"\"}, \"colorscale\": [[0.0, \"#0d0887\"], [0.1111111111111111, \"#46039f\"], [0.2222222222222222, \"#7201a8\"], [0.3333333333333333, \"#9c179e\"], [0.4444444444444444, \"#bd3786\"], [0.5555555555555556, \"#d8576b\"], [0.6666666666666666, \"#ed7953\"], [0.7777777777777778, \"#fb9f3a\"], [0.8888888888888888, \"#fdca26\"], [1.0, \"#f0f921\"]], \"type\": \"histogram2dcontour\"}], \"mesh3d\": [{\"colorbar\": {\"outlinewidth\": 0, \"ticks\": \"\"}, \"type\": \"mesh3d\"}], \"parcoords\": [{\"line\": {\"colorbar\": {\"outlinewidth\": 0, \"ticks\": \"\"}}, \"type\": \"parcoords\"}], \"pie\": [{\"automargin\": true, \"type\": \"pie\"}], \"scatter\": [{\"marker\": {\"colorbar\": {\"outlinewidth\": 0, \"ticks\": \"\"}}, \"type\": \"scatter\"}], \"scatter3d\": [{\"line\": {\"colorbar\": {\"outlinewidth\": 0, \"ticks\": \"\"}}, \"marker\": {\"colorbar\": {\"outlinewidth\": 0, \"ticks\": \"\"}}, \"type\": \"scatter3d\"}], \"scattercarpet\": [{\"marker\": {\"colorbar\": {\"outlinewidth\": 0, \"ticks\": \"\"}}, \"type\": \"scattercarpet\"}], \"scattergeo\": [{\"marker\": {\"colorbar\": {\"outlinewidth\": 0, \"ticks\": \"\"}}, \"type\": \"scattergeo\"}], \"scattergl\": [{\"marker\": {\"colorbar\": {\"outlinewidth\": 0, \"ticks\": \"\"}}, \"type\": \"scattergl\"}], \"scattermapbox\": [{\"marker\": {\"colorbar\": {\"outlinewidth\": 0, \"ticks\": \"\"}}, \"type\": \"scattermapbox\"}], \"scatterpolar\": [{\"marker\": {\"colorbar\": {\"outlinewidth\": 0, \"ticks\": \"\"}}, \"type\": \"scatterpolar\"}], \"scatterpolargl\": [{\"marker\": {\"colorbar\": {\"outlinewidth\": 0, \"ticks\": \"\"}}, \"type\": \"scatterpolargl\"}], \"scatterternary\": [{\"marker\": {\"colorbar\": {\"outlinewidth\": 0, \"ticks\": \"\"}}, \"type\": \"scatterternary\"}], \"surface\": [{\"colorbar\": {\"outlinewidth\": 0, \"ticks\": \"\"}, \"colorscale\": [[0.0, \"#0d0887\"], [0.1111111111111111, \"#46039f\"], [0.2222222222222222, \"#7201a8\"], [0.3333333333333333, \"#9c179e\"], [0.4444444444444444, \"#bd3786\"], [0.5555555555555556, \"#d8576b\"], [0.6666666666666666, \"#ed7953\"], [0.7777777777777778, \"#fb9f3a\"], [0.8888888888888888, \"#fdca26\"], [1.0, \"#f0f921\"]], \"type\": \"surface\"}], \"table\": [{\"cells\": {\"fill\": {\"color\": \"#EBF0F8\"}, \"line\": {\"color\": \"white\"}}, \"header\": {\"fill\": {\"color\": \"#C8D4E3\"}, \"line\": {\"color\": \"white\"}}, \"type\": \"table\"}]}, \"layout\": {\"annotationdefaults\": {\"arrowcolor\": \"#2a3f5f\", \"arrowhead\": 0, \"arrowwidth\": 1}, \"coloraxis\": {\"colorbar\": {\"outlinewidth\": 0, \"ticks\": \"\"}}, \"colorscale\": {\"diverging\": [[0, \"#8e0152\"], [0.1, \"#c51b7d\"], [0.2, \"#de77ae\"], [0.3, \"#f1b6da\"], [0.4, \"#fde0ef\"], [0.5, \"#f7f7f7\"], [0.6, \"#e6f5d0\"], [0.7, \"#b8e186\"], [0.8, \"#7fbc41\"], [0.9, \"#4d9221\"], [1, \"#276419\"]], \"sequential\": [[0.0, \"#0d0887\"], [0.1111111111111111, \"#46039f\"], [0.2222222222222222, \"#7201a8\"], [0.3333333333333333, \"#9c179e\"], [0.4444444444444444, \"#bd3786\"], [0.5555555555555556, \"#d8576b\"], [0.6666666666666666, \"#ed7953\"], [0.7777777777777778, \"#fb9f3a\"], [0.8888888888888888, \"#fdca26\"], [1.0, \"#f0f921\"]], \"sequentialminus\": [[0.0, \"#0d0887\"], [0.1111111111111111, \"#46039f\"], [0.2222222222222222, \"#7201a8\"], [0.3333333333333333, \"#9c179e\"], [0.4444444444444444, \"#bd3786\"], [0.5555555555555556, \"#d8576b\"], [0.6666666666666666, \"#ed7953\"], [0.7777777777777778, \"#fb9f3a\"], [0.8888888888888888, \"#fdca26\"], [1.0, \"#f0f921\"]]}, \"colorway\": [\"#636efa\", \"#EF553B\", \"#00cc96\", \"#ab63fa\", \"#FFA15A\", \"#19d3f3\", \"#FF6692\", \"#B6E880\", \"#FF97FF\", \"#FECB52\"], \"font\": {\"color\": \"#2a3f5f\"}, \"geo\": {\"bgcolor\": \"white\", \"lakecolor\": \"white\", \"landcolor\": \"#E5ECF6\", \"showlakes\": true, \"showland\": true, \"subunitcolor\": \"white\"}, \"hoverlabel\": {\"align\": \"left\"}, \"hovermode\": \"closest\", \"mapbox\": {\"style\": \"light\"}, \"paper_bgcolor\": \"white\", \"plot_bgcolor\": \"#E5ECF6\", \"polar\": {\"angularaxis\": {\"gridcolor\": \"white\", \"linecolor\": \"white\", \"ticks\": \"\"}, \"bgcolor\": \"#E5ECF6\", \"radialaxis\": {\"gridcolor\": \"white\", \"linecolor\": \"white\", \"ticks\": \"\"}}, \"scene\": {\"xaxis\": {\"backgroundcolor\": \"#E5ECF6\", \"gridcolor\": \"white\", \"gridwidth\": 2, \"linecolor\": \"white\", \"showbackground\": true, \"ticks\": \"\", \"zerolinecolor\": \"white\"}, \"yaxis\": {\"backgroundcolor\": \"#E5ECF6\", \"gridcolor\": \"white\", \"gridwidth\": 2, \"linecolor\": \"white\", \"showbackground\": true, \"ticks\": \"\", \"zerolinecolor\": \"white\"}, \"zaxis\": {\"backgroundcolor\": \"#E5ECF6\", \"gridcolor\": \"white\", \"gridwidth\": 2, \"linecolor\": \"white\", \"showbackground\": true, \"ticks\": \"\", \"zerolinecolor\": \"white\"}}, \"shapedefaults\": {\"line\": {\"color\": \"#2a3f5f\"}}, \"ternary\": {\"aaxis\": {\"gridcolor\": \"white\", \"linecolor\": \"white\", \"ticks\": \"\"}, \"baxis\": {\"gridcolor\": \"white\", \"linecolor\": \"white\", \"ticks\": \"\"}, \"bgcolor\": \"#E5ECF6\", \"caxis\": {\"gridcolor\": \"white\", \"linecolor\": \"white\", \"ticks\": \"\"}}, \"title\": {\"x\": 0.05}, \"xaxis\": {\"automargin\": true, \"gridcolor\": \"white\", \"linecolor\": \"white\", \"ticks\": \"\", \"title\": {\"standoff\": 15}, \"zerolinecolor\": \"white\", \"zerolinewidth\": 2}, \"yaxis\": {\"automargin\": true, \"gridcolor\": \"white\", \"linecolor\": \"white\", \"ticks\": \"\", \"title\": {\"standoff\": 15}, \"zerolinecolor\": \"white\", \"zerolinewidth\": 2}}}, \"title\": {\"text\": \"\\u0417\\u0430\\u0432\\u0438\\u0441\\u0438\\u043c\\u043e\\u0441\\u0442\\u044c \\u043d\\u0430\\u043a\\u043e\\u043f\\u043b\\u0435\\u043d\\u043d\\u043e\\u0439 \\u0434\\u043e\\u0431\\u044b\\u0447\\u0438 \\u043d\\u0435\\u0444\\u0442\\u0438 \\u043e\\u0442 \\u043e\\u0431\\u044a\\u0435\\u043c\\u0430 \\u0436\\u0438\\u0434\\u043a\\u043e\\u0441\\u0442\\u0438\", \"x\": 0.45, \"xanchor\": \"center\", \"y\": 0.95, \"yanchor\": \"top\"}, \"width\": 1400, \"xaxis\": {\"anchor\": \"y\", \"domain\": [0.0, 0.45], \"tickangle\": -45, \"tickmode\": \"array\", \"title\": {\"text\": \"1 / \\u041d\\u0430\\u043a\\u043e\\u043f\\u043b\\u0435\\u043d\\u043d\\u044b\\u0439 \\u043e\\u0431\\u044a\\u0435\\u043c \\u0436\\u0438\\u0434\\u043a\\u043e\\u0441\\u0442\\u0438, 10^-6\"}}, \"xaxis2\": {\"anchor\": \"y2\", \"domain\": [0.55, 1.0], \"tickangle\": -45, \"title\": {\"text\": \"1 / \\u041d\\u0430\\u043a\\u043e\\u043f\\u043b\\u0435\\u043d\\u043d\\u044b\\u0439 \\u043e\\u0431\\u044a\\u0435\\u043c \\u0436\\u0438\\u0434\\u043a\\u043e\\u0441\\u0442\\u0438, 10^-6\"}}, \"yaxis\": {\"anchor\": \"x\", \"domain\": [0.0, 1.0], \"title\": {\"text\": \"\\u041d\\u0430\\u043a\\u043e\\u043f\\u043b\\u0435\\u043d\\u043d\\u044b\\u0439 \\u043e\\u0431\\u044a\\u0435\\u043c \\u043d\\u0435\\u0444\\u0442\\u0438, 10^6\"}}, \"yaxis2\": {\"anchor\": \"x2\", \"domain\": [0.0, 1.0]}},\n",
              "                        {\"responsive\": true}\n",
              "                    ).then(function(){\n",
              "                            \n",
              "var gd = document.getElementById('a2a2b7be-dc51-4a93-aac9-be63f07e3345');\n",
              "var x = new MutationObserver(function (mutations, observer) {{\n",
              "        var display = window.getComputedStyle(gd).display;\n",
              "        if (!display || display === 'none') {{\n",
              "            console.log([gd, 'removed!']);\n",
              "            Plotly.purge(gd);\n",
              "            observer.disconnect();\n",
              "        }}\n",
              "}});\n",
              "\n",
              "// Listen for the removal of the full notebook cells\n",
              "var notebookContainer = gd.closest('#notebook-container');\n",
              "if (notebookContainer) {{\n",
              "    x.observe(notebookContainer, {childList: true});\n",
              "}}\n",
              "\n",
              "// Listen for the clearing of the current output cell\n",
              "var outputEl = gd.closest('.output');\n",
              "if (outputEl) {{\n",
              "    x.observe(outputEl, {childList: true});\n",
              "}}\n",
              "\n",
              "                        })\n",
              "                };\n",
              "                \n",
              "            </script>\n",
              "        </div>\n",
              "</body>\n",
              "</html>"
            ]
          },
          "metadata": {
            "tags": []
          }
        }
      ]
    },
    {
      "cell_type": "code",
      "metadata": {
        "id": "FldyUYG-P8Yr"
      },
      "source": [
        "frame_range = [10, 25]\n",
        "shift_range = [0, 15]"
      ],
      "execution_count": 9,
      "outputs": []
    },
    {
      "cell_type": "code",
      "metadata": {
        "id": "XCdNe97_QRF4"
      },
      "source": [
        ""
      ],
      "execution_count": 9,
      "outputs": []
    },
    {
      "cell_type": "code",
      "metadata": {
        "id": "oe3or7O0P8hx"
      },
      "source": [
        "data = []\n",
        "\n",
        "for shift in range(shift_range[0], shift_range[1] + 1):\n",
        "  for frame in range(frame_range[0], frame_range[1] + 1):\n",
        "    if shift == 0:\n",
        "      xdata = df_graph[-frame:]['water_total']\n",
        "      ydata = df_graph[-frame:]['oil_total']\n",
        "    else:\n",
        "      xdata = df_graph[-(frame + shift):-shift]['water_total']\n",
        "      ydata = df_graph[-(frame + shift):-shift]['oil_total']      \n",
        "\n",
        "    popt, pcov = curve_fit(kambarov_func, xdata, ydata)\n",
        "    popt\n",
        "\n",
        "    data.append([shift, frame, kambarov_niz(*popt)])\n",
        "\n",
        "    #print(popt[0], popt[1], np.abs(kambarov_niz(popt[0], popt[1]) - niz_total))\n",
        "\n",
        "df_approx = pd.DataFrame(data, columns=['shift', 'frame', 'niz'])\n",
        "df_approx['err'] = np.abs(df_approx['niz'] - niz_total)"
      ],
      "execution_count": 10,
      "outputs": []
    },
    {
      "cell_type": "code",
      "metadata": {
        "colab": {
          "base_uri": "https://localhost:8080/",
          "height": 204
        },
        "id": "pBTVJeByRRDD",
        "outputId": "d0d98f60-138d-4e50-bdbb-bef783eeffea"
      },
      "source": [
        "df_approx.head(5)"
      ],
      "execution_count": 11,
      "outputs": [
        {
          "output_type": "execute_result",
          "data": {
            "text/html": [
              "<div>\n",
              "<style scoped>\n",
              "    .dataframe tbody tr th:only-of-type {\n",
              "        vertical-align: middle;\n",
              "    }\n",
              "\n",
              "    .dataframe tbody tr th {\n",
              "        vertical-align: top;\n",
              "    }\n",
              "\n",
              "    .dataframe thead th {\n",
              "        text-align: right;\n",
              "    }\n",
              "</style>\n",
              "<table border=\"1\" class=\"dataframe\">\n",
              "  <thead>\n",
              "    <tr style=\"text-align: right;\">\n",
              "      <th></th>\n",
              "      <th>shift</th>\n",
              "      <th>frame</th>\n",
              "      <th>niz</th>\n",
              "      <th>err</th>\n",
              "    </tr>\n",
              "  </thead>\n",
              "  <tbody>\n",
              "    <tr>\n",
              "      <th>0</th>\n",
              "      <td>0</td>\n",
              "      <td>10</td>\n",
              "      <td>11114.592887</td>\n",
              "      <td>2119.592887</td>\n",
              "    </tr>\n",
              "    <tr>\n",
              "      <th>1</th>\n",
              "      <td>0</td>\n",
              "      <td>11</td>\n",
              "      <td>10672.699226</td>\n",
              "      <td>1677.699226</td>\n",
              "    </tr>\n",
              "    <tr>\n",
              "      <th>2</th>\n",
              "      <td>0</td>\n",
              "      <td>12</td>\n",
              "      <td>10302.446703</td>\n",
              "      <td>1307.446703</td>\n",
              "    </tr>\n",
              "    <tr>\n",
              "      <th>3</th>\n",
              "      <td>0</td>\n",
              "      <td>13</td>\n",
              "      <td>9960.872802</td>\n",
              "      <td>965.872802</td>\n",
              "    </tr>\n",
              "    <tr>\n",
              "      <th>4</th>\n",
              "      <td>0</td>\n",
              "      <td>14</td>\n",
              "      <td>9677.561126</td>\n",
              "      <td>682.561126</td>\n",
              "    </tr>\n",
              "  </tbody>\n",
              "</table>\n",
              "</div>"
            ],
            "text/plain": [
              "   shift  frame           niz          err\n",
              "0      0     10  11114.592887  2119.592887\n",
              "1      0     11  10672.699226  1677.699226\n",
              "2      0     12  10302.446703  1307.446703\n",
              "3      0     13   9960.872802   965.872802\n",
              "4      0     14   9677.561126   682.561126"
            ]
          },
          "metadata": {
            "tags": []
          },
          "execution_count": 11
        }
      ]
    },
    {
      "cell_type": "code",
      "metadata": {
        "colab": {
          "base_uri": "https://localhost:8080/",
          "height": 717
        },
        "id": "MnqR01inSCa4",
        "outputId": "e645604b-84d4-47fc-b273-e6d1e0aeb7cc"
      },
      "source": [
        "fig = go.Figure()\n",
        "\n",
        "for shift in range(shift_range[0], shift_range[1] + 1):\n",
        "  df_shift_data = df_approx.query('shift == @shift')\n",
        "\n",
        "  fig.add_trace(go.Scatter(x=df_shift_data['frame'], y=df_shift_data['err'],\n",
        "                      mode='lines',\n",
        "                      name='График при сдвиге: {0}'.format(shift)))\n",
        "\n",
        "fig.update_layout( \n",
        "    xaxis=dict(\n",
        "        domain=[0.2, 0.9],\n",
        "        title='Размер окна',\n",
        "    ),\n",
        "    yaxis=dict(\n",
        "        title='Ошибка предсказания',\n",
        "    ),\n",
        "    title={\n",
        "        'text': \"Зависимость ошибки предсказания НИЗ от параметров аппроксимации\",\n",
        "        'y':0.95,\n",
        "        'x':0.50,\n",
        "        'xanchor': 'center',\n",
        "        'yanchor': 'top'},\n",
        "    autosize=False,\n",
        "    width=1400,\n",
        "    height=700\n",
        ")\n",
        "\n",
        "fig.show()"
      ],
      "execution_count": 12,
      "outputs": [
        {
          "output_type": "display_data",
          "data": {
            "text/html": [
              "<html>\n",
              "<head><meta charset=\"utf-8\" /></head>\n",
              "<body>\n",
              "    <div>\n",
              "            <script src=\"https://cdnjs.cloudflare.com/ajax/libs/mathjax/2.7.5/MathJax.js?config=TeX-AMS-MML_SVG\"></script><script type=\"text/javascript\">if (window.MathJax) {MathJax.Hub.Config({SVG: {font: \"STIX-Web\"}});}</script>\n",
              "                <script type=\"text/javascript\">window.PlotlyConfig = {MathJaxConfig: 'local'};</script>\n",
              "        <script src=\"https://cdn.plot.ly/plotly-latest.min.js\"></script>    \n",
              "            <div id=\"53f1b6e9-cab8-426f-8668-511f4b90c1b3\" class=\"plotly-graph-div\" style=\"height:700px; width:1400px;\"></div>\n",
              "            <script type=\"text/javascript\">\n",
              "                \n",
              "                    window.PLOTLYENV=window.PLOTLYENV || {};\n",
              "                    \n",
              "                if (document.getElementById(\"53f1b6e9-cab8-426f-8668-511f4b90c1b3\")) {\n",
              "                    Plotly.newPlot(\n",
              "                        '53f1b6e9-cab8-426f-8668-511f4b90c1b3',\n",
              "                        [{\"mode\": \"lines\", \"name\": \"\\u0413\\u0440\\u0430\\u0444\\u0438\\u043a \\u043f\\u0440\\u0438 \\u0441\\u0434\\u0432\\u0438\\u0433\\u0435: 0\", \"type\": \"scatter\", \"x\": [10, 11, 12, 13, 14, 15, 16, 17, 18, 19, 20, 21, 22, 23, 24, 25], \"y\": [2119.5928871893066, 1677.699225708462, 1307.4467025478298, 965.8728020166327, 682.561126039107, 461.3617067655523, 271.84378709585326, 97.39440438731617, 58.401533213605944, 187.25509263841377, 287.6459954167185, 389.73716638950464, 505.07845076413105, 624.9599689375264, 735.8564130175382, 846.8522837268201]}, {\"mode\": \"lines\", \"name\": \"\\u0413\\u0440\\u0430\\u0444\\u0438\\u043a \\u043f\\u0440\\u0438 \\u0441\\u0434\\u0432\\u0438\\u0433\\u0435: 1\", \"type\": \"scatter\", \"x\": [10, 11, 12, 13, 14, 15, 16, 17, 18, 19, 20, 21, 22, 23, 24, 25], \"y\": [1618.0325857344142, 1212.4620921365859, 855.331455380292, 569.5591290601951, 352.0319581329313, 167.60067682034241, 1.6827845241568866, 152.10867176247302, 275.6843954615415, 371.0496765375501, 468.84128593352943, 580.4815706368609, 696.6597974117158, 803.8560935164996, 910.9844180803557, 1010.9042722646473]}, {\"mode\": \"lines\", \"name\": \"\\u0413\\u0440\\u0430\\u0444\\u0438\\u043a \\u043f\\u0440\\u0438 \\u0441\\u0434\\u0432\\u0438\\u0433\\u0435: 2\", \"type\": \"scatter\", \"x\": [10, 11, 12, 13, 14, 15, 16, 17, 18, 19, 20, 21, 22, 23, 24, 25], \"y\": [1083.9912868231877, 719.5258757565716, 437.90923129081966, 228.65657257375278, 52.50224752201029, 109.30930934199387, 252.6329071115524, 369.67773763294826, 459.1022244610467, 551.865273443329, 659.1903713885895, 771.1100932643694, 874.1399788217041, 976.9704480536639, 1072.558144286747, 1173.2111468581988]}, {\"mode\": \"lines\", \"name\": \"\\u0413\\u0440\\u0430\\u0444\\u0438\\u043a \\u043f\\u0440\\u0438 \\u0441\\u0434\\u0432\\u0438\\u0433\\u0435: 3\", \"type\": \"scatter\", \"x\": [10, 11, 12, 13, 14, 15, 16, 17, 18, 19, 20, 21, 22, 23, 24, 25], \"y\": [543.7449195157988, 277.15914413417704, 83.29662512135837, 79.74452461278452, 230.60005677863228, 364.2020465419173, 472.8146008096119, 554.9007622093959, 641.504749581738, 743.5454995423679, 850.3264408397808, 948.44992142507, 1046.3003702920487, 1136.96069445573, 1232.8867570887396, 1333.618527321899]}, {\"mode\": \"lines\", \"name\": \"\\u0413\\u0440\\u0430\\u0444\\u0438\\u043a \\u043f\\u0440\\u0438 \\u0441\\u0434\\u0432\\u0438\\u0433\\u0435: 4\", \"type\": \"scatter\", \"x\": [10, 11, 12, 13, 14, 15, 16, 17, 18, 19, 20, 21, 22, 23, 24, 25], \"y\": [95.34163989586341, 77.15107350834842, 223.2210851500622, 360.4741158939851, 482.4187186332565, 581.2257746642608, 654.9683941808289, 734.6458259678402, 830.7983120548051, 931.8982993210147, 1024.6586456921168, 1117.1036289913682, 1202.46246714694, 1293.3561190020127, 1389.3313950333131, 1482.8790832817522]}, {\"mode\": \"lines\", \"name\": \"\\u0413\\u0440\\u0430\\u0444\\u0438\\u043a \\u043f\\u0440\\u0438 \\u0441\\u0434\\u0432\\u0438\\u0433\\u0435: 5\", \"type\": \"scatter\", \"x\": [10, 11, 12, 13, 14, 15, 16, 17, 18, 19, 20, 21, 22, 23, 24, 25], \"y\": [251.7766982664798, 376.7559909713382, 497.7041187412415, 606.0648403019168, 693.727519715856, 758.1471267275938, 830.1957906440357, 919.9632216936834, 1014.9439930964618, 1101.970290941841, 1188.660899787572, 1268.4089896035111, 1354.035583570745, 1445.087195004653, 1534.455415019028, 1626.0786318439978]}, {\"mode\": \"lines\", \"name\": \"\\u0413\\u0440\\u0430\\u0444\\u0438\\u043a \\u043f\\u0440\\u0438 \\u0441\\u0434\\u0432\\u0438\\u0433\\u0435: 6\", \"type\": \"scatter\", \"x\": [10, 11, 12, 13, 14, 15, 16, 17, 18, 19, 20, 21, 22, 23, 24, 25], \"y\": [528.1607829281875, 631.9627092253977, 726.3177534301794, 802.6441405024743, 857.6080573945173, 922.1106679001523, 1005.781192839384, 1094.9256711871994, 1176.4416872866368, 1257.5632551745148, 1331.845900323844, 1412.392579046782, 1498.7363477998133, 1584.1521015606486, 1672.5516060301115, 1759.129914288953]}, {\"mode\": \"lines\", \"name\": \"\\u0413\\u0440\\u0430\\u0444\\u0438\\u043a \\u043f\\u0440\\u0438 \\u0441\\u0434\\u0432\\u0438\\u0433\\u0435: 7\", \"type\": \"scatter\", \"x\": [10, 11, 12, 13, 14, 15, 16, 17, 18, 19, 20, 21, 22, 23, 24, 25], \"y\": [753.7628288467313, 835.3847917721314, 901.39486251574, 947.598078807303, 1005.442006422637, 1084.1394457588594, 1168.4664947445044, 1245.2604466700668, 1321.475560295431, 1390.8163219861544, 1466.81164790791, 1548.9624660450118, 1630.890164246015, 1716.4979894200487, 1800.7344426096897, 1888.7134081730192]}, {\"mode\": \"lines\", \"name\": \"\\u0413\\u0440\\u0430\\u0444\\u0438\\u043a \\u043f\\u0440\\u0438 \\u0441\\u0434\\u0432\\u0438\\u0433\\u0435: 8\", \"type\": \"scatter\", \"x\": [10, 11, 12, 13, 14, 15, 16, 17, 18, 19, 20, 21, 22, 23, 24, 25], \"y\": [925.7082075702692, 983.903024702242, 1022.9689123687476, 1075.9713801582466, 1151.7910855269747, 1233.1170566505834, 1306.5315564037319, 1378.9317980425503, 1444.1621359067021, 1516.400787051426, 1595.0941142728752, 1674.163902089982, 1757.5427090760895, 1839.9048879701859, 1926.408792271949, 2023.9837570181953]}, {\"mode\": \"lines\", \"name\": \"\\u0413\\u0440\\u0430\\u0444\\u0438\\u043a \\u043f\\u0440\\u0438 \\u0441\\u0434\\u0432\\u0438\\u0433\\u0435: 9\", \"type\": \"scatter\", \"x\": [10, 11, 12, 13, 14, 15, 16, 17, 18, 19, 20, 21, 22, 23, 24, 25], \"y\": [1043.6705095959633, 1078.6507094310218, 1130.0324876119575, 1206.473955739406, 1287.6252621875583, 1359.5881152408465, 1429.6359857529978, 1491.790154150246, 1561.2200925264933, 1637.2962919475804, 1714.2014780389218, 1795.95587850244, 1876.9320765530447, 1962.3869411150145, 2059.303562262514, 2152.0693658827377]}, {\"mode\": \"lines\", \"name\": \"\\u0413\\u0440\\u0430\\u0444\\u0438\\u043a \\u043f\\u0440\\u0438 \\u0441\\u0434\\u0432\\u0438\\u0433\\u0435: 10\", \"type\": \"scatter\", \"x\": [10, 11, 12, 13, 14, 15, 16, 17, 18, 19, 20, 21, 22, 23, 24, 25], \"y\": [1128.3016569563388, 1179.0961598321082, 1257.6091759687142, 1339.503384942058, 1410.4228387425655, 1478.2888496643927, 1537.4029065279356, 1604.1430104746405, 1677.7694505694535, 1752.7107135137667, 1833.0692713626895, 1912.86677623798, 1997.4768794137517, 2093.949171550951, 2185.942946348049, 2284.4730135266536]}, {\"mode\": \"lines\", \"name\": \"\\u0413\\u0440\\u0430\\u0444\\u0438\\u043a \\u043f\\u0440\\u0438 \\u0441\\u0434\\u0432\\u0438\\u0433\\u0435: 11\", \"type\": \"scatter\", \"x\": [10, 11, 12, 13, 14, 15, 16, 17, 18, 19, 20, 21, 22, 23, 24, 25], \"y\": [1232.9288282195503, 1313.0574504742235, 1394.894947930121, 1463.8618389872545, 1528.628178052605, 1583.9199863190925, 1647.447830581641, 1718.2938736319484, 1791.1208499858494, 1870.0528759727486, 1948.6849675310914, 2032.5025473961978, 2128.6188788566906, 2219.891018579853, 2317.350788957101, 2400.9131153779517]}, {\"mode\": \"lines\", \"name\": \"\\u0413\\u0440\\u0430\\u0444\\u0438\\u043a \\u043f\\u0440\\u0438 \\u0441\\u0434\\u0432\\u0438\\u0433\\u0435: 12\", \"type\": \"scatter\", \"x\": [10, 11, 12, 13, 14, 15, 16, 17, 18, 19, 20, 21, 22, 23, 24, 25], \"y\": [1363.009926293581, 1446.3785910971583, 1514.0203695595246, 1575.9483464008454, 1627.5163050113551, 1688.0840652874986, 1756.4696679015824, 1827.524962247533, 1905.386721478263, 1983.1597796505885, 2066.4729730315476, 2162.5238766161965, 2253.2781355997713, 2349.822160859152, 2432.0273277102506, 2501.7551428867755]}, {\"mode\": \"lines\", \"name\": \"\\u0413\\u0440\\u0430\\u0444\\u0438\\u043a \\u043f\\u0440\\u0438 \\u0441\\u0434\\u0432\\u0438\\u0433\\u0435: 13\", \"type\": \"scatter\", \"x\": [10, 11, 12, 13, 14, 15, 16, 17, 18, 19, 20, 21, 22, 23, 24, 25], \"y\": [1504.3246735111488, 1568.7483724056738, 1626.1422496450214, 1672.700514132075, 1729.5203750181236, 1794.9822271187513, 1864.0688865686443, 1940.8229049152887, 2017.7504944274979, 2100.618707170678, 2196.7060413239424, 2286.9884488917687, 2382.6232363037207, 2463.4377176271983, 2531.7687387912256, 2601.090374503071]}, {\"mode\": \"lines\", \"name\": \"\\u0413\\u0440\\u0430\\u0444\\u0438\\u043a \\u043f\\u0440\\u0438 \\u0441\\u0434\\u0432\\u0438\\u0433\\u0435: 14\", \"type\": \"scatter\", \"x\": [10, 11, 12, 13, 14, 15, 16, 17, 18, 19, 20, 21, 22, 23, 24, 25], \"y\": [1619.7789252186558, 1672.493818462529, 1713.9984436399018, 1767.3704528075104, 1830.3497393326452, 1897.9442676429953, 1974.071798071188, 2050.56175350391, 2133.3615131786555, 2229.857944729627, 2319.9298206160465, 2414.8542830735505, 2494.3881796326577, 2561.3935626310686, 2629.7231193043744, 2732.305937263175]}, {\"mode\": \"lines\", \"name\": \"\\u0413\\u0440\\u0430\\u0444\\u0438\\u043a \\u043f\\u0440\\u0438 \\u0441\\u0434\\u0432\\u0438\\u0433\\u0435: 15\", \"type\": \"scatter\", \"x\": [10, 11, 12, 13, 14, 15, 16, 17, 18, 19, 20, 21, 22, 23, 24, 25], \"y\": [1714.3981213429834, 1751.0534711747114, 1801.5473526175701, 1862.6979174567987, 1929.4208324216434, 2005.5098425011029, 2082.0315637680533, 2165.182191205862, 2262.4952870626275, 2352.6144567655074, 2446.9975701498024, 2525.3141226046773, 2591.020245296286, 2658.397212057208, 2761.014727870578, 2979.4365484248]}],\n",
              "                        {\"autosize\": false, \"height\": 700, \"template\": {\"data\": {\"bar\": [{\"error_x\": {\"color\": \"#2a3f5f\"}, \"error_y\": {\"color\": \"#2a3f5f\"}, \"marker\": {\"line\": {\"color\": \"#E5ECF6\", \"width\": 0.5}}, \"type\": \"bar\"}], \"barpolar\": [{\"marker\": {\"line\": {\"color\": \"#E5ECF6\", \"width\": 0.5}}, \"type\": \"barpolar\"}], \"carpet\": [{\"aaxis\": {\"endlinecolor\": \"#2a3f5f\", \"gridcolor\": \"white\", \"linecolor\": \"white\", \"minorgridcolor\": \"white\", \"startlinecolor\": \"#2a3f5f\"}, \"baxis\": {\"endlinecolor\": \"#2a3f5f\", \"gridcolor\": \"white\", \"linecolor\": \"white\", \"minorgridcolor\": \"white\", \"startlinecolor\": \"#2a3f5f\"}, \"type\": \"carpet\"}], \"choropleth\": [{\"colorbar\": {\"outlinewidth\": 0, \"ticks\": \"\"}, \"type\": \"choropleth\"}], \"contour\": [{\"colorbar\": {\"outlinewidth\": 0, \"ticks\": \"\"}, \"colorscale\": [[0.0, \"#0d0887\"], [0.1111111111111111, \"#46039f\"], [0.2222222222222222, \"#7201a8\"], [0.3333333333333333, \"#9c179e\"], [0.4444444444444444, \"#bd3786\"], [0.5555555555555556, \"#d8576b\"], [0.6666666666666666, \"#ed7953\"], [0.7777777777777778, \"#fb9f3a\"], [0.8888888888888888, \"#fdca26\"], [1.0, \"#f0f921\"]], \"type\": \"contour\"}], \"contourcarpet\": [{\"colorbar\": {\"outlinewidth\": 0, \"ticks\": \"\"}, \"type\": \"contourcarpet\"}], \"heatmap\": [{\"colorbar\": {\"outlinewidth\": 0, \"ticks\": \"\"}, \"colorscale\": [[0.0, \"#0d0887\"], [0.1111111111111111, \"#46039f\"], [0.2222222222222222, \"#7201a8\"], [0.3333333333333333, \"#9c179e\"], [0.4444444444444444, \"#bd3786\"], [0.5555555555555556, \"#d8576b\"], [0.6666666666666666, \"#ed7953\"], [0.7777777777777778, \"#fb9f3a\"], [0.8888888888888888, \"#fdca26\"], [1.0, \"#f0f921\"]], \"type\": \"heatmap\"}], \"heatmapgl\": [{\"colorbar\": {\"outlinewidth\": 0, \"ticks\": \"\"}, \"colorscale\": [[0.0, \"#0d0887\"], [0.1111111111111111, \"#46039f\"], [0.2222222222222222, \"#7201a8\"], [0.3333333333333333, \"#9c179e\"], [0.4444444444444444, \"#bd3786\"], [0.5555555555555556, \"#d8576b\"], [0.6666666666666666, \"#ed7953\"], [0.7777777777777778, \"#fb9f3a\"], [0.8888888888888888, \"#fdca26\"], [1.0, \"#f0f921\"]], \"type\": \"heatmapgl\"}], \"histogram\": [{\"marker\": {\"colorbar\": {\"outlinewidth\": 0, \"ticks\": \"\"}}, \"type\": \"histogram\"}], \"histogram2d\": [{\"colorbar\": {\"outlinewidth\": 0, \"ticks\": \"\"}, \"colorscale\": [[0.0, \"#0d0887\"], [0.1111111111111111, \"#46039f\"], [0.2222222222222222, \"#7201a8\"], [0.3333333333333333, \"#9c179e\"], [0.4444444444444444, \"#bd3786\"], [0.5555555555555556, \"#d8576b\"], [0.6666666666666666, \"#ed7953\"], [0.7777777777777778, \"#fb9f3a\"], [0.8888888888888888, \"#fdca26\"], [1.0, \"#f0f921\"]], \"type\": \"histogram2d\"}], \"histogram2dcontour\": [{\"colorbar\": {\"outlinewidth\": 0, \"ticks\": \"\"}, \"colorscale\": [[0.0, \"#0d0887\"], [0.1111111111111111, \"#46039f\"], [0.2222222222222222, \"#7201a8\"], [0.3333333333333333, \"#9c179e\"], [0.4444444444444444, \"#bd3786\"], [0.5555555555555556, \"#d8576b\"], [0.6666666666666666, \"#ed7953\"], [0.7777777777777778, \"#fb9f3a\"], [0.8888888888888888, \"#fdca26\"], [1.0, \"#f0f921\"]], \"type\": \"histogram2dcontour\"}], \"mesh3d\": [{\"colorbar\": {\"outlinewidth\": 0, \"ticks\": \"\"}, \"type\": \"mesh3d\"}], \"parcoords\": [{\"line\": {\"colorbar\": {\"outlinewidth\": 0, \"ticks\": \"\"}}, \"type\": \"parcoords\"}], \"pie\": [{\"automargin\": true, \"type\": \"pie\"}], \"scatter\": [{\"marker\": {\"colorbar\": {\"outlinewidth\": 0, \"ticks\": \"\"}}, \"type\": \"scatter\"}], \"scatter3d\": [{\"line\": {\"colorbar\": {\"outlinewidth\": 0, \"ticks\": \"\"}}, \"marker\": {\"colorbar\": {\"outlinewidth\": 0, \"ticks\": \"\"}}, \"type\": \"scatter3d\"}], \"scattercarpet\": [{\"marker\": {\"colorbar\": {\"outlinewidth\": 0, \"ticks\": \"\"}}, \"type\": \"scattercarpet\"}], \"scattergeo\": [{\"marker\": {\"colorbar\": {\"outlinewidth\": 0, \"ticks\": \"\"}}, \"type\": \"scattergeo\"}], \"scattergl\": [{\"marker\": {\"colorbar\": {\"outlinewidth\": 0, \"ticks\": \"\"}}, \"type\": \"scattergl\"}], \"scattermapbox\": [{\"marker\": {\"colorbar\": {\"outlinewidth\": 0, \"ticks\": \"\"}}, \"type\": \"scattermapbox\"}], \"scatterpolar\": [{\"marker\": {\"colorbar\": {\"outlinewidth\": 0, \"ticks\": \"\"}}, \"type\": \"scatterpolar\"}], \"scatterpolargl\": [{\"marker\": {\"colorbar\": {\"outlinewidth\": 0, \"ticks\": \"\"}}, \"type\": \"scatterpolargl\"}], \"scatterternary\": [{\"marker\": {\"colorbar\": {\"outlinewidth\": 0, \"ticks\": \"\"}}, \"type\": \"scatterternary\"}], \"surface\": [{\"colorbar\": {\"outlinewidth\": 0, \"ticks\": \"\"}, \"colorscale\": [[0.0, \"#0d0887\"], [0.1111111111111111, \"#46039f\"], [0.2222222222222222, \"#7201a8\"], [0.3333333333333333, \"#9c179e\"], [0.4444444444444444, \"#bd3786\"], [0.5555555555555556, \"#d8576b\"], [0.6666666666666666, \"#ed7953\"], [0.7777777777777778, \"#fb9f3a\"], [0.8888888888888888, \"#fdca26\"], [1.0, \"#f0f921\"]], \"type\": \"surface\"}], \"table\": [{\"cells\": {\"fill\": {\"color\": \"#EBF0F8\"}, \"line\": {\"color\": \"white\"}}, \"header\": {\"fill\": {\"color\": \"#C8D4E3\"}, \"line\": {\"color\": \"white\"}}, \"type\": \"table\"}]}, \"layout\": {\"annotationdefaults\": {\"arrowcolor\": \"#2a3f5f\", \"arrowhead\": 0, \"arrowwidth\": 1}, \"coloraxis\": {\"colorbar\": {\"outlinewidth\": 0, \"ticks\": \"\"}}, \"colorscale\": {\"diverging\": [[0, \"#8e0152\"], [0.1, \"#c51b7d\"], [0.2, \"#de77ae\"], [0.3, \"#f1b6da\"], [0.4, \"#fde0ef\"], [0.5, \"#f7f7f7\"], [0.6, \"#e6f5d0\"], [0.7, \"#b8e186\"], [0.8, \"#7fbc41\"], [0.9, \"#4d9221\"], [1, \"#276419\"]], \"sequential\": [[0.0, \"#0d0887\"], [0.1111111111111111, \"#46039f\"], [0.2222222222222222, \"#7201a8\"], [0.3333333333333333, \"#9c179e\"], [0.4444444444444444, \"#bd3786\"], [0.5555555555555556, \"#d8576b\"], [0.6666666666666666, \"#ed7953\"], [0.7777777777777778, \"#fb9f3a\"], [0.8888888888888888, \"#fdca26\"], [1.0, \"#f0f921\"]], \"sequentialminus\": [[0.0, \"#0d0887\"], [0.1111111111111111, \"#46039f\"], [0.2222222222222222, \"#7201a8\"], [0.3333333333333333, \"#9c179e\"], [0.4444444444444444, \"#bd3786\"], [0.5555555555555556, \"#d8576b\"], [0.6666666666666666, \"#ed7953\"], [0.7777777777777778, \"#fb9f3a\"], [0.8888888888888888, \"#fdca26\"], [1.0, \"#f0f921\"]]}, \"colorway\": [\"#636efa\", \"#EF553B\", \"#00cc96\", \"#ab63fa\", \"#FFA15A\", \"#19d3f3\", \"#FF6692\", \"#B6E880\", \"#FF97FF\", \"#FECB52\"], \"font\": {\"color\": \"#2a3f5f\"}, \"geo\": {\"bgcolor\": \"white\", \"lakecolor\": \"white\", \"landcolor\": \"#E5ECF6\", \"showlakes\": true, \"showland\": true, \"subunitcolor\": \"white\"}, \"hoverlabel\": {\"align\": \"left\"}, \"hovermode\": \"closest\", \"mapbox\": {\"style\": \"light\"}, \"paper_bgcolor\": \"white\", \"plot_bgcolor\": \"#E5ECF6\", \"polar\": {\"angularaxis\": {\"gridcolor\": \"white\", \"linecolor\": \"white\", \"ticks\": \"\"}, \"bgcolor\": \"#E5ECF6\", \"radialaxis\": {\"gridcolor\": \"white\", \"linecolor\": \"white\", \"ticks\": \"\"}}, \"scene\": {\"xaxis\": {\"backgroundcolor\": \"#E5ECF6\", \"gridcolor\": \"white\", \"gridwidth\": 2, \"linecolor\": \"white\", \"showbackground\": true, \"ticks\": \"\", \"zerolinecolor\": \"white\"}, \"yaxis\": {\"backgroundcolor\": \"#E5ECF6\", \"gridcolor\": \"white\", \"gridwidth\": 2, \"linecolor\": \"white\", \"showbackground\": true, \"ticks\": \"\", \"zerolinecolor\": \"white\"}, \"zaxis\": {\"backgroundcolor\": \"#E5ECF6\", \"gridcolor\": \"white\", \"gridwidth\": 2, \"linecolor\": \"white\", \"showbackground\": true, \"ticks\": \"\", \"zerolinecolor\": \"white\"}}, \"shapedefaults\": {\"line\": {\"color\": \"#2a3f5f\"}}, \"ternary\": {\"aaxis\": {\"gridcolor\": \"white\", \"linecolor\": \"white\", \"ticks\": \"\"}, \"baxis\": {\"gridcolor\": \"white\", \"linecolor\": \"white\", \"ticks\": \"\"}, \"bgcolor\": \"#E5ECF6\", \"caxis\": {\"gridcolor\": \"white\", \"linecolor\": \"white\", \"ticks\": \"\"}}, \"title\": {\"x\": 0.05}, \"xaxis\": {\"automargin\": true, \"gridcolor\": \"white\", \"linecolor\": \"white\", \"ticks\": \"\", \"title\": {\"standoff\": 15}, \"zerolinecolor\": \"white\", \"zerolinewidth\": 2}, \"yaxis\": {\"automargin\": true, \"gridcolor\": \"white\", \"linecolor\": \"white\", \"ticks\": \"\", \"title\": {\"standoff\": 15}, \"zerolinecolor\": \"white\", \"zerolinewidth\": 2}}}, \"title\": {\"text\": \"\\u0417\\u0430\\u0432\\u0438\\u0441\\u0438\\u043c\\u043e\\u0441\\u0442\\u044c \\u043e\\u0448\\u0438\\u0431\\u043a\\u0438 \\u043f\\u0440\\u0435\\u0434\\u0441\\u043a\\u0430\\u0437\\u0430\\u043d\\u0438\\u044f \\u041d\\u0418\\u0417 \\u043e\\u0442 \\u043f\\u0430\\u0440\\u0430\\u043c\\u0435\\u0442\\u0440\\u043e\\u0432 \\u0430\\u043f\\u043f\\u0440\\u043e\\u043a\\u0441\\u0438\\u043c\\u0430\\u0446\\u0438\\u0438\", \"x\": 0.5, \"xanchor\": \"center\", \"y\": 0.95, \"yanchor\": \"top\"}, \"width\": 1400, \"xaxis\": {\"domain\": [0.2, 0.9], \"title\": {\"text\": \"\\u0420\\u0430\\u0437\\u043c\\u0435\\u0440 \\u043e\\u043a\\u043d\\u0430\"}}, \"yaxis\": {\"title\": {\"text\": \"\\u041e\\u0448\\u0438\\u0431\\u043a\\u0430 \\u043f\\u0440\\u0435\\u0434\\u0441\\u043a\\u0430\\u0437\\u0430\\u043d\\u0438\\u044f\"}}},\n",
              "                        {\"responsive\": true}\n",
              "                    ).then(function(){\n",
              "                            \n",
              "var gd = document.getElementById('53f1b6e9-cab8-426f-8668-511f4b90c1b3');\n",
              "var x = new MutationObserver(function (mutations, observer) {{\n",
              "        var display = window.getComputedStyle(gd).display;\n",
              "        if (!display || display === 'none') {{\n",
              "            console.log([gd, 'removed!']);\n",
              "            Plotly.purge(gd);\n",
              "            observer.disconnect();\n",
              "        }}\n",
              "}});\n",
              "\n",
              "// Listen for the removal of the full notebook cells\n",
              "var notebookContainer = gd.closest('#notebook-container');\n",
              "if (notebookContainer) {{\n",
              "    x.observe(notebookContainer, {childList: true});\n",
              "}}\n",
              "\n",
              "// Listen for the clearing of the current output cell\n",
              "var outputEl = gd.closest('.output');\n",
              "if (outputEl) {{\n",
              "    x.observe(outputEl, {childList: true});\n",
              "}}\n",
              "\n",
              "                        })\n",
              "                };\n",
              "                \n",
              "            </script>\n",
              "        </div>\n",
              "</body>\n",
              "</html>"
            ]
          },
          "metadata": {
            "tags": []
          }
        }
      ]
    },
    {
      "cell_type": "code",
      "metadata": {
        "id": "n7VRrtadSPJx"
      },
      "source": [
        "df_approx_pvt = df_approx.pivot(index='shift', columns='frame', values='err')"
      ],
      "execution_count": 13,
      "outputs": []
    },
    {
      "cell_type": "code",
      "metadata": {
        "id": "0gSS3FnKXy8j"
      },
      "source": [
        "def df_to_plotly(df):\n",
        "    return {'z': df.values.tolist(),\n",
        "            'x': df.columns.tolist(),\n",
        "            'y': df.index.tolist()}"
      ],
      "execution_count": 14,
      "outputs": []
    },
    {
      "cell_type": "code",
      "metadata": {
        "colab": {
          "base_uri": "https://localhost:8080/",
          "height": 717
        },
        "id": "YqlfbeZnXfEE",
        "outputId": "961fcfe8-57ad-4268-9dfa-a3a325b1f9a0"
      },
      "source": [
        "fig = go.Figure(data=go.Heatmap(\n",
        "        df_to_plotly(df_approx_pvt),\n",
        "        colorscale='blues'))\n",
        "\n",
        "fig.update_layout( \n",
        "    xaxis=dict(\n",
        "        title='Размер окна',\n",
        "    ),\n",
        "    yaxis=dict(\n",
        "        title='Сдвиг',\n",
        "    ),\n",
        "    title={\n",
        "        'text': \"Зависимость ошибки предсказания НИЗ от параметров аппроксимации\",\n",
        "        'y':0.95,\n",
        "        'x':0.50,\n",
        "        'xanchor': 'center',\n",
        "        'yanchor': 'top'},\n",
        "    autosize=False,\n",
        "    width=1400,\n",
        "    height=700\n",
        ")\n",
        "\n",
        "fig.show()"
      ],
      "execution_count": 15,
      "outputs": [
        {
          "output_type": "display_data",
          "data": {
            "text/html": [
              "<html>\n",
              "<head><meta charset=\"utf-8\" /></head>\n",
              "<body>\n",
              "    <div>\n",
              "            <script src=\"https://cdnjs.cloudflare.com/ajax/libs/mathjax/2.7.5/MathJax.js?config=TeX-AMS-MML_SVG\"></script><script type=\"text/javascript\">if (window.MathJax) {MathJax.Hub.Config({SVG: {font: \"STIX-Web\"}});}</script>\n",
              "                <script type=\"text/javascript\">window.PlotlyConfig = {MathJaxConfig: 'local'};</script>\n",
              "        <script src=\"https://cdn.plot.ly/plotly-latest.min.js\"></script>    \n",
              "            <div id=\"3781b359-003a-442f-8321-8b3340611cf9\" class=\"plotly-graph-div\" style=\"height:700px; width:1400px;\"></div>\n",
              "            <script type=\"text/javascript\">\n",
              "                \n",
              "                    window.PLOTLYENV=window.PLOTLYENV || {};\n",
              "                    \n",
              "                if (document.getElementById(\"3781b359-003a-442f-8321-8b3340611cf9\")) {\n",
              "                    Plotly.newPlot(\n",
              "                        '3781b359-003a-442f-8321-8b3340611cf9',\n",
              "                        [{\"colorscale\": [[0.0, \"rgb(247,251,255)\"], [0.125, \"rgb(222,235,247)\"], [0.25, \"rgb(198,219,239)\"], [0.375, \"rgb(158,202,225)\"], [0.5, \"rgb(107,174,214)\"], [0.625, \"rgb(66,146,198)\"], [0.75, \"rgb(33,113,181)\"], [0.875, \"rgb(8,81,156)\"], [1.0, \"rgb(8,48,107)\"]], \"type\": \"heatmap\", \"x\": [10, 11, 12, 13, 14, 15, 16, 17, 18, 19, 20, 21, 22, 23, 24, 25], \"y\": [0, 1, 2, 3, 4, 5, 6, 7, 8, 9, 10, 11, 12, 13, 14, 15], \"z\": [[2119.5928871893066, 1677.699225708462, 1307.4467025478298, 965.8728020166327, 682.561126039107, 461.3617067655523, 271.84378709585326, 97.39440438731617, 58.401533213605944, 187.25509263841377, 287.6459954167185, 389.73716638950464, 505.07845076413105, 624.9599689375264, 735.8564130175382, 846.8522837268201], [1618.0325857344142, 1212.4620921365859, 855.331455380292, 569.5591290601951, 352.0319581329313, 167.60067682034241, 1.6827845241568866, 152.10867176247302, 275.6843954615415, 371.0496765375501, 468.84128593352943, 580.4815706368609, 696.6597974117158, 803.8560935164996, 910.9844180803557, 1010.9042722646473], [1083.9912868231877, 719.5258757565716, 437.90923129081966, 228.65657257375278, 52.50224752201029, 109.30930934199387, 252.6329071115524, 369.67773763294826, 459.1022244610467, 551.865273443329, 659.1903713885895, 771.1100932643694, 874.1399788217041, 976.9704480536639, 1072.558144286747, 1173.2111468581988], [543.7449195157988, 277.15914413417704, 83.29662512135837, 79.74452461278452, 230.60005677863228, 364.2020465419173, 472.8146008096119, 554.9007622093959, 641.504749581738, 743.5454995423679, 850.3264408397808, 948.44992142507, 1046.3003702920487, 1136.96069445573, 1232.8867570887396, 1333.618527321899], [95.34163989586341, 77.15107350834842, 223.2210851500622, 360.4741158939851, 482.4187186332565, 581.2257746642608, 654.9683941808289, 734.6458259678402, 830.7983120548051, 931.8982993210147, 1024.6586456921168, 1117.1036289913682, 1202.46246714694, 1293.3561190020127, 1389.3313950333131, 1482.8790832817522], [251.7766982664798, 376.7559909713382, 497.7041187412415, 606.0648403019168, 693.727519715856, 758.1471267275938, 830.1957906440357, 919.9632216936834, 1014.9439930964618, 1101.970290941841, 1188.660899787572, 1268.4089896035111, 1354.035583570745, 1445.087195004653, 1534.455415019028, 1626.0786318439978], [528.1607829281875, 631.9627092253977, 726.3177534301794, 802.6441405024743, 857.6080573945173, 922.1106679001523, 1005.781192839384, 1094.9256711871994, 1176.4416872866368, 1257.5632551745148, 1331.845900323844, 1412.392579046782, 1498.7363477998133, 1584.1521015606486, 1672.5516060301115, 1759.129914288953], [753.7628288467313, 835.3847917721314, 901.39486251574, 947.598078807303, 1005.442006422637, 1084.1394457588594, 1168.4664947445044, 1245.2604466700668, 1321.475560295431, 1390.8163219861544, 1466.81164790791, 1548.9624660450118, 1630.890164246015, 1716.4979894200487, 1800.7344426096897, 1888.7134081730192], [925.7082075702692, 983.903024702242, 1022.9689123687476, 1075.9713801582466, 1151.7910855269747, 1233.1170566505834, 1306.5315564037319, 1378.9317980425503, 1444.1621359067021, 1516.400787051426, 1595.0941142728752, 1674.163902089982, 1757.5427090760895, 1839.9048879701859, 1926.408792271949, 2023.9837570181953], [1043.6705095959633, 1078.6507094310218, 1130.0324876119575, 1206.473955739406, 1287.6252621875583, 1359.5881152408465, 1429.6359857529978, 1491.790154150246, 1561.2200925264933, 1637.2962919475804, 1714.2014780389218, 1795.95587850244, 1876.9320765530447, 1962.3869411150145, 2059.303562262514, 2152.0693658827377], [1128.3016569563388, 1179.0961598321082, 1257.6091759687142, 1339.503384942058, 1410.4228387425655, 1478.2888496643927, 1537.4029065279356, 1604.1430104746405, 1677.7694505694535, 1752.7107135137667, 1833.0692713626895, 1912.86677623798, 1997.4768794137517, 2093.949171550951, 2185.942946348049, 2284.4730135266536], [1232.9288282195503, 1313.0574504742235, 1394.894947930121, 1463.8618389872545, 1528.628178052605, 1583.9199863190925, 1647.447830581641, 1718.2938736319484, 1791.1208499858494, 1870.0528759727486, 1948.6849675310914, 2032.5025473961978, 2128.6188788566906, 2219.891018579853, 2317.350788957101, 2400.9131153779517], [1363.009926293581, 1446.3785910971583, 1514.0203695595246, 1575.9483464008454, 1627.5163050113551, 1688.0840652874986, 1756.4696679015824, 1827.524962247533, 1905.386721478263, 1983.1597796505885, 2066.4729730315476, 2162.5238766161965, 2253.2781355997713, 2349.822160859152, 2432.0273277102506, 2501.7551428867755], [1504.3246735111488, 1568.7483724056738, 1626.1422496450214, 1672.700514132075, 1729.5203750181236, 1794.9822271187513, 1864.0688865686443, 1940.8229049152887, 2017.7504944274979, 2100.618707170678, 2196.7060413239424, 2286.9884488917687, 2382.6232363037207, 2463.4377176271983, 2531.7687387912256, 2601.090374503071], [1619.7789252186558, 1672.493818462529, 1713.9984436399018, 1767.3704528075104, 1830.3497393326452, 1897.9442676429953, 1974.071798071188, 2050.56175350391, 2133.3615131786555, 2229.857944729627, 2319.9298206160465, 2414.8542830735505, 2494.3881796326577, 2561.3935626310686, 2629.7231193043744, 2732.305937263175], [1714.3981213429834, 1751.0534711747114, 1801.5473526175701, 1862.6979174567987, 1929.4208324216434, 2005.5098425011029, 2082.0315637680533, 2165.182191205862, 2262.4952870626275, 2352.6144567655074, 2446.9975701498024, 2525.3141226046773, 2591.020245296286, 2658.397212057208, 2761.014727870578, 2979.4365484248]]}],\n",
              "                        {\"autosize\": false, \"height\": 700, \"template\": {\"data\": {\"bar\": [{\"error_x\": {\"color\": \"#2a3f5f\"}, \"error_y\": {\"color\": \"#2a3f5f\"}, \"marker\": {\"line\": {\"color\": \"#E5ECF6\", \"width\": 0.5}}, \"type\": \"bar\"}], \"barpolar\": [{\"marker\": {\"line\": {\"color\": \"#E5ECF6\", \"width\": 0.5}}, \"type\": \"barpolar\"}], \"carpet\": [{\"aaxis\": {\"endlinecolor\": \"#2a3f5f\", \"gridcolor\": \"white\", \"linecolor\": \"white\", \"minorgridcolor\": \"white\", \"startlinecolor\": \"#2a3f5f\"}, \"baxis\": {\"endlinecolor\": \"#2a3f5f\", \"gridcolor\": \"white\", \"linecolor\": \"white\", \"minorgridcolor\": \"white\", \"startlinecolor\": \"#2a3f5f\"}, \"type\": \"carpet\"}], \"choropleth\": [{\"colorbar\": {\"outlinewidth\": 0, \"ticks\": \"\"}, \"type\": \"choropleth\"}], \"contour\": [{\"colorbar\": {\"outlinewidth\": 0, \"ticks\": \"\"}, \"colorscale\": [[0.0, \"#0d0887\"], [0.1111111111111111, \"#46039f\"], [0.2222222222222222, \"#7201a8\"], [0.3333333333333333, \"#9c179e\"], [0.4444444444444444, \"#bd3786\"], [0.5555555555555556, \"#d8576b\"], [0.6666666666666666, \"#ed7953\"], [0.7777777777777778, \"#fb9f3a\"], [0.8888888888888888, \"#fdca26\"], [1.0, \"#f0f921\"]], \"type\": \"contour\"}], \"contourcarpet\": [{\"colorbar\": {\"outlinewidth\": 0, \"ticks\": \"\"}, \"type\": \"contourcarpet\"}], \"heatmap\": [{\"colorbar\": {\"outlinewidth\": 0, \"ticks\": \"\"}, \"colorscale\": [[0.0, \"#0d0887\"], [0.1111111111111111, \"#46039f\"], [0.2222222222222222, \"#7201a8\"], [0.3333333333333333, \"#9c179e\"], [0.4444444444444444, \"#bd3786\"], [0.5555555555555556, \"#d8576b\"], [0.6666666666666666, \"#ed7953\"], [0.7777777777777778, \"#fb9f3a\"], [0.8888888888888888, \"#fdca26\"], [1.0, \"#f0f921\"]], \"type\": \"heatmap\"}], \"heatmapgl\": [{\"colorbar\": {\"outlinewidth\": 0, \"ticks\": \"\"}, \"colorscale\": [[0.0, \"#0d0887\"], [0.1111111111111111, \"#46039f\"], [0.2222222222222222, \"#7201a8\"], [0.3333333333333333, \"#9c179e\"], [0.4444444444444444, \"#bd3786\"], [0.5555555555555556, \"#d8576b\"], [0.6666666666666666, \"#ed7953\"], [0.7777777777777778, \"#fb9f3a\"], [0.8888888888888888, \"#fdca26\"], [1.0, \"#f0f921\"]], \"type\": \"heatmapgl\"}], \"histogram\": [{\"marker\": {\"colorbar\": {\"outlinewidth\": 0, \"ticks\": \"\"}}, \"type\": \"histogram\"}], \"histogram2d\": [{\"colorbar\": {\"outlinewidth\": 0, \"ticks\": \"\"}, \"colorscale\": [[0.0, \"#0d0887\"], [0.1111111111111111, \"#46039f\"], [0.2222222222222222, \"#7201a8\"], [0.3333333333333333, \"#9c179e\"], [0.4444444444444444, \"#bd3786\"], [0.5555555555555556, \"#d8576b\"], [0.6666666666666666, \"#ed7953\"], [0.7777777777777778, \"#fb9f3a\"], [0.8888888888888888, \"#fdca26\"], [1.0, \"#f0f921\"]], \"type\": \"histogram2d\"}], \"histogram2dcontour\": [{\"colorbar\": {\"outlinewidth\": 0, \"ticks\": \"\"}, \"colorscale\": [[0.0, \"#0d0887\"], [0.1111111111111111, \"#46039f\"], [0.2222222222222222, \"#7201a8\"], [0.3333333333333333, \"#9c179e\"], [0.4444444444444444, \"#bd3786\"], [0.5555555555555556, \"#d8576b\"], [0.6666666666666666, \"#ed7953\"], [0.7777777777777778, \"#fb9f3a\"], [0.8888888888888888, \"#fdca26\"], [1.0, \"#f0f921\"]], \"type\": \"histogram2dcontour\"}], \"mesh3d\": [{\"colorbar\": {\"outlinewidth\": 0, \"ticks\": \"\"}, \"type\": \"mesh3d\"}], \"parcoords\": [{\"line\": {\"colorbar\": {\"outlinewidth\": 0, \"ticks\": \"\"}}, \"type\": \"parcoords\"}], \"pie\": [{\"automargin\": true, \"type\": \"pie\"}], \"scatter\": [{\"marker\": {\"colorbar\": {\"outlinewidth\": 0, \"ticks\": \"\"}}, \"type\": \"scatter\"}], \"scatter3d\": [{\"line\": {\"colorbar\": {\"outlinewidth\": 0, \"ticks\": \"\"}}, \"marker\": {\"colorbar\": {\"outlinewidth\": 0, \"ticks\": \"\"}}, \"type\": \"scatter3d\"}], \"scattercarpet\": [{\"marker\": {\"colorbar\": {\"outlinewidth\": 0, \"ticks\": \"\"}}, \"type\": \"scattercarpet\"}], \"scattergeo\": [{\"marker\": {\"colorbar\": {\"outlinewidth\": 0, \"ticks\": \"\"}}, \"type\": \"scattergeo\"}], \"scattergl\": [{\"marker\": {\"colorbar\": {\"outlinewidth\": 0, \"ticks\": \"\"}}, \"type\": \"scattergl\"}], \"scattermapbox\": [{\"marker\": {\"colorbar\": {\"outlinewidth\": 0, \"ticks\": \"\"}}, \"type\": \"scattermapbox\"}], \"scatterpolar\": [{\"marker\": {\"colorbar\": {\"outlinewidth\": 0, \"ticks\": \"\"}}, \"type\": \"scatterpolar\"}], \"scatterpolargl\": [{\"marker\": {\"colorbar\": {\"outlinewidth\": 0, \"ticks\": \"\"}}, \"type\": \"scatterpolargl\"}], \"scatterternary\": [{\"marker\": {\"colorbar\": {\"outlinewidth\": 0, \"ticks\": \"\"}}, \"type\": \"scatterternary\"}], \"surface\": [{\"colorbar\": {\"outlinewidth\": 0, \"ticks\": \"\"}, \"colorscale\": [[0.0, \"#0d0887\"], [0.1111111111111111, \"#46039f\"], [0.2222222222222222, \"#7201a8\"], [0.3333333333333333, \"#9c179e\"], [0.4444444444444444, \"#bd3786\"], [0.5555555555555556, \"#d8576b\"], [0.6666666666666666, \"#ed7953\"], [0.7777777777777778, \"#fb9f3a\"], [0.8888888888888888, \"#fdca26\"], [1.0, \"#f0f921\"]], \"type\": \"surface\"}], \"table\": [{\"cells\": {\"fill\": {\"color\": \"#EBF0F8\"}, \"line\": {\"color\": \"white\"}}, \"header\": {\"fill\": {\"color\": \"#C8D4E3\"}, \"line\": {\"color\": \"white\"}}, \"type\": \"table\"}]}, \"layout\": {\"annotationdefaults\": {\"arrowcolor\": \"#2a3f5f\", \"arrowhead\": 0, \"arrowwidth\": 1}, \"coloraxis\": {\"colorbar\": {\"outlinewidth\": 0, \"ticks\": \"\"}}, \"colorscale\": {\"diverging\": [[0, \"#8e0152\"], [0.1, \"#c51b7d\"], [0.2, \"#de77ae\"], [0.3, \"#f1b6da\"], [0.4, \"#fde0ef\"], [0.5, \"#f7f7f7\"], [0.6, \"#e6f5d0\"], [0.7, \"#b8e186\"], [0.8, \"#7fbc41\"], [0.9, \"#4d9221\"], [1, \"#276419\"]], \"sequential\": [[0.0, \"#0d0887\"], [0.1111111111111111, \"#46039f\"], [0.2222222222222222, \"#7201a8\"], [0.3333333333333333, \"#9c179e\"], [0.4444444444444444, \"#bd3786\"], [0.5555555555555556, \"#d8576b\"], [0.6666666666666666, \"#ed7953\"], [0.7777777777777778, \"#fb9f3a\"], [0.8888888888888888, \"#fdca26\"], [1.0, \"#f0f921\"]], \"sequentialminus\": [[0.0, \"#0d0887\"], [0.1111111111111111, \"#46039f\"], [0.2222222222222222, \"#7201a8\"], [0.3333333333333333, \"#9c179e\"], [0.4444444444444444, \"#bd3786\"], [0.5555555555555556, \"#d8576b\"], [0.6666666666666666, \"#ed7953\"], [0.7777777777777778, \"#fb9f3a\"], [0.8888888888888888, \"#fdca26\"], [1.0, \"#f0f921\"]]}, \"colorway\": [\"#636efa\", \"#EF553B\", \"#00cc96\", \"#ab63fa\", \"#FFA15A\", \"#19d3f3\", \"#FF6692\", \"#B6E880\", \"#FF97FF\", \"#FECB52\"], \"font\": {\"color\": \"#2a3f5f\"}, \"geo\": {\"bgcolor\": \"white\", \"lakecolor\": \"white\", \"landcolor\": \"#E5ECF6\", \"showlakes\": true, \"showland\": true, \"subunitcolor\": \"white\"}, \"hoverlabel\": {\"align\": \"left\"}, \"hovermode\": \"closest\", \"mapbox\": {\"style\": \"light\"}, \"paper_bgcolor\": \"white\", \"plot_bgcolor\": \"#E5ECF6\", \"polar\": {\"angularaxis\": {\"gridcolor\": \"white\", \"linecolor\": \"white\", \"ticks\": \"\"}, \"bgcolor\": \"#E5ECF6\", \"radialaxis\": {\"gridcolor\": \"white\", \"linecolor\": \"white\", \"ticks\": \"\"}}, \"scene\": {\"xaxis\": {\"backgroundcolor\": \"#E5ECF6\", \"gridcolor\": \"white\", \"gridwidth\": 2, \"linecolor\": \"white\", \"showbackground\": true, \"ticks\": \"\", \"zerolinecolor\": \"white\"}, \"yaxis\": {\"backgroundcolor\": \"#E5ECF6\", \"gridcolor\": \"white\", \"gridwidth\": 2, \"linecolor\": \"white\", \"showbackground\": true, \"ticks\": \"\", \"zerolinecolor\": \"white\"}, \"zaxis\": {\"backgroundcolor\": \"#E5ECF6\", \"gridcolor\": \"white\", \"gridwidth\": 2, \"linecolor\": \"white\", \"showbackground\": true, \"ticks\": \"\", \"zerolinecolor\": \"white\"}}, \"shapedefaults\": {\"line\": {\"color\": \"#2a3f5f\"}}, \"ternary\": {\"aaxis\": {\"gridcolor\": \"white\", \"linecolor\": \"white\", \"ticks\": \"\"}, \"baxis\": {\"gridcolor\": \"white\", \"linecolor\": \"white\", \"ticks\": \"\"}, \"bgcolor\": \"#E5ECF6\", \"caxis\": {\"gridcolor\": \"white\", \"linecolor\": \"white\", \"ticks\": \"\"}}, \"title\": {\"x\": 0.05}, \"xaxis\": {\"automargin\": true, \"gridcolor\": \"white\", \"linecolor\": \"white\", \"ticks\": \"\", \"title\": {\"standoff\": 15}, \"zerolinecolor\": \"white\", \"zerolinewidth\": 2}, \"yaxis\": {\"automargin\": true, \"gridcolor\": \"white\", \"linecolor\": \"white\", \"ticks\": \"\", \"title\": {\"standoff\": 15}, \"zerolinecolor\": \"white\", \"zerolinewidth\": 2}}}, \"title\": {\"text\": \"\\u0417\\u0430\\u0432\\u0438\\u0441\\u0438\\u043c\\u043e\\u0441\\u0442\\u044c \\u043e\\u0448\\u0438\\u0431\\u043a\\u0438 \\u043f\\u0440\\u0435\\u0434\\u0441\\u043a\\u0430\\u0437\\u0430\\u043d\\u0438\\u044f \\u041d\\u0418\\u0417 \\u043e\\u0442 \\u043f\\u0430\\u0440\\u0430\\u043c\\u0435\\u0442\\u0440\\u043e\\u0432 \\u0430\\u043f\\u043f\\u0440\\u043e\\u043a\\u0441\\u0438\\u043c\\u0430\\u0446\\u0438\\u0438\", \"x\": 0.5, \"xanchor\": \"center\", \"y\": 0.95, \"yanchor\": \"top\"}, \"width\": 1400, \"xaxis\": {\"title\": {\"text\": \"\\u0420\\u0430\\u0437\\u043c\\u0435\\u0440 \\u043e\\u043a\\u043d\\u0430\"}}, \"yaxis\": {\"title\": {\"text\": \"\\u0421\\u0434\\u0432\\u0438\\u0433\"}}},\n",
              "                        {\"responsive\": true}\n",
              "                    ).then(function(){\n",
              "                            \n",
              "var gd = document.getElementById('3781b359-003a-442f-8321-8b3340611cf9');\n",
              "var x = new MutationObserver(function (mutations, observer) {{\n",
              "        var display = window.getComputedStyle(gd).display;\n",
              "        if (!display || display === 'none') {{\n",
              "            console.log([gd, 'removed!']);\n",
              "            Plotly.purge(gd);\n",
              "            observer.disconnect();\n",
              "        }}\n",
              "}});\n",
              "\n",
              "// Listen for the removal of the full notebook cells\n",
              "var notebookContainer = gd.closest('#notebook-container');\n",
              "if (notebookContainer) {{\n",
              "    x.observe(notebookContainer, {childList: true});\n",
              "}}\n",
              "\n",
              "// Listen for the clearing of the current output cell\n",
              "var outputEl = gd.closest('.output');\n",
              "if (outputEl) {{\n",
              "    x.observe(outputEl, {childList: true});\n",
              "}}\n",
              "\n",
              "                        })\n",
              "                };\n",
              "                \n",
              "            </script>\n",
              "        </div>\n",
              "</body>\n",
              "</html>"
            ]
          },
          "metadata": {
            "tags": []
          }
        }
      ]
    },
    {
      "cell_type": "code",
      "metadata": {
        "colab": {
          "base_uri": "https://localhost:8080/"
        },
        "id": "AWGpcWzYZHXa",
        "outputId": "2cefcf90-e924-4956-a9f4-dceaf2c4fd91"
      },
      "source": [
        "xdata = df_graph[-17:-1]['water_total']\n",
        "ydata = df_graph[-17:-1]['oil_total']\n",
        "\n",
        "popt, pcov = curve_fit(kambarov_func, xdata, ydata)\n",
        "\n",
        "kambarov_niz(*popt)"
      ],
      "execution_count": 16,
      "outputs": [
        {
          "output_type": "execute_result",
          "data": {
            "text/plain": [
              "8993.317215475843"
            ]
          },
          "metadata": {
            "tags": []
          },
          "execution_count": 16
        }
      ]
    },
    {
      "cell_type": "code",
      "metadata": {
        "colab": {
          "base_uri": "https://localhost:8080/",
          "height": 717
        },
        "id": "hqgdN1yaZbSP",
        "outputId": "29f240c1-c983-42a5-8f71-0955f98a7df6"
      },
      "source": [
        "fig = make_subplots(\n",
        "    subplot_titles=[\n",
        "                    'Весь период',\n",
        "                    'Период аппроксимации'],\n",
        "    rows=1, \n",
        "    cols=2)\n",
        "\n",
        "fig.add_trace(go.Scatter(x=df_graph['water_total_deg_1'], y=df_graph['oil_total'],\n",
        "                    mode='lines+markers',\n",
        "                    name='Накопленный объем нефти, 10^6'),\n",
        "    row=1, col=1)\n",
        "\n",
        "fig.add_trace(go.Scatter(x=df_graph[-35:]['water_total_deg_1'], y=df_graph[-35:]['oil_total'],\n",
        "                    mode='lines+markers',\n",
        "                    name='Период аппроксимации'),\n",
        "    row=1, col=1)\n",
        "\n",
        "#####\n",
        "\n",
        "fig.add_trace(go.Scatter(x=df_graph[-35:]['water_total_deg_1'], y=df_graph[-35:]['oil_total'],\n",
        "                    mode='lines+markers',\n",
        "                    name='Годовой отбор жидкости, 10^6'),\n",
        "    row=1, col=2)\n",
        "\n",
        "fig.add_trace(go.Scatter(x=df_graph[-17:-1]['water_total_deg_1'], y=df_graph[-17:-1]['oil_total'],\n",
        "                    mode='lines+markers',\n",
        "                    name='Участок аппроксимации'),\n",
        "    row=1, col=2)\n",
        "\n",
        "fig.add_trace(go.Scatter(x=df_graph[-17:-1]['water_total_deg_1'], y=kambarov_func(xdata, *popt),\n",
        "                    mode='lines',\n",
        "                    name='Функция аппроксимации (Камбарова)'),\n",
        "    row=1, col=2)\n",
        "\n",
        "fig.add_annotation(x=10**(-4), y=7000, text=\"НИЗ={0}\".format(int(kambarov_niz(*popt))), showarrow=False, yshift=10, font=anno_font,\n",
        "    row=1, col=2)\n",
        "\n",
        "fig['layout']['xaxis1']['title']='1 / Накопленный объем жидкости, 10^-6'\n",
        "fig['layout']['xaxis1']['tickangle']=-45\n",
        "fig['layout']['xaxis1']['tickmode']='array'\n",
        "fig['layout']['yaxis1']['title']='Накопленный объем нефти, 10^6'\n",
        "\n",
        "fig['layout']['xaxis2']['title']='1 / Накопленный объем жидкости, 10^-6'\n",
        "fig['layout']['xaxis2']['tickangle']=-45\n",
        "\n",
        "\n",
        "\n",
        "fig.update_layout( \n",
        "    title={\n",
        "        'text': 'Зависимость накопленной добычи нефти от объема жидкости',\n",
        "        'y':0.95,\n",
        "        'x':0.45,\n",
        "        'xanchor': 'center',\n",
        "        'yanchor': 'top'},\n",
        "    autosize=False,\n",
        "    width=1400,\n",
        "    height=700)\n",
        "\n",
        "\n",
        "fig.show()"
      ],
      "execution_count": 17,
      "outputs": [
        {
          "output_type": "display_data",
          "data": {
            "text/html": [
              "<html>\n",
              "<head><meta charset=\"utf-8\" /></head>\n",
              "<body>\n",
              "    <div>\n",
              "            <script src=\"https://cdnjs.cloudflare.com/ajax/libs/mathjax/2.7.5/MathJax.js?config=TeX-AMS-MML_SVG\"></script><script type=\"text/javascript\">if (window.MathJax) {MathJax.Hub.Config({SVG: {font: \"STIX-Web\"}});}</script>\n",
              "                <script type=\"text/javascript\">window.PlotlyConfig = {MathJaxConfig: 'local'};</script>\n",
              "        <script src=\"https://cdn.plot.ly/plotly-latest.min.js\"></script>    \n",
              "            <div id=\"0423bb88-31f2-4b0d-bcaa-07aab865b73f\" class=\"plotly-graph-div\" style=\"height:700px; width:1400px;\"></div>\n",
              "            <script type=\"text/javascript\">\n",
              "                \n",
              "                    window.PLOTLYENV=window.PLOTLYENV || {};\n",
              "                    \n",
              "                if (document.getElementById(\"0423bb88-31f2-4b0d-bcaa-07aab865b73f\")) {\n",
              "                    Plotly.newPlot(\n",
              "                        '0423bb88-31f2-4b0d-bcaa-07aab865b73f',\n",
              "                        [{\"mode\": \"lines+markers\", \"name\": \"\\u041d\\u0430\\u043a\\u043e\\u043f\\u043b\\u0435\\u043d\\u043d\\u044b\\u0439 \\u043e\\u0431\\u044a\\u0435\\u043c \\u043d\\u0435\\u0444\\u0442\\u0438, 10^6\", \"type\": \"scatter\", \"x\": [0.010869565217391304, 0.005263157894736842, 0.0026455026455026454, 0.001256281407035176, 0.0007552870090634441, 0.0004591368227731864, 0.00030646644192460924, 0.00023969319271332693, 0.00020308692120227456, 0.00017614937466971993, 0.00015271838729383018, 0.0001312852829197847, 0.00011798017932987259, 0.00010702054794520547, 9.864851533984413e-05, 9.177679882525697e-05, 8.557247989046722e-05, 8.027614995584812e-05, 7.496813854112003e-05, 7.065140596297866e-05, 6.741270055278414e-05, 6.438320885912955e-05, 6.218132073125233e-05, 5.986231667165519e-05, 5.789717461787865e-05, 5.641430666817105e-05, 5.536791982725209e-05, 5.417998591320366e-05, 5.285412262156448e-05, 5.161290322580645e-05, 5.0507601394009796e-05, 4.9478007025877e-05, 4.839099927413501e-05, 4.738213693437574e-05, 4.650297619047619e-05, 4.55933980759586e-05, 4.479885314935937e-05, 4.436950927322744e-05, 4.396184112190618e-05, 4.357488343718681e-05, 4.3189081800120926e-05, 4.283205551034394e-05, 4.246645150331238e-05, 4.2083999663328004e-05, 4.167882299003876e-05], \"xaxis\": \"x\", \"y\": [90.0, 181.0, 359.0, 754.0, 1175.0, 1881.0, 2655.0, 3247.0, 3666.0, 4018.0, 4343.0, 4637.0, 4822.0, 4948.0, 5068.0, 5185.0, 5297.0, 5410.0, 5543.0, 5660.0, 5762.0, 5858.0, 5928.0, 6003.0, 6062.0, 6114.0, 6163.0, 6214.0, 6271.0, 6324.0, 6377.0, 6433.0, 6494.0, 6548.0, 6606.0, 6661.0, 6719.0, 6776.0, 6837.0, 6899.0, 6959.0, 7011.0, 7061.0, 7105.0, 7153.0], \"yaxis\": \"y\"}, {\"mode\": \"lines+markers\", \"name\": \"\\u041f\\u0435\\u0440\\u0438\\u043e\\u0434 \\u0430\\u043f\\u043f\\u0440\\u043e\\u043a\\u0441\\u0438\\u043c\\u0430\\u0446\\u0438\\u0438\", \"type\": \"scatter\", \"x\": [0.00015271838729383018, 0.0001312852829197847, 0.00011798017932987259, 0.00010702054794520547, 9.864851533984413e-05, 9.177679882525697e-05, 8.557247989046722e-05, 8.027614995584812e-05, 7.496813854112003e-05, 7.065140596297866e-05, 6.741270055278414e-05, 6.438320885912955e-05, 6.218132073125233e-05, 5.986231667165519e-05, 5.789717461787865e-05, 5.641430666817105e-05, 5.536791982725209e-05, 5.417998591320366e-05, 5.285412262156448e-05, 5.161290322580645e-05, 5.0507601394009796e-05, 4.9478007025877e-05, 4.839099927413501e-05, 4.738213693437574e-05, 4.650297619047619e-05, 4.55933980759586e-05, 4.479885314935937e-05, 4.436950927322744e-05, 4.396184112190618e-05, 4.357488343718681e-05, 4.3189081800120926e-05, 4.283205551034394e-05, 4.246645150331238e-05, 4.2083999663328004e-05, 4.167882299003876e-05], \"xaxis\": \"x\", \"y\": [4343.0, 4637.0, 4822.0, 4948.0, 5068.0, 5185.0, 5297.0, 5410.0, 5543.0, 5660.0, 5762.0, 5858.0, 5928.0, 6003.0, 6062.0, 6114.0, 6163.0, 6214.0, 6271.0, 6324.0, 6377.0, 6433.0, 6494.0, 6548.0, 6606.0, 6661.0, 6719.0, 6776.0, 6837.0, 6899.0, 6959.0, 7011.0, 7061.0, 7105.0, 7153.0], \"yaxis\": \"y\"}, {\"mode\": \"lines+markers\", \"name\": \"\\u0413\\u043e\\u0434\\u043e\\u0432\\u043e\\u0439 \\u043e\\u0442\\u0431\\u043e\\u0440 \\u0436\\u0438\\u0434\\u043a\\u043e\\u0441\\u0442\\u0438, 10^6\", \"type\": \"scatter\", \"x\": [0.00015271838729383018, 0.0001312852829197847, 0.00011798017932987259, 0.00010702054794520547, 9.864851533984413e-05, 9.177679882525697e-05, 8.557247989046722e-05, 8.027614995584812e-05, 7.496813854112003e-05, 7.065140596297866e-05, 6.741270055278414e-05, 6.438320885912955e-05, 6.218132073125233e-05, 5.986231667165519e-05, 5.789717461787865e-05, 5.641430666817105e-05, 5.536791982725209e-05, 5.417998591320366e-05, 5.285412262156448e-05, 5.161290322580645e-05, 5.0507601394009796e-05, 4.9478007025877e-05, 4.839099927413501e-05, 4.738213693437574e-05, 4.650297619047619e-05, 4.55933980759586e-05, 4.479885314935937e-05, 4.436950927322744e-05, 4.396184112190618e-05, 4.357488343718681e-05, 4.3189081800120926e-05, 4.283205551034394e-05, 4.246645150331238e-05, 4.2083999663328004e-05, 4.167882299003876e-05], \"xaxis\": \"x2\", \"y\": [4343.0, 4637.0, 4822.0, 4948.0, 5068.0, 5185.0, 5297.0, 5410.0, 5543.0, 5660.0, 5762.0, 5858.0, 5928.0, 6003.0, 6062.0, 6114.0, 6163.0, 6214.0, 6271.0, 6324.0, 6377.0, 6433.0, 6494.0, 6548.0, 6606.0, 6661.0, 6719.0, 6776.0, 6837.0, 6899.0, 6959.0, 7011.0, 7061.0, 7105.0, 7153.0], \"yaxis\": \"y2\"}, {\"mode\": \"lines+markers\", \"name\": \"\\u0423\\u0447\\u0430\\u0441\\u0442\\u043e\\u043a \\u0430\\u043f\\u043f\\u0440\\u043e\\u043a\\u0441\\u0438\\u043c\\u0430\\u0446\\u0438\\u0438\", \"type\": \"scatter\", \"x\": [5.285412262156448e-05, 5.161290322580645e-05, 5.0507601394009796e-05, 4.9478007025877e-05, 4.839099927413501e-05, 4.738213693437574e-05, 4.650297619047619e-05, 4.55933980759586e-05, 4.479885314935937e-05, 4.436950927322744e-05, 4.396184112190618e-05, 4.357488343718681e-05, 4.3189081800120926e-05, 4.283205551034394e-05, 4.246645150331238e-05, 4.2083999663328004e-05], \"xaxis\": \"x2\", \"y\": [6271.0, 6324.0, 6377.0, 6433.0, 6494.0, 6548.0, 6606.0, 6661.0, 6719.0, 6776.0, 6837.0, 6899.0, 6959.0, 7011.0, 7061.0, 7105.0], \"yaxis\": \"y2\"}, {\"mode\": \"lines\", \"name\": \"\\u0424\\u0443\\u043d\\u043a\\u0446\\u0438\\u044f \\u0430\\u043f\\u043f\\u0440\\u043e\\u043a\\u0441\\u0438\\u043c\\u0430\\u0446\\u0438\\u0438 (\\u041a\\u0430\\u043c\\u0431\\u0430\\u0440\\u043e\\u0432\\u0430)\", \"type\": \"scatter\", \"x\": [5.285412262156448e-05, 5.161290322580645e-05, 5.0507601394009796e-05, 4.9478007025877e-05, 4.839099927413501e-05, 4.738213693437574e-05, 4.650297619047619e-05, 4.55933980759586e-05, 4.479885314935937e-05, 4.436950927322744e-05, 4.396184112190618e-05, 4.357488343718681e-05, 4.3189081800120926e-05, 4.283205551034394e-05, 4.246645150331238e-05, 4.2083999663328004e-05], \"xaxis\": \"x2\", \"y\": [6185.171825404141, 6280.173257316754, 6364.771723208585, 6443.57563136218, 6526.773890484235, 6603.990994251219, 6671.280894680793, 6740.898903882761, 6801.712411956996, 6834.573873157846, 6865.776300587716, 6895.393573942906, 6924.922364808364, 6952.248725381827, 6980.231614063466, 7009.5040155102215], \"yaxis\": \"y2\"}],\n",
              "                        {\"annotations\": [{\"font\": {\"size\": 16}, \"showarrow\": false, \"text\": \"\\u0412\\u0435\\u0441\\u044c \\u043f\\u0435\\u0440\\u0438\\u043e\\u0434\", \"x\": 0.225, \"xanchor\": \"center\", \"xref\": \"paper\", \"y\": 1.0, \"yanchor\": \"bottom\", \"yref\": \"paper\"}, {\"font\": {\"size\": 16}, \"showarrow\": false, \"text\": \"\\u041f\\u0435\\u0440\\u0438\\u043e\\u0434 \\u0430\\u043f\\u043f\\u0440\\u043e\\u043a\\u0441\\u0438\\u043c\\u0430\\u0446\\u0438\\u0438\", \"x\": 0.775, \"xanchor\": \"center\", \"xref\": \"paper\", \"y\": 1.0, \"yanchor\": \"bottom\", \"yref\": \"paper\"}, {\"font\": {\"color\": \"Black\", \"family\": \"arial bold\", \"size\": 36}, \"showarrow\": false, \"text\": \"\\u041d\\u0418\\u0417=8993\", \"x\": 0.0001, \"xref\": \"x2\", \"y\": 7000, \"yref\": \"y2\", \"yshift\": 10}], \"autosize\": false, \"height\": 700, \"template\": {\"data\": {\"bar\": [{\"error_x\": {\"color\": \"#2a3f5f\"}, \"error_y\": {\"color\": \"#2a3f5f\"}, \"marker\": {\"line\": {\"color\": \"#E5ECF6\", \"width\": 0.5}}, \"type\": \"bar\"}], \"barpolar\": [{\"marker\": {\"line\": {\"color\": \"#E5ECF6\", \"width\": 0.5}}, \"type\": \"barpolar\"}], \"carpet\": [{\"aaxis\": {\"endlinecolor\": \"#2a3f5f\", \"gridcolor\": \"white\", \"linecolor\": \"white\", \"minorgridcolor\": \"white\", \"startlinecolor\": \"#2a3f5f\"}, \"baxis\": {\"endlinecolor\": \"#2a3f5f\", \"gridcolor\": \"white\", \"linecolor\": \"white\", \"minorgridcolor\": \"white\", \"startlinecolor\": \"#2a3f5f\"}, \"type\": \"carpet\"}], \"choropleth\": [{\"colorbar\": {\"outlinewidth\": 0, \"ticks\": \"\"}, \"type\": \"choropleth\"}], \"contour\": [{\"colorbar\": {\"outlinewidth\": 0, \"ticks\": \"\"}, \"colorscale\": [[0.0, \"#0d0887\"], [0.1111111111111111, \"#46039f\"], [0.2222222222222222, \"#7201a8\"], [0.3333333333333333, \"#9c179e\"], [0.4444444444444444, \"#bd3786\"], [0.5555555555555556, \"#d8576b\"], [0.6666666666666666, \"#ed7953\"], [0.7777777777777778, \"#fb9f3a\"], [0.8888888888888888, \"#fdca26\"], [1.0, \"#f0f921\"]], \"type\": \"contour\"}], \"contourcarpet\": [{\"colorbar\": {\"outlinewidth\": 0, \"ticks\": \"\"}, \"type\": \"contourcarpet\"}], \"heatmap\": [{\"colorbar\": {\"outlinewidth\": 0, \"ticks\": \"\"}, \"colorscale\": [[0.0, \"#0d0887\"], [0.1111111111111111, \"#46039f\"], [0.2222222222222222, \"#7201a8\"], [0.3333333333333333, \"#9c179e\"], [0.4444444444444444, \"#bd3786\"], [0.5555555555555556, \"#d8576b\"], [0.6666666666666666, \"#ed7953\"], [0.7777777777777778, \"#fb9f3a\"], [0.8888888888888888, \"#fdca26\"], [1.0, \"#f0f921\"]], \"type\": \"heatmap\"}], \"heatmapgl\": [{\"colorbar\": {\"outlinewidth\": 0, \"ticks\": \"\"}, \"colorscale\": [[0.0, \"#0d0887\"], [0.1111111111111111, \"#46039f\"], [0.2222222222222222, \"#7201a8\"], [0.3333333333333333, \"#9c179e\"], [0.4444444444444444, \"#bd3786\"], [0.5555555555555556, \"#d8576b\"], [0.6666666666666666, \"#ed7953\"], [0.7777777777777778, \"#fb9f3a\"], [0.8888888888888888, \"#fdca26\"], [1.0, \"#f0f921\"]], \"type\": \"heatmapgl\"}], \"histogram\": [{\"marker\": {\"colorbar\": {\"outlinewidth\": 0, \"ticks\": \"\"}}, \"type\": \"histogram\"}], \"histogram2d\": [{\"colorbar\": {\"outlinewidth\": 0, \"ticks\": \"\"}, \"colorscale\": [[0.0, \"#0d0887\"], [0.1111111111111111, \"#46039f\"], [0.2222222222222222, \"#7201a8\"], [0.3333333333333333, \"#9c179e\"], [0.4444444444444444, \"#bd3786\"], [0.5555555555555556, \"#d8576b\"], [0.6666666666666666, \"#ed7953\"], [0.7777777777777778, \"#fb9f3a\"], [0.8888888888888888, \"#fdca26\"], [1.0, \"#f0f921\"]], \"type\": \"histogram2d\"}], \"histogram2dcontour\": [{\"colorbar\": {\"outlinewidth\": 0, \"ticks\": \"\"}, \"colorscale\": [[0.0, \"#0d0887\"], [0.1111111111111111, \"#46039f\"], [0.2222222222222222, \"#7201a8\"], [0.3333333333333333, \"#9c179e\"], [0.4444444444444444, \"#bd3786\"], [0.5555555555555556, \"#d8576b\"], [0.6666666666666666, \"#ed7953\"], [0.7777777777777778, \"#fb9f3a\"], [0.8888888888888888, \"#fdca26\"], [1.0, \"#f0f921\"]], \"type\": \"histogram2dcontour\"}], \"mesh3d\": [{\"colorbar\": {\"outlinewidth\": 0, \"ticks\": \"\"}, \"type\": \"mesh3d\"}], \"parcoords\": [{\"line\": {\"colorbar\": {\"outlinewidth\": 0, \"ticks\": \"\"}}, \"type\": \"parcoords\"}], \"pie\": [{\"automargin\": true, \"type\": \"pie\"}], \"scatter\": [{\"marker\": {\"colorbar\": {\"outlinewidth\": 0, \"ticks\": \"\"}}, \"type\": \"scatter\"}], \"scatter3d\": [{\"line\": {\"colorbar\": {\"outlinewidth\": 0, \"ticks\": \"\"}}, \"marker\": {\"colorbar\": {\"outlinewidth\": 0, \"ticks\": \"\"}}, \"type\": \"scatter3d\"}], \"scattercarpet\": [{\"marker\": {\"colorbar\": {\"outlinewidth\": 0, \"ticks\": \"\"}}, \"type\": \"scattercarpet\"}], \"scattergeo\": [{\"marker\": {\"colorbar\": {\"outlinewidth\": 0, \"ticks\": \"\"}}, \"type\": \"scattergeo\"}], \"scattergl\": [{\"marker\": {\"colorbar\": {\"outlinewidth\": 0, \"ticks\": \"\"}}, \"type\": \"scattergl\"}], \"scattermapbox\": [{\"marker\": {\"colorbar\": {\"outlinewidth\": 0, \"ticks\": \"\"}}, \"type\": \"scattermapbox\"}], \"scatterpolar\": [{\"marker\": {\"colorbar\": {\"outlinewidth\": 0, \"ticks\": \"\"}}, \"type\": \"scatterpolar\"}], \"scatterpolargl\": [{\"marker\": {\"colorbar\": {\"outlinewidth\": 0, \"ticks\": \"\"}}, \"type\": \"scatterpolargl\"}], \"scatterternary\": [{\"marker\": {\"colorbar\": {\"outlinewidth\": 0, \"ticks\": \"\"}}, \"type\": \"scatterternary\"}], \"surface\": [{\"colorbar\": {\"outlinewidth\": 0, \"ticks\": \"\"}, \"colorscale\": [[0.0, \"#0d0887\"], [0.1111111111111111, \"#46039f\"], [0.2222222222222222, \"#7201a8\"], [0.3333333333333333, \"#9c179e\"], [0.4444444444444444, \"#bd3786\"], [0.5555555555555556, \"#d8576b\"], [0.6666666666666666, \"#ed7953\"], [0.7777777777777778, \"#fb9f3a\"], [0.8888888888888888, \"#fdca26\"], [1.0, \"#f0f921\"]], \"type\": \"surface\"}], \"table\": [{\"cells\": {\"fill\": {\"color\": \"#EBF0F8\"}, \"line\": {\"color\": \"white\"}}, \"header\": {\"fill\": {\"color\": \"#C8D4E3\"}, \"line\": {\"color\": \"white\"}}, \"type\": \"table\"}]}, \"layout\": {\"annotationdefaults\": {\"arrowcolor\": \"#2a3f5f\", \"arrowhead\": 0, \"arrowwidth\": 1}, \"coloraxis\": {\"colorbar\": {\"outlinewidth\": 0, \"ticks\": \"\"}}, \"colorscale\": {\"diverging\": [[0, \"#8e0152\"], [0.1, \"#c51b7d\"], [0.2, \"#de77ae\"], [0.3, \"#f1b6da\"], [0.4, \"#fde0ef\"], [0.5, \"#f7f7f7\"], [0.6, \"#e6f5d0\"], [0.7, \"#b8e186\"], [0.8, \"#7fbc41\"], [0.9, \"#4d9221\"], [1, \"#276419\"]], \"sequential\": [[0.0, \"#0d0887\"], [0.1111111111111111, \"#46039f\"], [0.2222222222222222, \"#7201a8\"], [0.3333333333333333, \"#9c179e\"], [0.4444444444444444, \"#bd3786\"], [0.5555555555555556, \"#d8576b\"], [0.6666666666666666, \"#ed7953\"], [0.7777777777777778, \"#fb9f3a\"], [0.8888888888888888, \"#fdca26\"], [1.0, \"#f0f921\"]], \"sequentialminus\": [[0.0, \"#0d0887\"], [0.1111111111111111, \"#46039f\"], [0.2222222222222222, \"#7201a8\"], [0.3333333333333333, \"#9c179e\"], [0.4444444444444444, \"#bd3786\"], [0.5555555555555556, \"#d8576b\"], [0.6666666666666666, \"#ed7953\"], [0.7777777777777778, \"#fb9f3a\"], [0.8888888888888888, \"#fdca26\"], [1.0, \"#f0f921\"]]}, \"colorway\": [\"#636efa\", \"#EF553B\", \"#00cc96\", \"#ab63fa\", \"#FFA15A\", \"#19d3f3\", \"#FF6692\", \"#B6E880\", \"#FF97FF\", \"#FECB52\"], \"font\": {\"color\": \"#2a3f5f\"}, \"geo\": {\"bgcolor\": \"white\", \"lakecolor\": \"white\", \"landcolor\": \"#E5ECF6\", \"showlakes\": true, \"showland\": true, \"subunitcolor\": \"white\"}, \"hoverlabel\": {\"align\": \"left\"}, \"hovermode\": \"closest\", \"mapbox\": {\"style\": \"light\"}, \"paper_bgcolor\": \"white\", \"plot_bgcolor\": \"#E5ECF6\", \"polar\": {\"angularaxis\": {\"gridcolor\": \"white\", \"linecolor\": \"white\", \"ticks\": \"\"}, \"bgcolor\": \"#E5ECF6\", \"radialaxis\": {\"gridcolor\": \"white\", \"linecolor\": \"white\", \"ticks\": \"\"}}, \"scene\": {\"xaxis\": {\"backgroundcolor\": \"#E5ECF6\", \"gridcolor\": \"white\", \"gridwidth\": 2, \"linecolor\": \"white\", \"showbackground\": true, \"ticks\": \"\", \"zerolinecolor\": \"white\"}, \"yaxis\": {\"backgroundcolor\": \"#E5ECF6\", \"gridcolor\": \"white\", \"gridwidth\": 2, \"linecolor\": \"white\", \"showbackground\": true, \"ticks\": \"\", \"zerolinecolor\": \"white\"}, \"zaxis\": {\"backgroundcolor\": \"#E5ECF6\", \"gridcolor\": \"white\", \"gridwidth\": 2, \"linecolor\": \"white\", \"showbackground\": true, \"ticks\": \"\", \"zerolinecolor\": \"white\"}}, \"shapedefaults\": {\"line\": {\"color\": \"#2a3f5f\"}}, \"ternary\": {\"aaxis\": {\"gridcolor\": \"white\", \"linecolor\": \"white\", \"ticks\": \"\"}, \"baxis\": {\"gridcolor\": \"white\", \"linecolor\": \"white\", \"ticks\": \"\"}, \"bgcolor\": \"#E5ECF6\", \"caxis\": {\"gridcolor\": \"white\", \"linecolor\": \"white\", \"ticks\": \"\"}}, \"title\": {\"x\": 0.05}, \"xaxis\": {\"automargin\": true, \"gridcolor\": \"white\", \"linecolor\": \"white\", \"ticks\": \"\", \"title\": {\"standoff\": 15}, \"zerolinecolor\": \"white\", \"zerolinewidth\": 2}, \"yaxis\": {\"automargin\": true, \"gridcolor\": \"white\", \"linecolor\": \"white\", \"ticks\": \"\", \"title\": {\"standoff\": 15}, \"zerolinecolor\": \"white\", \"zerolinewidth\": 2}}}, \"title\": {\"text\": \"\\u0417\\u0430\\u0432\\u0438\\u0441\\u0438\\u043c\\u043e\\u0441\\u0442\\u044c \\u043d\\u0430\\u043a\\u043e\\u043f\\u043b\\u0435\\u043d\\u043d\\u043e\\u0439 \\u0434\\u043e\\u0431\\u044b\\u0447\\u0438 \\u043d\\u0435\\u0444\\u0442\\u0438 \\u043e\\u0442 \\u043e\\u0431\\u044a\\u0435\\u043c\\u0430 \\u0436\\u0438\\u0434\\u043a\\u043e\\u0441\\u0442\\u0438\", \"x\": 0.45, \"xanchor\": \"center\", \"y\": 0.95, \"yanchor\": \"top\"}, \"width\": 1400, \"xaxis\": {\"anchor\": \"y\", \"domain\": [0.0, 0.45], \"tickangle\": -45, \"tickmode\": \"array\", \"title\": {\"text\": \"1 / \\u041d\\u0430\\u043a\\u043e\\u043f\\u043b\\u0435\\u043d\\u043d\\u044b\\u0439 \\u043e\\u0431\\u044a\\u0435\\u043c \\u0436\\u0438\\u0434\\u043a\\u043e\\u0441\\u0442\\u0438, 10^-6\"}}, \"xaxis2\": {\"anchor\": \"y2\", \"domain\": [0.55, 1.0], \"tickangle\": -45, \"title\": {\"text\": \"1 / \\u041d\\u0430\\u043a\\u043e\\u043f\\u043b\\u0435\\u043d\\u043d\\u044b\\u0439 \\u043e\\u0431\\u044a\\u0435\\u043c \\u0436\\u0438\\u0434\\u043a\\u043e\\u0441\\u0442\\u0438, 10^-6\"}}, \"yaxis\": {\"anchor\": \"x\", \"domain\": [0.0, 1.0], \"title\": {\"text\": \"\\u041d\\u0430\\u043a\\u043e\\u043f\\u043b\\u0435\\u043d\\u043d\\u044b\\u0439 \\u043e\\u0431\\u044a\\u0435\\u043c \\u043d\\u0435\\u0444\\u0442\\u0438, 10^6\"}}, \"yaxis2\": {\"anchor\": \"x2\", \"domain\": [0.0, 1.0]}},\n",
              "                        {\"responsive\": true}\n",
              "                    ).then(function(){\n",
              "                            \n",
              "var gd = document.getElementById('0423bb88-31f2-4b0d-bcaa-07aab865b73f');\n",
              "var x = new MutationObserver(function (mutations, observer) {{\n",
              "        var display = window.getComputedStyle(gd).display;\n",
              "        if (!display || display === 'none') {{\n",
              "            console.log([gd, 'removed!']);\n",
              "            Plotly.purge(gd);\n",
              "            observer.disconnect();\n",
              "        }}\n",
              "}});\n",
              "\n",
              "// Listen for the removal of the full notebook cells\n",
              "var notebookContainer = gd.closest('#notebook-container');\n",
              "if (notebookContainer) {{\n",
              "    x.observe(notebookContainer, {childList: true});\n",
              "}}\n",
              "\n",
              "// Listen for the clearing of the current output cell\n",
              "var outputEl = gd.closest('.output');\n",
              "if (outputEl) {{\n",
              "    x.observe(outputEl, {childList: true});\n",
              "}}\n",
              "\n",
              "                        })\n",
              "                };\n",
              "                \n",
              "            </script>\n",
              "        </div>\n",
              "</body>\n",
              "</html>"
            ]
          },
          "metadata": {
            "tags": []
          }
        }
      ]
    },
    {
      "cell_type": "code",
      "metadata": {
        "colab": {
          "base_uri": "https://localhost:8080/",
          "height": 197
        },
        "id": "bUaUn_W_Ao40",
        "outputId": "790fedeb-ddf8-44a5-9fbc-f111c069c74f"
      },
      "source": [
        "xdata = df_graph[-25:-5]['water_total']\n",
        "ydata = df_graph[-25:-5]['oil_total']\n",
        "\n",
        "popt, pcov = curve_fit(sazonov_func, xdata, ydata)\n",
        "popt\n",
        "\n",
        "ydata_fit = func_sazonov(xdata, *popt)"
      ],
      "execution_count": 19,
      "outputs": [
        {
          "output_type": "error",
          "ename": "NameError",
          "evalue": "ignored",
          "traceback": [
            "\u001b[0;31m---------------------------------------------------------------------------\u001b[0m",
            "\u001b[0;31mNameError\u001b[0m                                 Traceback (most recent call last)",
            "\u001b[0;32m<ipython-input-19-b1877a5b21e4>\u001b[0m in \u001b[0;36m<module>\u001b[0;34m()\u001b[0m\n\u001b[1;32m      5\u001b[0m \u001b[0mpopt\u001b[0m\u001b[0;34m\u001b[0m\u001b[0;34m\u001b[0m\u001b[0m\n\u001b[1;32m      6\u001b[0m \u001b[0;34m\u001b[0m\u001b[0m\n\u001b[0;32m----> 7\u001b[0;31m \u001b[0mydata_fit\u001b[0m \u001b[0;34m=\u001b[0m \u001b[0mfunc_sazonov\u001b[0m\u001b[0;34m(\u001b[0m\u001b[0mxdata\u001b[0m\u001b[0;34m,\u001b[0m \u001b[0;34m*\u001b[0m\u001b[0mpopt\u001b[0m\u001b[0;34m)\u001b[0m\u001b[0;34m\u001b[0m\u001b[0;34m\u001b[0m\u001b[0m\n\u001b[0m",
            "\u001b[0;31mNameError\u001b[0m: name 'func_sazonov' is not defined"
          ]
        }
      ]
    },
    {
      "cell_type": "code",
      "metadata": {
        "id": "IYIbuzPxZGM0"
      },
      "source": [
        ""
      ],
      "execution_count": null,
      "outputs": []
    },
    {
      "cell_type": "code",
      "metadata": {
        "id": "n4kz9zZjAo78"
      },
      "source": [
        "fig = make_subplots(\n",
        "    subplot_titles=[\n",
        "                    'Весь период',\n",
        "                    'Период аппроксимации'],\n",
        "    rows=1, \n",
        "    cols=2)\n",
        "\n",
        "fig.add_trace(go.Scatter(x=df_graph['water_total_ln'], y=df_graph['oil_total'],\n",
        "                    mode='lines+markers',\n",
        "                    name='Накопленный объем нефти, 10^6'),\n",
        "    row=1, col=1)\n",
        "\n",
        "fig.add_trace(go.Scatter(x=df_graph[-35:]['water_total_ln'], y=df_graph[-35:]['oil_total'],\n",
        "                    mode='lines+markers',\n",
        "                    name='Период аппроксимации'),\n",
        "    row=1, col=1)\n",
        "\n",
        "#####\n",
        "\n",
        "fig.add_trace(go.Scatter(x=df_graph[-35:]['water_total_ln'], y=df_graph[-35:]['oil_total'],\n",
        "                    mode='lines+markers',\n",
        "                    name='Годовой отбор жидкости, 10^6'),\n",
        "    row=1, col=2)\n",
        "\n",
        "fig.add_trace(go.Scatter(x=df_graph[-25:-5]['water_total_ln'], y=df_graph[-25:]['oil_total'],\n",
        "                    mode='lines+markers',\n",
        "                    name='Участок аппроксимации'),\n",
        "    row=1, col=2)\n",
        "\n",
        "fig.add_trace(go.Scatter(x=df_graph[-25:-5]['water_total_ln'], y=ydata_fit,\n",
        "                    mode='lines',\n",
        "                    name='Функция аппроксимации (Сазонова)'),\n",
        "    row=1, col=2)\n",
        "\n",
        "\n",
        "fig['layout']['xaxis1']['title']='ln(накопленный объем жидкости)'\n",
        "fig['layout']['xaxis1']['tickangle']=-45\n",
        "fig['layout']['xaxis1']['tickmode']='array'\n",
        "#fig['layout']['xaxis1']['tickvals']=df_data['year']\n",
        "fig['layout']['yaxis1']['title']='Накопленный объем нефти, 10^6'\n",
        "\n",
        "fig['layout']['xaxis2']['title']='ln(накопленный объем жидкости)'\n",
        "fig['layout']['xaxis2']['tickangle']=-45\n",
        "#fig['layout']['yaxis2']['title']='Обводненность, д.ед.'\n",
        "\n",
        "\n",
        "\n",
        "fig.update_layout( \n",
        "    title={\n",
        "        'text': 'Зависимость накопленной добычи нефти от объема жидкости',\n",
        "        'y':0.95,\n",
        "        'x':0.45,\n",
        "        'xanchor': 'center',\n",
        "        'yanchor': 'top'},\n",
        "    autosize=False,\n",
        "    width=1400,\n",
        "    height=700)\n",
        "\n",
        "\n",
        "fig.show()"
      ],
      "execution_count": null,
      "outputs": []
    },
    {
      "cell_type": "code",
      "metadata": {
        "id": "lOHNp5-OAo_B"
      },
      "source": [
        "frame_range = [10, 25]\n",
        "shift_range = [0, 15]"
      ],
      "execution_count": null,
      "outputs": []
    },
    {
      "cell_type": "code",
      "metadata": {
        "id": "_MlZGzqpApGl"
      },
      "source": [
        "for shift in range(shift_range[0], shift_range[1] + 1):\n",
        "  for frame in range(frame_range[0], frame_range[1] + 1):\n",
        "    if shift == 0:\n",
        "      xdata = df_graph[-frame:]['water_total']\n",
        "      ydata = df_graph[-frame:]['oil_total']\n",
        "    else:\n",
        "      xdata = df_graph[-(frame + shift):-shift]['water_total']\n",
        "      ydata = df_graph[-(frame + shift):-shift]['oil_total']      \n",
        "\n",
        "    #print(shift, frame)\n",
        "    #popt, pcov = curve_fit(func_kambarov, xdata, ydata)\n",
        "    popt, pcov = curve_fit(func_sazonov, xdata, ydata)\n",
        "    popt\n",
        "\n",
        "    #print(popt[0], popt[1], kambarov_niz(popt[0], np.abs(popt[1])))\n",
        "    print(popt[0], popt[1], sazonov_niz(popt[0], np.abs(popt[1])))\n",
        "\n",
        "\n",
        "    #ydata_fit = func_kambarov(xdata, *popt)\n"
      ],
      "execution_count": null,
      "outputs": []
    },
    {
      "cell_type": "code",
      "metadata": {
        "id": "1GG_aLm1yZmi"
      },
      "source": [
        "df_graph[-27:-2]['oil_total']"
      ],
      "execution_count": null,
      "outputs": []
    },
    {
      "cell_type": "code",
      "metadata": {
        "id": "6i-Mcdgln0vB"
      },
      "source": [
        "fig = go.Figure()\n",
        "\n",
        "fig.add_trace(go.Scatter(x=df_graph['water_total_deg_1'], y=df_graph['oil_total'],\n",
        "                    mode='lines+markers',\n",
        "                    name='Накопленный объем нефти, 10^6'))\n",
        "\n",
        "fig.add_trace(go.Scatter(x=df_graph[-35:]['water_total_deg_1'], y=df_graph[-35:]['oil_total'],\n",
        "                    mode='lines',\n",
        "                    name='Накопленный объем нефти <br>(предполагаемый период масштабирования)'))\n",
        "\n",
        "fig.update_layout( \n",
        "    xaxis=dict(\n",
        "        domain=[0.2, 0.9],\n",
        "        title='1 / Накопленный объем жидкости',\n",
        "    ),\n",
        "    yaxis=dict(\n",
        "        title='Накопленный объем нефти',\n",
        "    ),\n",
        "    title={\n",
        "        'text': \"Зависимость накопленной добычи нефти от объема жидкости\",\n",
        "        'y':0.95,\n",
        "        'x':0.50,\n",
        "        'xanchor': 'center',\n",
        "        'yanchor': 'top'},\n",
        "    autosize=False,\n",
        "    width=1400,\n",
        "    height=900\n",
        ")\n",
        "\n",
        "fig.show()"
      ],
      "execution_count": null,
      "outputs": []
    },
    {
      "cell_type": "code",
      "metadata": {
        "id": "kj1FMXaM6xHR"
      },
      "source": [
        "fig = go.Figure()\n",
        "\n",
        "fig.add_trace(go.Scatter(x=df_graph[-35:]['water_total_deg_1'], y=df_graph[-35:]['oil_total'],\n",
        "                    mode='lines+markers',\n",
        "                    name='Годовой отбор жидкости, 10^6'))\n",
        "\n",
        "fig.add_trace(go.Scatter(x=df_graph[-25:]['water_total_deg_1'], y=df_graph[-25:]['oil_total'],\n",
        "                    mode='lines+markers',\n",
        "                    name='Годовой отбор жидкости, 10^6'))\n",
        "\n",
        "fig.add_trace(go.Scatter(x=xdata, y=ydata_fit,\n",
        "                    mode='lines',\n",
        "                    name='Годовой отбор жидкости, 10^6'))\n",
        "\n",
        "fig.update_layout( \n",
        "    xaxis=dict(\n",
        "        domain=[0.2, 0.9],\n",
        "        title='Накопленный объем жидкости в степени -1',\n",
        "    ),\n",
        "    title={\n",
        "        'text': \"Зависимость накопленной добычи нефти от объема жидкости\",\n",
        "        'y':0.95,\n",
        "        'x':0.55,\n",
        "        'xanchor': 'center',\n",
        "        'yanchor': 'top'},\n",
        "    autosize=False,\n",
        "    width=1400,\n",
        "    height=900\n",
        ")\n",
        "\n",
        "fig.show()"
      ],
      "execution_count": null,
      "outputs": []
    },
    {
      "cell_type": "code",
      "metadata": {
        "id": "Hgl0tl8vw6Hf"
      },
      "source": [
        "popt, pcov = curve_fit(func_kambarov, xdata, ydata)\n",
        "popt\n",
        "\n",
        "plt.plot(xdata, func_kambarov(xdata, *popt), 'r-',\n",
        "         label='fit: a=%5.3f, b=%5.3f' % tuple(popt))"
      ],
      "execution_count": null,
      "outputs": []
    },
    {
      "cell_type": "code",
      "metadata": {
        "id": "Zm8ZEVtVw6KO"
      },
      "source": [
        "popt\n",
        "b = popt[1]"
      ],
      "execution_count": null,
      "outputs": []
    },
    {
      "cell_type": "code",
      "metadata": {
        "id": "kit5FeTbw6Ps"
      },
      "source": [
        ""
      ],
      "execution_count": null,
      "outputs": []
    },
    {
      "cell_type": "code",
      "metadata": {
        "id": "qtn5yNCftEZU"
      },
      "source": [
        "import matplotlib.pyplot as plt\n",
        "from scipy.optimize import curve_fit\n",
        "\n",
        "def func(x, a, b, c):\n",
        "    return a * np.exp(-b * x) + c\n",
        "\n",
        "xdata = np.linspace(0, 4, 50)\n",
        "y = func(xdata, 2.5, 1.3, 0.5)\n",
        "np.random.seed(1729)\n",
        "y_noise = 0.2 * np.random.normal(size=xdata.size)\n",
        "ydata = y + y_noise\n",
        "plt.plot(xdata, ydata, 'b-', label='data')"
      ],
      "execution_count": null,
      "outputs": []
    },
    {
      "cell_type": "code",
      "metadata": {
        "id": "KS34jtDGwQB6"
      },
      "source": [
        "def func2(x, a, b):\n",
        "    return a - b * x"
      ],
      "execution_count": null,
      "outputs": []
    },
    {
      "cell_type": "code",
      "metadata": {
        "id": "0za17ktptEi-"
      },
      "source": [
        "popt, pcov = curve_fit(func2, xdata, ydata)\n",
        "popt\n",
        "\n",
        "plt.plot(xdata, func2(xdata, *popt), 'r-',\n",
        "         label='fit: a=%5.3f, b=%5.3f' % tuple(popt))"
      ],
      "execution_count": null,
      "outputs": []
    },
    {
      "cell_type": "code",
      "metadata": {
        "id": "HN2MKMOZoSQW"
      },
      "source": [
        "popt, pcov = curve_fit(func, xdata, ydata, bounds=(0, [3., 1., 0.5]))\n",
        "popt\n",
        "\n",
        "plt.plot(xdata, func(xdata, *popt), 'g--',\n",
        "         label='fit: a=%5.3f, b=%5.3f, c=%5.3f' % tuple(popt))\n",
        "\n",
        "plt.xlabel('x')\n",
        "plt.ylabel('y')\n",
        "plt.legend()\n",
        "plt.show()"
      ],
      "execution_count": null,
      "outputs": []
    },
    {
      "cell_type": "code",
      "metadata": {
        "id": "UU8iOXrrtkRf"
      },
      "source": [
        ""
      ],
      "execution_count": null,
      "outputs": []
    }
  ]
}