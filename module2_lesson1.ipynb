{
  "nbformat": 4,
  "nbformat_minor": 0,
  "metadata": {
    "colab": {
      "name": "module2_lesson1.ipynb",
      "provenance": [],
      "collapsed_sections": [
        "6xdZQJhYZfdB",
        "myvEgVcWB3Wo",
        "Mc6QgM9RiiBn",
        "xqQOUWD9ikMW"
      ],
      "authorship_tag": "ABX9TyOOD5x75PTvSMHlYo3Bz9Tt",
      "include_colab_link": true
    },
    "kernelspec": {
      "name": "python3",
      "display_name": "Python 3"
    },
    "language_info": {
      "name": "python"
    }
  },
  "cells": [
    {
      "cell_type": "markdown",
      "metadata": {
        "id": "view-in-github",
        "colab_type": "text"
      },
      "source": [
        "<a href=\"https://colab.research.google.com/github/alexeynick/msu_oil_gas/blob/main/module2_lesson1.ipynb\" target=\"_parent\"><img src=\"https://colab.research.google.com/assets/colab-badge.svg\" alt=\"Open In Colab\"/></a>"
      ]
    },
    {
      "cell_type": "markdown",
      "metadata": {
        "id": "RlTzX_f8vOON"
      },
      "source": [
        "## Задачи модуля №2"
      ]
    },
    {
      "cell_type": "code",
      "metadata": {
        "id": "cb6oflFVZAzz"
      },
      "source": [
        "import pandas as pd\n",
        "import numpy as np\n",
        "import plotly.graph_objects as go\n",
        "import matplotlib.pyplot as plt \n",
        "from plotly.subplots import make_subplots\n",
        "\n",
        "import locale\n",
        "\n",
        "locale.setlocale(locale.LC_ALL, '')\n",
        "locale._override_localeconv = {'mon_thousands_sep': '_'}"
      ],
      "execution_count": 108,
      "outputs": []
    },
    {
      "cell_type": "code",
      "metadata": {
        "id": "YzSE5Wghpani"
      },
      "source": [
        "pd.set_option('display.max_colwidth', 100)"
      ],
      "execution_count": 109,
      "outputs": []
    },
    {
      "cell_type": "markdown",
      "metadata": {
        "id": "6xdZQJhYZfdB"
      },
      "source": [
        "## Задача 2.1 Расчет запасов нефти и газа объемным методом"
      ]
    },
    {
      "cell_type": "code",
      "metadata": {
        "colab": {
          "base_uri": "https://localhost:8080/",
          "height": 0
        },
        "id": "I1H8SqeKdhKM",
        "outputId": "45dd4104-435e-432a-d9c7-4c299d688058"
      },
      "source": [
        "data = {\n",
        "    'Параметры': ['Площадь нефтеносности залежи',\n",
        "                  'Эффективная нефтенасыщенная толщина залежи',\n",
        "                  'Коэффициент пористости',\n",
        "                  'Коэффициент нефтенасыщенности',\n",
        "                  'Плотность нефти в поверхностных условиях',\n",
        "                  'Переводной коэффициент из пластовых условий в поверхностные',\n",
        "                  'Газовый фактор',\n",
        "                  'Коэффициент нефтеотдачи',\n",
        "                  'Добыча нефти с начала разработки на анализируемую дату',\n",
        "                  ],\n",
        "        'Единицы измерения': ['м2',\n",
        "                              'м',\n",
        "                              'д.ед.',\n",
        "                              'д.ед.',\n",
        "                              'т/м3',\n",
        "                              'д.ед.',\n",
        "                              'м3/т',\n",
        "                              'д.ед.',\n",
        "                              'тыс.т.',\n",
        "                              ],\n",
        "         'Значения': [6012,\n",
        "                     16,\n",
        "                     0.17,\n",
        "                     0.515,\n",
        "                     0.826,\n",
        "                     0.915,\n",
        "                     38.7,\n",
        "                     0.585,\n",
        "                     2016.9,\n",
        "                     ]\n",
        "        }\n",
        "\n",
        "df = pd.DataFrame(\n",
        "    data, \n",
        "    columns = ['Параметры','Единицы измерения', 'Значения'],\n",
        "    index=[1, 2, 3, 4, 5, 6, 7, 8, 9])\n",
        "\n",
        "df"
      ],
      "execution_count": 110,
      "outputs": [
        {
          "output_type": "execute_result",
          "data": {
            "text/html": [
              "<div>\n",
              "<style scoped>\n",
              "    .dataframe tbody tr th:only-of-type {\n",
              "        vertical-align: middle;\n",
              "    }\n",
              "\n",
              "    .dataframe tbody tr th {\n",
              "        vertical-align: top;\n",
              "    }\n",
              "\n",
              "    .dataframe thead th {\n",
              "        text-align: right;\n",
              "    }\n",
              "</style>\n",
              "<table border=\"1\" class=\"dataframe\">\n",
              "  <thead>\n",
              "    <tr style=\"text-align: right;\">\n",
              "      <th></th>\n",
              "      <th>Параметры</th>\n",
              "      <th>Единицы измерения</th>\n",
              "      <th>Значения</th>\n",
              "    </tr>\n",
              "  </thead>\n",
              "  <tbody>\n",
              "    <tr>\n",
              "      <th>1</th>\n",
              "      <td>Площадь нефтеносности залежи</td>\n",
              "      <td>м2</td>\n",
              "      <td>6012.000</td>\n",
              "    </tr>\n",
              "    <tr>\n",
              "      <th>2</th>\n",
              "      <td>Эффективная нефтенасыщенная толщина залежи</td>\n",
              "      <td>м</td>\n",
              "      <td>16.000</td>\n",
              "    </tr>\n",
              "    <tr>\n",
              "      <th>3</th>\n",
              "      <td>Коэффициент пористости</td>\n",
              "      <td>д.ед.</td>\n",
              "      <td>0.170</td>\n",
              "    </tr>\n",
              "    <tr>\n",
              "      <th>4</th>\n",
              "      <td>Коэффициент нефтенасыщенности</td>\n",
              "      <td>д.ед.</td>\n",
              "      <td>0.515</td>\n",
              "    </tr>\n",
              "    <tr>\n",
              "      <th>5</th>\n",
              "      <td>Плотность нефти в поверхностных условиях</td>\n",
              "      <td>т/м3</td>\n",
              "      <td>0.826</td>\n",
              "    </tr>\n",
              "    <tr>\n",
              "      <th>6</th>\n",
              "      <td>Переводной коэффициент из пластовых условий в поверхностные</td>\n",
              "      <td>д.ед.</td>\n",
              "      <td>0.915</td>\n",
              "    </tr>\n",
              "    <tr>\n",
              "      <th>7</th>\n",
              "      <td>Газовый фактор</td>\n",
              "      <td>м3/т</td>\n",
              "      <td>38.700</td>\n",
              "    </tr>\n",
              "    <tr>\n",
              "      <th>8</th>\n",
              "      <td>Коэффициент нефтеотдачи</td>\n",
              "      <td>д.ед.</td>\n",
              "      <td>0.585</td>\n",
              "    </tr>\n",
              "    <tr>\n",
              "      <th>9</th>\n",
              "      <td>Добыча нефти с начала разработки на анализируемую дату</td>\n",
              "      <td>тыс.т.</td>\n",
              "      <td>2016.900</td>\n",
              "    </tr>\n",
              "  </tbody>\n",
              "</table>\n",
              "</div>"
            ],
            "text/plain": [
              "                                                     Параметры  ...  Значения\n",
              "1                                 Площадь нефтеносности залежи  ...  6012.000\n",
              "2                   Эффективная нефтенасыщенная толщина залежи  ...    16.000\n",
              "3                                       Коэффициент пористости  ...     0.170\n",
              "4                                Коэффициент нефтенасыщенности  ...     0.515\n",
              "5                     Плотность нефти в поверхностных условиях  ...     0.826\n",
              "6  Переводной коэффициент из пластовых условий в поверхностные  ...     0.915\n",
              "7                                               Газовый фактор  ...    38.700\n",
              "8                                      Коэффициент нефтеотдачи  ...     0.585\n",
              "9       Добыча нефти с начала разработки на анализируемую дату  ...  2016.900\n",
              "\n",
              "[9 rows x 3 columns]"
            ]
          },
          "metadata": {
            "tags": []
          },
          "execution_count": 110
        }
      ]
    },
    {
      "cell_type": "markdown",
      "metadata": {
        "id": "AsscIEDyqF9o"
      },
      "source": [
        "$$Q_{ИЗВ} = F * h_{НН} * m * K _{НН} * \\rho_{Н} * \\beta * \\eta $$"
      ]
    },
    {
      "cell_type": "markdown",
      "metadata": {
        "id": "QmjG89kmrIlv"
      },
      "source": [
        "где:\n",
        "- $Q_{ИЗВ}$ - извлекаемые (промышленные) запасы нефти, $т$;\n",
        "- $F$ — площадь нефтеносности залежи, $м^{2}$;\n",
        "- $h_{НН}$ — эффективная нефтенасыщенная толщина залежи, $м$;\n",
        "- $m$ — коэффициент открытой пористости нефтесодержащих пород;\n",
        "- $K _{НН}$ — коэффициент насыщения пласта нефтью (коэффициент нефтенасыщенности);\n",
        "- $\\rho_{Н}$ — плотность нефти в поверхностных условиях, $т/м^{3}$;\n",
        "- $\\beta$ — пересчетный коэффициент, учитывающий усадку нефти $\\beta = \\cfrac{1}{b}$ (${b}$ - объемный коэффициент пластовой нефти);\n",
        "- $\\eta$ — коэффициент нефтеотдачи (КИН);\n"
      ]
    },
    {
      "cell_type": "markdown",
      "metadata": {
        "id": "k4MSZAQa6nsQ"
      },
      "source": [
        "$K _{НН}$ - Коэффициент нефтенасыщенности или газонасыщенности (oil or gas saturation factor) - отношение объема нефти (газа), содержащейся в порах (пустотах) пласта, к общему объему всех пор (пустот) нефтеносного (газоносного) пласта в пластовых условиях (М.А. Жданов, 1962; Ф.И. Котяхов, И.Х. Абрикосов, И.С. Гутман, 1970). \n",
        "\n",
        "$m$ - в нефтегазопромысловой геологии более важен коэффициент открытой пористости, т.к. он характеризует объем углеводородов, содержащийся в породе. На практике коэффициент открытой пористости определяется в лабораторных условиях по методу Преображенского или по данным геофизических исследований в скважине (ГИС).\n",
        "\n",
        "Полная пористость – это объем всех пор, находящихся в горной породе.\n",
        "\n",
        "Открытая пористость – это объем пор, сообщающихся между  cобой. Количественно та и другая пористость выражается коэффициентом пористости, который представляет собой отношение объема пор к объему образца породы\n"
      ]
    },
    {
      "cell_type": "markdown",
      "metadata": {
        "id": "YPfQyGNivlXy"
      },
      "source": [
        "Рассчитать:\n",
        "\n",
        "- 1) Начальные геологические запасы нефти\n",
        "- 2) Начальные извлекаемые запасы нефти\n",
        "- 3) Остаточные геологические запасы нефти\n",
        "- 4) Остаточные извлекаемые запасы нефти\n",
        "- 5) Начальные геологические запасы газа\n",
        "- 6) Начальные извлекаемые запасы газа\n",
        "- 7) Остаточные балансовые запасы газа\n",
        "- 8) Остаточные извлекаемые запасы газа"
      ]
    },
    {
      "cell_type": "markdown",
      "metadata": {
        "id": "r0QBNcH3vZ25"
      },
      "source": [
        "### Расчеты"
      ]
    },
    {
      "cell_type": "markdown",
      "metadata": {
        "id": "XEOI7HpSxVwL"
      },
      "source": [
        "$Q_{ИЗВ} = Q_{ГЕОЛ} * \\eta $\n",
        "\n",
        "$Q_{ГЕОЛ} = F * h_{НН} * m * K _{НН} * \\rho_{Н} * \\beta $\n",
        "\n",
        "$Q_{ОСТ\\,ГЕОЛ} = Q_{ГЕОЛ} - Q_{ДОБ} $\n",
        "\n",
        "$Q_{ОСТ\\,ИЗВ} = Q_{ИЗВ} - Q_{ДОБ} $\n",
        "\n",
        "\n"
      ]
    },
    {
      "cell_type": "code",
      "metadata": {
        "id": "q0W-lN9PbxRa"
      },
      "source": [
        "values = df['Значения']"
      ],
      "execution_count": 111,
      "outputs": []
    },
    {
      "cell_type": "code",
      "metadata": {
        "id": "gaPhZUOmbxUY"
      },
      "source": [
        "F_value = values[1]\n",
        "hnn_value = values[2]\n",
        "m_value = values[3]\n",
        "Knn_value = values[4]\n",
        "rhon_value = values[5]\n",
        "beta_value = values[6]\n",
        "eta_value = values[8]\n",
        "q_dob = values[9]\n",
        "\n",
        "q_geol = F_value * hnn_value * m_value * Knn_value * rhon_value * beta_value\n",
        "q_ost_geol = q_geol * eta_value"
      ],
      "execution_count": 112,
      "outputs": []
    },
    {
      "cell_type": "code",
      "metadata": {
        "colab": {
          "base_uri": "https://localhost:8080/"
        },
        "id": "d6qazpribxW5",
        "outputId": "a7ca179b-fa1b-46b0-8446-27b9219c7911"
      },
      "source": [
        "print('Начальные геологические запасы нефти: {0:,.0f}'.format(q_geol))\n",
        "print('Начальные извлекаемые запасы нефти: {0:,.0f}'.format(q_ost_geol))\n",
        "print('Остаточные геологические запасы нефти: {0:,.0f}'.format(q_geol - q_dob))\n",
        "print('Остаточные извлекаемые запасы нефти: {0:,.0f}'.format(q_ost_geol - q_dob))"
      ],
      "execution_count": 113,
      "outputs": [
        {
          "output_type": "stream",
          "text": [
            "Начальные геологические запасы нефти: 6,365\n",
            "Начальные извлекаемые запасы нефти: 3,724\n",
            "Остаточные геологические запасы нефти: 4,348\n",
            "Остаточные извлекаемые запасы нефти: 1,707\n"
          ],
          "name": "stdout"
        }
      ]
    },
    {
      "cell_type": "markdown",
      "metadata": {
        "id": "Q3VSR9e-80b6"
      },
      "source": [
        "$V_{ГЕОЛ} = Q_{ГЕОЛ} * Г $\n",
        "\n",
        "$V_{ИЗВ} = Q_{ИЗВ} * Г $\n",
        "\n",
        "$V_{ОСТ\\,ГЕОЛ} = Q_{ОСТ\\,ГЕОЛ} * Г $\n",
        "\n",
        "$V_{ОСТ\\,ИЗВ} = Q_{ОСТ\\,ИЗВ} * Г $\n",
        "\n",
        "где:\n",
        "- $Г$ - газовый фактор (объёмное содержание газа в единице массы нефти), $м^{3}/т$"
      ]
    },
    {
      "cell_type": "code",
      "metadata": {
        "colab": {
          "base_uri": "https://localhost:8080/"
        },
        "id": "tp91wLzy6FrG",
        "outputId": "82e5c058-1315-4c90-a99c-f2dec2c009a8"
      },
      "source": [
        "gfac_value = values[7]\n",
        "\n",
        "print('Начальные геологические запасы газа: {0:,.0f}'.format(q_geol * gfac_value))\n",
        "print('Начальные извлекаемые запасы газа: {0:,.0f}'.format(q_ost_geol * gfac_value))\n",
        "print('Остаточные геологические запасы газа: {0:,.0f}'.format((q_geol - q_dob) * gfac_value))\n",
        "print('Остаточные извлекаемые запасы газа: {0:,.0f}'.format((q_ost_geol - q_dob) * gfac_value))"
      ],
      "execution_count": 114,
      "outputs": [
        {
          "output_type": "stream",
          "text": [
            "Начальные геологические запасы газа: 246,324\n",
            "Начальные извлекаемые запасы газа: 144,100\n",
            "Остаточные геологические запасы газа: 168,270\n",
            "Остаточные извлекаемые запасы газа: 66,046\n"
          ],
          "name": "stdout"
        }
      ]
    },
    {
      "cell_type": "markdown",
      "metadata": {
        "id": "myvEgVcWB3Wo"
      },
      "source": [
        "## Задача 2.2 Определение количества нефти, которое возможно добыть при упругом режиме пласта (свободное фонтанирование)"
      ]
    },
    {
      "cell_type": "markdown",
      "metadata": {
        "id": "-a9hLjC_Cd4i"
      },
      "source": [
        "Определить количество нефти, полученное за счет упругого расширения нефти, воды и горной породы, если:\n",
        "- площадь области нефтеносности $S_{Н}=900\\,га$\n",
        "- законтурная вода занимает площадь $S_{В}=10\\,000\\,га$\n",
        "- средняя толщина пласта $h=15\\,м$\n",
        "- пористость пласта $m=0,17$\n",
        "- водонасыщенность в зоне нефтеносности $\\sigma_{В}=20\\% $\n",
        "- коэффициент сжимаемости нефти $\\beta_{Н}=6.12 \\cdot 10^{-10} м2/Н$\n",
        "- коэффициент сжимаемости воды $\\beta_{В}=4.28 \\cdot 10^{-10} м2/Н$\n",
        "- коэффициент сжимаемости породы $\\beta_{С}=2.04 \\cdot 10^{-10} м2/Н$. \n",
        "\n",
        "Пластовое давление снижается от 30 до 20 МПа.\n",
        "\n",
        "Также определить коэффициент извлечения нефти (КИН)."
      ]
    },
    {
      "cell_type": "markdown",
      "metadata": {
        "id": "2oB82MvWKN3S"
      },
      "source": [
        "Рассчитать:\n",
        "\n",
        "- 1) Начальный объем нефти\n",
        "- 2) Объем нефти, вытесняемый из зоны нефтеносности при падении давления за счет сжимаемости нефти и пористой среды\n",
        "- 3) Объем вытсненной нефти в зоне нефтеносности при падении давления за счет расширения воды и породы в зоне нефтеносности\n",
        "- 4) Объем нефти, вытесняемый из окружающей зоны водоносности при падении давления за счет упругости воды и пласта\n",
        "- 5) Рассчитать КИН"
      ]
    },
    {
      "cell_type": "markdown",
      "metadata": {
        "id": "w64YmPVILet8"
      },
      "source": [
        "### Расчеты"
      ]
    },
    {
      "cell_type": "markdown",
      "metadata": {
        "id": "xISMIFNZLfSQ"
      },
      "source": [
        "$Q_{ГЕОЛ} = S_{Н} \\cdot h \\cdot (1 - \\sigma_{В}) \\cdot m $\n",
        "\n",
        "\n",
        "$V_{1} = S_{Н} \\cdot h \\cdot (1 - \\sigma_{В}) \\cdot m \\cdot \\beta_{Н} \\cdot \\Delta P + S_{Н} \\cdot h \\cdot (1 - \\sigma_{В}) \\cdot \\beta_{С} \\cdot \\Delta P = $\n",
        "\n",
        "\n",
        "$=S_{Н} \\cdot h \\cdot (1 - \\sigma_{В}) \\cdot (\\beta_{Н} \\cdot m + \\beta_{С}) \\cdot \\Delta P$\n",
        "\n",
        "\n",
        "$V_{2} = S_{Н} \\cdot h \\cdot \\sigma_{В} \\cdot m \\cdot \\beta_{В} \\cdot \\Delta P + S_{Н} \\cdot h \\cdot \\sigma_{В} \\cdot \\beta_{С} \\cdot \\Delta P = $\n",
        "\n",
        "\n",
        "$=S_{Н} \\cdot h \\cdot \\sigma_{В} \\cdot (\\beta_{В} \\cdot m + \\beta_{С}) \\cdot \\Delta P$\n",
        "\n",
        "\n",
        "$V_{3} = S_{В} \\cdot h \\cdot m \\cdot \\beta_{В} \\cdot \\Delta P + S_{Н} \\cdot h \\cdot \\beta_{С} \\cdot \\Delta P = $\n",
        "\n",
        "\n",
        "$=S_{Н} \\cdot h \\cdot (\\beta_{В} \\cdot m + \\beta_{С}) \\cdot \\Delta P$\n",
        "\n",
        "\n",
        "$КИН = \\cfrac{V_{1} + V_{2} + V_{3}}{Q_{ГЕОЛ}} $\n",
        "\n",
        "\n"
      ]
    },
    {
      "cell_type": "code",
      "metadata": {
        "id": "Gw1EM2prBSCm"
      },
      "source": [
        "HA_TO_SQRTM = 10000"
      ],
      "execution_count": 115,
      "outputs": []
    },
    {
      "cell_type": "code",
      "metadata": {
        "id": "IXPi00uZLS00"
      },
      "source": [
        "sn_value = 900\n",
        "sv_value = 10000\n",
        "hnn_value = 15\n",
        "m_value = 0.17\n",
        "sigmav_value = 0.2\n",
        "betan_value = 6.12 * 10**-10\n",
        "betav_value = 4.28 * 10**-10\n",
        "betas_value = 2.04 * 10**-10\n",
        "p1 = 30 * 10**6\n",
        "p2 = 20 * 10**6\n",
        "\n",
        "q_geol = sn_value * HA_TO_SQRTM * hnn_value * (1 - sigmav_value) * m_value\n",
        "v_1 = sn_value * HA_TO_SQRTM * hnn_value * (1 - sigmav_value) * (betan_value * m_value + betas_value) * (p1 - p2)\n",
        "v_2 = sn_value * HA_TO_SQRTM * hnn_value * sigmav_value * (betav_value * m_value + betas_value) * (p1 - p2)\n",
        "v_3 = sv_value * HA_TO_SQRTM * hnn_value * (betav_value * m_value + betas_value) * (p1 - p2)"
      ],
      "execution_count": 116,
      "outputs": []
    },
    {
      "cell_type": "code",
      "metadata": {
        "colab": {
          "base_uri": "https://localhost:8080/"
        },
        "id": "hfybPTnJOE8y",
        "outputId": "54f56ab1-028c-4df9-b77a-326e62a1cd9e"
      },
      "source": [
        "print('Начальный объем нефти: {0:,.0f}'.format(q_geol))\n",
        "print('Объем нефти, вытесняемый из зоны нефтеносности при падении давления за счет сжимаемости нефти и пористой среды: {0:,.0f}'.format(v_1))\n",
        "print('Объем вытсненной нефти в зоне нефтеносности при падении давления за счет расширения воды и породы в зоне нефтеносности: {0:,.0f}'.format(v_2))\n",
        "print('Объем нефти, вытесняемый из окружающей зоны водоносности при падении давления за счет упругости воды и пласта: {0:,.0f}'.format(v_3))\n",
        "print('КИН: {0:,.2%}'.format((v_1 + v_2 + v_3) / q_geol))"
      ],
      "execution_count": 117,
      "outputs": [
        {
          "output_type": "stream",
          "text": [
            "Начальный объем нефти: 18,360,000\n",
            "Объем нефти, вытесняемый из зоны нефтеносности при падении давления за счет сжимаемости нефти и пористой среды: 332,683\n",
            "Объем вытсненной нефти в зоне нефтеносности при падении давления за счет расширения воды и породы в зоне нефтеносности: 74,725\n",
            "Объем нефти, вытесняемый из окружающей зоны водоносности при падении давления за счет упругости воды и пласта: 4,151,400\n",
            "КИН: 24.83%\n"
          ],
          "name": "stdout"
        }
      ]
    },
    {
      "cell_type": "markdown",
      "metadata": {
        "id": "Mc6QgM9RiiBn"
      },
      "source": [
        "## Задача 2.3 Расчет запасов газа по методу падения давления"
      ]
    },
    {
      "cell_type": "markdown",
      "metadata": {
        "id": "73CoFVasiyCe"
      },
      "source": [
        "$Q_{ИЗВ} = \\cfrac{(Q_{2} - Q_{1}) \\cdot (P_{1} \\cdot \\alpha_{1} - P_{K} \\cdot \\alpha_{K})}{(P_{1} \\cdot \\alpha_{1} - P_{2} \\cdot \\alpha_{2})} \n",
        " $"
      ]
    },
    {
      "cell_type": "markdown",
      "metadata": {
        "id": "6cCigcbIrP8o"
      },
      "source": [
        "где:\n",
        "- $Q_{ИЗВ}$ - извлекаемые запасы газа, $млрд\\,м^{3}$;\n",
        "- $Q_{1}$ — количество газа, добытого с начала разработки на 1-ю дату замера, $млрд\\,м^{3}$;\n",
        "- $Q_{2}$ — количество газа, добытого с начала разработки на 2-ю дату замера, $млрд\\,м^{3}$;\n",
        "- $\\alpha_{1}$ — поправка за отклонение от идеального газа на 1-ю дату замера;\n",
        "- $\\alpha_{2}$ — поправка за отклонение от идеального газа на 2-ю дату замера;\n",
        "- $\\alpha_{K}$ — поправка за отклонение от идеального газа (конечные условия);\n",
        "- $P_{1}$ — пластовое давление на 1-ю дату замера, $МПа$;\n",
        "- $P_{2}$ — пластовое давление на 2-ю дату замера, $МПа$;\n",
        "- $P_{K}$ — конечное пластовое давление, $МПа$;"
      ]
    },
    {
      "cell_type": "code",
      "metadata": {
        "id": "IOjF3ShrijpF"
      },
      "source": [
        "q1_value = 10\n",
        "q2_value = 100\n",
        "p1_value = 28\n",
        "p2_value = 12\n",
        "pk_value = 1\n",
        "alpha1_value = 1 / 0.9828\n",
        "alpha2_value = 1 / 0.9703\n",
        "alphak_value = 1 / 0.9946\n"
      ],
      "execution_count": 118,
      "outputs": []
    },
    {
      "cell_type": "code",
      "metadata": {
        "id": "7_8fKMnOtOPn"
      },
      "source": [
        "ATM_TO_MPA = 101325"
      ],
      "execution_count": 119,
      "outputs": []
    },
    {
      "cell_type": "code",
      "metadata": {
        "id": "0FnwNBtNtT8u"
      },
      "source": [
        "q_geol = (\n",
        "    (q2_value - q1_value) \n",
        "    * (p1_value * ATM_TO_MPA * alpha1_value - pk_value * ATM_TO_MPA * alphak_value)\n",
        "    / (p1_value * ATM_TO_MPA * alpha1_value - p2_value * ATM_TO_MPA * alpha2_value)\n",
        ")"
      ],
      "execution_count": 120,
      "outputs": []
    },
    {
      "cell_type": "code",
      "metadata": {
        "colab": {
          "base_uri": "https://localhost:8080/"
        },
        "id": "uGfA_xY8tazm",
        "outputId": "4ff11223-40ee-4be4-a439-8e733de13463"
      },
      "source": [
        "print('Извлекаемые запасы газа: {0:,.2f} млрд. куб. м'.format(q_geol))"
      ],
      "execution_count": 121,
      "outputs": [
        {
          "output_type": "stream",
          "text": [
            "Извлекаемые запасы газа: 153.42 млрд. куб. м\n"
          ],
          "name": "stdout"
        }
      ]
    },
    {
      "cell_type": "markdown",
      "metadata": {
        "id": "xqQOUWD9ikMW"
      },
      "source": [
        "## Задача 2.4 Определение необходимого числа скважин в условиях максимальной добычи извлекаемых запасов "
      ]
    },
    {
      "cell_type": "markdown",
      "metadata": {
        "id": "U2o9ACCEMPb0"
      },
      "source": [
        "При проектировании разработки нефтяного месторождения в нем было выделено два объекта разработки. Пласты характеризуются неоднородным строением и содержат много пропластков и линз. \n",
        "\n",
        "В результате лабораторного изучения процесса вытеснения нефти из пород-коллекторов определены коэффициенты вытеснения $K_{ВЫТ1}=0,7$ и $K_{ВЫТ2}=0,6$ для первого и второго объектов, а также получены зависимости коэффициентов охвата первого и второго объектов воздействием $K_{ОХВ1}$, $K_{ОХВ2}$ от соответствующих параметров плотности сеток скважин $S_{C1}$, $S_{C2}$, они имеют вид:\n",
        "- $K_{ОХВ1}=1-0,055 \\cdot S_{C1}$\n",
        "- $K_{ОХВ2}=1-0,00833 \\cdot S_{C2}$\n",
        "\n",
        "Геологические запасы $Q_{Г1}=80$ млн т, $Q_{Г2}=30$ млн т. Площадь нефтеносности $S_{1}=5000$ га, $S_{2}=1200$ га.\n",
        "На оба объекта решено пробурить n=150 скважин.\n",
        "\n",
        "Найти какое число скважин следует пробурить на каждый объект разработки с тем, чтобы суммарные извлекаемые запасы для месторождения в целом получились максимальными.\n",
        "\n",
        "$КИН = \\cfrac{Q_{ИЗВ}}{Q_{ГЕОЛ}}$\n",
        "\n",
        "$КИН = K_{ВЫТ} \\cdot K_{ОХВ} \\cdot K_{ЗАВ}$\n",
        "\n",
        "где:\n",
        "\n",
        "- $K_{ВЫТ}$ - Коэффициент вытеснения нефти водой - отношение извлеченной из пласта нефти к ее запасам, первоначально находившимся в части пласта, подверженной воздействию заводнением. Определяется лабораторно на образцах породы.\n",
        "- $K_{ОХВ}$ - Коэффициент охвата - отношение запасов нефти, первоначально находившихся в части пласта, подверженной воздействию заводнением, к геологическим запасам нефти в пласте\n",
        "- $K_{ЗАВ}$ - Коэффициент заводнения - это отношение накопленной добычи нефти к дренируемым запасам. Характеризует ту часть дренируемых запасов, которую возможно добыть."
      ]
    },
    {
      "cell_type": "markdown",
      "metadata": {
        "id": "7XA9TwvON2fs"
      },
      "source": [
        "### Расчеты"
      ]
    },
    {
      "cell_type": "markdown",
      "metadata": {
        "id": "xxERfFD1N59s"
      },
      "source": [
        "$n=n_{1} + n_{2}$\n",
        "\n",
        "$S_{С1} = \\cfrac{S_{1} } {n_{1}}, S_{С2} = \\cfrac{S_{2} } {n_{2}} $\n",
        "\n",
        "$Q_{ИЗВ1} = Q_{Г1} \\cdot КИН_{1} = Q_{Г1} \\cdot K_{ВЫТ1} \\cdot K_{ОХВ1} = Q_{Г1} \\cdot K_{ВЫТ1} \\cdot (1 - 0.055 \\cdot S_{C1})$\n",
        "\n",
        "$Q_{ИЗВ2} = Q_{Г2} \\cdot КИН_{2} = Q_{Г2} \\cdot K_{ВЫТ2} \\cdot K_{ОХВ2} = Q_{Г2} \\cdot K_{ВЫТ2} \\cdot (1 - 0.00833 \\cdot S_{C2})$\n",
        "\n",
        "$Q_{\\Sigma} = Q_{ИЗВ1} + Q_{ИЗВ2} = $\n",
        "\n",
        "$ = Q_{Г1} \\cdot K_{ВЫТ1} + Q_{Г2} \\cdot K_{ВЫТ2} - \\cfrac{0.055 \\cdot Q_{Г1} \\cdot K_{ВЫТ1} \\cdot S_{1}}{n_{1}} - \\cfrac{0.00833 \\cdot Q_{Г2} \\cdot K_{ВЫТ2} \\cdot S_{2}}{n - n_{1}} = $\n",
        "\n",
        "$ = A - \\cfrac{B}{n_{1}} - \\cfrac{C}{n-n_{1}}$\n",
        "\n",
        "Найдем локальный экстремум $Q_{\\Sigma}$ как функции от $n_{1}$\n",
        "\n",
        "$Q_{\\Sigma}^{'} = 0 $\n",
        "\n",
        "$\\cfrac{dQ_{\\Sigma}}{dn} = \\cfrac{B}{n_{1}^{2}} - \\cfrac{C}{(n-n_{1})^{2}} = 0$\n",
        "\n",
        "$(B-C) \\cdot n_{1}^{2} - 2Bn \\cdot n_{1} + Bn^{2}= 0$\n"
      ]
    },
    {
      "cell_type": "markdown",
      "metadata": {
        "id": "7fXVucWBYkf3"
      },
      "source": [
        "Формула нахождения корней квадратных уравнений с помощью дискриминанта:\n",
        "\n",
        "$a \\cdot x^2 + b \\cdot x + c = 0$\n",
        "\n",
        "$x_{1,2} = \\cfrac{-b\\pm\\sqrt{D}}{2a}$,\n",
        "\n",
        "где\n",
        "\n",
        "$D = b^2 - 4ac$"
      ]
    },
    {
      "cell_type": "markdown",
      "metadata": {
        "id": "Q_rbEUdUZHeu"
      },
      "source": [
        "Соответственно:\n",
        "\n",
        "$D = 4B^2n^2 - 4Bn^2(B-C) = 4B^2n^2 - 4B^2n^2 + 4BCn^2$\n",
        "\n",
        "$\\sqrt{D} = 2n \\cdot \\sqrt{B} \\cdot \\sqrt{C}$\n",
        "\n",
        "$n_{1,2} = \\cfrac{2Bn\\pm2n \\cdot \\sqrt{B} \\cdot \\sqrt{C}}{2(B-C)} = n \\cdot \\cfrac{B\\pm\\sqrt{B} \\cdot \\sqrt{C}}{(B-C)}$\n",
        "\n",
        "$n_{1} = \\cfrac{n\\sqrt{B}}{\\sqrt{B}-\\sqrt{C}}$\n",
        "\n",
        "$n_{2} = \\cfrac{n\\sqrt{B}}{\\sqrt{B}+\\sqrt{C}}$"
      ]
    },
    {
      "cell_type": "code",
      "metadata": {
        "id": "adzHXvuWMZ2J"
      },
      "source": [
        "s1_value = 5000\n",
        "s2_value = 1200\n",
        "q1_geol = 80\n",
        "q2_geol = 30\n",
        "kvyt1_value = 0.7\n",
        "kvyt2_value = 0.6\n",
        "\n",
        "B_value = 0.055 * q1_geol * kvyt1_value * s1_value\n",
        "C_value = 0.00833 * q2_geol * kvyt2_value * s2_value"
      ],
      "execution_count": 122,
      "outputs": []
    },
    {
      "cell_type": "code",
      "metadata": {
        "colab": {
          "base_uri": "https://localhost:8080/"
        },
        "id": "GMUkiIQpbiEo",
        "outputId": "064a5288-1c39-43c7-b003-a0add7e96c2b"
      },
      "source": [
        "B_value ** 0.5"
      ],
      "execution_count": 123,
      "outputs": [
        {
          "output_type": "execute_result",
          "data": {
            "text/plain": [
              "124.09673645990857"
            ]
          },
          "metadata": {
            "tags": []
          },
          "execution_count": 123
        }
      ]
    },
    {
      "cell_type": "code",
      "metadata": {
        "colab": {
          "base_uri": "https://localhost:8080/"
        },
        "id": "2lTBK81dbjHd",
        "outputId": "0e5de7c8-ada6-4b8c-cdd8-f487aa8edcd2"
      },
      "source": [
        "C_value ** 0.5"
      ],
      "execution_count": 124,
      "outputs": [
        {
          "output_type": "execute_result",
          "data": {
            "text/plain": [
              "13.413724315043902"
            ]
          },
          "metadata": {
            "tags": []
          },
          "execution_count": 124
        }
      ]
    },
    {
      "cell_type": "code",
      "metadata": {
        "colab": {
          "base_uri": "https://localhost:8080/"
        },
        "id": "9RL8HcTxbkSk",
        "outputId": "6149b243-86ce-4205-e3e1-1a0679d27a09"
      },
      "source": [
        "150*(B_value ** 0.5) / (B_value ** 0.5 - C_value ** 0.5)"
      ],
      "execution_count": 125,
      "outputs": [
        {
          "output_type": "execute_result",
          "data": {
            "text/plain": [
              "168.17856786028875"
            ]
          },
          "metadata": {
            "tags": []
          },
          "execution_count": 125
        }
      ]
    },
    {
      "cell_type": "markdown",
      "metadata": {
        "id": "eH212apygQNs"
      },
      "source": [
        "Подходящее решение:"
      ]
    },
    {
      "cell_type": "code",
      "metadata": {
        "colab": {
          "base_uri": "https://localhost:8080/"
        },
        "id": "LVB4YypedJF1",
        "outputId": "96fdf707-6821-4647-c2d0-92fd635338e4"
      },
      "source": [
        "150*(B_value ** 0.5) / (B_value ** 0.5 + C_value ** 0.5)"
      ],
      "execution_count": 126,
      "outputs": [
        {
          "output_type": "execute_result",
          "data": {
            "text/plain": [
              "135.367959383472"
            ]
          },
          "metadata": {
            "tags": []
          },
          "execution_count": 126
        }
      ]
    },
    {
      "cell_type": "markdown",
      "metadata": {
        "id": "RAN9-ltXgTHT"
      },
      "source": [
        "Соответственно:\n",
        "\n",
        "$n_{1} = 135$\n",
        "\n",
        "$n_{2} = 15$"
      ]
    },
    {
      "cell_type": "markdown",
      "metadata": {
        "id": "K1bPeeq2em6c"
      },
      "source": [
        "## Задача 2.8 Экспресс расчет технологических показателей разработки нефтяных месторождений с заводнением"
      ]
    },
    {
      "cell_type": "markdown",
      "metadata": {
        "id": "6jYavIv_fNu3"
      },
      "source": [
        "Некоторое вновь открытое нефтяное месторождение с геологическими запасами $G=180$ млн.т. нефти вводится в разработке. Определена зависимость текущей обводненности добываемой продукции $\\nu$ от текущей нефтеотдачи (КИН):\n",
        "\n",
        "$$\n",
        "\\begin{equation}\n",
        "    \\begin{matrix}\n",
        "    \\nu (\\eta) =\n",
        "    \\left\\{\n",
        "    \\begin{matrix}\n",
        "    34.8\\cdot(\\eta-0.1)^2 & 0.1 < \\eta \\leq 0.25 \\\\\n",
        "    1.232\\cdot(\\eta-0.1)^{1/4} & 0.25 < \\eta \\leq 0.5 \\\\\n",
        "    \\end{matrix} \\right.\n",
        "    \\end{matrix}\n",
        "\\end{equation}\n",
        "$$\n",
        "\n",
        "Требуется осуществить в кратчайший срок оценку возможной добычи нефти и воды из \n",
        "месторождения в ближайшие 15 лет. Темп ввода скважин в эксплуатацию на данном \n",
        "месторождении предполагается сохранить таким же, как и на месторождение-аналоге \n",
        "(сохраняется зависимость $\\nu=\\nu(\\eta)$).\n",
        "\n",
        "Изменение годового отбора жидкости во времени приведено в таблице:"
      ]
    },
    {
      "cell_type": "code",
      "metadata": {
        "id": "b3v9hiTEtF-t"
      },
      "source": [
        "def calculate_nu_from_kin(kin):\n",
        "  nu = 0\n",
        "  if kin > 0.1 and kin <= 0.25:\n",
        "    nu = 34.8 * (kin - 0.1)**2\n",
        "  elif kin > 0.25 and kin <= 0.5:\n",
        "    nu = 1.232 * (kin - 0.1)**0.25\n",
        "\n",
        "  return np.round(nu, 3)"
      ],
      "execution_count": 127,
      "outputs": []
    },
    {
      "cell_type": "code",
      "metadata": {
        "id": "2FdX37DCknCO"
      },
      "source": [
        "total_years = 15\n",
        "\n",
        "df_data = pd.DataFrame(\n",
        "    { 'year' : range(0, total_years + 1),\n",
        "     'q_fl_year' : [0.0, 0.9, 1.6, 2.6, 3.5] + list(np.full(total_years - 4, 5))\n",
        "     }\n",
        ")"
      ],
      "execution_count": 134,
      "outputs": []
    },
    {
      "cell_type": "code",
      "metadata": {
        "id": "K48yjyKup8Hz"
      },
      "source": [
        "df_nu_kin = pd.DataFrame(\n",
        "    { 'kin' : np.arange(0.1, 0.51, 0.01),\n",
        "     }\n",
        ")\n",
        "\n",
        "df_nu_kin['nu'] = df_nu_kin.apply(lambda row: calculate_nu_from_kin(row['kin']), axis=1)"
      ],
      "execution_count": 129,
      "outputs": []
    },
    {
      "cell_type": "code",
      "metadata": {
        "colab": {
          "base_uri": "https://localhost:8080/",
          "height": 717
        },
        "id": "eTu4END2zPy8",
        "outputId": "36a7d61b-9c2c-4b0e-9e18-8b2f0f43a90e"
      },
      "source": [
        "fig = make_subplots(\n",
        "    subplot_titles=[\n",
        "                    'График годового отбора жидкости по годам',\n",
        "                    'Зависимость текущей обводненности <br>от текущей нефтеотдачи'],\n",
        "    rows=1, \n",
        "    cols=2)\n",
        "\n",
        "\n",
        "fig.add_trace(go.Scatter(x=df_data['year'], y=df_data['q_fl_year'],\n",
        "                    mode='lines+markers',\n",
        "                    name='Годовой отбор жидкости, 10^6'),\n",
        "    row=1, col=1)\n",
        "\n",
        "fig.add_trace(go.Scatter(x=df_nu_kin['kin'], y=df_nu_kin['nu'],\n",
        "                    mode='lines+markers',\n",
        "                    name='Обводненность, д.ед.'),\n",
        "    row=1, col=2)\n",
        "\n",
        "fig['layout']['xaxis1']['title']='Год'\n",
        "fig['layout']['xaxis1']['tickangle']=-45\n",
        "fig['layout']['xaxis1']['tickmode']='array'\n",
        "fig['layout']['xaxis1']['tickvals']=df_data['year']\n",
        "fig['layout']['yaxis1']['title']='Годовой отбор жидкости, 10^6'\n",
        "\n",
        "fig['layout']['xaxis2']['title']='КИН'\n",
        "fig['layout']['xaxis2']['tickangle']=-45\n",
        "fig['layout']['yaxis2']['title']='Обводненность, д.ед.'\n",
        "\n",
        "\n",
        "\n",
        "fig.update_layout( \n",
        "    title={\n",
        "        'text': \"Исходные данные\",\n",
        "        'y':0.95,\n",
        "        'x':0.5,\n",
        "        'xanchor': 'center',\n",
        "        'yanchor': 'top'},\n",
        "    autosize=False,\n",
        "    width=1400,\n",
        "    height=700)\n",
        "\n",
        "\n",
        "fig.show()"
      ],
      "execution_count": 130,
      "outputs": [
        {
          "output_type": "display_data",
          "data": {
            "text/html": [
              "<html>\n",
              "<head><meta charset=\"utf-8\" /></head>\n",
              "<body>\n",
              "    <div>\n",
              "            <script src=\"https://cdnjs.cloudflare.com/ajax/libs/mathjax/2.7.5/MathJax.js?config=TeX-AMS-MML_SVG\"></script><script type=\"text/javascript\">if (window.MathJax) {MathJax.Hub.Config({SVG: {font: \"STIX-Web\"}});}</script>\n",
              "                <script type=\"text/javascript\">window.PlotlyConfig = {MathJaxConfig: 'local'};</script>\n",
              "        <script src=\"https://cdn.plot.ly/plotly-latest.min.js\"></script>    \n",
              "            <div id=\"a91581e0-00da-4e61-b5d3-e6e70d219ffa\" class=\"plotly-graph-div\" style=\"height:700px; width:1400px;\"></div>\n",
              "            <script type=\"text/javascript\">\n",
              "                \n",
              "                    window.PLOTLYENV=window.PLOTLYENV || {};\n",
              "                    \n",
              "                if (document.getElementById(\"a91581e0-00da-4e61-b5d3-e6e70d219ffa\")) {\n",
              "                    Plotly.newPlot(\n",
              "                        'a91581e0-00da-4e61-b5d3-e6e70d219ffa',\n",
              "                        [{\"mode\": \"lines+markers\", \"name\": \"\\u0413\\u043e\\u0434\\u043e\\u0432\\u043e\\u0439 \\u043e\\u0442\\u0431\\u043e\\u0440 \\u0436\\u0438\\u0434\\u043a\\u043e\\u0441\\u0442\\u0438, 10^6\", \"type\": \"scatter\", \"x\": [0, 1, 2, 3, 4, 5, 6, 7, 8, 9, 10, 11, 12, 13, 14, 15, 16, 17, 18, 19, 20], \"xaxis\": \"x\", \"y\": [0.0, 0.9, 1.6, 2.6, 3.5, 5.0, 5.0, 5.0, 5.0, 5.0, 5.0, 5.0, 5.0, 5.0, 5.0, 5.0, 5.0, 5.0, 5.0, 5.0, 5.0], \"yaxis\": \"y\"}, {\"mode\": \"lines+markers\", \"name\": \"\\u041e\\u0431\\u0432\\u043e\\u0434\\u043d\\u0435\\u043d\\u043d\\u043e\\u0441\\u0442\\u044c, \\u0434.\\u0435\\u0434.\", \"type\": \"scatter\", \"x\": [0.1, 0.11, 0.12, 0.13, 0.13999999999999999, 0.14999999999999997, 0.15999999999999998, 0.16999999999999998, 0.17999999999999997, 0.18999999999999995, 0.19999999999999996, 0.20999999999999996, 0.21999999999999995, 0.22999999999999995, 0.23999999999999994, 0.24999999999999992, 0.2599999999999999, 0.2699999999999999, 0.2799999999999999, 0.2899999999999999, 0.29999999999999993, 0.30999999999999994, 0.3199999999999999, 0.32999999999999985, 0.33999999999999986, 0.34999999999999987, 0.3599999999999999, 0.3699999999999999, 0.3799999999999999, 0.3899999999999999, 0.3999999999999998, 0.4099999999999998, 0.4199999999999998, 0.4299999999999998, 0.43999999999999984, 0.44999999999999984, 0.45999999999999985, 0.46999999999999986, 0.47999999999999976, 0.48999999999999977, 0.4999999999999998], \"xaxis\": \"x2\", \"y\": [0.0, 0.003, 0.014, 0.031, 0.056, 0.087, 0.125, 0.171, 0.223, 0.282, 0.348, 0.421, 0.501, 0.588, 0.682, 0.783, 0.779, 0.791, 0.802, 0.813, 0.824, 0.834, 0.844, 0.853, 0.862, 0.871, 0.88, 0.888, 0.896, 0.904, 0.912, 0.919, 0.927, 0.934, 0.941, 0.948, 0.954, 0.961, 0.967, 0.974, 0.98], \"yaxis\": \"y2\"}],\n",
              "                        {\"annotations\": [{\"font\": {\"size\": 16}, \"showarrow\": false, \"text\": \"\\u0413\\u0440\\u0430\\u0444\\u0438\\u043a \\u0433\\u043e\\u0434\\u043e\\u0432\\u043e\\u0433\\u043e \\u043e\\u0442\\u0431\\u043e\\u0440\\u0430 \\u0436\\u0438\\u0434\\u043a\\u043e\\u0441\\u0442\\u0438 \\u043f\\u043e \\u0433\\u043e\\u0434\\u0430\\u043c\", \"x\": 0.225, \"xanchor\": \"center\", \"xref\": \"paper\", \"y\": 1.0, \"yanchor\": \"bottom\", \"yref\": \"paper\"}, {\"font\": {\"size\": 16}, \"showarrow\": false, \"text\": \"\\u0417\\u0430\\u0432\\u0438\\u0441\\u0438\\u043c\\u043e\\u0441\\u0442\\u044c \\u0442\\u0435\\u043a\\u0443\\u0449\\u0435\\u0439 \\u043e\\u0431\\u0432\\u043e\\u0434\\u043d\\u0435\\u043d\\u043d\\u043e\\u0441\\u0442\\u0438 <br>\\u043e\\u0442 \\u0442\\u0435\\u043a\\u0443\\u0449\\u0435\\u0439 \\u043d\\u0435\\u0444\\u0442\\u0435\\u043e\\u0442\\u0434\\u0430\\u0447\\u0438\", \"x\": 0.775, \"xanchor\": \"center\", \"xref\": \"paper\", \"y\": 1.0, \"yanchor\": \"bottom\", \"yref\": \"paper\"}], \"autosize\": false, \"height\": 700, \"template\": {\"data\": {\"bar\": [{\"error_x\": {\"color\": \"#2a3f5f\"}, \"error_y\": {\"color\": \"#2a3f5f\"}, \"marker\": {\"line\": {\"color\": \"#E5ECF6\", \"width\": 0.5}}, \"type\": \"bar\"}], \"barpolar\": [{\"marker\": {\"line\": {\"color\": \"#E5ECF6\", \"width\": 0.5}}, \"type\": \"barpolar\"}], \"carpet\": [{\"aaxis\": {\"endlinecolor\": \"#2a3f5f\", \"gridcolor\": \"white\", \"linecolor\": \"white\", \"minorgridcolor\": \"white\", \"startlinecolor\": \"#2a3f5f\"}, \"baxis\": {\"endlinecolor\": \"#2a3f5f\", \"gridcolor\": \"white\", \"linecolor\": \"white\", \"minorgridcolor\": \"white\", \"startlinecolor\": \"#2a3f5f\"}, \"type\": \"carpet\"}], \"choropleth\": [{\"colorbar\": {\"outlinewidth\": 0, \"ticks\": \"\"}, \"type\": \"choropleth\"}], \"contour\": [{\"colorbar\": {\"outlinewidth\": 0, \"ticks\": \"\"}, \"colorscale\": [[0.0, \"#0d0887\"], [0.1111111111111111, \"#46039f\"], [0.2222222222222222, \"#7201a8\"], [0.3333333333333333, \"#9c179e\"], [0.4444444444444444, \"#bd3786\"], [0.5555555555555556, \"#d8576b\"], [0.6666666666666666, \"#ed7953\"], [0.7777777777777778, \"#fb9f3a\"], [0.8888888888888888, \"#fdca26\"], [1.0, \"#f0f921\"]], \"type\": \"contour\"}], \"contourcarpet\": [{\"colorbar\": {\"outlinewidth\": 0, \"ticks\": \"\"}, \"type\": \"contourcarpet\"}], \"heatmap\": [{\"colorbar\": {\"outlinewidth\": 0, \"ticks\": \"\"}, \"colorscale\": [[0.0, \"#0d0887\"], [0.1111111111111111, \"#46039f\"], [0.2222222222222222, \"#7201a8\"], [0.3333333333333333, \"#9c179e\"], [0.4444444444444444, \"#bd3786\"], [0.5555555555555556, \"#d8576b\"], [0.6666666666666666, \"#ed7953\"], [0.7777777777777778, \"#fb9f3a\"], [0.8888888888888888, \"#fdca26\"], [1.0, \"#f0f921\"]], \"type\": \"heatmap\"}], \"heatmapgl\": [{\"colorbar\": {\"outlinewidth\": 0, \"ticks\": \"\"}, \"colorscale\": [[0.0, \"#0d0887\"], [0.1111111111111111, \"#46039f\"], [0.2222222222222222, \"#7201a8\"], [0.3333333333333333, \"#9c179e\"], [0.4444444444444444, \"#bd3786\"], [0.5555555555555556, \"#d8576b\"], [0.6666666666666666, \"#ed7953\"], [0.7777777777777778, \"#fb9f3a\"], [0.8888888888888888, \"#fdca26\"], [1.0, \"#f0f921\"]], \"type\": \"heatmapgl\"}], \"histogram\": [{\"marker\": {\"colorbar\": {\"outlinewidth\": 0, \"ticks\": \"\"}}, \"type\": \"histogram\"}], \"histogram2d\": [{\"colorbar\": {\"outlinewidth\": 0, \"ticks\": \"\"}, \"colorscale\": [[0.0, \"#0d0887\"], [0.1111111111111111, \"#46039f\"], [0.2222222222222222, \"#7201a8\"], [0.3333333333333333, \"#9c179e\"], [0.4444444444444444, \"#bd3786\"], [0.5555555555555556, \"#d8576b\"], [0.6666666666666666, \"#ed7953\"], [0.7777777777777778, \"#fb9f3a\"], [0.8888888888888888, \"#fdca26\"], [1.0, \"#f0f921\"]], \"type\": \"histogram2d\"}], \"histogram2dcontour\": [{\"colorbar\": {\"outlinewidth\": 0, \"ticks\": \"\"}, \"colorscale\": [[0.0, \"#0d0887\"], [0.1111111111111111, \"#46039f\"], [0.2222222222222222, \"#7201a8\"], [0.3333333333333333, \"#9c179e\"], [0.4444444444444444, \"#bd3786\"], [0.5555555555555556, \"#d8576b\"], [0.6666666666666666, \"#ed7953\"], [0.7777777777777778, \"#fb9f3a\"], [0.8888888888888888, \"#fdca26\"], [1.0, \"#f0f921\"]], \"type\": \"histogram2dcontour\"}], \"mesh3d\": [{\"colorbar\": {\"outlinewidth\": 0, \"ticks\": \"\"}, \"type\": \"mesh3d\"}], \"parcoords\": [{\"line\": {\"colorbar\": {\"outlinewidth\": 0, \"ticks\": \"\"}}, \"type\": \"parcoords\"}], \"pie\": [{\"automargin\": true, \"type\": \"pie\"}], \"scatter\": [{\"marker\": {\"colorbar\": {\"outlinewidth\": 0, \"ticks\": \"\"}}, \"type\": \"scatter\"}], \"scatter3d\": [{\"line\": {\"colorbar\": {\"outlinewidth\": 0, \"ticks\": \"\"}}, \"marker\": {\"colorbar\": {\"outlinewidth\": 0, \"ticks\": \"\"}}, \"type\": \"scatter3d\"}], \"scattercarpet\": [{\"marker\": {\"colorbar\": {\"outlinewidth\": 0, \"ticks\": \"\"}}, \"type\": \"scattercarpet\"}], \"scattergeo\": [{\"marker\": {\"colorbar\": {\"outlinewidth\": 0, \"ticks\": \"\"}}, \"type\": \"scattergeo\"}], \"scattergl\": [{\"marker\": {\"colorbar\": {\"outlinewidth\": 0, \"ticks\": \"\"}}, \"type\": \"scattergl\"}], \"scattermapbox\": [{\"marker\": {\"colorbar\": {\"outlinewidth\": 0, \"ticks\": \"\"}}, \"type\": \"scattermapbox\"}], \"scatterpolar\": [{\"marker\": {\"colorbar\": {\"outlinewidth\": 0, \"ticks\": \"\"}}, \"type\": \"scatterpolar\"}], \"scatterpolargl\": [{\"marker\": {\"colorbar\": {\"outlinewidth\": 0, \"ticks\": \"\"}}, \"type\": \"scatterpolargl\"}], \"scatterternary\": [{\"marker\": {\"colorbar\": {\"outlinewidth\": 0, \"ticks\": \"\"}}, \"type\": \"scatterternary\"}], \"surface\": [{\"colorbar\": {\"outlinewidth\": 0, \"ticks\": \"\"}, \"colorscale\": [[0.0, \"#0d0887\"], [0.1111111111111111, \"#46039f\"], [0.2222222222222222, \"#7201a8\"], [0.3333333333333333, \"#9c179e\"], [0.4444444444444444, \"#bd3786\"], [0.5555555555555556, \"#d8576b\"], [0.6666666666666666, \"#ed7953\"], [0.7777777777777778, \"#fb9f3a\"], [0.8888888888888888, \"#fdca26\"], [1.0, \"#f0f921\"]], \"type\": \"surface\"}], \"table\": [{\"cells\": {\"fill\": {\"color\": \"#EBF0F8\"}, \"line\": {\"color\": \"white\"}}, \"header\": {\"fill\": {\"color\": \"#C8D4E3\"}, \"line\": {\"color\": \"white\"}}, \"type\": \"table\"}]}, \"layout\": {\"annotationdefaults\": {\"arrowcolor\": \"#2a3f5f\", \"arrowhead\": 0, \"arrowwidth\": 1}, \"coloraxis\": {\"colorbar\": {\"outlinewidth\": 0, \"ticks\": \"\"}}, \"colorscale\": {\"diverging\": [[0, \"#8e0152\"], [0.1, \"#c51b7d\"], [0.2, \"#de77ae\"], [0.3, \"#f1b6da\"], [0.4, \"#fde0ef\"], [0.5, \"#f7f7f7\"], [0.6, \"#e6f5d0\"], [0.7, \"#b8e186\"], [0.8, \"#7fbc41\"], [0.9, \"#4d9221\"], [1, \"#276419\"]], \"sequential\": [[0.0, \"#0d0887\"], [0.1111111111111111, \"#46039f\"], [0.2222222222222222, \"#7201a8\"], [0.3333333333333333, \"#9c179e\"], [0.4444444444444444, \"#bd3786\"], [0.5555555555555556, \"#d8576b\"], [0.6666666666666666, \"#ed7953\"], [0.7777777777777778, \"#fb9f3a\"], [0.8888888888888888, \"#fdca26\"], [1.0, \"#f0f921\"]], \"sequentialminus\": [[0.0, \"#0d0887\"], [0.1111111111111111, \"#46039f\"], [0.2222222222222222, \"#7201a8\"], [0.3333333333333333, \"#9c179e\"], [0.4444444444444444, \"#bd3786\"], [0.5555555555555556, \"#d8576b\"], [0.6666666666666666, \"#ed7953\"], [0.7777777777777778, \"#fb9f3a\"], [0.8888888888888888, \"#fdca26\"], [1.0, \"#f0f921\"]]}, \"colorway\": [\"#636efa\", \"#EF553B\", \"#00cc96\", \"#ab63fa\", \"#FFA15A\", \"#19d3f3\", \"#FF6692\", \"#B6E880\", \"#FF97FF\", \"#FECB52\"], \"font\": {\"color\": \"#2a3f5f\"}, \"geo\": {\"bgcolor\": \"white\", \"lakecolor\": \"white\", \"landcolor\": \"#E5ECF6\", \"showlakes\": true, \"showland\": true, \"subunitcolor\": \"white\"}, \"hoverlabel\": {\"align\": \"left\"}, \"hovermode\": \"closest\", \"mapbox\": {\"style\": \"light\"}, \"paper_bgcolor\": \"white\", \"plot_bgcolor\": \"#E5ECF6\", \"polar\": {\"angularaxis\": {\"gridcolor\": \"white\", \"linecolor\": \"white\", \"ticks\": \"\"}, \"bgcolor\": \"#E5ECF6\", \"radialaxis\": {\"gridcolor\": \"white\", \"linecolor\": \"white\", \"ticks\": \"\"}}, \"scene\": {\"xaxis\": {\"backgroundcolor\": \"#E5ECF6\", \"gridcolor\": \"white\", \"gridwidth\": 2, \"linecolor\": \"white\", \"showbackground\": true, \"ticks\": \"\", \"zerolinecolor\": \"white\"}, \"yaxis\": {\"backgroundcolor\": \"#E5ECF6\", \"gridcolor\": \"white\", \"gridwidth\": 2, \"linecolor\": \"white\", \"showbackground\": true, \"ticks\": \"\", \"zerolinecolor\": \"white\"}, \"zaxis\": {\"backgroundcolor\": \"#E5ECF6\", \"gridcolor\": \"white\", \"gridwidth\": 2, \"linecolor\": \"white\", \"showbackground\": true, \"ticks\": \"\", \"zerolinecolor\": \"white\"}}, \"shapedefaults\": {\"line\": {\"color\": \"#2a3f5f\"}}, \"ternary\": {\"aaxis\": {\"gridcolor\": \"white\", \"linecolor\": \"white\", \"ticks\": \"\"}, \"baxis\": {\"gridcolor\": \"white\", \"linecolor\": \"white\", \"ticks\": \"\"}, \"bgcolor\": \"#E5ECF6\", \"caxis\": {\"gridcolor\": \"white\", \"linecolor\": \"white\", \"ticks\": \"\"}}, \"title\": {\"x\": 0.05}, \"xaxis\": {\"automargin\": true, \"gridcolor\": \"white\", \"linecolor\": \"white\", \"ticks\": \"\", \"title\": {\"standoff\": 15}, \"zerolinecolor\": \"white\", \"zerolinewidth\": 2}, \"yaxis\": {\"automargin\": true, \"gridcolor\": \"white\", \"linecolor\": \"white\", \"ticks\": \"\", \"title\": {\"standoff\": 15}, \"zerolinecolor\": \"white\", \"zerolinewidth\": 2}}}, \"title\": {\"text\": \"\\u0418\\u0441\\u0445\\u043e\\u0434\\u043d\\u044b\\u0435 \\u0434\\u0430\\u043d\\u043d\\u044b\\u0435\", \"x\": 0.5, \"xanchor\": \"center\", \"y\": 0.95, \"yanchor\": \"top\"}, \"width\": 1400, \"xaxis\": {\"anchor\": \"y\", \"domain\": [0.0, 0.45], \"tickangle\": -45, \"tickmode\": \"array\", \"tickvals\": [0, 1, 2, 3, 4, 5, 6, 7, 8, 9, 10, 11, 12, 13, 14, 15, 16, 17, 18, 19, 20], \"title\": {\"text\": \"\\u0413\\u043e\\u0434\"}}, \"xaxis2\": {\"anchor\": \"y2\", \"domain\": [0.55, 1.0], \"tickangle\": -45, \"title\": {\"text\": \"\\u041a\\u0418\\u041d\"}}, \"yaxis\": {\"anchor\": \"x\", \"domain\": [0.0, 1.0], \"title\": {\"text\": \"\\u0413\\u043e\\u0434\\u043e\\u0432\\u043e\\u0439 \\u043e\\u0442\\u0431\\u043e\\u0440 \\u0436\\u0438\\u0434\\u043a\\u043e\\u0441\\u0442\\u0438, 10^6\"}}, \"yaxis2\": {\"anchor\": \"x2\", \"domain\": [0.0, 1.0], \"title\": {\"text\": \"\\u041e\\u0431\\u0432\\u043e\\u0434\\u043d\\u0435\\u043d\\u043d\\u043e\\u0441\\u0442\\u044c, \\u0434.\\u0435\\u0434.\"}}},\n",
              "                        {\"responsive\": true}\n",
              "                    ).then(function(){\n",
              "                            \n",
              "var gd = document.getElementById('a91581e0-00da-4e61-b5d3-e6e70d219ffa');\n",
              "var x = new MutationObserver(function (mutations, observer) {{\n",
              "        var display = window.getComputedStyle(gd).display;\n",
              "        if (!display || display === 'none') {{\n",
              "            console.log([gd, 'removed!']);\n",
              "            Plotly.purge(gd);\n",
              "            observer.disconnect();\n",
              "        }}\n",
              "}});\n",
              "\n",
              "// Listen for the removal of the full notebook cells\n",
              "var notebookContainer = gd.closest('#notebook-container');\n",
              "if (notebookContainer) {{\n",
              "    x.observe(notebookContainer, {childList: true});\n",
              "}}\n",
              "\n",
              "// Listen for the clearing of the current output cell\n",
              "var outputEl = gd.closest('.output');\n",
              "if (outputEl) {{\n",
              "    x.observe(outputEl, {childList: true});\n",
              "}}\n",
              "\n",
              "                        })\n",
              "                };\n",
              "                \n",
              "            </script>\n",
              "        </div>\n",
              "</body>\n",
              "</html>"
            ]
          },
          "metadata": {
            "tags": []
          }
        }
      ]
    },
    {
      "cell_type": "code",
      "metadata": {
        "colab": {
          "base_uri": "https://localhost:8080/",
          "height": 198
        },
        "id": "wqofB52G3AeB",
        "outputId": "3c8b0494-dd5c-4566-fb75-747ac8a4f92a"
      },
      "source": [
        "df_result = pd.concat([df_data, df_nu_kin[:(total_years + 1)]], axis=1)\n",
        "df_result.head(5)"
      ],
      "execution_count": 131,
      "outputs": [
        {
          "output_type": "execute_result",
          "data": {
            "text/html": [
              "<div>\n",
              "<style scoped>\n",
              "    .dataframe tbody tr th:only-of-type {\n",
              "        vertical-align: middle;\n",
              "    }\n",
              "\n",
              "    .dataframe tbody tr th {\n",
              "        vertical-align: top;\n",
              "    }\n",
              "\n",
              "    .dataframe thead th {\n",
              "        text-align: right;\n",
              "    }\n",
              "</style>\n",
              "<table border=\"1\" class=\"dataframe\">\n",
              "  <thead>\n",
              "    <tr style=\"text-align: right;\">\n",
              "      <th></th>\n",
              "      <th>year</th>\n",
              "      <th>q_fl_year</th>\n",
              "      <th>kin</th>\n",
              "      <th>nu</th>\n",
              "    </tr>\n",
              "  </thead>\n",
              "  <tbody>\n",
              "    <tr>\n",
              "      <th>0</th>\n",
              "      <td>0</td>\n",
              "      <td>0.0</td>\n",
              "      <td>0.10</td>\n",
              "      <td>0.000</td>\n",
              "    </tr>\n",
              "    <tr>\n",
              "      <th>1</th>\n",
              "      <td>1</td>\n",
              "      <td>0.9</td>\n",
              "      <td>0.11</td>\n",
              "      <td>0.003</td>\n",
              "    </tr>\n",
              "    <tr>\n",
              "      <th>2</th>\n",
              "      <td>2</td>\n",
              "      <td>1.6</td>\n",
              "      <td>0.12</td>\n",
              "      <td>0.014</td>\n",
              "    </tr>\n",
              "    <tr>\n",
              "      <th>3</th>\n",
              "      <td>3</td>\n",
              "      <td>2.6</td>\n",
              "      <td>0.13</td>\n",
              "      <td>0.031</td>\n",
              "    </tr>\n",
              "    <tr>\n",
              "      <th>4</th>\n",
              "      <td>4</td>\n",
              "      <td>3.5</td>\n",
              "      <td>0.14</td>\n",
              "      <td>0.056</td>\n",
              "    </tr>\n",
              "  </tbody>\n",
              "</table>\n",
              "</div>"
            ],
            "text/plain": [
              "   year  q_fl_year   kin     nu\n",
              "0     0        0.0  0.10  0.000\n",
              "1     1        0.9  0.11  0.003\n",
              "2     2        1.6  0.12  0.014\n",
              "3     3        2.6  0.13  0.031\n",
              "4     4        3.5  0.14  0.056"
            ]
          },
          "metadata": {
            "tags": []
          },
          "execution_count": 131
        }
      ]
    },
    {
      "cell_type": "code",
      "metadata": {
        "colab": {
          "base_uri": "https://localhost:8080/",
          "height": 198
        },
        "id": "8YhrqPUX3AjB",
        "outputId": "9afa001a-4886-4ca5-af25-9604edf8c339"
      },
      "source": [
        "df_result['q_fl_total'] = df_result['q_fl_year'].cumsum()\n",
        "df_result['q_oil_year'] = df_result['q_fl_year'] * (1 - df_result['nu'])\n",
        "df_result['q_oil_total'] = df_result['q_oil_year'].cumsum()\n",
        "df_result.tail(5)"
      ],
      "execution_count": 132,
      "outputs": [
        {
          "output_type": "execute_result",
          "data": {
            "text/html": [
              "<div>\n",
              "<style scoped>\n",
              "    .dataframe tbody tr th:only-of-type {\n",
              "        vertical-align: middle;\n",
              "    }\n",
              "\n",
              "    .dataframe tbody tr th {\n",
              "        vertical-align: top;\n",
              "    }\n",
              "\n",
              "    .dataframe thead th {\n",
              "        text-align: right;\n",
              "    }\n",
              "</style>\n",
              "<table border=\"1\" class=\"dataframe\">\n",
              "  <thead>\n",
              "    <tr style=\"text-align: right;\">\n",
              "      <th></th>\n",
              "      <th>year</th>\n",
              "      <th>q_fl_year</th>\n",
              "      <th>kin</th>\n",
              "      <th>nu</th>\n",
              "      <th>q_fl_total</th>\n",
              "      <th>q_oil_year</th>\n",
              "      <th>q_oil_total</th>\n",
              "    </tr>\n",
              "  </thead>\n",
              "  <tbody>\n",
              "    <tr>\n",
              "      <th>16</th>\n",
              "      <td>16</td>\n",
              "      <td>5.0</td>\n",
              "      <td>0.26</td>\n",
              "      <td>0.779</td>\n",
              "      <td>68.6</td>\n",
              "      <td>1.105</td>\n",
              "      <td>43.3483</td>\n",
              "    </tr>\n",
              "    <tr>\n",
              "      <th>17</th>\n",
              "      <td>17</td>\n",
              "      <td>5.0</td>\n",
              "      <td>0.27</td>\n",
              "      <td>0.791</td>\n",
              "      <td>73.6</td>\n",
              "      <td>1.045</td>\n",
              "      <td>44.3933</td>\n",
              "    </tr>\n",
              "    <tr>\n",
              "      <th>18</th>\n",
              "      <td>18</td>\n",
              "      <td>5.0</td>\n",
              "      <td>0.28</td>\n",
              "      <td>0.802</td>\n",
              "      <td>78.6</td>\n",
              "      <td>0.990</td>\n",
              "      <td>45.3833</td>\n",
              "    </tr>\n",
              "    <tr>\n",
              "      <th>19</th>\n",
              "      <td>19</td>\n",
              "      <td>5.0</td>\n",
              "      <td>0.29</td>\n",
              "      <td>0.813</td>\n",
              "      <td>83.6</td>\n",
              "      <td>0.935</td>\n",
              "      <td>46.3183</td>\n",
              "    </tr>\n",
              "    <tr>\n",
              "      <th>20</th>\n",
              "      <td>20</td>\n",
              "      <td>5.0</td>\n",
              "      <td>0.30</td>\n",
              "      <td>0.824</td>\n",
              "      <td>88.6</td>\n",
              "      <td>0.880</td>\n",
              "      <td>47.1983</td>\n",
              "    </tr>\n",
              "  </tbody>\n",
              "</table>\n",
              "</div>"
            ],
            "text/plain": [
              "    year  q_fl_year   kin     nu  q_fl_total  q_oil_year  q_oil_total\n",
              "16    16        5.0  0.26  0.779        68.6       1.105      43.3483\n",
              "17    17        5.0  0.27  0.791        73.6       1.045      44.3933\n",
              "18    18        5.0  0.28  0.802        78.6       0.990      45.3833\n",
              "19    19        5.0  0.29  0.813        83.6       0.935      46.3183\n",
              "20    20        5.0  0.30  0.824        88.6       0.880      47.1983"
            ]
          },
          "metadata": {
            "tags": []
          },
          "execution_count": 132
        }
      ]
    },
    {
      "cell_type": "code",
      "metadata": {
        "colab": {
          "base_uri": "https://localhost:8080/",
          "height": 717
        },
        "id": "LdqFOyEOBkxj",
        "outputId": "a1fe9008-8120-44c0-e801-7de1a2517337"
      },
      "source": [
        "fig = go.Figure()\n",
        "\n",
        "fig.add_trace(go.Scatter(x=df_result['year'], y=df_result['q_fl_year'],\n",
        "                    mode='lines+markers',\n",
        "                    name='Годовой отбор жидкости, 10^6'))\n",
        "\n",
        "fig.add_trace(go.Scatter(x=df_result['year'], y=df_result['q_fl_total'],\n",
        "                    mode='lines+markers',\n",
        "                    name='Накопленный объем жидкости, 10^6',\n",
        "    yaxis=\"y2\"))\n",
        "\n",
        "fig.add_trace(go.Scatter(x=df_result['year'], y=df_result['q_oil_total'],\n",
        "                    mode='lines+markers',\n",
        "                    name='Накопленный объем нефти, 10^6',\n",
        "    yaxis=\"y2\"))\n",
        "\n",
        "fig.update_layout( \n",
        "    xaxis=dict(\n",
        "        domain=[0.2, 0.9],\n",
        "        tickmode = 'array',\n",
        "        tickvals = df_data['year'],\n",
        "        tickangle=-45,\n",
        "        title='Год',\n",
        "    ),\n",
        "\n",
        "    yaxis=dict(\n",
        "        range=[0, 7],\n",
        "        title=\"Годовой отбор жидкости, млн т\",\n",
        "        titlefont=dict(\n",
        "            color=\"#1f77b4\"\n",
        "        ),\n",
        "        tickfont=dict(\n",
        "            color=\"#1f77b4\"\n",
        "        )\n",
        "    ),\n",
        "\n",
        "    yaxis2=dict(\n",
        "        range=[0, 70],\n",
        "        title=\"Накопленные объемы, млн т\",\n",
        "        titlefont=dict(\n",
        "            color=\"#ff7f0e\"\n",
        "        ),\n",
        "        tickfont=dict(\n",
        "            color=\"#ff7f0e\"\n",
        "        ),\n",
        "        anchor=\"x\",\n",
        "        overlaying=\"y\",\n",
        "        side=\"right\"\n",
        "    ),\n",
        "\n",
        "    title={\n",
        "        'text': \"Объемы (накопленные объемы) по годам\",\n",
        "        'y':0.95,\n",
        "        'x':0.5,\n",
        "        'xanchor': 'center',\n",
        "        'yanchor': 'top'},\n",
        "    #title='Объемы (накопленные объемы) по годам',\n",
        "    autosize=False,\n",
        "    width=1500,\n",
        "    height=700)\n",
        "\n",
        "\n",
        "fig.show()"
      ],
      "execution_count": 133,
      "outputs": [
        {
          "output_type": "display_data",
          "data": {
            "text/html": [
              "<html>\n",
              "<head><meta charset=\"utf-8\" /></head>\n",
              "<body>\n",
              "    <div>\n",
              "            <script src=\"https://cdnjs.cloudflare.com/ajax/libs/mathjax/2.7.5/MathJax.js?config=TeX-AMS-MML_SVG\"></script><script type=\"text/javascript\">if (window.MathJax) {MathJax.Hub.Config({SVG: {font: \"STIX-Web\"}});}</script>\n",
              "                <script type=\"text/javascript\">window.PlotlyConfig = {MathJaxConfig: 'local'};</script>\n",
              "        <script src=\"https://cdn.plot.ly/plotly-latest.min.js\"></script>    \n",
              "            <div id=\"135de05c-389f-41c2-8428-7fdeeb576538\" class=\"plotly-graph-div\" style=\"height:700px; width:1500px;\"></div>\n",
              "            <script type=\"text/javascript\">\n",
              "                \n",
              "                    window.PLOTLYENV=window.PLOTLYENV || {};\n",
              "                    \n",
              "                if (document.getElementById(\"135de05c-389f-41c2-8428-7fdeeb576538\")) {\n",
              "                    Plotly.newPlot(\n",
              "                        '135de05c-389f-41c2-8428-7fdeeb576538',\n",
              "                        [{\"mode\": \"lines+markers\", \"name\": \"\\u0413\\u043e\\u0434\\u043e\\u0432\\u043e\\u0439 \\u043e\\u0442\\u0431\\u043e\\u0440 \\u0436\\u0438\\u0434\\u043a\\u043e\\u0441\\u0442\\u0438, 10^6\", \"type\": \"scatter\", \"x\": [0, 1, 2, 3, 4, 5, 6, 7, 8, 9, 10, 11, 12, 13, 14, 15, 16, 17, 18, 19, 20], \"y\": [0.0, 0.9, 1.6, 2.6, 3.5, 5.0, 5.0, 5.0, 5.0, 5.0, 5.0, 5.0, 5.0, 5.0, 5.0, 5.0, 5.0, 5.0, 5.0, 5.0, 5.0]}, {\"mode\": \"lines+markers\", \"name\": \"\\u041d\\u0430\\u043a\\u043e\\u043f\\u043b\\u0435\\u043d\\u043d\\u044b\\u0439 \\u043e\\u0431\\u044a\\u0435\\u043c \\u0436\\u0438\\u0434\\u043a\\u043e\\u0441\\u0442\\u0438, 10^6\", \"type\": \"scatter\", \"x\": [0, 1, 2, 3, 4, 5, 6, 7, 8, 9, 10, 11, 12, 13, 14, 15, 16, 17, 18, 19, 20], \"y\": [0.0, 0.9, 2.5, 5.1, 8.6, 13.6, 18.6, 23.6, 28.6, 33.6, 38.6, 43.6, 48.6, 53.6, 58.6, 63.6, 68.6, 73.6, 78.6, 83.6, 88.6], \"yaxis\": \"y2\"}, {\"mode\": \"lines+markers\", \"name\": \"\\u041d\\u0430\\u043a\\u043e\\u043f\\u043b\\u0435\\u043d\\u043d\\u044b\\u0439 \\u043e\\u0431\\u044a\\u0435\\u043c \\u043d\\u0435\\u0444\\u0442\\u0438, 10^6\", \"type\": \"scatter\", \"x\": [0, 1, 2, 3, 4, 5, 6, 7, 8, 9, 10, 11, 12, 13, 14, 15, 16, 17, 18, 19, 20], \"y\": [0.0, 0.8973, 2.4749, 4.9943, 8.2983, 12.863299999999999, 17.2383, 21.3833, 25.2683, 28.8583, 32.1183, 35.0133, 37.5083, 39.5683, 41.1583, 42.2433, 43.348299999999995, 44.393299999999996, 45.3833, 46.3183, 47.1983], \"yaxis\": \"y2\"}],\n",
              "                        {\"autosize\": false, \"height\": 700, \"template\": {\"data\": {\"bar\": [{\"error_x\": {\"color\": \"#2a3f5f\"}, \"error_y\": {\"color\": \"#2a3f5f\"}, \"marker\": {\"line\": {\"color\": \"#E5ECF6\", \"width\": 0.5}}, \"type\": \"bar\"}], \"barpolar\": [{\"marker\": {\"line\": {\"color\": \"#E5ECF6\", \"width\": 0.5}}, \"type\": \"barpolar\"}], \"carpet\": [{\"aaxis\": {\"endlinecolor\": \"#2a3f5f\", \"gridcolor\": \"white\", \"linecolor\": \"white\", \"minorgridcolor\": \"white\", \"startlinecolor\": \"#2a3f5f\"}, \"baxis\": {\"endlinecolor\": \"#2a3f5f\", \"gridcolor\": \"white\", \"linecolor\": \"white\", \"minorgridcolor\": \"white\", \"startlinecolor\": \"#2a3f5f\"}, \"type\": \"carpet\"}], \"choropleth\": [{\"colorbar\": {\"outlinewidth\": 0, \"ticks\": \"\"}, \"type\": \"choropleth\"}], \"contour\": [{\"colorbar\": {\"outlinewidth\": 0, \"ticks\": \"\"}, \"colorscale\": [[0.0, \"#0d0887\"], [0.1111111111111111, \"#46039f\"], [0.2222222222222222, \"#7201a8\"], [0.3333333333333333, \"#9c179e\"], [0.4444444444444444, \"#bd3786\"], [0.5555555555555556, \"#d8576b\"], [0.6666666666666666, \"#ed7953\"], [0.7777777777777778, \"#fb9f3a\"], [0.8888888888888888, \"#fdca26\"], [1.0, \"#f0f921\"]], \"type\": \"contour\"}], \"contourcarpet\": [{\"colorbar\": {\"outlinewidth\": 0, \"ticks\": \"\"}, \"type\": \"contourcarpet\"}], \"heatmap\": [{\"colorbar\": {\"outlinewidth\": 0, \"ticks\": \"\"}, \"colorscale\": [[0.0, \"#0d0887\"], [0.1111111111111111, \"#46039f\"], [0.2222222222222222, \"#7201a8\"], [0.3333333333333333, \"#9c179e\"], [0.4444444444444444, \"#bd3786\"], [0.5555555555555556, \"#d8576b\"], [0.6666666666666666, \"#ed7953\"], [0.7777777777777778, \"#fb9f3a\"], [0.8888888888888888, \"#fdca26\"], [1.0, \"#f0f921\"]], \"type\": \"heatmap\"}], \"heatmapgl\": [{\"colorbar\": {\"outlinewidth\": 0, \"ticks\": \"\"}, \"colorscale\": [[0.0, \"#0d0887\"], [0.1111111111111111, \"#46039f\"], [0.2222222222222222, \"#7201a8\"], [0.3333333333333333, \"#9c179e\"], [0.4444444444444444, \"#bd3786\"], [0.5555555555555556, \"#d8576b\"], [0.6666666666666666, \"#ed7953\"], [0.7777777777777778, \"#fb9f3a\"], [0.8888888888888888, \"#fdca26\"], [1.0, \"#f0f921\"]], \"type\": \"heatmapgl\"}], \"histogram\": [{\"marker\": {\"colorbar\": {\"outlinewidth\": 0, \"ticks\": \"\"}}, \"type\": \"histogram\"}], \"histogram2d\": [{\"colorbar\": {\"outlinewidth\": 0, \"ticks\": \"\"}, \"colorscale\": [[0.0, \"#0d0887\"], [0.1111111111111111, \"#46039f\"], [0.2222222222222222, \"#7201a8\"], [0.3333333333333333, \"#9c179e\"], [0.4444444444444444, \"#bd3786\"], [0.5555555555555556, \"#d8576b\"], [0.6666666666666666, \"#ed7953\"], [0.7777777777777778, \"#fb9f3a\"], [0.8888888888888888, \"#fdca26\"], [1.0, \"#f0f921\"]], \"type\": \"histogram2d\"}], \"histogram2dcontour\": [{\"colorbar\": {\"outlinewidth\": 0, \"ticks\": \"\"}, \"colorscale\": [[0.0, \"#0d0887\"], [0.1111111111111111, \"#46039f\"], [0.2222222222222222, \"#7201a8\"], [0.3333333333333333, \"#9c179e\"], [0.4444444444444444, \"#bd3786\"], [0.5555555555555556, \"#d8576b\"], [0.6666666666666666, \"#ed7953\"], [0.7777777777777778, \"#fb9f3a\"], [0.8888888888888888, \"#fdca26\"], [1.0, \"#f0f921\"]], \"type\": \"histogram2dcontour\"}], \"mesh3d\": [{\"colorbar\": {\"outlinewidth\": 0, \"ticks\": \"\"}, \"type\": \"mesh3d\"}], \"parcoords\": [{\"line\": {\"colorbar\": {\"outlinewidth\": 0, \"ticks\": \"\"}}, \"type\": \"parcoords\"}], \"pie\": [{\"automargin\": true, \"type\": \"pie\"}], \"scatter\": [{\"marker\": {\"colorbar\": {\"outlinewidth\": 0, \"ticks\": \"\"}}, \"type\": \"scatter\"}], \"scatter3d\": [{\"line\": {\"colorbar\": {\"outlinewidth\": 0, \"ticks\": \"\"}}, \"marker\": {\"colorbar\": {\"outlinewidth\": 0, \"ticks\": \"\"}}, \"type\": \"scatter3d\"}], \"scattercarpet\": [{\"marker\": {\"colorbar\": {\"outlinewidth\": 0, \"ticks\": \"\"}}, \"type\": \"scattercarpet\"}], \"scattergeo\": [{\"marker\": {\"colorbar\": {\"outlinewidth\": 0, \"ticks\": \"\"}}, \"type\": \"scattergeo\"}], \"scattergl\": [{\"marker\": {\"colorbar\": {\"outlinewidth\": 0, \"ticks\": \"\"}}, \"type\": \"scattergl\"}], \"scattermapbox\": [{\"marker\": {\"colorbar\": {\"outlinewidth\": 0, \"ticks\": \"\"}}, \"type\": \"scattermapbox\"}], \"scatterpolar\": [{\"marker\": {\"colorbar\": {\"outlinewidth\": 0, \"ticks\": \"\"}}, \"type\": \"scatterpolar\"}], \"scatterpolargl\": [{\"marker\": {\"colorbar\": {\"outlinewidth\": 0, \"ticks\": \"\"}}, \"type\": \"scatterpolargl\"}], \"scatterternary\": [{\"marker\": {\"colorbar\": {\"outlinewidth\": 0, \"ticks\": \"\"}}, \"type\": \"scatterternary\"}], \"surface\": [{\"colorbar\": {\"outlinewidth\": 0, \"ticks\": \"\"}, \"colorscale\": [[0.0, \"#0d0887\"], [0.1111111111111111, \"#46039f\"], [0.2222222222222222, \"#7201a8\"], [0.3333333333333333, \"#9c179e\"], [0.4444444444444444, \"#bd3786\"], [0.5555555555555556, \"#d8576b\"], [0.6666666666666666, \"#ed7953\"], [0.7777777777777778, \"#fb9f3a\"], [0.8888888888888888, \"#fdca26\"], [1.0, \"#f0f921\"]], \"type\": \"surface\"}], \"table\": [{\"cells\": {\"fill\": {\"color\": \"#EBF0F8\"}, \"line\": {\"color\": \"white\"}}, \"header\": {\"fill\": {\"color\": \"#C8D4E3\"}, \"line\": {\"color\": \"white\"}}, \"type\": \"table\"}]}, \"layout\": {\"annotationdefaults\": {\"arrowcolor\": \"#2a3f5f\", \"arrowhead\": 0, \"arrowwidth\": 1}, \"coloraxis\": {\"colorbar\": {\"outlinewidth\": 0, \"ticks\": \"\"}}, \"colorscale\": {\"diverging\": [[0, \"#8e0152\"], [0.1, \"#c51b7d\"], [0.2, \"#de77ae\"], [0.3, \"#f1b6da\"], [0.4, \"#fde0ef\"], [0.5, \"#f7f7f7\"], [0.6, \"#e6f5d0\"], [0.7, \"#b8e186\"], [0.8, \"#7fbc41\"], [0.9, \"#4d9221\"], [1, \"#276419\"]], \"sequential\": [[0.0, \"#0d0887\"], [0.1111111111111111, \"#46039f\"], [0.2222222222222222, \"#7201a8\"], [0.3333333333333333, \"#9c179e\"], [0.4444444444444444, \"#bd3786\"], [0.5555555555555556, \"#d8576b\"], [0.6666666666666666, \"#ed7953\"], [0.7777777777777778, \"#fb9f3a\"], [0.8888888888888888, \"#fdca26\"], [1.0, \"#f0f921\"]], \"sequentialminus\": [[0.0, \"#0d0887\"], [0.1111111111111111, \"#46039f\"], [0.2222222222222222, \"#7201a8\"], [0.3333333333333333, \"#9c179e\"], [0.4444444444444444, \"#bd3786\"], [0.5555555555555556, \"#d8576b\"], [0.6666666666666666, \"#ed7953\"], [0.7777777777777778, \"#fb9f3a\"], [0.8888888888888888, \"#fdca26\"], [1.0, \"#f0f921\"]]}, \"colorway\": [\"#636efa\", \"#EF553B\", \"#00cc96\", \"#ab63fa\", \"#FFA15A\", \"#19d3f3\", \"#FF6692\", \"#B6E880\", \"#FF97FF\", \"#FECB52\"], \"font\": {\"color\": \"#2a3f5f\"}, \"geo\": {\"bgcolor\": \"white\", \"lakecolor\": \"white\", \"landcolor\": \"#E5ECF6\", \"showlakes\": true, \"showland\": true, \"subunitcolor\": \"white\"}, \"hoverlabel\": {\"align\": \"left\"}, \"hovermode\": \"closest\", \"mapbox\": {\"style\": \"light\"}, \"paper_bgcolor\": \"white\", \"plot_bgcolor\": \"#E5ECF6\", \"polar\": {\"angularaxis\": {\"gridcolor\": \"white\", \"linecolor\": \"white\", \"ticks\": \"\"}, \"bgcolor\": \"#E5ECF6\", \"radialaxis\": {\"gridcolor\": \"white\", \"linecolor\": \"white\", \"ticks\": \"\"}}, \"scene\": {\"xaxis\": {\"backgroundcolor\": \"#E5ECF6\", \"gridcolor\": \"white\", \"gridwidth\": 2, \"linecolor\": \"white\", \"showbackground\": true, \"ticks\": \"\", \"zerolinecolor\": \"white\"}, \"yaxis\": {\"backgroundcolor\": \"#E5ECF6\", \"gridcolor\": \"white\", \"gridwidth\": 2, \"linecolor\": \"white\", \"showbackground\": true, \"ticks\": \"\", \"zerolinecolor\": \"white\"}, \"zaxis\": {\"backgroundcolor\": \"#E5ECF6\", \"gridcolor\": \"white\", \"gridwidth\": 2, \"linecolor\": \"white\", \"showbackground\": true, \"ticks\": \"\", \"zerolinecolor\": \"white\"}}, \"shapedefaults\": {\"line\": {\"color\": \"#2a3f5f\"}}, \"ternary\": {\"aaxis\": {\"gridcolor\": \"white\", \"linecolor\": \"white\", \"ticks\": \"\"}, \"baxis\": {\"gridcolor\": \"white\", \"linecolor\": \"white\", \"ticks\": \"\"}, \"bgcolor\": \"#E5ECF6\", \"caxis\": {\"gridcolor\": \"white\", \"linecolor\": \"white\", \"ticks\": \"\"}}, \"title\": {\"x\": 0.05}, \"xaxis\": {\"automargin\": true, \"gridcolor\": \"white\", \"linecolor\": \"white\", \"ticks\": \"\", \"title\": {\"standoff\": 15}, \"zerolinecolor\": \"white\", \"zerolinewidth\": 2}, \"yaxis\": {\"automargin\": true, \"gridcolor\": \"white\", \"linecolor\": \"white\", \"ticks\": \"\", \"title\": {\"standoff\": 15}, \"zerolinecolor\": \"white\", \"zerolinewidth\": 2}}}, \"title\": {\"text\": \"\\u041e\\u0431\\u044a\\u0435\\u043c\\u044b (\\u043d\\u0430\\u043a\\u043e\\u043f\\u043b\\u0435\\u043d\\u043d\\u044b\\u0435 \\u043e\\u0431\\u044a\\u0435\\u043c\\u044b) \\u043f\\u043e \\u0433\\u043e\\u0434\\u0430\\u043c\", \"x\": 0.5, \"xanchor\": \"center\", \"y\": 0.95, \"yanchor\": \"top\"}, \"width\": 1500, \"xaxis\": {\"domain\": [0.2, 0.9], \"tickangle\": -45, \"tickmode\": \"array\", \"tickvals\": [0, 1, 2, 3, 4, 5, 6, 7, 8, 9, 10, 11, 12, 13, 14, 15, 16, 17, 18, 19, 20], \"title\": {\"text\": \"\\u0413\\u043e\\u0434\"}}, \"yaxis\": {\"range\": [0, 7], \"tickfont\": {\"color\": \"#1f77b4\"}, \"title\": {\"font\": {\"color\": \"#1f77b4\"}, \"text\": \"\\u0413\\u043e\\u0434\\u043e\\u0432\\u043e\\u0439 \\u043e\\u0442\\u0431\\u043e\\u0440 \\u0436\\u0438\\u0434\\u043a\\u043e\\u0441\\u0442\\u0438, \\u043c\\u043b\\u043d \\u0442\"}}, \"yaxis2\": {\"anchor\": \"x\", \"overlaying\": \"y\", \"range\": [0, 70], \"side\": \"right\", \"tickfont\": {\"color\": \"#ff7f0e\"}, \"title\": {\"font\": {\"color\": \"#ff7f0e\"}, \"text\": \"\\u041d\\u0430\\u043a\\u043e\\u043f\\u043b\\u0435\\u043d\\u043d\\u044b\\u0435 \\u043e\\u0431\\u044a\\u0435\\u043c\\u044b, \\u043c\\u043b\\u043d \\u0442\"}}},\n",
              "                        {\"responsive\": true}\n",
              "                    ).then(function(){\n",
              "                            \n",
              "var gd = document.getElementById('135de05c-389f-41c2-8428-7fdeeb576538');\n",
              "var x = new MutationObserver(function (mutations, observer) {{\n",
              "        var display = window.getComputedStyle(gd).display;\n",
              "        if (!display || display === 'none') {{\n",
              "            console.log([gd, 'removed!']);\n",
              "            Plotly.purge(gd);\n",
              "            observer.disconnect();\n",
              "        }}\n",
              "}});\n",
              "\n",
              "// Listen for the removal of the full notebook cells\n",
              "var notebookContainer = gd.closest('#notebook-container');\n",
              "if (notebookContainer) {{\n",
              "    x.observe(notebookContainer, {childList: true});\n",
              "}}\n",
              "\n",
              "// Listen for the clearing of the current output cell\n",
              "var outputEl = gd.closest('.output');\n",
              "if (outputEl) {{\n",
              "    x.observe(outputEl, {childList: true});\n",
              "}}\n",
              "\n",
              "                        })\n",
              "                };\n",
              "                \n",
              "            </script>\n",
              "        </div>\n",
              "</body>\n",
              "</html>"
            ]
          },
          "metadata": {
            "tags": []
          }
        }
      ]
    }
  ]
}