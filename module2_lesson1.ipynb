{
  "nbformat": 4,
  "nbformat_minor": 0,
  "metadata": {
    "colab": {
      "name": "module2_lesson1.ipynb",
      "provenance": [],
      "collapsed_sections": [
        "6xdZQJhYZfdB",
        "myvEgVcWB3Wo",
        "Mc6QgM9RiiBn"
      ],
      "authorship_tag": "ABX9TyOEBgexRvkE/Ajt+HLOIwCq",
      "include_colab_link": true
    },
    "kernelspec": {
      "name": "python3",
      "display_name": "Python 3"
    },
    "language_info": {
      "name": "python"
    }
  },
  "cells": [
    {
      "cell_type": "markdown",
      "metadata": {
        "id": "view-in-github",
        "colab_type": "text"
      },
      "source": [
        "<a href=\"https://colab.research.google.com/github/alexeynick/msu_oil_gas/blob/main/module2_lesson1.ipynb\" target=\"_parent\"><img src=\"https://colab.research.google.com/assets/colab-badge.svg\" alt=\"Open In Colab\"/></a>"
      ]
    },
    {
      "cell_type": "markdown",
      "metadata": {
        "id": "RlTzX_f8vOON"
      },
      "source": [
        "## Задачи модуля №2"
      ]
    },
    {
      "cell_type": "code",
      "metadata": {
        "id": "cb6oflFVZAzz"
      },
      "source": [
        "import pandas as pd\n",
        "import locale\n",
        "\n",
        "locale.setlocale(locale.LC_ALL, '')\n",
        "locale._override_localeconv = {'mon_thousands_sep': '_'}"
      ],
      "execution_count": 1,
      "outputs": []
    },
    {
      "cell_type": "code",
      "metadata": {
        "id": "YzSE5Wghpani"
      },
      "source": [
        "pd.set_option('display.max_colwidth', 100)"
      ],
      "execution_count": 2,
      "outputs": []
    },
    {
      "cell_type": "markdown",
      "metadata": {
        "id": "6xdZQJhYZfdB"
      },
      "source": [
        "## Задача 2.1 Расчет запасов нефти и газа объемным методом"
      ]
    },
    {
      "cell_type": "code",
      "metadata": {
        "colab": {
          "base_uri": "https://localhost:8080/",
          "height": 328
        },
        "id": "I1H8SqeKdhKM",
        "outputId": "f3dd220e-2298-4edf-9d85-bf56e4f808f0"
      },
      "source": [
        "data = {\n",
        "    'Параметры': ['Площадь нефтеносности залежи',\n",
        "                  'Эффективная нефтенасыщенная толщина залежи',\n",
        "                  'Коэффициент пористости',\n",
        "                  'Коэффициент нефтенасыщенности',\n",
        "                  'Плотность нефти в поверхностных условиях',\n",
        "                  'Переводной коэффициент из пластовых условий в поверхностные',\n",
        "                  'Газовый фактор',\n",
        "                  'Коэффициент нефтеотдачи',\n",
        "                  'Добыча нефти с начала разработки на анализируемую дату',\n",
        "                  ],\n",
        "        'Единицы измерения': ['м2',\n",
        "                              'м',\n",
        "                              'д.ед.',\n",
        "                              'д.ед.',\n",
        "                              'т/м3',\n",
        "                              'д.ед.',\n",
        "                              'м3/т',\n",
        "                              'д.ед.',\n",
        "                              'тыс.т.',\n",
        "                              ],\n",
        "         'Значения': [6012,\n",
        "                     16,\n",
        "                     0.17,\n",
        "                     0.515,\n",
        "                     0.826,\n",
        "                     0.915,\n",
        "                     38.7,\n",
        "                     0.585,\n",
        "                     2016.9,\n",
        "                     ]\n",
        "        }\n",
        "\n",
        "df = pd.DataFrame(\n",
        "    data, \n",
        "    columns = ['Параметры','Единицы измерения', 'Значения'],\n",
        "    index=[1, 2, 3, 4, 5, 6, 7, 8, 9])\n",
        "\n",
        "df"
      ],
      "execution_count": 3,
      "outputs": [
        {
          "output_type": "execute_result",
          "data": {
            "text/html": [
              "<div>\n",
              "<style scoped>\n",
              "    .dataframe tbody tr th:only-of-type {\n",
              "        vertical-align: middle;\n",
              "    }\n",
              "\n",
              "    .dataframe tbody tr th {\n",
              "        vertical-align: top;\n",
              "    }\n",
              "\n",
              "    .dataframe thead th {\n",
              "        text-align: right;\n",
              "    }\n",
              "</style>\n",
              "<table border=\"1\" class=\"dataframe\">\n",
              "  <thead>\n",
              "    <tr style=\"text-align: right;\">\n",
              "      <th></th>\n",
              "      <th>Параметры</th>\n",
              "      <th>Единицы измерения</th>\n",
              "      <th>Значения</th>\n",
              "    </tr>\n",
              "  </thead>\n",
              "  <tbody>\n",
              "    <tr>\n",
              "      <th>1</th>\n",
              "      <td>Площадь нефтеносности залежи</td>\n",
              "      <td>м2</td>\n",
              "      <td>6012.000</td>\n",
              "    </tr>\n",
              "    <tr>\n",
              "      <th>2</th>\n",
              "      <td>Эффективная нефтенасыщенная толщина залежи</td>\n",
              "      <td>м</td>\n",
              "      <td>16.000</td>\n",
              "    </tr>\n",
              "    <tr>\n",
              "      <th>3</th>\n",
              "      <td>Коэффициент пористости</td>\n",
              "      <td>д.ед.</td>\n",
              "      <td>0.170</td>\n",
              "    </tr>\n",
              "    <tr>\n",
              "      <th>4</th>\n",
              "      <td>Коэффициент нефтенасыщенности</td>\n",
              "      <td>д.ед.</td>\n",
              "      <td>0.515</td>\n",
              "    </tr>\n",
              "    <tr>\n",
              "      <th>5</th>\n",
              "      <td>Плотность нефти в поверхностных условиях</td>\n",
              "      <td>т/м3</td>\n",
              "      <td>0.826</td>\n",
              "    </tr>\n",
              "    <tr>\n",
              "      <th>6</th>\n",
              "      <td>Переводной коэффициент из пластовых условий в поверхностные</td>\n",
              "      <td>д.ед.</td>\n",
              "      <td>0.915</td>\n",
              "    </tr>\n",
              "    <tr>\n",
              "      <th>7</th>\n",
              "      <td>Газовый фактор</td>\n",
              "      <td>м3/т</td>\n",
              "      <td>38.700</td>\n",
              "    </tr>\n",
              "    <tr>\n",
              "      <th>8</th>\n",
              "      <td>Коэффициент нефтеотдачи</td>\n",
              "      <td>д.ед.</td>\n",
              "      <td>0.585</td>\n",
              "    </tr>\n",
              "    <tr>\n",
              "      <th>9</th>\n",
              "      <td>Добыча нефти с начала разработки на анализируемую дату</td>\n",
              "      <td>тыс.т.</td>\n",
              "      <td>2016.900</td>\n",
              "    </tr>\n",
              "  </tbody>\n",
              "</table>\n",
              "</div>"
            ],
            "text/plain": [
              "                                                     Параметры  ...  Значения\n",
              "1                                 Площадь нефтеносности залежи  ...  6012.000\n",
              "2                   Эффективная нефтенасыщенная толщина залежи  ...    16.000\n",
              "3                                       Коэффициент пористости  ...     0.170\n",
              "4                                Коэффициент нефтенасыщенности  ...     0.515\n",
              "5                     Плотность нефти в поверхностных условиях  ...     0.826\n",
              "6  Переводной коэффициент из пластовых условий в поверхностные  ...     0.915\n",
              "7                                               Газовый фактор  ...    38.700\n",
              "8                                      Коэффициент нефтеотдачи  ...     0.585\n",
              "9       Добыча нефти с начала разработки на анализируемую дату  ...  2016.900\n",
              "\n",
              "[9 rows x 3 columns]"
            ]
          },
          "metadata": {
            "tags": []
          },
          "execution_count": 3
        }
      ]
    },
    {
      "cell_type": "markdown",
      "metadata": {
        "id": "AsscIEDyqF9o"
      },
      "source": [
        "$$Q_{ИЗВ} = F * h_{НН} * m * K _{НН} * \\rho_{Н} * \\beta * \\eta $$"
      ]
    },
    {
      "cell_type": "markdown",
      "metadata": {
        "id": "QmjG89kmrIlv"
      },
      "source": [
        "где:\n",
        "- $Q_{ИЗВ}$ - извлекаемые (промышленные) запасы нефти, $т$;\n",
        "- $F$ — площадь нефтеносности залежи, $м^{2}$;\n",
        "- $h_{НН}$ — эффективная нефтенасыщенная толщина залежи, $м$;\n",
        "- $m$ — коэффициент открытой пористости нефтесодержащих пород;\n",
        "- $K _{НН}$ — коэффициент насыщения пласта нефтью (коэффициент нефтенасыщенности);\n",
        "- $\\rho_{Н}$ — плотность нефти в поверхностных условиях, $т/м^{3}$;\n",
        "- $\\beta$ — пересчетный коэффициент, учитывающий усадку нефти $\\beta = \\cfrac{1}{b}$ (${b}$ - объемный коэффициент пластовой нефти);\n",
        "- $\\eta$ — коэффициент нефтеотдачи (КИН);\n"
      ]
    },
    {
      "cell_type": "markdown",
      "metadata": {
        "id": "k4MSZAQa6nsQ"
      },
      "source": [
        "$K _{НН}$ - Коэффициент нефтенасыщенности или газонасыщенности (oil or gas saturation factor) - отношение объема нефти (газа), содержащейся в порах (пустотах) пласта, к общему объему всех пор (пустот) нефтеносного (газоносного) пласта в пластовых условиях (М.А. Жданов, 1962; Ф.И. Котяхов, И.Х. Абрикосов, И.С. Гутман, 1970). \n",
        "\n",
        "$m$ - в нефтегазопромысловой геологии более важен коэффициент открытой пористости, т.к. он характеризует объем углеводородов, содержащийся в породе. На практике коэффициент открытой пористости определяется в лабораторных условиях по методу Преображенского или по данным геофизических исследований в скважине (ГИС).\n",
        "\n",
        "Полная пористость – это объем всех пор, находящихся в горной породе.\n",
        "\n",
        "Открытая пористость – это объем пор, сообщающихся между  cобой. Количественно та и другая пористость выражается коэффициентом пористости, который представляет собой отношение объема пор к объему образца породы\n"
      ]
    },
    {
      "cell_type": "markdown",
      "metadata": {
        "id": "YPfQyGNivlXy"
      },
      "source": [
        "Рассчитать:\n",
        "\n",
        "- 1) Начальные геологические запасы нефти\n",
        "- 2) Начальные извлекаемые запасы нефти\n",
        "- 3) Остаточные геологические запасы нефти\n",
        "- 4) Остаточные извлекаемые запасы нефти\n",
        "- 5) Начальные геологические запасы газа\n",
        "- 6) Начальные извлекаемые запасы газа\n",
        "- 7) Остаточные балансовые запасы газа\n",
        "- 8) Остаточные извлекаемые запасы газа"
      ]
    },
    {
      "cell_type": "markdown",
      "metadata": {
        "id": "r0QBNcH3vZ25"
      },
      "source": [
        "### Расчеты"
      ]
    },
    {
      "cell_type": "markdown",
      "metadata": {
        "id": "XEOI7HpSxVwL"
      },
      "source": [
        "$Q_{ИЗВ} = Q_{ГЕОЛ} * \\eta $\n",
        "\n",
        "$Q_{ГЕОЛ} = F * h_{НН} * m * K _{НН} * \\rho_{Н} * \\beta $\n",
        "\n",
        "$Q_{ОСТ\\,ГЕОЛ} = Q_{ГЕОЛ} - Q_{ДОБ} $\n",
        "\n",
        "$Q_{ОСТ\\,ИЗВ} = Q_{ИЗВ} - Q_{ДОБ} $\n",
        "\n",
        "\n"
      ]
    },
    {
      "cell_type": "code",
      "metadata": {
        "id": "q0W-lN9PbxRa"
      },
      "source": [
        "values = df['Значения']"
      ],
      "execution_count": 4,
      "outputs": []
    },
    {
      "cell_type": "code",
      "metadata": {
        "id": "gaPhZUOmbxUY"
      },
      "source": [
        "F_value = values[1]\n",
        "hnn_value = values[2]\n",
        "m_value = values[3]\n",
        "Knn_value = values[4]\n",
        "rhon_value = values[5]\n",
        "beta_value = values[6]\n",
        "eta_value = values[8]\n",
        "q_dob = values[9]\n",
        "\n",
        "q_geol = F_value * hnn_value * m_value * Knn_value * rhon_value * beta_value\n",
        "q_ost_geol = q_geol * eta_value"
      ],
      "execution_count": 5,
      "outputs": []
    },
    {
      "cell_type": "code",
      "metadata": {
        "colab": {
          "base_uri": "https://localhost:8080/"
        },
        "id": "d6qazpribxW5",
        "outputId": "9ea9bb58-626b-451f-9770-ee37eee7a5b6"
      },
      "source": [
        "print('Начальные геологические запасы нефти: {0:,.0f}'.format(q_geol))\n",
        "print('Начальные извлекаемые запасы нефти: {0:,.0f}'.format(q_ost_geol))\n",
        "print('Остаточные геологические запасы нефти: {0:,.0f}'.format(q_geol - q_dob))\n",
        "print('Остаточные извлекаемые запасы нефти: {0:,.0f}'.format(q_ost_geol - q_dob))"
      ],
      "execution_count": 6,
      "outputs": [
        {
          "output_type": "stream",
          "text": [
            "Начальные геологические запасы нефти: 6,365\n",
            "Начальные извлекаемые запасы нефти: 3,724\n",
            "Остаточные геологические запасы нефти: 4,348\n",
            "Остаточные извлекаемые запасы нефти: 1,707\n"
          ],
          "name": "stdout"
        }
      ]
    },
    {
      "cell_type": "markdown",
      "metadata": {
        "id": "Q3VSR9e-80b6"
      },
      "source": [
        "$V_{ГЕОЛ} = Q_{ГЕОЛ} * Г $\n",
        "\n",
        "$V_{ИЗВ} = Q_{ИЗВ} * Г $\n",
        "\n",
        "$V_{ОСТ\\,ГЕОЛ} = Q_{ОСТ\\,ГЕОЛ} * Г $\n",
        "\n",
        "$V_{ОСТ\\,ИЗВ} = Q_{ОСТ\\,ИЗВ} * Г $\n",
        "\n",
        "где:\n",
        "- $Г$ - газовый фактор (объёмное содержание газа в единице массы нефти), $м^{3}/т$"
      ]
    },
    {
      "cell_type": "code",
      "metadata": {
        "colab": {
          "base_uri": "https://localhost:8080/"
        },
        "id": "tp91wLzy6FrG",
        "outputId": "98c7b46d-ceff-41c2-d415-350158ff7aca"
      },
      "source": [
        "gfac_value = values[7]\n",
        "\n",
        "print('Начальные геологические запасы газа: {0:,.0f}'.format(q_geol * gfac_value))\n",
        "print('Начальные извлекаемые запасы газа: {0:,.0f}'.format(q_ost_geol * gfac_value))\n",
        "print('Остаточные геологические запасы газа: {0:,.0f}'.format((q_geol - q_dob) * gfac_value))\n",
        "print('Остаточные извлекаемые запасы газа: {0:,.0f}'.format((q_ost_geol - q_dob) * gfac_value))"
      ],
      "execution_count": 7,
      "outputs": [
        {
          "output_type": "stream",
          "text": [
            "Начальные геологические запасы газа: 246,324\n",
            "Начальные извлекаемые запасы газа: 144,100\n",
            "Остаточные геологические запасы газа: 168,270\n",
            "Остаточные извлекаемые запасы газа: 66,046\n"
          ],
          "name": "stdout"
        }
      ]
    },
    {
      "cell_type": "markdown",
      "metadata": {
        "id": "myvEgVcWB3Wo"
      },
      "source": [
        "## Задача 2.2 Определение количества нефти, которое возможно добыть при упругом режиме пласта (свободное фонтанирование)"
      ]
    },
    {
      "cell_type": "markdown",
      "metadata": {
        "id": "-a9hLjC_Cd4i"
      },
      "source": [
        "Определить количество нефти, полученное за счет упругого расширения нефти, воды и горной породы, если:\n",
        "- площадь области нефтеносности $S_{Н}=900\\,га$\n",
        "- законтурная вода занимает площадь $S_{В}=10\\,000\\,га$\n",
        "- средняя толщина пласта $h=15\\,м$\n",
        "- пористость пласта $m=0,17$\n",
        "- водонасыщенность в зоне нефтеносности $\\sigma_{В}=20\\% $\n",
        "- коэффициент сжимаемости нефти $\\beta_{Н}=6,12*10^{-10} м2/Н$\n",
        "- коэффициент сжимаемости воды $\\beta_{В}=4,28*10^{-10} м2/Н$\n",
        "- коэффициент сжимаемости породы $\\beta_{С}=2,04*10^{-10} м2/Н$. \n",
        "\n",
        "Пластовое давление снижается от 30 до 20 МПа.\n",
        "\n",
        "Также определить коэффициент извлечения нефти (КИН)."
      ]
    },
    {
      "cell_type": "markdown",
      "metadata": {
        "id": "2oB82MvWKN3S"
      },
      "source": [
        "Рассчитать:\n",
        "\n",
        "- 1) Начальный объем нефти\n",
        "- 2) Объем нефти, вытесняемый из зоны нефтеносности при падении давления за счет сжимаемости нефти и пористой среды\n",
        "- 3) Объем вытсненной нефти в зоне нефтеносности при падении давления за счет расширения воды и породы в зоне нефтеносности\n",
        "- 4) Объем нефти, вытесняемый из окружающей зоны водоносности при падении давления за счет упругости воды и пласта\n",
        "- 5) Рассчитать КИН"
      ]
    },
    {
      "cell_type": "markdown",
      "metadata": {
        "id": "w64YmPVILet8"
      },
      "source": [
        "### Расчеты"
      ]
    },
    {
      "cell_type": "markdown",
      "metadata": {
        "id": "xISMIFNZLfSQ"
      },
      "source": [
        "$Q_{ГЕОЛ} = S_{Н} * h * (1 - \\sigma_{В}) * m $\n",
        "\n",
        "$V_{1} = S_{Н} * h * (1 - \\sigma_{В}) * m * \\beta_{Н} * \\Delta P + S_{Н} * h * (1 - \\sigma_{В}) * \\beta_{С} * \\Delta P = $\n",
        "\n",
        "$=S_{Н} * h * (1 - \\sigma_{В}) * (\\beta_{Н} * m + \\beta_{С}) * \\Delta P$\n",
        "\n",
        "$V_{2} = S_{Н} * h * \\sigma_{В} * m * \\beta_{В} * \\Delta P + S_{Н} * h * \\sigma_{В} * \\beta_{С} * \\Delta P = $\n",
        "\n",
        "$=S_{Н} * h * \\sigma_{В} * (\\beta_{В} * m + \\beta_{С}) * \\Delta P$\n",
        "\n",
        "$V_{3} = S_{В} * h * m * \\beta_{В} * \\Delta P + S_{Н} * h * \\beta_{С} * \\Delta P = $\n",
        "\n",
        "$=S_{Н} * h * (\\beta_{В} * m + \\beta_{С}) * \\Delta P$\n",
        "\n",
        "$КИН = \\cfrac{V_{1} + V_{2} + V_{3}}{Q_{ГЕОЛ}} $\n",
        "\n",
        "\n"
      ]
    },
    {
      "cell_type": "code",
      "metadata": {
        "id": "Gw1EM2prBSCm"
      },
      "source": [
        "HA_TO_SQRTM = 10000"
      ],
      "execution_count": 8,
      "outputs": []
    },
    {
      "cell_type": "code",
      "metadata": {
        "id": "IXPi00uZLS00"
      },
      "source": [
        "sn_value = 900\n",
        "sv_value = 10000\n",
        "hnn_value = 15\n",
        "m_value = 0.17\n",
        "sigmav_value = 0.2\n",
        "betan_value = 6.12 * 10**-10\n",
        "betav_value = 4.28 * 10**-10\n",
        "betas_value = 2.04 * 10**-10\n",
        "p1 = 30 * 10**6\n",
        "p2 = 20 * 10**6\n",
        "\n",
        "q_geol = sn_value * HA_TO_SQRTM * hnn_value * (1 - sigmav_value) * m_value\n",
        "v_1 = sn_value * HA_TO_SQRTM * hnn_value * (1 - sigmav_value) * (betan_value * m_value + betas_value) * (p1 - p2)\n",
        "v_2 = sn_value * HA_TO_SQRTM * hnn_value * sigmav_value * (betav_value * m_value + betas_value) * (p1 - p2)\n",
        "v_3 = sv_value * HA_TO_SQRTM * hnn_value * (betav_value * m_value + betas_value) * (p1 - p2)"
      ],
      "execution_count": 9,
      "outputs": []
    },
    {
      "cell_type": "code",
      "metadata": {
        "colab": {
          "base_uri": "https://localhost:8080/"
        },
        "id": "hfybPTnJOE8y",
        "outputId": "f3ea9643-919f-4c06-ae8d-6b74c7384c52"
      },
      "source": [
        "print('Начальный объем нефти: {0:,.0f}'.format(q_geol))\n",
        "print('Объем нефти, вытесняемый из зоны нефтеносности при падении давления за счет сжимаемости нефти и пористой среды: {0:,.0f}'.format(v_1))\n",
        "print('Объем вытсненной нефти в зоне нефтеносности при падении давления за счет расширения воды и породы в зоне нефтеносности: {0:,.0f}'.format(v_2))\n",
        "print('Объем нефти, вытесняемый из окружающей зоны водоносности при падении давления за счет упругости воды и пласта: {0:,.0f}'.format(v_3))\n",
        "print('КИН: {0:,.2%}'.format((v_1 + v_2 + v_3) / q_geol))"
      ],
      "execution_count": 10,
      "outputs": [
        {
          "output_type": "stream",
          "text": [
            "Начальный объем нефти: 18,360,000\n",
            "Объем нефти, вытесняемый из зоны нефтеносности при падении давления за счет сжимаемости нефти и пористой среды: 332,683\n",
            "Объем вытсненной нефти в зоне нефтеносности при падении давления за счет расширения воды и породы в зоне нефтеносности: 74,725\n",
            "Объем нефти, вытесняемый из окружающей зоны водоносности при падении давления за счет упругости воды и пласта: 4,151,400\n",
            "КИН: 24.83%\n"
          ],
          "name": "stdout"
        }
      ]
    },
    {
      "cell_type": "markdown",
      "metadata": {
        "id": "Mc6QgM9RiiBn"
      },
      "source": [
        "## Задача 2.3 Расчет запасов газа по методу падения давления"
      ]
    },
    {
      "cell_type": "markdown",
      "metadata": {
        "id": "73CoFVasiyCe"
      },
      "source": [
        "$Q_{ИЗВ} = \\cfrac{(Q_{2} - Q_{1})*(P_{2} * \\alpha_{2} - P_{K}*\\alpha_{K})}{(P_{1} * \\alpha_{1} - P_{2}*\\alpha_{2})} \n",
        " $"
      ]
    },
    {
      "cell_type": "markdown",
      "metadata": {
        "id": "6cCigcbIrP8o"
      },
      "source": [
        "где:\n",
        "- $Q_{ИЗВ}$ - извлекаемые запасы газа, $млрд\\,м^{3}$;\n",
        "- $Q_{1}$ — количество газа, добытого с начала разработки на 1-ю дату замера, $млрд\\,м^{3}$;\n",
        "- $Q_{2}$ — количество газа, добытого с начала разработки на 2-ю дату замера, $млрд\\,м^{3}$;\n",
        "- $\\alpha_{1}$ — поправка за отклонение от идеального газа на 1-ю дату замера;\n",
        "- $\\alpha_{2}$ — поправка за отклонение от идеального газа на 2-ю дату замера;\n",
        "- $\\alpha_{K}$ — поправка за отклонение от идеального газа (конечные условия);\n",
        "- $P_{1}$ — пластовое давление на 1-ю дату замера, $МПа$;\n",
        "- $P_{2}$ — пластовое давление на 2-ю дату замера, $МПа$;\n",
        "- $P_{K}$ — конечное пластовое давление, $МПа$;"
      ]
    },
    {
      "cell_type": "code",
      "metadata": {
        "id": "IOjF3ShrijpF"
      },
      "source": [
        "q1_value = 10\n",
        "q2_value = 100\n",
        "p1_value = 28\n",
        "p2_value = 12\n",
        "pk_value = 1\n",
        "alpha1_value = 0.9828\n",
        "alpha2_value = 0.9703\n",
        "alphak_value = 0.9946\n"
      ],
      "execution_count": 11,
      "outputs": []
    },
    {
      "cell_type": "code",
      "metadata": {
        "id": "7_8fKMnOtOPn"
      },
      "source": [
        "ATM_TO_MPA = 101325"
      ],
      "execution_count": 12,
      "outputs": []
    },
    {
      "cell_type": "code",
      "metadata": {
        "id": "0FnwNBtNtT8u"
      },
      "source": [
        "q_geol = (\n",
        "    (q2_value - q1_value) \n",
        "    * (p2_value * ATM_TO_MPA * alpha2_value - pk_value * ATM_TO_MPA * alphak_value)\n",
        "    / (p1_value * ATM_TO_MPA * alpha1_value - p2_value * ATM_TO_MPA * alpha2_value)\n",
        ")"
      ],
      "execution_count": 13,
      "outputs": []
    },
    {
      "cell_type": "code",
      "metadata": {
        "colab": {
          "base_uri": "https://localhost:8080/"
        },
        "id": "uGfA_xY8tazm",
        "outputId": "24f39547-73f2-4f20-fad6-cf2f894f6392"
      },
      "source": [
        "print('Извлекаемые запасы газа: {0:,.2f} млрд. куб. м'.format(q_geol))"
      ],
      "execution_count": 14,
      "outputs": [
        {
          "output_type": "stream",
          "text": [
            "Извлекаемые запасы газа: 60.37 млрд. куб. м\n"
          ],
          "name": "stdout"
        }
      ]
    },
    {
      "cell_type": "markdown",
      "metadata": {
        "id": "xqQOUWD9ikMW"
      },
      "source": [
        ""
      ]
    }
  ]
}