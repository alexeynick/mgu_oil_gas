{
  "nbformat": 4,
  "nbformat_minor": 0,
  "metadata": {
    "colab": {
      "name": "module2_lesson1.ipynb",
      "provenance": [],
      "collapsed_sections": [
        "FS96clXaysiz",
        "f7UE8nlKyt83",
        "dc9CPi643RMi"
      ],
      "authorship_tag": "ABX9TyOSKAGAwQXp+ZiAlgzQ/00P",
      "include_colab_link": true
    },
    "kernelspec": {
      "name": "python3",
      "display_name": "Python 3"
    },
    "language_info": {
      "name": "python"
    }
  },
  "cells": [
    {
      "cell_type": "markdown",
      "metadata": {
        "id": "view-in-github",
        "colab_type": "text"
      },
      "source": [
        "<a href=\"https://colab.research.google.com/github/alexeynick/msu_oil_gas/blob/main/module2_lesson1.ipynb\" target=\"_parent\"><img src=\"https://colab.research.google.com/assets/colab-badge.svg\" alt=\"Open In Colab\"/></a>"
      ]
    },
    {
      "cell_type": "markdown",
      "metadata": {
        "id": "RlTzX_f8vOON"
      },
      "source": [
        "## Задачи модуля №2"
      ]
    },
    {
      "cell_type": "code",
      "metadata": {
        "id": "cb6oflFVZAzz"
      },
      "source": [
        "import pandas as pd\n",
        "import numpy as np\n",
        "import plotly.graph_objects as go\n",
        "import matplotlib.pyplot as plt \n",
        "from plotly.subplots import make_subplots\n",
        "\n",
        "import locale\n",
        "\n",
        "locale.setlocale(locale.LC_ALL, '')\n",
        "locale._override_localeconv = {'mon_thousands_sep': '_'}"
      ],
      "execution_count": null,
      "outputs": []
    },
    {
      "cell_type": "code",
      "metadata": {
        "id": "YzSE5Wghpani"
      },
      "source": [
        "pd.set_option('display.max_colwidth', 100)"
      ],
      "execution_count": null,
      "outputs": []
    },
    {
      "cell_type": "markdown",
      "metadata": {
        "id": "6xdZQJhYZfdB"
      },
      "source": [
        "## Задача 2.1 Расчет запасов нефти и газа объемным методом"
      ]
    },
    {
      "cell_type": "code",
      "metadata": {
        "colab": {
          "base_uri": "https://localhost:8080/",
          "height": 318
        },
        "id": "I1H8SqeKdhKM",
        "outputId": "a83e1c0d-dbe9-4043-baff-fe5214f5fbd7"
      },
      "source": [
        "data = {\n",
        "    'Параметры': ['Площадь нефтеносности залежи',\n",
        "                  'Эффективная нефтенасыщенная толщина залежи',\n",
        "                  'Коэффициент пористости',\n",
        "                  'Коэффициент нефтенасыщенности',\n",
        "                  'Плотность нефти в поверхностных условиях',\n",
        "                  'Переводной коэффициент из пластовых условий в поверхностные',\n",
        "                  'Газовый фактор',\n",
        "                  'Коэффициент нефтеотдачи',\n",
        "                  'Добыча нефти с начала разработки на анализируемую дату',\n",
        "                  ],\n",
        "        'Единицы измерения': ['м2',\n",
        "                              'м',\n",
        "                              'д.ед.',\n",
        "                              'д.ед.',\n",
        "                              'т/м3',\n",
        "                              'д.ед.',\n",
        "                              'м3/т',\n",
        "                              'д.ед.',\n",
        "                              'тыс.т.',\n",
        "                              ],\n",
        "         'Значения': [6012,\n",
        "                     16,\n",
        "                     0.17,\n",
        "                     0.515,\n",
        "                     0.826,\n",
        "                     0.915,\n",
        "                     38.7,\n",
        "                     0.585,\n",
        "                     2016.9,\n",
        "                     ]\n",
        "        }\n",
        "\n",
        "df = pd.DataFrame(\n",
        "    data, \n",
        "    columns = ['Параметры','Единицы измерения', 'Значения'],\n",
        "    index=[1, 2, 3, 4, 5, 6, 7, 8, 9])\n",
        "\n",
        "df"
      ],
      "execution_count": null,
      "outputs": [
        {
          "output_type": "execute_result",
          "data": {
            "text/html": [
              "<div>\n",
              "<style scoped>\n",
              "    .dataframe tbody tr th:only-of-type {\n",
              "        vertical-align: middle;\n",
              "    }\n",
              "\n",
              "    .dataframe tbody tr th {\n",
              "        vertical-align: top;\n",
              "    }\n",
              "\n",
              "    .dataframe thead th {\n",
              "        text-align: right;\n",
              "    }\n",
              "</style>\n",
              "<table border=\"1\" class=\"dataframe\">\n",
              "  <thead>\n",
              "    <tr style=\"text-align: right;\">\n",
              "      <th></th>\n",
              "      <th>Параметры</th>\n",
              "      <th>Единицы измерения</th>\n",
              "      <th>Значения</th>\n",
              "    </tr>\n",
              "  </thead>\n",
              "  <tbody>\n",
              "    <tr>\n",
              "      <th>1</th>\n",
              "      <td>Площадь нефтеносности залежи</td>\n",
              "      <td>м2</td>\n",
              "      <td>6012.000</td>\n",
              "    </tr>\n",
              "    <tr>\n",
              "      <th>2</th>\n",
              "      <td>Эффективная нефтенасыщенная толщина залежи</td>\n",
              "      <td>м</td>\n",
              "      <td>16.000</td>\n",
              "    </tr>\n",
              "    <tr>\n",
              "      <th>3</th>\n",
              "      <td>Коэффициент пористости</td>\n",
              "      <td>д.ед.</td>\n",
              "      <td>0.170</td>\n",
              "    </tr>\n",
              "    <tr>\n",
              "      <th>4</th>\n",
              "      <td>Коэффициент нефтенасыщенности</td>\n",
              "      <td>д.ед.</td>\n",
              "      <td>0.515</td>\n",
              "    </tr>\n",
              "    <tr>\n",
              "      <th>5</th>\n",
              "      <td>Плотность нефти в поверхностных условиях</td>\n",
              "      <td>т/м3</td>\n",
              "      <td>0.826</td>\n",
              "    </tr>\n",
              "    <tr>\n",
              "      <th>6</th>\n",
              "      <td>Переводной коэффициент из пластовых условий в поверхностные</td>\n",
              "      <td>д.ед.</td>\n",
              "      <td>0.915</td>\n",
              "    </tr>\n",
              "    <tr>\n",
              "      <th>7</th>\n",
              "      <td>Газовый фактор</td>\n",
              "      <td>м3/т</td>\n",
              "      <td>38.700</td>\n",
              "    </tr>\n",
              "    <tr>\n",
              "      <th>8</th>\n",
              "      <td>Коэффициент нефтеотдачи</td>\n",
              "      <td>д.ед.</td>\n",
              "      <td>0.585</td>\n",
              "    </tr>\n",
              "    <tr>\n",
              "      <th>9</th>\n",
              "      <td>Добыча нефти с начала разработки на анализируемую дату</td>\n",
              "      <td>тыс.т.</td>\n",
              "      <td>2016.900</td>\n",
              "    </tr>\n",
              "  </tbody>\n",
              "</table>\n",
              "</div>"
            ],
            "text/plain": [
              "                                                     Параметры  ...  Значения\n",
              "1                                 Площадь нефтеносности залежи  ...  6012.000\n",
              "2                   Эффективная нефтенасыщенная толщина залежи  ...    16.000\n",
              "3                                       Коэффициент пористости  ...     0.170\n",
              "4                                Коэффициент нефтенасыщенности  ...     0.515\n",
              "5                     Плотность нефти в поверхностных условиях  ...     0.826\n",
              "6  Переводной коэффициент из пластовых условий в поверхностные  ...     0.915\n",
              "7                                               Газовый фактор  ...    38.700\n",
              "8                                      Коэффициент нефтеотдачи  ...     0.585\n",
              "9       Добыча нефти с начала разработки на анализируемую дату  ...  2016.900\n",
              "\n",
              "[9 rows x 3 columns]"
            ]
          },
          "metadata": {
            "tags": []
          },
          "execution_count": 3
        }
      ]
    },
    {
      "cell_type": "markdown",
      "metadata": {
        "id": "AsscIEDyqF9o"
      },
      "source": [
        "$$Q_{ИЗВ} = F \\cdot h_{НН} \\cdot m \\cdot K _{НН} \\cdot \\rho_{Н} \\cdot \\beta \\cdot \\eta $$"
      ]
    },
    {
      "cell_type": "markdown",
      "metadata": {
        "id": "QmjG89kmrIlv"
      },
      "source": [
        "где:\n",
        "- $Q_{ИЗВ}$ - извлекаемые (промышленные) запасы нефти, $т$;\n",
        "- $F$ — площадь нефтеносности залежи, $м^{2}$;\n",
        "- $h_{НН}$ — эффективная нефтенасыщенная толщина залежи, $м$;\n",
        "- $m$ — коэффициент открытой пористости нефтесодержащих пород;\n",
        "- $K _{НН}$ — коэффициент насыщения пласта нефтью (коэффициент нефтенасыщенности);\n",
        "- $\\rho_{Н}$ — плотность нефти в поверхностных условиях, $т/м^{3}$;\n",
        "- $\\beta$ — пересчетный коэффициент, учитывающий усадку нефти $\\beta = \\cfrac{1}{b}$ (${b}$ - объемный коэффициент пластовой нефти);\n",
        "- $\\eta$ — коэффициент нефтеотдачи (КИН);\n"
      ]
    },
    {
      "cell_type": "markdown",
      "metadata": {
        "id": "k4MSZAQa6nsQ"
      },
      "source": [
        "$K _{НН}$ - Коэффициент нефтенасыщенности или газонасыщенности (oil or gas saturation factor) - отношение объема нефти (газа), содержащейся в порах (пустотах) пласта, к общему объему всех пор (пустот) нефтеносного (газоносного) пласта в пластовых условиях (М.А. Жданов, 1962; Ф.И. Котяхов, И.Х. Абрикосов, И.С. Гутман, 1970). \n",
        "\n",
        "$m$ - в нефтегазопромысловой геологии более важен коэффициент открытой пористости, т.к. он характеризует объем углеводородов, содержащийся в породе. На практике коэффициент открытой пористости определяется в лабораторных условиях по методу Преображенского или по данным геофизических исследований в скважине (ГИС).\n",
        "\n",
        "Полная пористость – это объем всех пор, находящихся в горной породе.\n",
        "\n",
        "Открытая пористость – это объем пор, сообщающихся между  cобой. Количественно та и другая пористость выражается коэффициентом пористости, который представляет собой отношение объема пор к объему образца породы\n"
      ]
    },
    {
      "cell_type": "markdown",
      "metadata": {
        "id": "YPfQyGNivlXy"
      },
      "source": [
        "Рассчитать:\n",
        "\n",
        "- 1) Начальные геологические запасы нефти\n",
        "- 2) Начальные извлекаемые запасы нефти\n",
        "- 3) Остаточные геологические запасы нефти\n",
        "- 4) Остаточные извлекаемые запасы нефти\n",
        "- 5) Начальные геологические запасы газа\n",
        "- 6) Начальные извлекаемые запасы газа\n",
        "- 7) Остаточные балансовые запасы газа\n",
        "- 8) Остаточные извлекаемые запасы газа"
      ]
    },
    {
      "cell_type": "markdown",
      "metadata": {
        "id": "r0QBNcH3vZ25"
      },
      "source": [
        "### Расчеты"
      ]
    },
    {
      "cell_type": "markdown",
      "metadata": {
        "id": "XEOI7HpSxVwL"
      },
      "source": [
        "$Q_{ИЗВ} = Q_{ГЕОЛ} \\cdot \\eta $\n",
        "\n",
        "$Q_{ГЕОЛ} = F \\cdot h_{НН} \\cdot m \\cdot K _{НН} \\cdot \\rho_{Н} \\cdot \\beta $\n",
        "\n",
        "$Q_{ОСТ\\,ГЕОЛ} = Q_{ГЕОЛ} - Q_{ДОБ} $\n",
        "\n",
        "$Q_{ОСТ\\,ИЗВ} = Q_{ИЗВ} - Q_{ДОБ} $\n",
        "\n",
        "\n"
      ]
    },
    {
      "cell_type": "code",
      "metadata": {
        "id": "q0W-lN9PbxRa"
      },
      "source": [
        "values = df['Значения']"
      ],
      "execution_count": null,
      "outputs": []
    },
    {
      "cell_type": "code",
      "metadata": {
        "id": "gaPhZUOmbxUY"
      },
      "source": [
        "F_value = values[1]\n",
        "hnn_value = values[2]\n",
        "m_value = values[3]\n",
        "Knn_value = values[4]\n",
        "rhon_value = values[5]\n",
        "beta_value = values[6]\n",
        "eta_value = values[8]\n",
        "q_dob = values[9]\n",
        "\n",
        "q_geol = F_value * hnn_value * m_value * Knn_value * rhon_value * beta_value\n",
        "q_ost_geol = q_geol * eta_value"
      ],
      "execution_count": null,
      "outputs": []
    },
    {
      "cell_type": "code",
      "metadata": {
        "colab": {
          "base_uri": "https://localhost:8080/"
        },
        "id": "d6qazpribxW5",
        "outputId": "e26be716-ae70-472c-9c90-d525b6f238ea"
      },
      "source": [
        "print('Начальные геологические запасы нефти: {0:,.0f}'.format(q_geol))\n",
        "print('Начальные извлекаемые запасы нефти: {0:,.0f}'.format(q_ost_geol))\n",
        "print('Остаточные геологические запасы нефти: {0:,.0f}'.format(q_geol - q_dob))\n",
        "print('Остаточные извлекаемые запасы нефти: {0:,.0f}'.format(q_ost_geol - q_dob))"
      ],
      "execution_count": null,
      "outputs": [
        {
          "output_type": "stream",
          "text": [
            "Начальные геологические запасы нефти: 6,365\n",
            "Начальные извлекаемые запасы нефти: 3,724\n",
            "Остаточные геологические запасы нефти: 4,348\n",
            "Остаточные извлекаемые запасы нефти: 1,707\n"
          ],
          "name": "stdout"
        }
      ]
    },
    {
      "cell_type": "markdown",
      "metadata": {
        "id": "Q3VSR9e-80b6"
      },
      "source": [
        "$V_{ГЕОЛ} = Q_{ГЕОЛ} \\cdot Г $\n",
        "\n",
        "$V_{ИЗВ} = Q_{ИЗВ} \\cdot Г $\n",
        "\n",
        "$V_{ОСТ\\,ГЕОЛ} = Q_{ОСТ\\,ГЕОЛ} \\cdot Г $\n",
        "\n",
        "$V_{ОСТ\\,ИЗВ} = Q_{ОСТ\\,ИЗВ} \\cdot Г $\n",
        "\n",
        "где:\n",
        "- $Г$ - газовый фактор (объёмное содержание газа в единице массы нефти), $м^{3}/т$"
      ]
    },
    {
      "cell_type": "code",
      "metadata": {
        "colab": {
          "base_uri": "https://localhost:8080/"
        },
        "id": "tp91wLzy6FrG",
        "outputId": "b726bc9f-411b-4969-ef20-395570609e88"
      },
      "source": [
        "gfac_value = values[7]\n",
        "\n",
        "print('Начальные геологические запасы газа: {0:,.0f}'.format(q_geol * gfac_value))\n",
        "print('Начальные извлекаемые запасы газа: {0:,.0f}'.format(q_ost_geol * gfac_value))\n",
        "print('Остаточные геологические запасы газа: {0:,.0f}'.format((q_geol - q_dob) * gfac_value))\n",
        "print('Остаточные извлекаемые запасы газа: {0:,.0f}'.format((q_ost_geol - q_dob) * gfac_value))"
      ],
      "execution_count": null,
      "outputs": [
        {
          "output_type": "stream",
          "text": [
            "Начальные геологические запасы газа: 246,324\n",
            "Начальные извлекаемые запасы газа: 144,100\n",
            "Остаточные геологические запасы газа: 168,270\n",
            "Остаточные извлекаемые запасы газа: 66,046\n"
          ],
          "name": "stdout"
        }
      ]
    },
    {
      "cell_type": "markdown",
      "metadata": {
        "id": "myvEgVcWB3Wo"
      },
      "source": [
        "## Задача 2.2 Определение количества нефти, которое возможно добыть при упругом режиме пласта (свободное фонтанирование)"
      ]
    },
    {
      "cell_type": "markdown",
      "metadata": {
        "id": "-a9hLjC_Cd4i"
      },
      "source": [
        "Определить количество нефти, полученное за счет упругого расширения нефти, воды и горной породы, если:\n",
        "- площадь области нефтеносности $S_{Н}=900\\,га$\n",
        "- законтурная вода занимает площадь $S_{В}=10\\,000\\,га$\n",
        "- средняя толщина пласта $h=15\\,м$\n",
        "- пористость пласта $m=0,17$\n",
        "- водонасыщенность в зоне нефтеносности $\\sigma_{В}=20\\% $\n",
        "- коэффициент сжимаемости нефти $\\beta_{Н}=6.12 \\cdot 10^{-10} м2/Н$\n",
        "- коэффициент сжимаемости воды $\\beta_{В}=4.28 \\cdot 10^{-10} м2/Н$\n",
        "- коэффициент сжимаемости породы $\\beta_{С}=2.04 \\cdot 10^{-10} м2/Н$. \n",
        "\n",
        "Пластовое давление снижается от 30 до 20 МПа.\n",
        "\n",
        "Также определить коэффициент извлечения нефти (КИН)."
      ]
    },
    {
      "cell_type": "markdown",
      "metadata": {
        "id": "2oB82MvWKN3S"
      },
      "source": [
        "Рассчитать:\n",
        "\n",
        "- 1) Начальный объем нефти\n",
        "- 2) Объем нефти, вытесняемый из зоны нефтеносности при падении давления за счет сжимаемости нефти и пористой среды\n",
        "- 3) Объем вытсненной нефти в зоне нефтеносности при падении давления за счет расширения воды и породы в зоне нефтеносности\n",
        "- 4) Объем нефти, вытесняемый из окружающей зоны водоносности при падении давления за счет упругости воды и пласта\n",
        "- 5) Рассчитать КИН"
      ]
    },
    {
      "cell_type": "markdown",
      "metadata": {
        "id": "w64YmPVILet8"
      },
      "source": [
        "### Расчеты"
      ]
    },
    {
      "cell_type": "markdown",
      "metadata": {
        "id": "xISMIFNZLfSQ"
      },
      "source": [
        "$Q_{ГЕОЛ} = S_{Н} \\cdot h \\cdot (1 - \\sigma_{В}) \\cdot m $\n",
        "\n",
        "\n",
        "$V_{1} = S_{Н} \\cdot h \\cdot (1 - \\sigma_{В}) \\cdot m \\cdot \\beta_{Н} \\cdot \\Delta P + S_{Н} \\cdot h \\cdot (1 - \\sigma_{В}) \\cdot \\beta_{С} \\cdot \\Delta P = $\n",
        "\n",
        "\n",
        "$=S_{Н} \\cdot h \\cdot (1 - \\sigma_{В}) \\cdot (\\beta_{Н} \\cdot m + \\beta_{С}) \\cdot \\Delta P$\n",
        "\n",
        "\n",
        "$V_{2} = S_{Н} \\cdot h \\cdot \\sigma_{В} \\cdot m \\cdot \\beta_{В} \\cdot \\Delta P + S_{Н} \\cdot h \\cdot \\sigma_{В} \\cdot \\beta_{С} \\cdot \\Delta P = $\n",
        "\n",
        "\n",
        "$=S_{Н} \\cdot h \\cdot \\sigma_{В} \\cdot (\\beta_{В} \\cdot m + \\beta_{С}) \\cdot \\Delta P$\n",
        "\n",
        "\n",
        "$V_{3} = S_{В} \\cdot h \\cdot m \\cdot \\beta_{В} \\cdot \\Delta P + S_{Н} \\cdot h \\cdot \\beta_{С} \\cdot \\Delta P = $\n",
        "\n",
        "\n",
        "$=S_{Н} \\cdot h \\cdot (\\beta_{В} \\cdot m + \\beta_{С}) \\cdot \\Delta P$\n",
        "\n",
        "\n",
        "$КИН = \\cfrac{V_{1} + V_{2} + V_{3}}{Q_{ГЕОЛ}} $\n",
        "\n",
        "\n"
      ]
    },
    {
      "cell_type": "code",
      "metadata": {
        "id": "Gw1EM2prBSCm"
      },
      "source": [
        "HA_TO_SQRTM = 10000"
      ],
      "execution_count": null,
      "outputs": []
    },
    {
      "cell_type": "code",
      "metadata": {
        "id": "IXPi00uZLS00"
      },
      "source": [
        "sn_value = 900\n",
        "sv_value = 10000\n",
        "hnn_value = 15\n",
        "m_value = 0.17\n",
        "sigmav_value = 0.2\n",
        "betan_value = 6.12 * 10**-10\n",
        "betav_value = 4.28 * 10**-10\n",
        "betas_value = 2.04 * 10**-10\n",
        "p1 = 30 * 10**6\n",
        "p2 = 20 * 10**6\n",
        "\n",
        "q_geol = sn_value * HA_TO_SQRTM * hnn_value * (1 - sigmav_value) * m_value\n",
        "v_1 = sn_value * HA_TO_SQRTM * hnn_value * (1 - sigmav_value) * (betan_value * m_value + betas_value) * (p1 - p2)\n",
        "v_2 = sn_value * HA_TO_SQRTM * hnn_value * sigmav_value * (betav_value * m_value + betas_value) * (p1 - p2)\n",
        "v_3 = sv_value * HA_TO_SQRTM * hnn_value * (betav_value * m_value + betas_value) * (p1 - p2)"
      ],
      "execution_count": null,
      "outputs": []
    },
    {
      "cell_type": "code",
      "metadata": {
        "colab": {
          "base_uri": "https://localhost:8080/"
        },
        "id": "hfybPTnJOE8y",
        "outputId": "7b49dd2f-74fe-4612-fe14-3fd32d90d10a"
      },
      "source": [
        "print('Начальный объем нефти: {0:,.0f}'.format(q_geol))\n",
        "print('Объем нефти, вытесняемый из зоны нефтеносности при падении давления за счет сжимаемости нефти и пористой среды: {0:,.0f}'.format(v_1))\n",
        "print('Объем вытсненной нефти в зоне нефтеносности при падении давления за счет расширения воды и породы в зоне нефтеносности: {0:,.0f}'.format(v_2))\n",
        "print('Объем нефти, вытесняемый из окружающей зоны водоносности при падении давления за счет упругости воды и пласта: {0:,.0f}'.format(v_3))\n",
        "print('КИН: {0:,.2%}'.format((v_1 + v_2 + v_3) / q_geol))"
      ],
      "execution_count": null,
      "outputs": [
        {
          "output_type": "stream",
          "text": [
            "Начальный объем нефти: 18,360,000\n",
            "Объем нефти, вытесняемый из зоны нефтеносности при падении давления за счет сжимаемости нефти и пористой среды: 332,683\n",
            "Объем вытсненной нефти в зоне нефтеносности при падении давления за счет расширения воды и породы в зоне нефтеносности: 74,725\n",
            "Объем нефти, вытесняемый из окружающей зоны водоносности при падении давления за счет упругости воды и пласта: 4,151,400\n",
            "КИН: 24.83%\n"
          ],
          "name": "stdout"
        }
      ]
    },
    {
      "cell_type": "markdown",
      "metadata": {
        "id": "Mc6QgM9RiiBn"
      },
      "source": [
        "## Задача 2.3 Расчет запасов газа по методу падения давления"
      ]
    },
    {
      "cell_type": "markdown",
      "metadata": {
        "id": "73CoFVasiyCe"
      },
      "source": [
        "$Q_{ИЗВ} = \\cfrac{(Q_{2} - Q_{1}) \\cdot (P_{1} \\cdot \\alpha_{1} - P_{K} \\cdot \\alpha_{K})}{(P_{1} \\cdot \\alpha_{1} - P_{2} \\cdot \\alpha_{2})} \n",
        " $"
      ]
    },
    {
      "cell_type": "markdown",
      "metadata": {
        "id": "6cCigcbIrP8o"
      },
      "source": [
        "где:\n",
        "- $Q_{ИЗВ}$ - извлекаемые запасы газа, $млрд\\,м^{3}$;\n",
        "- $Q_{1}$ — количество газа, добытого с начала разработки на 1-ю дату замера, $млрд\\,м^{3}$;\n",
        "- $Q_{2}$ — количество газа, добытого с начала разработки на 2-ю дату замера, $млрд\\,м^{3}$;\n",
        "- $\\alpha_{1}$ — поправка за отклонение от идеального газа на 1-ю дату замера;\n",
        "- $\\alpha_{2}$ — поправка за отклонение от идеального газа на 2-ю дату замера;\n",
        "- $\\alpha_{K}$ — поправка за отклонение от идеального газа (конечные условия);\n",
        "- $P_{1}$ — пластовое давление на 1-ю дату замера, $МПа$;\n",
        "- $P_{2}$ — пластовое давление на 2-ю дату замера, $МПа$;\n",
        "- $P_{K}$ — конечное пластовое давление, $МПа$;"
      ]
    },
    {
      "cell_type": "code",
      "metadata": {
        "id": "IOjF3ShrijpF"
      },
      "source": [
        "q1_value = 10\n",
        "q2_value = 100\n",
        "p1_value = 28\n",
        "p2_value = 12\n",
        "pk_value = 1\n",
        "alpha1_value = 1 / 0.9828\n",
        "alpha2_value = 1 / 0.9703\n",
        "alphak_value = 1 / 0.9946\n"
      ],
      "execution_count": null,
      "outputs": []
    },
    {
      "cell_type": "code",
      "metadata": {
        "id": "7_8fKMnOtOPn"
      },
      "source": [
        "ATM_TO_PA = 101325"
      ],
      "execution_count": null,
      "outputs": []
    },
    {
      "cell_type": "code",
      "metadata": {
        "id": "0FnwNBtNtT8u"
      },
      "source": [
        "q_geol = (\n",
        "    (q2_value - q1_value) \n",
        "    * (p1_value * ATM_TO_PA * alpha1_value - pk_value * ATM_TO_PA * alphak_value)\n",
        "    / (p1_value * ATM_TO_PA * alpha1_value - p2_value * ATM_TO_PA * alpha2_value)\n",
        ")"
      ],
      "execution_count": null,
      "outputs": []
    },
    {
      "cell_type": "code",
      "metadata": {
        "colab": {
          "base_uri": "https://localhost:8080/"
        },
        "id": "uGfA_xY8tazm",
        "outputId": "9c65449d-acd8-42f5-ee24-475e2281e11d"
      },
      "source": [
        "print('Извлекаемые запасы газа: {0:,.2f} млрд. куб. м'.format(q_geol))"
      ],
      "execution_count": null,
      "outputs": [
        {
          "output_type": "stream",
          "text": [
            "Извлекаемые запасы газа: 153.42 млрд. куб. м\n"
          ],
          "name": "stdout"
        }
      ]
    },
    {
      "cell_type": "markdown",
      "metadata": {
        "id": "xqQOUWD9ikMW"
      },
      "source": [
        "## Задача 2.4 Определение необходимого числа скважин в условиях максимальной добычи извлекаемых запасов "
      ]
    },
    {
      "cell_type": "markdown",
      "metadata": {
        "id": "U2o9ACCEMPb0"
      },
      "source": [
        "При проектировании разработки нефтяного месторождения в нем было выделено два объекта разработки. Пласты характеризуются неоднородным строением и содержат много пропластков и линз. \n",
        "\n",
        "В результате лабораторного изучения процесса вытеснения нефти из пород-коллекторов определены коэффициенты вытеснения $K_{ВЫТ1}=0,7$ и $K_{ВЫТ2}=0,6$ для первого и второго объектов, а также получены зависимости коэффициентов охвата первого и второго объектов воздействием $K_{ОХВ1}$, $K_{ОХВ2}$ от соответствующих параметров плотности сеток скважин $S_{C1}$, $S_{C2}$, они имеют вид:\n",
        "- $K_{ОХВ1}=1-0,055 \\cdot S_{C1}$\n",
        "- $K_{ОХВ2}=1-0,00833 \\cdot S_{C2}$\n",
        "\n",
        "Геологические запасы $Q_{Г1}=80$ млн т, $Q_{Г2}=30$ млн т. Площадь нефтеносности $S_{1}=5000$ га, $S_{2}=1200$ га.\n",
        "На оба объекта решено пробурить n=150 скважин.\n",
        "\n",
        "Найти какое число скважин следует пробурить на каждый объект разработки с тем, чтобы суммарные извлекаемые запасы для месторождения в целом получились максимальными.\n",
        "\n",
        "$КИН = \\cfrac{Q_{ИЗВ}}{Q_{ГЕОЛ}}$\n",
        "\n",
        "$КИН = K_{ВЫТ} \\cdot K_{ОХВ} \\cdot K_{ЗАВ}$\n",
        "\n",
        "где:\n",
        "\n",
        "- $K_{ВЫТ}$ - Коэффициент вытеснения нефти водой - отношение извлеченной из пласта нефти к ее запасам, первоначально находившимся в части пласта, подверженной воздействию заводнением. Определяется лабораторно на образцах породы.\n",
        "- $K_{ОХВ}$ - Коэффициент охвата - отношение запасов нефти, первоначально находившихся в части пласта, подверженной воздействию заводнением, к геологическим запасам нефти в пласте\n",
        "- $K_{ЗАВ}$ - Коэффициент заводнения - это отношение накопленной добычи нефти к дренируемым запасам. Характеризует ту часть дренируемых запасов, которую возможно добыть."
      ]
    },
    {
      "cell_type": "markdown",
      "metadata": {
        "id": "7XA9TwvON2fs"
      },
      "source": [
        "### Расчеты"
      ]
    },
    {
      "cell_type": "markdown",
      "metadata": {
        "id": "xxERfFD1N59s"
      },
      "source": [
        "$n=n_{1} + n_{2}$\n",
        "\n",
        "$S_{С1} = \\cfrac{S_{1} } {n_{1}}, S_{С2} = \\cfrac{S_{2} } {n_{2}} $\n",
        "\n",
        "$Q_{ИЗВ1} = Q_{Г1} \\cdot КИН_{1} = Q_{Г1} \\cdot K_{ВЫТ1} \\cdot K_{ОХВ1} = Q_{Г1} \\cdot K_{ВЫТ1} \\cdot (1 - 0.055 \\cdot S_{C1})$\n",
        "\n",
        "$Q_{ИЗВ2} = Q_{Г2} \\cdot КИН_{2} = Q_{Г2} \\cdot K_{ВЫТ2} \\cdot K_{ОХВ2} = Q_{Г2} \\cdot K_{ВЫТ2} \\cdot (1 - 0.00833 \\cdot S_{C2})$\n",
        "\n",
        "$Q_{\\Sigma} = Q_{ИЗВ1} + Q_{ИЗВ2} = $\n",
        "\n",
        "$ = Q_{Г1} \\cdot K_{ВЫТ1} + Q_{Г2} \\cdot K_{ВЫТ2} - \\cfrac{0.055 \\cdot Q_{Г1} \\cdot K_{ВЫТ1} \\cdot S_{1}}{n_{1}} - \\cfrac{0.00833 \\cdot Q_{Г2} \\cdot K_{ВЫТ2} \\cdot S_{2}}{n - n_{1}} = $\n",
        "\n",
        "$ = A - \\cfrac{B}{n_{1}} - \\cfrac{C}{n-n_{1}}$\n",
        "\n",
        "Найдем локальный экстремум $Q_{\\Sigma}$ как функции от $n_{1}$\n",
        "\n",
        "$Q_{\\Sigma}^{'} = 0 $\n",
        "\n",
        "$\\cfrac{dQ_{\\Sigma}}{dn} = \\cfrac{B}{n_{1}^{2}} - \\cfrac{C}{(n-n_{1})^{2}} = 0$\n",
        "\n",
        "$(B-C) \\cdot n_{1}^{2} - 2Bn \\cdot n_{1} + Bn^{2}= 0$\n"
      ]
    },
    {
      "cell_type": "markdown",
      "metadata": {
        "id": "7fXVucWBYkf3"
      },
      "source": [
        "Формула нахождения корней квадратных уравнений с помощью дискриминанта:\n",
        "\n",
        "$a \\cdot x^2 + b \\cdot x + c = 0$\n",
        "\n",
        "$x_{1,2} = \\cfrac{-b\\pm\\sqrt{D}}{2a}$,\n",
        "\n",
        "где\n",
        "\n",
        "$D = b^2 - 4ac$"
      ]
    },
    {
      "cell_type": "markdown",
      "metadata": {
        "id": "Q_rbEUdUZHeu"
      },
      "source": [
        "Соответственно:\n",
        "\n",
        "$D = 4B^2n^2 - 4Bn^2(B-C) = 4B^2n^2 - 4B^2n^2 + 4BCn^2$\n",
        "\n",
        "$\\sqrt{D} = 2n \\cdot \\sqrt{B} \\cdot \\sqrt{C}$\n",
        "\n",
        "$n_{1,2} = \\cfrac{2Bn\\pm2n \\cdot \\sqrt{B} \\cdot \\sqrt{C}}{2(B-C)} = n \\cdot \\cfrac{B\\pm\\sqrt{B} \\cdot \\sqrt{C}}{(B-C)}$\n",
        "\n",
        "$n_{1} = \\cfrac{n\\sqrt{B}}{\\sqrt{B}-\\sqrt{C}}$\n",
        "\n",
        "$n_{2} = \\cfrac{n\\sqrt{B}}{\\sqrt{B}+\\sqrt{C}}$"
      ]
    },
    {
      "cell_type": "code",
      "metadata": {
        "id": "adzHXvuWMZ2J"
      },
      "source": [
        "s1_value = 5000\n",
        "s2_value = 1200\n",
        "q1_geol = 80\n",
        "q2_geol = 30\n",
        "kvyt1_value = 0.7\n",
        "kvyt2_value = 0.6\n",
        "\n",
        "B_value = 0.055 * q1_geol * kvyt1_value * s1_value\n",
        "C_value = 0.00833 * q2_geol * kvyt2_value * s2_value"
      ],
      "execution_count": null,
      "outputs": []
    },
    {
      "cell_type": "code",
      "metadata": {
        "colab": {
          "base_uri": "https://localhost:8080/"
        },
        "id": "GMUkiIQpbiEo",
        "outputId": "b3042c43-8ef6-4d6f-91ea-35dc5464f42c"
      },
      "source": [
        "B_value ** 0.5"
      ],
      "execution_count": null,
      "outputs": [
        {
          "output_type": "execute_result",
          "data": {
            "text/plain": [
              "124.09673645990857"
            ]
          },
          "metadata": {
            "tags": []
          },
          "execution_count": 16
        }
      ]
    },
    {
      "cell_type": "code",
      "metadata": {
        "colab": {
          "base_uri": "https://localhost:8080/"
        },
        "id": "2lTBK81dbjHd",
        "outputId": "65c5745b-5c2f-4618-8345-0424865ecd8a"
      },
      "source": [
        "C_value ** 0.5"
      ],
      "execution_count": null,
      "outputs": [
        {
          "output_type": "execute_result",
          "data": {
            "text/plain": [
              "13.413724315043902"
            ]
          },
          "metadata": {
            "tags": []
          },
          "execution_count": 17
        }
      ]
    },
    {
      "cell_type": "code",
      "metadata": {
        "colab": {
          "base_uri": "https://localhost:8080/"
        },
        "id": "9RL8HcTxbkSk",
        "outputId": "92264c3c-5d39-47e9-aa04-6f50b12e447f"
      },
      "source": [
        "150*(B_value ** 0.5) / (B_value ** 0.5 - C_value ** 0.5)"
      ],
      "execution_count": null,
      "outputs": [
        {
          "output_type": "execute_result",
          "data": {
            "text/plain": [
              "168.17856786028875"
            ]
          },
          "metadata": {
            "tags": []
          },
          "execution_count": 18
        }
      ]
    },
    {
      "cell_type": "markdown",
      "metadata": {
        "id": "eH212apygQNs"
      },
      "source": [
        "Подходящее решение:"
      ]
    },
    {
      "cell_type": "code",
      "metadata": {
        "colab": {
          "base_uri": "https://localhost:8080/"
        },
        "id": "LVB4YypedJF1",
        "outputId": "5fcbdb40-565c-47bd-980d-f6a07661d5e5"
      },
      "source": [
        "150*(B_value ** 0.5) / (B_value ** 0.5 + C_value ** 0.5)"
      ],
      "execution_count": null,
      "outputs": [
        {
          "output_type": "execute_result",
          "data": {
            "text/plain": [
              "135.367959383472"
            ]
          },
          "metadata": {
            "tags": []
          },
          "execution_count": 19
        }
      ]
    },
    {
      "cell_type": "markdown",
      "metadata": {
        "id": "RAN9-ltXgTHT"
      },
      "source": [
        "Соответственно:\n",
        "\n",
        "$n_{1} = 135$\n",
        "\n",
        "$n_{2} = 15$"
      ]
    },
    {
      "cell_type": "markdown",
      "metadata": {
        "id": "Fg9kRCe5doKy"
      },
      "source": [
        "## Задача 2.5 Определение параметров по методу материального баланса"
      ]
    },
    {
      "cell_type": "markdown",
      "metadata": {
        "id": "PAK_lK7fd0Yi"
      },
      "source": [
        "Определить текущую нефтенасыщенность $S_{Н}$ нефтяной залежи на различные моменты времени, когда пластовое давление в процессе разработки при режиме растворенного газа $P_1 = 21.0\\;МПа, P_2=18.4\\;МПа, P_3=17\\;МПа$. \n",
        "\n",
        "Основные данные о параметрах нефти и газа приведены в таблице. \n",
        "Давление насыщения $P_Н = 22\\;МПа$. Насыщенность порового объема связанной водой $S_{СВ} = 0.12$."
      ]
    },
    {
      "cell_type": "markdown",
      "metadata": {
        "id": "atnWeBmQeDSK"
      },
      "source": [
        "### Решение"
      ]
    },
    {
      "cell_type": "markdown",
      "metadata": {
        "id": "vRtIYOz6gtQc"
      },
      "source": [
        "При упругом режиме параметр нефтенасыщенности постоянен $S_{Н}=Const$\n",
        "\n",
        "В нашем случае пластовое давление опустилось ниже давления насыщения, соответственно добыча идет в режиме растворенного газа. Необходимо определить $S_{Н}$ в различные моменты времени.\n",
        "\n",
        "В пластовых условиях (при пластовых давлениях) газ находится в растворённом состоянии и только при снижении давления начинает выделяться из нефти. \n",
        "Количество растворённого в нефти газа характеризуется понятием газовый фактор (Г). \n",
        "Этот показатель используется при разработке нефтяных и газонефтяных месторождений.\n",
        "Газовый фактор представляет собой объёмное содержание газа в единице массы нефти $Г = \\cfrac{Q_Г}{Q_Н}$, единица измерения - $м^3/т$.\n",
        "\n",
        "Заданные параметры:\n",
        "\n",
        "- $b_{Н}$ - объемный коэффициент нефти\n",
        "- $b_{Н0}$ - объемный коэффициент нефти при давлении насыщения\n",
        "- $b_{Г}$ - объемный коэффициент газа\n",
        "- $Г_0$ - газовый фактор при давлении насыщения\n",
        "- $Г$ - текущий газовый фактор за весь период добычи\n",
        "- $\\overlineГ$ - усредненный газовый фактор\n",
        "\n",
        "\n",
        "$КИН = \\cfrac{Q_{НАК}}{Q_{ГЕОЛ}}$\n",
        "\n",
        "${Q_{ГЕОЛ}} = Q_{НАК}\\cdot \\cfrac{(b_{Н} + (\\overlineГ - Г) \\cdot b_{Г})}{b_{Н} - b_{Н0} + (Г_0 - Г) \\cdot b_{Г}}$\n",
        "\n",
        "$S_{Н}=(1 - КИН) \\cdot \\cfrac{b_{Н}}{b_{Н0}} \\cdot (1 - S_{СВ}) = (1 - \\cfrac{b_{Н} - b_{Н0} + (Г_0 - Г) \\cdot b_{Г}}{(b_{Н} + (\\overlineГ - Г) \\cdot b_{Г})}) \\cdot \\cfrac{b_{Н}}{b_{Н0}} \\cdot (1 - S_{СВ})$"
      ]
    },
    {
      "cell_type": "code",
      "metadata": {
        "id": "VZBnRiMchS8b"
      },
      "source": [
        "b_n0 = 1.5\n",
        "g_0 = 180\n",
        "s_w = 0.12\n",
        "\n",
        "df_data = pd.DataFrame(\n",
        "    { 'p' : [21, 18.4, 17],\n",
        "     'b_n' : [1.481, 1.44, 1.42],\n",
        "     'b_g' : [0.009, 0.0075, 0.0067],\n",
        "     'g_cur' : [100, 110, 120],\n",
        "     'g_mid' : [220, 290, 330],\n",
        "     }\n",
        ")"
      ],
      "execution_count": null,
      "outputs": []
    },
    {
      "cell_type": "code",
      "metadata": {
        "id": "W4etWa_3nqPy"
      },
      "source": [
        "df_data['kin'] = np.round(\n",
        "    (df_data['b_n'] - b_n0 + (g_0 - df_data['g_cur']) * df_data['b_g'] ) / \n",
        "    (df_data['b_n'] + (df_data['g_mid'] - df_data['g_cur']) * df_data['b_g'])\n",
        "    , 3\n",
        ")\n",
        "\n",
        "df_data['s_n'] = np.round(\n",
        "    (1 - df_data['kin']) * df_data['b_n'] / b_n0 * (1 - s_w)\n",
        "    , 2\n",
        ")"
      ],
      "execution_count": null,
      "outputs": []
    },
    {
      "cell_type": "code",
      "metadata": {
        "colab": {
          "base_uri": "https://localhost:8080/",
          "height": 138
        },
        "id": "CKsMXN_noR2-",
        "outputId": "3ac74555-eab7-4168-9297-f3e4dbd2a843"
      },
      "source": [
        "df_data"
      ],
      "execution_count": null,
      "outputs": [
        {
          "output_type": "execute_result",
          "data": {
            "text/html": [
              "<div>\n",
              "<style scoped>\n",
              "    .dataframe tbody tr th:only-of-type {\n",
              "        vertical-align: middle;\n",
              "    }\n",
              "\n",
              "    .dataframe tbody tr th {\n",
              "        vertical-align: top;\n",
              "    }\n",
              "\n",
              "    .dataframe thead th {\n",
              "        text-align: right;\n",
              "    }\n",
              "</style>\n",
              "<table border=\"1\" class=\"dataframe\">\n",
              "  <thead>\n",
              "    <tr style=\"text-align: right;\">\n",
              "      <th></th>\n",
              "      <th>p</th>\n",
              "      <th>b_n</th>\n",
              "      <th>b_g</th>\n",
              "      <th>g_cur</th>\n",
              "      <th>g_mid</th>\n",
              "      <th>kin</th>\n",
              "      <th>s_n</th>\n",
              "    </tr>\n",
              "  </thead>\n",
              "  <tbody>\n",
              "    <tr>\n",
              "      <th>0</th>\n",
              "      <td>21.0</td>\n",
              "      <td>1.481</td>\n",
              "      <td>0.0090</td>\n",
              "      <td>100</td>\n",
              "      <td>220</td>\n",
              "      <td>0.274</td>\n",
              "      <td>0.63</td>\n",
              "    </tr>\n",
              "    <tr>\n",
              "      <th>1</th>\n",
              "      <td>18.4</td>\n",
              "      <td>1.440</td>\n",
              "      <td>0.0075</td>\n",
              "      <td>110</td>\n",
              "      <td>290</td>\n",
              "      <td>0.167</td>\n",
              "      <td>0.70</td>\n",
              "    </tr>\n",
              "    <tr>\n",
              "      <th>2</th>\n",
              "      <td>17.0</td>\n",
              "      <td>1.420</td>\n",
              "      <td>0.0067</td>\n",
              "      <td>120</td>\n",
              "      <td>330</td>\n",
              "      <td>0.114</td>\n",
              "      <td>0.74</td>\n",
              "    </tr>\n",
              "  </tbody>\n",
              "</table>\n",
              "</div>"
            ],
            "text/plain": [
              "      p    b_n     b_g  g_cur  g_mid    kin   s_n\n",
              "0  21.0  1.481  0.0090    100    220  0.274  0.63\n",
              "1  18.4  1.440  0.0075    110    290  0.167  0.70\n",
              "2  17.0  1.420  0.0067    120    330  0.114  0.74"
            ]
          },
          "metadata": {
            "tags": []
          },
          "execution_count": 22
        }
      ]
    },
    {
      "cell_type": "code",
      "metadata": {
        "colab": {
          "base_uri": "https://localhost:8080/",
          "height": 517
        },
        "id": "f_EmgbnHo-LY",
        "outputId": "d627566a-8eb1-41e0-b60f-7992bb336325"
      },
      "source": [
        "fig = go.Figure()\n",
        "\n",
        "fig.add_trace(go.Scatter(x=df_data['p'], y=df_data['kin'],\n",
        "                    mode='lines+markers',\n",
        "                    name='КИН'))\n",
        "\n",
        "fig.add_trace(go.Scatter(x=df_data['p'], y=df_data['s_n'],\n",
        "                    mode='lines+markers',\n",
        "                    name='Нефтенасыщенность'))\n",
        "\n",
        "fig.update_layout( \n",
        "    xaxis=dict(\n",
        "        domain=[0.2, 0.9],\n",
        "        tickmode = 'array',\n",
        "        tickvals = df_data['p'],\n",
        "        title='Давление (по времени)',\n",
        "        autorange = \"reversed\"\n",
        "    ),\n",
        "    title={\n",
        "        'text': \"Динамика параметров при режиме растворенного газа\",\n",
        "        'y':0.95,\n",
        "        'x':0.45,\n",
        "        'xanchor': 'center',\n",
        "        'yanchor': 'top'},\n",
        "    autosize=False,\n",
        "    width=1000,\n",
        "    height=500\n",
        ")\n",
        "\n",
        "fig.show()"
      ],
      "execution_count": null,
      "outputs": [
        {
          "output_type": "display_data",
          "data": {
            "text/html": [
              "<html>\n",
              "<head><meta charset=\"utf-8\" /></head>\n",
              "<body>\n",
              "    <div>\n",
              "            <script src=\"https://cdnjs.cloudflare.com/ajax/libs/mathjax/2.7.5/MathJax.js?config=TeX-AMS-MML_SVG\"></script><script type=\"text/javascript\">if (window.MathJax) {MathJax.Hub.Config({SVG: {font: \"STIX-Web\"}});}</script>\n",
              "                <script type=\"text/javascript\">window.PlotlyConfig = {MathJaxConfig: 'local'};</script>\n",
              "        <script src=\"https://cdn.plot.ly/plotly-latest.min.js\"></script>    \n",
              "            <div id=\"c2a3dbfd-2b9d-4ef1-ae37-1936bdc42ab5\" class=\"plotly-graph-div\" style=\"height:500px; width:1000px;\"></div>\n",
              "            <script type=\"text/javascript\">\n",
              "                \n",
              "                    window.PLOTLYENV=window.PLOTLYENV || {};\n",
              "                    \n",
              "                if (document.getElementById(\"c2a3dbfd-2b9d-4ef1-ae37-1936bdc42ab5\")) {\n",
              "                    Plotly.newPlot(\n",
              "                        'c2a3dbfd-2b9d-4ef1-ae37-1936bdc42ab5',\n",
              "                        [{\"mode\": \"lines+markers\", \"name\": \"\\u041a\\u0418\\u041d\", \"type\": \"scatter\", \"x\": [21.0, 18.4, 17.0], \"y\": [0.274, 0.167, 0.114]}, {\"mode\": \"lines+markers\", \"name\": \"\\u041d\\u0435\\u0444\\u0442\\u0435\\u043d\\u0430\\u0441\\u044b\\u0449\\u0435\\u043d\\u043d\\u043e\\u0441\\u0442\\u044c\", \"type\": \"scatter\", \"x\": [21.0, 18.4, 17.0], \"y\": [0.63, 0.7, 0.74]}],\n",
              "                        {\"autosize\": false, \"height\": 500, \"template\": {\"data\": {\"bar\": [{\"error_x\": {\"color\": \"#2a3f5f\"}, \"error_y\": {\"color\": \"#2a3f5f\"}, \"marker\": {\"line\": {\"color\": \"#E5ECF6\", \"width\": 0.5}}, \"type\": \"bar\"}], \"barpolar\": [{\"marker\": {\"line\": {\"color\": \"#E5ECF6\", \"width\": 0.5}}, \"type\": \"barpolar\"}], \"carpet\": [{\"aaxis\": {\"endlinecolor\": \"#2a3f5f\", \"gridcolor\": \"white\", \"linecolor\": \"white\", \"minorgridcolor\": \"white\", \"startlinecolor\": \"#2a3f5f\"}, \"baxis\": {\"endlinecolor\": \"#2a3f5f\", \"gridcolor\": \"white\", \"linecolor\": \"white\", \"minorgridcolor\": \"white\", \"startlinecolor\": \"#2a3f5f\"}, \"type\": \"carpet\"}], \"choropleth\": [{\"colorbar\": {\"outlinewidth\": 0, \"ticks\": \"\"}, \"type\": \"choropleth\"}], \"contour\": [{\"colorbar\": {\"outlinewidth\": 0, \"ticks\": \"\"}, \"colorscale\": [[0.0, \"#0d0887\"], [0.1111111111111111, \"#46039f\"], [0.2222222222222222, \"#7201a8\"], [0.3333333333333333, \"#9c179e\"], [0.4444444444444444, \"#bd3786\"], [0.5555555555555556, \"#d8576b\"], [0.6666666666666666, \"#ed7953\"], [0.7777777777777778, \"#fb9f3a\"], [0.8888888888888888, \"#fdca26\"], [1.0, \"#f0f921\"]], \"type\": \"contour\"}], \"contourcarpet\": [{\"colorbar\": {\"outlinewidth\": 0, \"ticks\": \"\"}, \"type\": \"contourcarpet\"}], \"heatmap\": [{\"colorbar\": {\"outlinewidth\": 0, \"ticks\": \"\"}, \"colorscale\": [[0.0, \"#0d0887\"], [0.1111111111111111, \"#46039f\"], [0.2222222222222222, \"#7201a8\"], [0.3333333333333333, \"#9c179e\"], [0.4444444444444444, \"#bd3786\"], [0.5555555555555556, \"#d8576b\"], [0.6666666666666666, \"#ed7953\"], [0.7777777777777778, \"#fb9f3a\"], [0.8888888888888888, \"#fdca26\"], [1.0, \"#f0f921\"]], \"type\": \"heatmap\"}], \"heatmapgl\": [{\"colorbar\": {\"outlinewidth\": 0, \"ticks\": \"\"}, \"colorscale\": [[0.0, \"#0d0887\"], [0.1111111111111111, \"#46039f\"], [0.2222222222222222, \"#7201a8\"], [0.3333333333333333, \"#9c179e\"], [0.4444444444444444, \"#bd3786\"], [0.5555555555555556, \"#d8576b\"], [0.6666666666666666, \"#ed7953\"], [0.7777777777777778, \"#fb9f3a\"], [0.8888888888888888, \"#fdca26\"], [1.0, \"#f0f921\"]], \"type\": \"heatmapgl\"}], \"histogram\": [{\"marker\": {\"colorbar\": {\"outlinewidth\": 0, \"ticks\": \"\"}}, \"type\": \"histogram\"}], \"histogram2d\": [{\"colorbar\": {\"outlinewidth\": 0, \"ticks\": \"\"}, \"colorscale\": [[0.0, \"#0d0887\"], [0.1111111111111111, \"#46039f\"], [0.2222222222222222, \"#7201a8\"], [0.3333333333333333, \"#9c179e\"], [0.4444444444444444, \"#bd3786\"], [0.5555555555555556, \"#d8576b\"], [0.6666666666666666, \"#ed7953\"], [0.7777777777777778, \"#fb9f3a\"], [0.8888888888888888, \"#fdca26\"], [1.0, \"#f0f921\"]], \"type\": \"histogram2d\"}], \"histogram2dcontour\": [{\"colorbar\": {\"outlinewidth\": 0, \"ticks\": \"\"}, \"colorscale\": [[0.0, \"#0d0887\"], [0.1111111111111111, \"#46039f\"], [0.2222222222222222, \"#7201a8\"], [0.3333333333333333, \"#9c179e\"], [0.4444444444444444, \"#bd3786\"], [0.5555555555555556, \"#d8576b\"], [0.6666666666666666, \"#ed7953\"], [0.7777777777777778, \"#fb9f3a\"], [0.8888888888888888, \"#fdca26\"], [1.0, \"#f0f921\"]], \"type\": \"histogram2dcontour\"}], \"mesh3d\": [{\"colorbar\": {\"outlinewidth\": 0, \"ticks\": \"\"}, \"type\": \"mesh3d\"}], \"parcoords\": [{\"line\": {\"colorbar\": {\"outlinewidth\": 0, \"ticks\": \"\"}}, \"type\": \"parcoords\"}], \"pie\": [{\"automargin\": true, \"type\": \"pie\"}], \"scatter\": [{\"marker\": {\"colorbar\": {\"outlinewidth\": 0, \"ticks\": \"\"}}, \"type\": \"scatter\"}], \"scatter3d\": [{\"line\": {\"colorbar\": {\"outlinewidth\": 0, \"ticks\": \"\"}}, \"marker\": {\"colorbar\": {\"outlinewidth\": 0, \"ticks\": \"\"}}, \"type\": \"scatter3d\"}], \"scattercarpet\": [{\"marker\": {\"colorbar\": {\"outlinewidth\": 0, \"ticks\": \"\"}}, \"type\": \"scattercarpet\"}], \"scattergeo\": [{\"marker\": {\"colorbar\": {\"outlinewidth\": 0, \"ticks\": \"\"}}, \"type\": \"scattergeo\"}], \"scattergl\": [{\"marker\": {\"colorbar\": {\"outlinewidth\": 0, \"ticks\": \"\"}}, \"type\": \"scattergl\"}], \"scattermapbox\": [{\"marker\": {\"colorbar\": {\"outlinewidth\": 0, \"ticks\": \"\"}}, \"type\": \"scattermapbox\"}], \"scatterpolar\": [{\"marker\": {\"colorbar\": {\"outlinewidth\": 0, \"ticks\": \"\"}}, \"type\": \"scatterpolar\"}], \"scatterpolargl\": [{\"marker\": {\"colorbar\": {\"outlinewidth\": 0, \"ticks\": \"\"}}, \"type\": \"scatterpolargl\"}], \"scatterternary\": [{\"marker\": {\"colorbar\": {\"outlinewidth\": 0, \"ticks\": \"\"}}, \"type\": \"scatterternary\"}], \"surface\": [{\"colorbar\": {\"outlinewidth\": 0, \"ticks\": \"\"}, \"colorscale\": [[0.0, \"#0d0887\"], [0.1111111111111111, \"#46039f\"], [0.2222222222222222, \"#7201a8\"], [0.3333333333333333, \"#9c179e\"], [0.4444444444444444, \"#bd3786\"], [0.5555555555555556, \"#d8576b\"], [0.6666666666666666, \"#ed7953\"], [0.7777777777777778, \"#fb9f3a\"], [0.8888888888888888, \"#fdca26\"], [1.0, \"#f0f921\"]], \"type\": \"surface\"}], \"table\": [{\"cells\": {\"fill\": {\"color\": \"#EBF0F8\"}, \"line\": {\"color\": \"white\"}}, \"header\": {\"fill\": {\"color\": \"#C8D4E3\"}, \"line\": {\"color\": \"white\"}}, \"type\": \"table\"}]}, \"layout\": {\"annotationdefaults\": {\"arrowcolor\": \"#2a3f5f\", \"arrowhead\": 0, \"arrowwidth\": 1}, \"coloraxis\": {\"colorbar\": {\"outlinewidth\": 0, \"ticks\": \"\"}}, \"colorscale\": {\"diverging\": [[0, \"#8e0152\"], [0.1, \"#c51b7d\"], [0.2, \"#de77ae\"], [0.3, \"#f1b6da\"], [0.4, \"#fde0ef\"], [0.5, \"#f7f7f7\"], [0.6, \"#e6f5d0\"], [0.7, \"#b8e186\"], [0.8, \"#7fbc41\"], [0.9, \"#4d9221\"], [1, \"#276419\"]], \"sequential\": [[0.0, \"#0d0887\"], [0.1111111111111111, \"#46039f\"], [0.2222222222222222, \"#7201a8\"], [0.3333333333333333, \"#9c179e\"], [0.4444444444444444, \"#bd3786\"], [0.5555555555555556, \"#d8576b\"], [0.6666666666666666, \"#ed7953\"], [0.7777777777777778, \"#fb9f3a\"], [0.8888888888888888, \"#fdca26\"], [1.0, \"#f0f921\"]], \"sequentialminus\": [[0.0, \"#0d0887\"], [0.1111111111111111, \"#46039f\"], [0.2222222222222222, \"#7201a8\"], [0.3333333333333333, \"#9c179e\"], [0.4444444444444444, \"#bd3786\"], [0.5555555555555556, \"#d8576b\"], [0.6666666666666666, \"#ed7953\"], [0.7777777777777778, \"#fb9f3a\"], [0.8888888888888888, \"#fdca26\"], [1.0, \"#f0f921\"]]}, \"colorway\": [\"#636efa\", \"#EF553B\", \"#00cc96\", \"#ab63fa\", \"#FFA15A\", \"#19d3f3\", \"#FF6692\", \"#B6E880\", \"#FF97FF\", \"#FECB52\"], \"font\": {\"color\": \"#2a3f5f\"}, \"geo\": {\"bgcolor\": \"white\", \"lakecolor\": \"white\", \"landcolor\": \"#E5ECF6\", \"showlakes\": true, \"showland\": true, \"subunitcolor\": \"white\"}, \"hoverlabel\": {\"align\": \"left\"}, \"hovermode\": \"closest\", \"mapbox\": {\"style\": \"light\"}, \"paper_bgcolor\": \"white\", \"plot_bgcolor\": \"#E5ECF6\", \"polar\": {\"angularaxis\": {\"gridcolor\": \"white\", \"linecolor\": \"white\", \"ticks\": \"\"}, \"bgcolor\": \"#E5ECF6\", \"radialaxis\": {\"gridcolor\": \"white\", \"linecolor\": \"white\", \"ticks\": \"\"}}, \"scene\": {\"xaxis\": {\"backgroundcolor\": \"#E5ECF6\", \"gridcolor\": \"white\", \"gridwidth\": 2, \"linecolor\": \"white\", \"showbackground\": true, \"ticks\": \"\", \"zerolinecolor\": \"white\"}, \"yaxis\": {\"backgroundcolor\": \"#E5ECF6\", \"gridcolor\": \"white\", \"gridwidth\": 2, \"linecolor\": \"white\", \"showbackground\": true, \"ticks\": \"\", \"zerolinecolor\": \"white\"}, \"zaxis\": {\"backgroundcolor\": \"#E5ECF6\", \"gridcolor\": \"white\", \"gridwidth\": 2, \"linecolor\": \"white\", \"showbackground\": true, \"ticks\": \"\", \"zerolinecolor\": \"white\"}}, \"shapedefaults\": {\"line\": {\"color\": \"#2a3f5f\"}}, \"ternary\": {\"aaxis\": {\"gridcolor\": \"white\", \"linecolor\": \"white\", \"ticks\": \"\"}, \"baxis\": {\"gridcolor\": \"white\", \"linecolor\": \"white\", \"ticks\": \"\"}, \"bgcolor\": \"#E5ECF6\", \"caxis\": {\"gridcolor\": \"white\", \"linecolor\": \"white\", \"ticks\": \"\"}}, \"title\": {\"x\": 0.05}, \"xaxis\": {\"automargin\": true, \"gridcolor\": \"white\", \"linecolor\": \"white\", \"ticks\": \"\", \"title\": {\"standoff\": 15}, \"zerolinecolor\": \"white\", \"zerolinewidth\": 2}, \"yaxis\": {\"automargin\": true, \"gridcolor\": \"white\", \"linecolor\": \"white\", \"ticks\": \"\", \"title\": {\"standoff\": 15}, \"zerolinecolor\": \"white\", \"zerolinewidth\": 2}}}, \"title\": {\"text\": \"\\u0414\\u0438\\u043d\\u0430\\u043c\\u0438\\u043a\\u0430 \\u043f\\u0430\\u0440\\u0430\\u043c\\u0435\\u0442\\u0440\\u043e\\u0432 \\u043f\\u0440\\u0438 \\u0440\\u0435\\u0436\\u0438\\u043c\\u0435 \\u0440\\u0430\\u0441\\u0442\\u0432\\u043e\\u0440\\u0435\\u043d\\u043d\\u043e\\u0433\\u043e \\u0433\\u0430\\u0437\\u0430\", \"x\": 0.45, \"xanchor\": \"center\", \"y\": 0.95, \"yanchor\": \"top\"}, \"width\": 1000, \"xaxis\": {\"autorange\": \"reversed\", \"domain\": [0.2, 0.9], \"tickmode\": \"array\", \"tickvals\": [21.0, 18.4, 17.0], \"title\": {\"text\": \"\\u0414\\u0430\\u0432\\u043b\\u0435\\u043d\\u0438\\u0435 (\\u043f\\u043e \\u0432\\u0440\\u0435\\u043c\\u0435\\u043d\\u0438)\"}}},\n",
              "                        {\"responsive\": true}\n",
              "                    ).then(function(){\n",
              "                            \n",
              "var gd = document.getElementById('c2a3dbfd-2b9d-4ef1-ae37-1936bdc42ab5');\n",
              "var x = new MutationObserver(function (mutations, observer) {{\n",
              "        var display = window.getComputedStyle(gd).display;\n",
              "        if (!display || display === 'none') {{\n",
              "            console.log([gd, 'removed!']);\n",
              "            Plotly.purge(gd);\n",
              "            observer.disconnect();\n",
              "        }}\n",
              "}});\n",
              "\n",
              "// Listen for the removal of the full notebook cells\n",
              "var notebookContainer = gd.closest('#notebook-container');\n",
              "if (notebookContainer) {{\n",
              "    x.observe(notebookContainer, {childList: true});\n",
              "}}\n",
              "\n",
              "// Listen for the clearing of the current output cell\n",
              "var outputEl = gd.closest('.output');\n",
              "if (outputEl) {{\n",
              "    x.observe(outputEl, {childList: true});\n",
              "}}\n",
              "\n",
              "                        })\n",
              "                };\n",
              "                \n",
              "            </script>\n",
              "        </div>\n",
              "</body>\n",
              "</html>"
            ]
          },
          "metadata": {
            "tags": []
          }
        }
      ]
    },
    {
      "cell_type": "markdown",
      "metadata": {
        "id": "1T15Ox6Fh8Hv"
      },
      "source": [
        "## Задача 2.7 Прогнозирование показателей разработки месторождения и оценка эффективности использования пластовой энергии"
      ]
    },
    {
      "cell_type": "markdown",
      "metadata": {
        "id": "qnNd8IjrJ3p_"
      },
      "source": [
        "Нефтяная залежь имеет газовую шапку, окружена активной пластовой водой и характеризуется сложным проявлением различных режимов работы продуктивного пласта.\n",
        "\n",
        "Дано:\n",
        "- $P_0 = P_{НАС}$ - начальное пластовое давление равно давлению насыщения\n",
        "- $\\alpha_0 = 0.25$ - начальная доля объема газовой шапки по отношению ко всему объему залежи в пределах контура нефтегазоносности\n",
        "\n",
        "По результатам лабораторных исследований:\n",
        "- $Г_0=150\\;м^3/м^3$ - начальное газосодержание нефти\n",
        "- начальный объемный коэффициент:\n",
        "  - $b_{Г0} = 0.006$ - газа\n",
        "  - $b_{Н0} = 1.475$ - нефти\n",
        "- $S_{СВ}=0.12$ - насыщенность порового объема связанной водой\n",
        "\n",
        "Среднее пластовое давление за определенный период эксплуатации снизилось до пластового давления, при котором:\n",
        "- $Г_0=125\\;м^3/м^3$ - газосодержание нефти\n",
        "- объемный коэффициент:\n",
        "  - $b_{Г} = 0.0063$ - газа\n",
        "  - $b_{Н} = 1.415$ - нефти\n",
        "  - $b_{В} = 1.028$ - воды\n",
        "\n",
        "За этот период было добыто:\n",
        "- $Q_{Н}=1.06 \\cdot 10^6\\;м^3$ - нефти (безводной)\n",
        "- $V_{Г}=175 \\cdot 10^6\\;м^3$ - газа\n",
        "- $V_{В}=5 \\cdot 10^4\\;м^3$ - воды\n",
        "\n",
        "Причем, количество законтурной воды, внедрившейся в залежь:\n",
        "- $W=1.2 \\cdot 10^6\\;м^3$\n",
        "\n",
        "**Определить**:\n",
        "    \n",
        "    1. Начальные геологические запасы нефти $G_{Н}$\n",
        "    2. Текущий КИН\n",
        "    3. Текущую нефтенасыщенность \n",
        "    4. Относительную эффективность отдельных видов энергии (газовая шапка, растворенный газ, активная вода)"
      ]
    },
    {
      "cell_type": "markdown",
      "metadata": {
        "id": "ZjJe4aZ2NNRr"
      },
      "source": [
        "Решение:\n",
        "\n",
        "1. Определяем долю объема газовой шапки от объема начальных геологических запасов нефти в залежи\n",
        "\n",
        "$\\alpha = \\cfrac{\\alpha_0}{1-\\alpha_0}$\n",
        "\n",
        "2. Определяем значение среднего за рассматриваемый период газового фактора\n",
        "\n",
        "$Г^* = \\cfrac{V_{Г}}{Q_{Н}}$\n",
        "\n",
        "3. Составляем уравнение материального баланса в залежи на момент времени, когда пластовое давление снизилось до величины $P_{ПЛ}$ и добыто количество газа $V_{Г}$\n",
        "\n",
        "$\\Delta V_{Г} = G_{ГШ} + G_{ГР} = (\\alpha \\cdot G_{Н} \\cdot \\cfrac{b_{Н0}}{b_{Г0}} + G_{Н} \\cdot Г_0 - V_{Г}) \\cdot b_{Г} $\n",
        "\n",
        "где \n",
        "\n",
        "$\\Delta V_{Г}$ - оставшийся в залежи, приведенный к текущему пластовому давлению объем газа (в формуле выше - объем газа в газовой шапке + объем растворенного в нефтяном пласте газа - объем добытого газа), который в свою очередь состоит из:\n",
        "\n",
        "- $G_{ГР}$ - растворенного в нефти газа:\n",
        "  - $G_{ГР} = (G_{Н} - Q_{Н}) \\cdot Г \\cdot b_{Г}$\n",
        "\n",
        "- $G_{ГШ}$ - газовой шапки (свободного газа):\n",
        "  - $G_{ГШ} = (\\alpha \\cdot G_{Н} \\cdot b_{Н0} + G_{Н} \\cdot b_{Н0}) - (G_{Н} - Q_{Н}) \\cdot b_{Н} - (W - V_{В} \\cdot b_{В})$\n",
        "\n",
        "4. Решаем уравнение материального баланса относительно $G_{Н}$\n",
        "\n",
        "$$G_{Н} = \\cfrac{Q_{Н} \\cdot (b_{Н} + b_{Г}(Г^* - Г)) - (W - V_{В} \\cdot b_{В})}{\\alpha \\cdot b_{Н0} (\\cfrac{b_{Г}}{b_{Г0}} - 1) + b_{Н} - b_{Н0} + b_{Г}(Г_0 - Г)}$$\n",
        "\n",
        "5. За рассматриваемый период коэффициент нефтеотдачи составил:\n",
        "\n",
        "$$КИН = \\cfrac{Q_{Н}}{G_{Н}}$$\n",
        "\n",
        "6. Определим значение текущей нефтенасыщенности на конец рассматриваемого периода:\n",
        "\n",
        "$$S_{Н}= \\cfrac{(G_{Н} - Q_{Н}) \\cdot b_{Н}}{G_{Н} \\cdot b_{Н0}} \\cdot (1 - S_{СВ}) = (1 - КИН) \\cdot \\cfrac{b_{Н}}{b_{Н0}} \\cdot (1 - S_{СВ}) $$\n",
        "\n",
        "7. Обратим внимание на то, что в уравнении материального баланса первое слагаемое в числителе выражает общее количество добытых нефти и газа, приведенное к пластовым условиям при текущем пластовом давлении:\n",
        "\n",
        "$Q_{НГ} = Q_{Н} \\cdot (b_{Н} + b_{Г}(Г^* - Г))$\n",
        "\n",
        "Разделим левую и правую часть уравнения материального баланса на $Q_{НГ}$:\n",
        "\n",
        "$$G_{Н} \\cdot \\cfrac{b_{Н} - b_{Н0} + b_{Г}(Г_0 - Г)}{Q_{НГ}} + G_{Н} \\cdot \\cfrac{\\alpha \\cdot b_{Н0} (\\cfrac{b_{Г}}{b_{Г0}} - 1)}{Q_{НГ}} = 1 - \\cfrac{W - V_{В} \\cdot b_{В}}{Q_{НГ}}$$\n",
        "\n",
        "или\n",
        "\n",
        "$$J_{РГ} + J_{ГШ} + J_{В} = 1$$\n",
        "\n",
        "где:\n",
        "- $J_{РГ}$ - доля участия растворенного газа в вытеснении нефти\n",
        "- $J_{ГШ}$ - доля участия газовой шапки в вытеснении нефти\n",
        "- $J_{В}$ - доля участия свободной воды в вытеснении нефти\n",
        "\n"
      ]
    },
    {
      "cell_type": "code",
      "metadata": {
        "id": "bqHswNC2iJQT"
      },
      "source": [
        "alpha = 1/3\n",
        "G_0 = 150\n",
        "G = 125\n",
        "\n",
        "\n",
        "b_g0 = 6 * 10 ** (-3)\n",
        "b_n0 = 1.475\n",
        "s_v = 0.12\n",
        "\n",
        "b_g = 6.3 * 10 ** (-3)\n",
        "b_n = 1.415\n",
        "b_v = 1.028\n",
        "\n",
        "Q = 1.06 * (10 ** 6)\n",
        "V_g = 175 * (10 ** 6)\n",
        "V_v = 5 * (10 ** 4)\n",
        "W = 1.2 * (10 ** 6)\n",
        "\n",
        "G_mid = V_g / Q"
      ],
      "execution_count": null,
      "outputs": []
    },
    {
      "cell_type": "code",
      "metadata": {
        "colab": {
          "base_uri": "https://localhost:8080/"
        },
        "id": "WDzlNmu540c6",
        "outputId": "e4a6330c-23fe-4b9e-a3a7-4b103d509305"
      },
      "source": [
        "Q_ng = Q * (b_n + b_g * (G_mid - G))\n",
        "g_n = (\n",
        "    (Q_ng - (W - V_v * b_v)) /\n",
        "    (alpha * b_n0 * (b_g / b_g0 - 1) + b_n - b_n0 + b_g * (G_0 - G))\n",
        ")\n",
        "g_n"
      ],
      "execution_count": null,
      "outputs": [
        {
          "output_type": "execute_result",
          "data": {
            "text/plain": [
              "5070716.723549487"
            ]
          },
          "metadata": {
            "tags": []
          },
          "execution_count": 25
        }
      ]
    },
    {
      "cell_type": "code",
      "metadata": {
        "colab": {
          "base_uri": "https://localhost:8080/"
        },
        "id": "T8ky88dEj1TH",
        "outputId": "bef82390-2859-41a7-96e7-abe2b14d4d56"
      },
      "source": [
        "kin = Q / g_n\n",
        "kin"
      ],
      "execution_count": null,
      "outputs": [
        {
          "output_type": "execute_result",
          "data": {
            "text/plain": [
              "0.20904342675605098"
            ]
          },
          "metadata": {
            "tags": []
          },
          "execution_count": 26
        }
      ]
    },
    {
      "cell_type": "code",
      "metadata": {
        "colab": {
          "base_uri": "https://localhost:8080/"
        },
        "id": "yUAfqx4kkXPN",
        "outputId": "de30ba7d-ccf2-4d6e-e015-b87498442473"
      },
      "source": [
        "s_n = (1 - kin) * (b_n / b_n0) * (1 - s_v)\n",
        "s_n"
      ],
      "execution_count": null,
      "outputs": [
        {
          "output_type": "execute_result",
          "data": {
            "text/plain": [
              "0.6677282203412646"
            ]
          },
          "metadata": {
            "tags": []
          },
          "execution_count": 27
        }
      ]
    },
    {
      "cell_type": "code",
      "metadata": {
        "colab": {
          "base_uri": "https://localhost:8080/"
        },
        "id": "BFp70EvoVgQu",
        "outputId": "4f482746-70c5-4b4c-c909-7564681cde29"
      },
      "source": [
        "print('КПД растворенного газа: {:.2f}'.format((g_n / Q_ng) * (b_n - b_n0 + b_g * (G_0 - G)) ))\n",
        "print('КПД газовой шапки: {:.2f}'.format((g_n / Q_ng) * (alpha * b_n0 * (b_g / b_g0 - 1)) ))\n",
        "print('КПД воды: {:.2f}'.format( (W - V_v * b_v) / Q_ng ))"
      ],
      "execution_count": null,
      "outputs": [
        {
          "output_type": "stream",
          "text": [
            "КПД растворенного газа: 0.28\n",
            "КПД газовой шапки: 0.07\n",
            "КПД воды: 0.65\n"
          ],
          "name": "stdout"
        }
      ]
    },
    {
      "cell_type": "markdown",
      "metadata": {
        "id": "K1bPeeq2em6c"
      },
      "source": [
        "## Задача 2.8 Экспресс расчет технологических показателей разработки нефтяных месторождений с заводнением"
      ]
    },
    {
      "cell_type": "markdown",
      "metadata": {
        "id": "6jYavIv_fNu3"
      },
      "source": [
        "Некоторое вновь открытое нефтяное месторождение с геологическими запасами $G=180$ млн.т. нефти вводится в разработке. Определена зависимость текущей обводненности добываемой продукции $\\nu$ от текущей нефтеотдачи (КИН):\n",
        "\n",
        "$$\n",
        "\\begin{equation}\n",
        "    \\begin{matrix}\n",
        "    \\nu (\\eta) =\n",
        "    \\left\\{\n",
        "    \\begin{matrix}\n",
        "    34.8\\cdot(\\eta-0.1)^2 & 0.1 < \\eta \\leq 0.25 \\\\\n",
        "    1.232\\cdot(\\eta-0.1)^{1/4} & 0.25 < \\eta \\leq 0.5 \\\\\n",
        "    \\end{matrix} \\right.\n",
        "    \\end{matrix}\n",
        "\\end{equation}\n",
        "$$\n",
        "\n",
        "Требуется осуществить в кратчайший срок оценку возможной добычи нефти и воды из \n",
        "месторождения в ближайшие 15 лет. Темп ввода скважин в эксплуатацию на данном \n",
        "месторождении предполагается сохранить таким же, как и на месторождение-аналоге \n",
        "(сохраняется зависимость $\\nu=\\nu(\\eta)$).\n",
        "\n",
        "Изменение годового отбора жидкости во времени приведено в таблице:"
      ]
    },
    {
      "cell_type": "code",
      "metadata": {
        "id": "b3v9hiTEtF-t"
      },
      "source": [
        "def calculate_nu_from_kin(kin):\n",
        "  nu = 0\n",
        "  if kin > 0.1 and kin <= 0.25:\n",
        "    nu = 34.8 * (kin - 0.1)**2\n",
        "  elif kin > 0.25 and kin <= 0.5:\n",
        "    nu = 1.232 * (kin - 0.1)**0.25\n",
        "\n",
        "  return np.round(nu, 3)"
      ],
      "execution_count": null,
      "outputs": []
    },
    {
      "cell_type": "code",
      "metadata": {
        "id": "2FdX37DCknCO"
      },
      "source": [
        "total_years = 15\n",
        "\n",
        "df_data = pd.DataFrame(\n",
        "    { 'year' : range(0, total_years + 1),\n",
        "     'q_fl_year' : [0.0, 0.9, 1.6, 2.6, 3.5] + list(np.full(total_years - 4, 5))\n",
        "     }\n",
        ")"
      ],
      "execution_count": null,
      "outputs": []
    },
    {
      "cell_type": "code",
      "metadata": {
        "id": "K48yjyKup8Hz"
      },
      "source": [
        "df_nu_kin = pd.DataFrame(\n",
        "    { 'kin' : np.arange(0.1, 0.51, 0.01),\n",
        "     }\n",
        ")\n",
        "\n",
        "df_nu_kin['nu'] = df_nu_kin.apply(lambda row: calculate_nu_from_kin(row['kin']), axis=1)"
      ],
      "execution_count": null,
      "outputs": []
    },
    {
      "cell_type": "code",
      "metadata": {
        "colab": {
          "base_uri": "https://localhost:8080/",
          "height": 717
        },
        "id": "eTu4END2zPy8",
        "outputId": "5be682d6-2e86-4cc1-91d0-2d621fd6a158"
      },
      "source": [
        "fig = make_subplots(\n",
        "    subplot_titles=[\n",
        "                    'График годового отбора жидкости по годам',\n",
        "                    'Зависимость текущей обводненности <br>от текущей нефтеотдачи'],\n",
        "    rows=1, \n",
        "    cols=2)\n",
        "\n",
        "\n",
        "fig.add_trace(go.Scatter(x=df_data['year'], y=df_data['q_fl_year'],\n",
        "                    mode='lines+markers',\n",
        "                    name='Годовой отбор жидкости, 10^6'),\n",
        "    row=1, col=1)\n",
        "\n",
        "fig.add_trace(go.Scatter(x=df_nu_kin['kin'], y=df_nu_kin['nu'],\n",
        "                    mode='lines+markers',\n",
        "                    name='Обводненность, д.ед.'),\n",
        "    row=1, col=2)\n",
        "\n",
        "fig['layout']['xaxis1']['title']='Год'\n",
        "fig['layout']['xaxis1']['tickangle']=-45\n",
        "fig['layout']['xaxis1']['tickmode']='array'\n",
        "fig['layout']['xaxis1']['tickvals']=df_data['year']\n",
        "fig['layout']['yaxis1']['title']='Годовой отбор жидкости, 10^6'\n",
        "\n",
        "fig['layout']['xaxis2']['title']='КИН'\n",
        "fig['layout']['xaxis2']['tickangle']=-45\n",
        "fig['layout']['yaxis2']['title']='Обводненность, д.ед.'\n",
        "\n",
        "\n",
        "\n",
        "fig.update_layout( \n",
        "    title={\n",
        "        'text': \"Исходные данные\",\n",
        "        'y':0.95,\n",
        "        'x':0.5,\n",
        "        'xanchor': 'center',\n",
        "        'yanchor': 'top'},\n",
        "    autosize=False,\n",
        "    width=1400,\n",
        "    height=700)\n",
        "\n",
        "\n",
        "fig.show()"
      ],
      "execution_count": null,
      "outputs": [
        {
          "output_type": "display_data",
          "data": {
            "text/html": [
              "<html>\n",
              "<head><meta charset=\"utf-8\" /></head>\n",
              "<body>\n",
              "    <div>\n",
              "            <script src=\"https://cdnjs.cloudflare.com/ajax/libs/mathjax/2.7.5/MathJax.js?config=TeX-AMS-MML_SVG\"></script><script type=\"text/javascript\">if (window.MathJax) {MathJax.Hub.Config({SVG: {font: \"STIX-Web\"}});}</script>\n",
              "                <script type=\"text/javascript\">window.PlotlyConfig = {MathJaxConfig: 'local'};</script>\n",
              "        <script src=\"https://cdn.plot.ly/plotly-latest.min.js\"></script>    \n",
              "            <div id=\"e24ad800-c06a-4eac-9b1a-8471bca459f5\" class=\"plotly-graph-div\" style=\"height:700px; width:1400px;\"></div>\n",
              "            <script type=\"text/javascript\">\n",
              "                \n",
              "                    window.PLOTLYENV=window.PLOTLYENV || {};\n",
              "                    \n",
              "                if (document.getElementById(\"e24ad800-c06a-4eac-9b1a-8471bca459f5\")) {\n",
              "                    Plotly.newPlot(\n",
              "                        'e24ad800-c06a-4eac-9b1a-8471bca459f5',\n",
              "                        [{\"mode\": \"lines+markers\", \"name\": \"\\u0413\\u043e\\u0434\\u043e\\u0432\\u043e\\u0439 \\u043e\\u0442\\u0431\\u043e\\u0440 \\u0436\\u0438\\u0434\\u043a\\u043e\\u0441\\u0442\\u0438, 10^6\", \"type\": \"scatter\", \"x\": [0, 1, 2, 3, 4, 5, 6, 7, 8, 9, 10, 11, 12, 13, 14, 15], \"xaxis\": \"x\", \"y\": [0.0, 0.9, 1.6, 2.6, 3.5, 5.0, 5.0, 5.0, 5.0, 5.0, 5.0, 5.0, 5.0, 5.0, 5.0, 5.0], \"yaxis\": \"y\"}, {\"mode\": \"lines+markers\", \"name\": \"\\u041e\\u0431\\u0432\\u043e\\u0434\\u043d\\u0435\\u043d\\u043d\\u043e\\u0441\\u0442\\u044c, \\u0434.\\u0435\\u0434.\", \"type\": \"scatter\", \"x\": [0.1, 0.11, 0.12, 0.13, 0.13999999999999999, 0.14999999999999997, 0.15999999999999998, 0.16999999999999998, 0.17999999999999997, 0.18999999999999995, 0.19999999999999996, 0.20999999999999996, 0.21999999999999995, 0.22999999999999995, 0.23999999999999994, 0.24999999999999992, 0.2599999999999999, 0.2699999999999999, 0.2799999999999999, 0.2899999999999999, 0.29999999999999993, 0.30999999999999994, 0.3199999999999999, 0.32999999999999985, 0.33999999999999986, 0.34999999999999987, 0.3599999999999999, 0.3699999999999999, 0.3799999999999999, 0.3899999999999999, 0.3999999999999998, 0.4099999999999998, 0.4199999999999998, 0.4299999999999998, 0.43999999999999984, 0.44999999999999984, 0.45999999999999985, 0.46999999999999986, 0.47999999999999976, 0.48999999999999977, 0.4999999999999998], \"xaxis\": \"x2\", \"y\": [0.0, 0.003, 0.014, 0.031, 0.056, 0.087, 0.125, 0.171, 0.223, 0.282, 0.348, 0.421, 0.501, 0.588, 0.682, 0.783, 0.779, 0.791, 0.802, 0.813, 0.824, 0.834, 0.844, 0.853, 0.862, 0.871, 0.88, 0.888, 0.896, 0.904, 0.912, 0.919, 0.927, 0.934, 0.941, 0.948, 0.954, 0.961, 0.967, 0.974, 0.98], \"yaxis\": \"y2\"}],\n",
              "                        {\"annotations\": [{\"font\": {\"size\": 16}, \"showarrow\": false, \"text\": \"\\u0413\\u0440\\u0430\\u0444\\u0438\\u043a \\u0433\\u043e\\u0434\\u043e\\u0432\\u043e\\u0433\\u043e \\u043e\\u0442\\u0431\\u043e\\u0440\\u0430 \\u0436\\u0438\\u0434\\u043a\\u043e\\u0441\\u0442\\u0438 \\u043f\\u043e \\u0433\\u043e\\u0434\\u0430\\u043c\", \"x\": 0.225, \"xanchor\": \"center\", \"xref\": \"paper\", \"y\": 1.0, \"yanchor\": \"bottom\", \"yref\": \"paper\"}, {\"font\": {\"size\": 16}, \"showarrow\": false, \"text\": \"\\u0417\\u0430\\u0432\\u0438\\u0441\\u0438\\u043c\\u043e\\u0441\\u0442\\u044c \\u0442\\u0435\\u043a\\u0443\\u0449\\u0435\\u0439 \\u043e\\u0431\\u0432\\u043e\\u0434\\u043d\\u0435\\u043d\\u043d\\u043e\\u0441\\u0442\\u0438 <br>\\u043e\\u0442 \\u0442\\u0435\\u043a\\u0443\\u0449\\u0435\\u0439 \\u043d\\u0435\\u0444\\u0442\\u0435\\u043e\\u0442\\u0434\\u0430\\u0447\\u0438\", \"x\": 0.775, \"xanchor\": \"center\", \"xref\": \"paper\", \"y\": 1.0, \"yanchor\": \"bottom\", \"yref\": \"paper\"}], \"autosize\": false, \"height\": 700, \"template\": {\"data\": {\"bar\": [{\"error_x\": {\"color\": \"#2a3f5f\"}, \"error_y\": {\"color\": \"#2a3f5f\"}, \"marker\": {\"line\": {\"color\": \"#E5ECF6\", \"width\": 0.5}}, \"type\": \"bar\"}], \"barpolar\": [{\"marker\": {\"line\": {\"color\": \"#E5ECF6\", \"width\": 0.5}}, \"type\": \"barpolar\"}], \"carpet\": [{\"aaxis\": {\"endlinecolor\": \"#2a3f5f\", \"gridcolor\": \"white\", \"linecolor\": \"white\", \"minorgridcolor\": \"white\", \"startlinecolor\": \"#2a3f5f\"}, \"baxis\": {\"endlinecolor\": \"#2a3f5f\", \"gridcolor\": \"white\", \"linecolor\": \"white\", \"minorgridcolor\": \"white\", \"startlinecolor\": \"#2a3f5f\"}, \"type\": \"carpet\"}], \"choropleth\": [{\"colorbar\": {\"outlinewidth\": 0, \"ticks\": \"\"}, \"type\": \"choropleth\"}], \"contour\": [{\"colorbar\": {\"outlinewidth\": 0, \"ticks\": \"\"}, \"colorscale\": [[0.0, \"#0d0887\"], [0.1111111111111111, \"#46039f\"], [0.2222222222222222, \"#7201a8\"], [0.3333333333333333, \"#9c179e\"], [0.4444444444444444, \"#bd3786\"], [0.5555555555555556, \"#d8576b\"], [0.6666666666666666, \"#ed7953\"], [0.7777777777777778, \"#fb9f3a\"], [0.8888888888888888, \"#fdca26\"], [1.0, \"#f0f921\"]], \"type\": \"contour\"}], \"contourcarpet\": [{\"colorbar\": {\"outlinewidth\": 0, \"ticks\": \"\"}, \"type\": \"contourcarpet\"}], \"heatmap\": [{\"colorbar\": {\"outlinewidth\": 0, \"ticks\": \"\"}, \"colorscale\": [[0.0, \"#0d0887\"], [0.1111111111111111, \"#46039f\"], [0.2222222222222222, \"#7201a8\"], [0.3333333333333333, \"#9c179e\"], [0.4444444444444444, \"#bd3786\"], [0.5555555555555556, \"#d8576b\"], [0.6666666666666666, \"#ed7953\"], [0.7777777777777778, \"#fb9f3a\"], [0.8888888888888888, \"#fdca26\"], [1.0, \"#f0f921\"]], \"type\": \"heatmap\"}], \"heatmapgl\": [{\"colorbar\": {\"outlinewidth\": 0, \"ticks\": \"\"}, \"colorscale\": [[0.0, \"#0d0887\"], [0.1111111111111111, \"#46039f\"], [0.2222222222222222, \"#7201a8\"], [0.3333333333333333, \"#9c179e\"], [0.4444444444444444, \"#bd3786\"], [0.5555555555555556, \"#d8576b\"], [0.6666666666666666, \"#ed7953\"], [0.7777777777777778, \"#fb9f3a\"], [0.8888888888888888, \"#fdca26\"], [1.0, \"#f0f921\"]], \"type\": \"heatmapgl\"}], \"histogram\": [{\"marker\": {\"colorbar\": {\"outlinewidth\": 0, \"ticks\": \"\"}}, \"type\": \"histogram\"}], \"histogram2d\": [{\"colorbar\": {\"outlinewidth\": 0, \"ticks\": \"\"}, \"colorscale\": [[0.0, \"#0d0887\"], [0.1111111111111111, \"#46039f\"], [0.2222222222222222, \"#7201a8\"], [0.3333333333333333, \"#9c179e\"], [0.4444444444444444, \"#bd3786\"], [0.5555555555555556, \"#d8576b\"], [0.6666666666666666, \"#ed7953\"], [0.7777777777777778, \"#fb9f3a\"], [0.8888888888888888, \"#fdca26\"], [1.0, \"#f0f921\"]], \"type\": \"histogram2d\"}], \"histogram2dcontour\": [{\"colorbar\": {\"outlinewidth\": 0, \"ticks\": \"\"}, \"colorscale\": [[0.0, \"#0d0887\"], [0.1111111111111111, \"#46039f\"], [0.2222222222222222, \"#7201a8\"], [0.3333333333333333, \"#9c179e\"], [0.4444444444444444, \"#bd3786\"], [0.5555555555555556, \"#d8576b\"], [0.6666666666666666, \"#ed7953\"], [0.7777777777777778, \"#fb9f3a\"], [0.8888888888888888, \"#fdca26\"], [1.0, \"#f0f921\"]], \"type\": \"histogram2dcontour\"}], \"mesh3d\": [{\"colorbar\": {\"outlinewidth\": 0, \"ticks\": \"\"}, \"type\": \"mesh3d\"}], \"parcoords\": [{\"line\": {\"colorbar\": {\"outlinewidth\": 0, \"ticks\": \"\"}}, \"type\": \"parcoords\"}], \"pie\": [{\"automargin\": true, \"type\": \"pie\"}], \"scatter\": [{\"marker\": {\"colorbar\": {\"outlinewidth\": 0, \"ticks\": \"\"}}, \"type\": \"scatter\"}], \"scatter3d\": [{\"line\": {\"colorbar\": {\"outlinewidth\": 0, \"ticks\": \"\"}}, \"marker\": {\"colorbar\": {\"outlinewidth\": 0, \"ticks\": \"\"}}, \"type\": \"scatter3d\"}], \"scattercarpet\": [{\"marker\": {\"colorbar\": {\"outlinewidth\": 0, \"ticks\": \"\"}}, \"type\": \"scattercarpet\"}], \"scattergeo\": [{\"marker\": {\"colorbar\": {\"outlinewidth\": 0, \"ticks\": \"\"}}, \"type\": \"scattergeo\"}], \"scattergl\": [{\"marker\": {\"colorbar\": {\"outlinewidth\": 0, \"ticks\": \"\"}}, \"type\": \"scattergl\"}], \"scattermapbox\": [{\"marker\": {\"colorbar\": {\"outlinewidth\": 0, \"ticks\": \"\"}}, \"type\": \"scattermapbox\"}], \"scatterpolar\": [{\"marker\": {\"colorbar\": {\"outlinewidth\": 0, \"ticks\": \"\"}}, \"type\": \"scatterpolar\"}], \"scatterpolargl\": [{\"marker\": {\"colorbar\": {\"outlinewidth\": 0, \"ticks\": \"\"}}, \"type\": \"scatterpolargl\"}], \"scatterternary\": [{\"marker\": {\"colorbar\": {\"outlinewidth\": 0, \"ticks\": \"\"}}, \"type\": \"scatterternary\"}], \"surface\": [{\"colorbar\": {\"outlinewidth\": 0, \"ticks\": \"\"}, \"colorscale\": [[0.0, \"#0d0887\"], [0.1111111111111111, \"#46039f\"], [0.2222222222222222, \"#7201a8\"], [0.3333333333333333, \"#9c179e\"], [0.4444444444444444, \"#bd3786\"], [0.5555555555555556, \"#d8576b\"], [0.6666666666666666, \"#ed7953\"], [0.7777777777777778, \"#fb9f3a\"], [0.8888888888888888, \"#fdca26\"], [1.0, \"#f0f921\"]], \"type\": \"surface\"}], \"table\": [{\"cells\": {\"fill\": {\"color\": \"#EBF0F8\"}, \"line\": {\"color\": \"white\"}}, \"header\": {\"fill\": {\"color\": \"#C8D4E3\"}, \"line\": {\"color\": \"white\"}}, \"type\": \"table\"}]}, \"layout\": {\"annotationdefaults\": {\"arrowcolor\": \"#2a3f5f\", \"arrowhead\": 0, \"arrowwidth\": 1}, \"coloraxis\": {\"colorbar\": {\"outlinewidth\": 0, \"ticks\": \"\"}}, \"colorscale\": {\"diverging\": [[0, \"#8e0152\"], [0.1, \"#c51b7d\"], [0.2, \"#de77ae\"], [0.3, \"#f1b6da\"], [0.4, \"#fde0ef\"], [0.5, \"#f7f7f7\"], [0.6, \"#e6f5d0\"], [0.7, \"#b8e186\"], [0.8, \"#7fbc41\"], [0.9, \"#4d9221\"], [1, \"#276419\"]], \"sequential\": [[0.0, \"#0d0887\"], [0.1111111111111111, \"#46039f\"], [0.2222222222222222, \"#7201a8\"], [0.3333333333333333, \"#9c179e\"], [0.4444444444444444, \"#bd3786\"], [0.5555555555555556, \"#d8576b\"], [0.6666666666666666, \"#ed7953\"], [0.7777777777777778, \"#fb9f3a\"], [0.8888888888888888, \"#fdca26\"], [1.0, \"#f0f921\"]], \"sequentialminus\": [[0.0, \"#0d0887\"], [0.1111111111111111, \"#46039f\"], [0.2222222222222222, \"#7201a8\"], [0.3333333333333333, \"#9c179e\"], [0.4444444444444444, \"#bd3786\"], [0.5555555555555556, \"#d8576b\"], [0.6666666666666666, \"#ed7953\"], [0.7777777777777778, \"#fb9f3a\"], [0.8888888888888888, \"#fdca26\"], [1.0, \"#f0f921\"]]}, \"colorway\": [\"#636efa\", \"#EF553B\", \"#00cc96\", \"#ab63fa\", \"#FFA15A\", \"#19d3f3\", \"#FF6692\", \"#B6E880\", \"#FF97FF\", \"#FECB52\"], \"font\": {\"color\": \"#2a3f5f\"}, \"geo\": {\"bgcolor\": \"white\", \"lakecolor\": \"white\", \"landcolor\": \"#E5ECF6\", \"showlakes\": true, \"showland\": true, \"subunitcolor\": \"white\"}, \"hoverlabel\": {\"align\": \"left\"}, \"hovermode\": \"closest\", \"mapbox\": {\"style\": \"light\"}, \"paper_bgcolor\": \"white\", \"plot_bgcolor\": \"#E5ECF6\", \"polar\": {\"angularaxis\": {\"gridcolor\": \"white\", \"linecolor\": \"white\", \"ticks\": \"\"}, \"bgcolor\": \"#E5ECF6\", \"radialaxis\": {\"gridcolor\": \"white\", \"linecolor\": \"white\", \"ticks\": \"\"}}, \"scene\": {\"xaxis\": {\"backgroundcolor\": \"#E5ECF6\", \"gridcolor\": \"white\", \"gridwidth\": 2, \"linecolor\": \"white\", \"showbackground\": true, \"ticks\": \"\", \"zerolinecolor\": \"white\"}, \"yaxis\": {\"backgroundcolor\": \"#E5ECF6\", \"gridcolor\": \"white\", \"gridwidth\": 2, \"linecolor\": \"white\", \"showbackground\": true, \"ticks\": \"\", \"zerolinecolor\": \"white\"}, \"zaxis\": {\"backgroundcolor\": \"#E5ECF6\", \"gridcolor\": \"white\", \"gridwidth\": 2, \"linecolor\": \"white\", \"showbackground\": true, \"ticks\": \"\", \"zerolinecolor\": \"white\"}}, \"shapedefaults\": {\"line\": {\"color\": \"#2a3f5f\"}}, \"ternary\": {\"aaxis\": {\"gridcolor\": \"white\", \"linecolor\": \"white\", \"ticks\": \"\"}, \"baxis\": {\"gridcolor\": \"white\", \"linecolor\": \"white\", \"ticks\": \"\"}, \"bgcolor\": \"#E5ECF6\", \"caxis\": {\"gridcolor\": \"white\", \"linecolor\": \"white\", \"ticks\": \"\"}}, \"title\": {\"x\": 0.05}, \"xaxis\": {\"automargin\": true, \"gridcolor\": \"white\", \"linecolor\": \"white\", \"ticks\": \"\", \"title\": {\"standoff\": 15}, \"zerolinecolor\": \"white\", \"zerolinewidth\": 2}, \"yaxis\": {\"automargin\": true, \"gridcolor\": \"white\", \"linecolor\": \"white\", \"ticks\": \"\", \"title\": {\"standoff\": 15}, \"zerolinecolor\": \"white\", \"zerolinewidth\": 2}}}, \"title\": {\"text\": \"\\u0418\\u0441\\u0445\\u043e\\u0434\\u043d\\u044b\\u0435 \\u0434\\u0430\\u043d\\u043d\\u044b\\u0435\", \"x\": 0.5, \"xanchor\": \"center\", \"y\": 0.95, \"yanchor\": \"top\"}, \"width\": 1400, \"xaxis\": {\"anchor\": \"y\", \"domain\": [0.0, 0.45], \"tickangle\": -45, \"tickmode\": \"array\", \"tickvals\": [0, 1, 2, 3, 4, 5, 6, 7, 8, 9, 10, 11, 12, 13, 14, 15], \"title\": {\"text\": \"\\u0413\\u043e\\u0434\"}}, \"xaxis2\": {\"anchor\": \"y2\", \"domain\": [0.55, 1.0], \"tickangle\": -45, \"title\": {\"text\": \"\\u041a\\u0418\\u041d\"}}, \"yaxis\": {\"anchor\": \"x\", \"domain\": [0.0, 1.0], \"title\": {\"text\": \"\\u0413\\u043e\\u0434\\u043e\\u0432\\u043e\\u0439 \\u043e\\u0442\\u0431\\u043e\\u0440 \\u0436\\u0438\\u0434\\u043a\\u043e\\u0441\\u0442\\u0438, 10^6\"}}, \"yaxis2\": {\"anchor\": \"x2\", \"domain\": [0.0, 1.0], \"title\": {\"text\": \"\\u041e\\u0431\\u0432\\u043e\\u0434\\u043d\\u0435\\u043d\\u043d\\u043e\\u0441\\u0442\\u044c, \\u0434.\\u0435\\u0434.\"}}},\n",
              "                        {\"responsive\": true}\n",
              "                    ).then(function(){\n",
              "                            \n",
              "var gd = document.getElementById('e24ad800-c06a-4eac-9b1a-8471bca459f5');\n",
              "var x = new MutationObserver(function (mutations, observer) {{\n",
              "        var display = window.getComputedStyle(gd).display;\n",
              "        if (!display || display === 'none') {{\n",
              "            console.log([gd, 'removed!']);\n",
              "            Plotly.purge(gd);\n",
              "            observer.disconnect();\n",
              "        }}\n",
              "}});\n",
              "\n",
              "// Listen for the removal of the full notebook cells\n",
              "var notebookContainer = gd.closest('#notebook-container');\n",
              "if (notebookContainer) {{\n",
              "    x.observe(notebookContainer, {childList: true});\n",
              "}}\n",
              "\n",
              "// Listen for the clearing of the current output cell\n",
              "var outputEl = gd.closest('.output');\n",
              "if (outputEl) {{\n",
              "    x.observe(outputEl, {childList: true});\n",
              "}}\n",
              "\n",
              "                        })\n",
              "                };\n",
              "                \n",
              "            </script>\n",
              "        </div>\n",
              "</body>\n",
              "</html>"
            ]
          },
          "metadata": {
            "tags": []
          }
        }
      ]
    },
    {
      "cell_type": "code",
      "metadata": {
        "colab": {
          "base_uri": "https://localhost:8080/",
          "height": 198
        },
        "id": "wqofB52G3AeB",
        "outputId": "6de47f6e-87a8-4a11-b44b-95e9e2d92170"
      },
      "source": [
        "df_result = pd.concat([df_data, df_nu_kin[:(total_years + 1)]], axis=1)\n",
        "df_result.head(5)"
      ],
      "execution_count": null,
      "outputs": [
        {
          "output_type": "execute_result",
          "data": {
            "text/html": [
              "<div>\n",
              "<style scoped>\n",
              "    .dataframe tbody tr th:only-of-type {\n",
              "        vertical-align: middle;\n",
              "    }\n",
              "\n",
              "    .dataframe tbody tr th {\n",
              "        vertical-align: top;\n",
              "    }\n",
              "\n",
              "    .dataframe thead th {\n",
              "        text-align: right;\n",
              "    }\n",
              "</style>\n",
              "<table border=\"1\" class=\"dataframe\">\n",
              "  <thead>\n",
              "    <tr style=\"text-align: right;\">\n",
              "      <th></th>\n",
              "      <th>year</th>\n",
              "      <th>q_fl_year</th>\n",
              "      <th>kin</th>\n",
              "      <th>nu</th>\n",
              "    </tr>\n",
              "  </thead>\n",
              "  <tbody>\n",
              "    <tr>\n",
              "      <th>0</th>\n",
              "      <td>0</td>\n",
              "      <td>0.0</td>\n",
              "      <td>0.10</td>\n",
              "      <td>0.000</td>\n",
              "    </tr>\n",
              "    <tr>\n",
              "      <th>1</th>\n",
              "      <td>1</td>\n",
              "      <td>0.9</td>\n",
              "      <td>0.11</td>\n",
              "      <td>0.003</td>\n",
              "    </tr>\n",
              "    <tr>\n",
              "      <th>2</th>\n",
              "      <td>2</td>\n",
              "      <td>1.6</td>\n",
              "      <td>0.12</td>\n",
              "      <td>0.014</td>\n",
              "    </tr>\n",
              "    <tr>\n",
              "      <th>3</th>\n",
              "      <td>3</td>\n",
              "      <td>2.6</td>\n",
              "      <td>0.13</td>\n",
              "      <td>0.031</td>\n",
              "    </tr>\n",
              "    <tr>\n",
              "      <th>4</th>\n",
              "      <td>4</td>\n",
              "      <td>3.5</td>\n",
              "      <td>0.14</td>\n",
              "      <td>0.056</td>\n",
              "    </tr>\n",
              "  </tbody>\n",
              "</table>\n",
              "</div>"
            ],
            "text/plain": [
              "   year  q_fl_year   kin     nu\n",
              "0     0        0.0  0.10  0.000\n",
              "1     1        0.9  0.11  0.003\n",
              "2     2        1.6  0.12  0.014\n",
              "3     3        2.6  0.13  0.031\n",
              "4     4        3.5  0.14  0.056"
            ]
          },
          "metadata": {
            "tags": []
          },
          "execution_count": 33
        }
      ]
    },
    {
      "cell_type": "code",
      "metadata": {
        "colab": {
          "base_uri": "https://localhost:8080/",
          "height": 198
        },
        "id": "8YhrqPUX3AjB",
        "outputId": "77f23ab1-44c1-4472-d5c4-2fd9789ebbef"
      },
      "source": [
        "df_result['q_fl_total'] = df_result['q_fl_year'].cumsum()\n",
        "df_result['q_oil_year'] = df_result['q_fl_year'] * (1 - df_result['nu'])\n",
        "df_result['q_oil_total'] = df_result['q_oil_year'].cumsum()\n",
        "df_result.tail(5)"
      ],
      "execution_count": null,
      "outputs": [
        {
          "output_type": "execute_result",
          "data": {
            "text/html": [
              "<div>\n",
              "<style scoped>\n",
              "    .dataframe tbody tr th:only-of-type {\n",
              "        vertical-align: middle;\n",
              "    }\n",
              "\n",
              "    .dataframe tbody tr th {\n",
              "        vertical-align: top;\n",
              "    }\n",
              "\n",
              "    .dataframe thead th {\n",
              "        text-align: right;\n",
              "    }\n",
              "</style>\n",
              "<table border=\"1\" class=\"dataframe\">\n",
              "  <thead>\n",
              "    <tr style=\"text-align: right;\">\n",
              "      <th></th>\n",
              "      <th>year</th>\n",
              "      <th>q_fl_year</th>\n",
              "      <th>kin</th>\n",
              "      <th>nu</th>\n",
              "      <th>q_fl_total</th>\n",
              "      <th>q_oil_year</th>\n",
              "      <th>q_oil_total</th>\n",
              "    </tr>\n",
              "  </thead>\n",
              "  <tbody>\n",
              "    <tr>\n",
              "      <th>11</th>\n",
              "      <td>11</td>\n",
              "      <td>5.0</td>\n",
              "      <td>0.21</td>\n",
              "      <td>0.421</td>\n",
              "      <td>43.6</td>\n",
              "      <td>2.895</td>\n",
              "      <td>35.0133</td>\n",
              "    </tr>\n",
              "    <tr>\n",
              "      <th>12</th>\n",
              "      <td>12</td>\n",
              "      <td>5.0</td>\n",
              "      <td>0.22</td>\n",
              "      <td>0.501</td>\n",
              "      <td>48.6</td>\n",
              "      <td>2.495</td>\n",
              "      <td>37.5083</td>\n",
              "    </tr>\n",
              "    <tr>\n",
              "      <th>13</th>\n",
              "      <td>13</td>\n",
              "      <td>5.0</td>\n",
              "      <td>0.23</td>\n",
              "      <td>0.588</td>\n",
              "      <td>53.6</td>\n",
              "      <td>2.060</td>\n",
              "      <td>39.5683</td>\n",
              "    </tr>\n",
              "    <tr>\n",
              "      <th>14</th>\n",
              "      <td>14</td>\n",
              "      <td>5.0</td>\n",
              "      <td>0.24</td>\n",
              "      <td>0.682</td>\n",
              "      <td>58.6</td>\n",
              "      <td>1.590</td>\n",
              "      <td>41.1583</td>\n",
              "    </tr>\n",
              "    <tr>\n",
              "      <th>15</th>\n",
              "      <td>15</td>\n",
              "      <td>5.0</td>\n",
              "      <td>0.25</td>\n",
              "      <td>0.783</td>\n",
              "      <td>63.6</td>\n",
              "      <td>1.085</td>\n",
              "      <td>42.2433</td>\n",
              "    </tr>\n",
              "  </tbody>\n",
              "</table>\n",
              "</div>"
            ],
            "text/plain": [
              "    year  q_fl_year   kin     nu  q_fl_total  q_oil_year  q_oil_total\n",
              "11    11        5.0  0.21  0.421        43.6       2.895      35.0133\n",
              "12    12        5.0  0.22  0.501        48.6       2.495      37.5083\n",
              "13    13        5.0  0.23  0.588        53.6       2.060      39.5683\n",
              "14    14        5.0  0.24  0.682        58.6       1.590      41.1583\n",
              "15    15        5.0  0.25  0.783        63.6       1.085      42.2433"
            ]
          },
          "metadata": {
            "tags": []
          },
          "execution_count": 34
        }
      ]
    },
    {
      "cell_type": "code",
      "metadata": {
        "colab": {
          "base_uri": "https://localhost:8080/",
          "height": 717
        },
        "id": "LdqFOyEOBkxj",
        "outputId": "6ba27a07-494e-4ce1-d818-981f8d1a03f4"
      },
      "source": [
        "fig = go.Figure()\n",
        "\n",
        "fig.add_trace(go.Scatter(x=df_result['year'], y=df_result['q_fl_year'],\n",
        "                    mode='lines+markers',\n",
        "                    name='Годовой отбор жидкости, 10^6'))\n",
        "\n",
        "fig.add_trace(go.Scatter(x=df_result['year'], y=df_result['q_fl_total'],\n",
        "                    mode='lines+markers',\n",
        "                    name='Накопленный объем жидкости, 10^6',\n",
        "    yaxis=\"y2\"))\n",
        "\n",
        "fig.add_trace(go.Scatter(x=df_result['year'], y=df_result['q_oil_total'],\n",
        "                    mode='lines+markers',\n",
        "                    name='Накопленный объем нефти, 10^6',\n",
        "    yaxis=\"y2\"))\n",
        "\n",
        "fig.update_layout( \n",
        "    xaxis=dict(\n",
        "        domain=[0.2, 0.9],\n",
        "        tickmode = 'array',\n",
        "        tickvals = df_data['year'],\n",
        "        tickangle=-45,\n",
        "        title='Год',\n",
        "    ),\n",
        "\n",
        "    yaxis=dict(\n",
        "        range=[0, 7],\n",
        "        title=\"Годовой отбор жидкости, млн т\",\n",
        "        titlefont=dict(\n",
        "            color=\"#1f77b4\"\n",
        "        ),\n",
        "        tickfont=dict(\n",
        "            color=\"#1f77b4\"\n",
        "        )\n",
        "    ),\n",
        "\n",
        "    yaxis2=dict(\n",
        "        range=[0, 70],\n",
        "        title=\"Накопленные объемы, млн т\",\n",
        "        titlefont=dict(\n",
        "            color=\"#ff7f0e\"\n",
        "        ),\n",
        "        tickfont=dict(\n",
        "            color=\"#ff7f0e\"\n",
        "        ),\n",
        "        anchor=\"x\",\n",
        "        overlaying=\"y\",\n",
        "        side=\"right\"\n",
        "    ),\n",
        "\n",
        "    title={\n",
        "        'text': \"Объемы (накопленные объемы) по годам\",\n",
        "        'y':0.95,\n",
        "        'x':0.5,\n",
        "        'xanchor': 'center',\n",
        "        'yanchor': 'top'},\n",
        "    #title='Объемы (накопленные объемы) по годам',\n",
        "    autosize=False,\n",
        "    width=1500,\n",
        "    height=700)\n",
        "\n",
        "\n",
        "fig.show()"
      ],
      "execution_count": null,
      "outputs": [
        {
          "output_type": "display_data",
          "data": {
            "text/html": [
              "<html>\n",
              "<head><meta charset=\"utf-8\" /></head>\n",
              "<body>\n",
              "    <div>\n",
              "            <script src=\"https://cdnjs.cloudflare.com/ajax/libs/mathjax/2.7.5/MathJax.js?config=TeX-AMS-MML_SVG\"></script><script type=\"text/javascript\">if (window.MathJax) {MathJax.Hub.Config({SVG: {font: \"STIX-Web\"}});}</script>\n",
              "                <script type=\"text/javascript\">window.PlotlyConfig = {MathJaxConfig: 'local'};</script>\n",
              "        <script src=\"https://cdn.plot.ly/plotly-latest.min.js\"></script>    \n",
              "            <div id=\"79c5bfab-5477-4f35-922f-7ea47c5435a0\" class=\"plotly-graph-div\" style=\"height:700px; width:1500px;\"></div>\n",
              "            <script type=\"text/javascript\">\n",
              "                \n",
              "                    window.PLOTLYENV=window.PLOTLYENV || {};\n",
              "                    \n",
              "                if (document.getElementById(\"79c5bfab-5477-4f35-922f-7ea47c5435a0\")) {\n",
              "                    Plotly.newPlot(\n",
              "                        '79c5bfab-5477-4f35-922f-7ea47c5435a0',\n",
              "                        [{\"mode\": \"lines+markers\", \"name\": \"\\u0413\\u043e\\u0434\\u043e\\u0432\\u043e\\u0439 \\u043e\\u0442\\u0431\\u043e\\u0440 \\u0436\\u0438\\u0434\\u043a\\u043e\\u0441\\u0442\\u0438, 10^6\", \"type\": \"scatter\", \"x\": [0, 1, 2, 3, 4, 5, 6, 7, 8, 9, 10, 11, 12, 13, 14, 15], \"y\": [0.0, 0.9, 1.6, 2.6, 3.5, 5.0, 5.0, 5.0, 5.0, 5.0, 5.0, 5.0, 5.0, 5.0, 5.0, 5.0]}, {\"mode\": \"lines+markers\", \"name\": \"\\u041d\\u0430\\u043a\\u043e\\u043f\\u043b\\u0435\\u043d\\u043d\\u044b\\u0439 \\u043e\\u0431\\u044a\\u0435\\u043c \\u0436\\u0438\\u0434\\u043a\\u043e\\u0441\\u0442\\u0438, 10^6\", \"type\": \"scatter\", \"x\": [0, 1, 2, 3, 4, 5, 6, 7, 8, 9, 10, 11, 12, 13, 14, 15], \"y\": [0.0, 0.9, 2.5, 5.1, 8.6, 13.6, 18.6, 23.6, 28.6, 33.6, 38.6, 43.6, 48.6, 53.6, 58.6, 63.6], \"yaxis\": \"y2\"}, {\"mode\": \"lines+markers\", \"name\": \"\\u041d\\u0430\\u043a\\u043e\\u043f\\u043b\\u0435\\u043d\\u043d\\u044b\\u0439 \\u043e\\u0431\\u044a\\u0435\\u043c \\u043d\\u0435\\u0444\\u0442\\u0438, 10^6\", \"type\": \"scatter\", \"x\": [0, 1, 2, 3, 4, 5, 6, 7, 8, 9, 10, 11, 12, 13, 14, 15], \"y\": [0.0, 0.8973, 2.4749, 4.9943, 8.2983, 12.863299999999999, 17.2383, 21.3833, 25.2683, 28.8583, 32.1183, 35.0133, 37.5083, 39.5683, 41.1583, 42.2433], \"yaxis\": \"y2\"}],\n",
              "                        {\"autosize\": false, \"height\": 700, \"template\": {\"data\": {\"bar\": [{\"error_x\": {\"color\": \"#2a3f5f\"}, \"error_y\": {\"color\": \"#2a3f5f\"}, \"marker\": {\"line\": {\"color\": \"#E5ECF6\", \"width\": 0.5}}, \"type\": \"bar\"}], \"barpolar\": [{\"marker\": {\"line\": {\"color\": \"#E5ECF6\", \"width\": 0.5}}, \"type\": \"barpolar\"}], \"carpet\": [{\"aaxis\": {\"endlinecolor\": \"#2a3f5f\", \"gridcolor\": \"white\", \"linecolor\": \"white\", \"minorgridcolor\": \"white\", \"startlinecolor\": \"#2a3f5f\"}, \"baxis\": {\"endlinecolor\": \"#2a3f5f\", \"gridcolor\": \"white\", \"linecolor\": \"white\", \"minorgridcolor\": \"white\", \"startlinecolor\": \"#2a3f5f\"}, \"type\": \"carpet\"}], \"choropleth\": [{\"colorbar\": {\"outlinewidth\": 0, \"ticks\": \"\"}, \"type\": \"choropleth\"}], \"contour\": [{\"colorbar\": {\"outlinewidth\": 0, \"ticks\": \"\"}, \"colorscale\": [[0.0, \"#0d0887\"], [0.1111111111111111, \"#46039f\"], [0.2222222222222222, \"#7201a8\"], [0.3333333333333333, \"#9c179e\"], [0.4444444444444444, \"#bd3786\"], [0.5555555555555556, \"#d8576b\"], [0.6666666666666666, \"#ed7953\"], [0.7777777777777778, \"#fb9f3a\"], [0.8888888888888888, \"#fdca26\"], [1.0, \"#f0f921\"]], \"type\": \"contour\"}], \"contourcarpet\": [{\"colorbar\": {\"outlinewidth\": 0, \"ticks\": \"\"}, \"type\": \"contourcarpet\"}], \"heatmap\": [{\"colorbar\": {\"outlinewidth\": 0, \"ticks\": \"\"}, \"colorscale\": [[0.0, \"#0d0887\"], [0.1111111111111111, \"#46039f\"], [0.2222222222222222, \"#7201a8\"], [0.3333333333333333, \"#9c179e\"], [0.4444444444444444, \"#bd3786\"], [0.5555555555555556, \"#d8576b\"], [0.6666666666666666, \"#ed7953\"], [0.7777777777777778, \"#fb9f3a\"], [0.8888888888888888, \"#fdca26\"], [1.0, \"#f0f921\"]], \"type\": \"heatmap\"}], \"heatmapgl\": [{\"colorbar\": {\"outlinewidth\": 0, \"ticks\": \"\"}, \"colorscale\": [[0.0, \"#0d0887\"], [0.1111111111111111, \"#46039f\"], [0.2222222222222222, \"#7201a8\"], [0.3333333333333333, \"#9c179e\"], [0.4444444444444444, \"#bd3786\"], [0.5555555555555556, \"#d8576b\"], [0.6666666666666666, \"#ed7953\"], [0.7777777777777778, \"#fb9f3a\"], [0.8888888888888888, \"#fdca26\"], [1.0, \"#f0f921\"]], \"type\": \"heatmapgl\"}], \"histogram\": [{\"marker\": {\"colorbar\": {\"outlinewidth\": 0, \"ticks\": \"\"}}, \"type\": \"histogram\"}], \"histogram2d\": [{\"colorbar\": {\"outlinewidth\": 0, \"ticks\": \"\"}, \"colorscale\": [[0.0, \"#0d0887\"], [0.1111111111111111, \"#46039f\"], [0.2222222222222222, \"#7201a8\"], [0.3333333333333333, \"#9c179e\"], [0.4444444444444444, \"#bd3786\"], [0.5555555555555556, \"#d8576b\"], [0.6666666666666666, \"#ed7953\"], [0.7777777777777778, \"#fb9f3a\"], [0.8888888888888888, \"#fdca26\"], [1.0, \"#f0f921\"]], \"type\": \"histogram2d\"}], \"histogram2dcontour\": [{\"colorbar\": {\"outlinewidth\": 0, \"ticks\": \"\"}, \"colorscale\": [[0.0, \"#0d0887\"], [0.1111111111111111, \"#46039f\"], [0.2222222222222222, \"#7201a8\"], [0.3333333333333333, \"#9c179e\"], [0.4444444444444444, \"#bd3786\"], [0.5555555555555556, \"#d8576b\"], [0.6666666666666666, \"#ed7953\"], [0.7777777777777778, \"#fb9f3a\"], [0.8888888888888888, \"#fdca26\"], [1.0, \"#f0f921\"]], \"type\": \"histogram2dcontour\"}], \"mesh3d\": [{\"colorbar\": {\"outlinewidth\": 0, \"ticks\": \"\"}, \"type\": \"mesh3d\"}], \"parcoords\": [{\"line\": {\"colorbar\": {\"outlinewidth\": 0, \"ticks\": \"\"}}, \"type\": \"parcoords\"}], \"pie\": [{\"automargin\": true, \"type\": \"pie\"}], \"scatter\": [{\"marker\": {\"colorbar\": {\"outlinewidth\": 0, \"ticks\": \"\"}}, \"type\": \"scatter\"}], \"scatter3d\": [{\"line\": {\"colorbar\": {\"outlinewidth\": 0, \"ticks\": \"\"}}, \"marker\": {\"colorbar\": {\"outlinewidth\": 0, \"ticks\": \"\"}}, \"type\": \"scatter3d\"}], \"scattercarpet\": [{\"marker\": {\"colorbar\": {\"outlinewidth\": 0, \"ticks\": \"\"}}, \"type\": \"scattercarpet\"}], \"scattergeo\": [{\"marker\": {\"colorbar\": {\"outlinewidth\": 0, \"ticks\": \"\"}}, \"type\": \"scattergeo\"}], \"scattergl\": [{\"marker\": {\"colorbar\": {\"outlinewidth\": 0, \"ticks\": \"\"}}, \"type\": \"scattergl\"}], \"scattermapbox\": [{\"marker\": {\"colorbar\": {\"outlinewidth\": 0, \"ticks\": \"\"}}, \"type\": \"scattermapbox\"}], \"scatterpolar\": [{\"marker\": {\"colorbar\": {\"outlinewidth\": 0, \"ticks\": \"\"}}, \"type\": \"scatterpolar\"}], \"scatterpolargl\": [{\"marker\": {\"colorbar\": {\"outlinewidth\": 0, \"ticks\": \"\"}}, \"type\": \"scatterpolargl\"}], \"scatterternary\": [{\"marker\": {\"colorbar\": {\"outlinewidth\": 0, \"ticks\": \"\"}}, \"type\": \"scatterternary\"}], \"surface\": [{\"colorbar\": {\"outlinewidth\": 0, \"ticks\": \"\"}, \"colorscale\": [[0.0, \"#0d0887\"], [0.1111111111111111, \"#46039f\"], [0.2222222222222222, \"#7201a8\"], [0.3333333333333333, \"#9c179e\"], [0.4444444444444444, \"#bd3786\"], [0.5555555555555556, \"#d8576b\"], [0.6666666666666666, \"#ed7953\"], [0.7777777777777778, \"#fb9f3a\"], [0.8888888888888888, \"#fdca26\"], [1.0, \"#f0f921\"]], \"type\": \"surface\"}], \"table\": [{\"cells\": {\"fill\": {\"color\": \"#EBF0F8\"}, \"line\": {\"color\": \"white\"}}, \"header\": {\"fill\": {\"color\": \"#C8D4E3\"}, \"line\": {\"color\": \"white\"}}, \"type\": \"table\"}]}, \"layout\": {\"annotationdefaults\": {\"arrowcolor\": \"#2a3f5f\", \"arrowhead\": 0, \"arrowwidth\": 1}, \"coloraxis\": {\"colorbar\": {\"outlinewidth\": 0, \"ticks\": \"\"}}, \"colorscale\": {\"diverging\": [[0, \"#8e0152\"], [0.1, \"#c51b7d\"], [0.2, \"#de77ae\"], [0.3, \"#f1b6da\"], [0.4, \"#fde0ef\"], [0.5, \"#f7f7f7\"], [0.6, \"#e6f5d0\"], [0.7, \"#b8e186\"], [0.8, \"#7fbc41\"], [0.9, \"#4d9221\"], [1, \"#276419\"]], \"sequential\": [[0.0, \"#0d0887\"], [0.1111111111111111, \"#46039f\"], [0.2222222222222222, \"#7201a8\"], [0.3333333333333333, \"#9c179e\"], [0.4444444444444444, \"#bd3786\"], [0.5555555555555556, \"#d8576b\"], [0.6666666666666666, \"#ed7953\"], [0.7777777777777778, \"#fb9f3a\"], [0.8888888888888888, \"#fdca26\"], [1.0, \"#f0f921\"]], \"sequentialminus\": [[0.0, \"#0d0887\"], [0.1111111111111111, \"#46039f\"], [0.2222222222222222, \"#7201a8\"], [0.3333333333333333, \"#9c179e\"], [0.4444444444444444, \"#bd3786\"], [0.5555555555555556, \"#d8576b\"], [0.6666666666666666, \"#ed7953\"], [0.7777777777777778, \"#fb9f3a\"], [0.8888888888888888, \"#fdca26\"], [1.0, \"#f0f921\"]]}, \"colorway\": [\"#636efa\", \"#EF553B\", \"#00cc96\", \"#ab63fa\", \"#FFA15A\", \"#19d3f3\", \"#FF6692\", \"#B6E880\", \"#FF97FF\", \"#FECB52\"], \"font\": {\"color\": \"#2a3f5f\"}, \"geo\": {\"bgcolor\": \"white\", \"lakecolor\": \"white\", \"landcolor\": \"#E5ECF6\", \"showlakes\": true, \"showland\": true, \"subunitcolor\": \"white\"}, \"hoverlabel\": {\"align\": \"left\"}, \"hovermode\": \"closest\", \"mapbox\": {\"style\": \"light\"}, \"paper_bgcolor\": \"white\", \"plot_bgcolor\": \"#E5ECF6\", \"polar\": {\"angularaxis\": {\"gridcolor\": \"white\", \"linecolor\": \"white\", \"ticks\": \"\"}, \"bgcolor\": \"#E5ECF6\", \"radialaxis\": {\"gridcolor\": \"white\", \"linecolor\": \"white\", \"ticks\": \"\"}}, \"scene\": {\"xaxis\": {\"backgroundcolor\": \"#E5ECF6\", \"gridcolor\": \"white\", \"gridwidth\": 2, \"linecolor\": \"white\", \"showbackground\": true, \"ticks\": \"\", \"zerolinecolor\": \"white\"}, \"yaxis\": {\"backgroundcolor\": \"#E5ECF6\", \"gridcolor\": \"white\", \"gridwidth\": 2, \"linecolor\": \"white\", \"showbackground\": true, \"ticks\": \"\", \"zerolinecolor\": \"white\"}, \"zaxis\": {\"backgroundcolor\": \"#E5ECF6\", \"gridcolor\": \"white\", \"gridwidth\": 2, \"linecolor\": \"white\", \"showbackground\": true, \"ticks\": \"\", \"zerolinecolor\": \"white\"}}, \"shapedefaults\": {\"line\": {\"color\": \"#2a3f5f\"}}, \"ternary\": {\"aaxis\": {\"gridcolor\": \"white\", \"linecolor\": \"white\", \"ticks\": \"\"}, \"baxis\": {\"gridcolor\": \"white\", \"linecolor\": \"white\", \"ticks\": \"\"}, \"bgcolor\": \"#E5ECF6\", \"caxis\": {\"gridcolor\": \"white\", \"linecolor\": \"white\", \"ticks\": \"\"}}, \"title\": {\"x\": 0.05}, \"xaxis\": {\"automargin\": true, \"gridcolor\": \"white\", \"linecolor\": \"white\", \"ticks\": \"\", \"title\": {\"standoff\": 15}, \"zerolinecolor\": \"white\", \"zerolinewidth\": 2}, \"yaxis\": {\"automargin\": true, \"gridcolor\": \"white\", \"linecolor\": \"white\", \"ticks\": \"\", \"title\": {\"standoff\": 15}, \"zerolinecolor\": \"white\", \"zerolinewidth\": 2}}}, \"title\": {\"text\": \"\\u041e\\u0431\\u044a\\u0435\\u043c\\u044b (\\u043d\\u0430\\u043a\\u043e\\u043f\\u043b\\u0435\\u043d\\u043d\\u044b\\u0435 \\u043e\\u0431\\u044a\\u0435\\u043c\\u044b) \\u043f\\u043e \\u0433\\u043e\\u0434\\u0430\\u043c\", \"x\": 0.5, \"xanchor\": \"center\", \"y\": 0.95, \"yanchor\": \"top\"}, \"width\": 1500, \"xaxis\": {\"domain\": [0.2, 0.9], \"tickangle\": -45, \"tickmode\": \"array\", \"tickvals\": [0, 1, 2, 3, 4, 5, 6, 7, 8, 9, 10, 11, 12, 13, 14, 15], \"title\": {\"text\": \"\\u0413\\u043e\\u0434\"}}, \"yaxis\": {\"range\": [0, 7], \"tickfont\": {\"color\": \"#1f77b4\"}, \"title\": {\"font\": {\"color\": \"#1f77b4\"}, \"text\": \"\\u0413\\u043e\\u0434\\u043e\\u0432\\u043e\\u0439 \\u043e\\u0442\\u0431\\u043e\\u0440 \\u0436\\u0438\\u0434\\u043a\\u043e\\u0441\\u0442\\u0438, \\u043c\\u043b\\u043d \\u0442\"}}, \"yaxis2\": {\"anchor\": \"x\", \"overlaying\": \"y\", \"range\": [0, 70], \"side\": \"right\", \"tickfont\": {\"color\": \"#ff7f0e\"}, \"title\": {\"font\": {\"color\": \"#ff7f0e\"}, \"text\": \"\\u041d\\u0430\\u043a\\u043e\\u043f\\u043b\\u0435\\u043d\\u043d\\u044b\\u0435 \\u043e\\u0431\\u044a\\u0435\\u043c\\u044b, \\u043c\\u043b\\u043d \\u0442\"}}},\n",
              "                        {\"responsive\": true}\n",
              "                    ).then(function(){\n",
              "                            \n",
              "var gd = document.getElementById('79c5bfab-5477-4f35-922f-7ea47c5435a0');\n",
              "var x = new MutationObserver(function (mutations, observer) {{\n",
              "        var display = window.getComputedStyle(gd).display;\n",
              "        if (!display || display === 'none') {{\n",
              "            console.log([gd, 'removed!']);\n",
              "            Plotly.purge(gd);\n",
              "            observer.disconnect();\n",
              "        }}\n",
              "}});\n",
              "\n",
              "// Listen for the removal of the full notebook cells\n",
              "var notebookContainer = gd.closest('#notebook-container');\n",
              "if (notebookContainer) {{\n",
              "    x.observe(notebookContainer, {childList: true});\n",
              "}}\n",
              "\n",
              "// Listen for the clearing of the current output cell\n",
              "var outputEl = gd.closest('.output');\n",
              "if (outputEl) {{\n",
              "    x.observe(outputEl, {childList: true});\n",
              "}}\n",
              "\n",
              "                        })\n",
              "                };\n",
              "                \n",
              "            </script>\n",
              "        </div>\n",
              "</body>\n",
              "</html>"
            ]
          },
          "metadata": {
            "tags": []
          }
        }
      ]
    },
    {
      "cell_type": "markdown",
      "metadata": {
        "id": "Fjkf5ZiNl-eN"
      },
      "source": [
        "## Задача 2.11 Закон Дарси"
      ]
    },
    {
      "cell_type": "markdown",
      "metadata": {
        "id": "zu13-VcxmOnm"
      },
      "source": [
        "Горизонтальная цилиндрическая труба заполнена песком. Через эту трубу фильтруется жидкость. Даны внутренний диаметр $d=10\\;см$ и длина трубы $L=45\\;cм$, пористость $m=0.18$, перепад давления $\\Delta P=18*10^4 Па$, вязкость $\\mu =3\\;сПз$ (сантипуаз = $10^{-3}\\;Па/с$ = $1\\;мПа/с$), плотность $\\rho = 850\\;кг/м^3$ и расход жидкости $Q=5\\;см^3/с$. \n",
        "\n",
        "Определить: проницаемость песка $k$."
      ]
    },
    {
      "cell_type": "markdown",
      "metadata": {
        "id": "PNrmCo2ImWH3"
      },
      "source": [
        "Решение:\n",
        "\n",
        "$Q = w \\cdot S$\n",
        "\n",
        "$Q_{М} = Q \\cdot \\rho$\n",
        "\n",
        "где:\n",
        "\n",
        "- $w$ - скорость фильтрации;\n",
        "- $S$ - площадь сечения\n",
        "\n",
        "$w = \\cfrac{k}{\\mu} \\cdot \\cfrac{\\Delta P}{L}$\n",
        "\n",
        "$Q = \\cfrac{k}{\\mu} \\cdot \\cfrac{\\Delta P}{L} \\cdot S = \\cfrac{k}{\\mu} \\cdot \\cfrac{\\Delta P}{L} \\cdot \\cfrac{\\pi \\cdot d^2}{4} $\n",
        "\n",
        "$k = \\cfrac{4Q \\cdot \\mu \\cdot L}{\\Delta P \\cdot \\pi \\cdot d^2}$"
      ]
    },
    {
      "cell_type": "code",
      "metadata": {
        "id": "jqt1Ave7mEo9"
      },
      "source": [
        "q = 5 * 10**(-6)\n",
        "mu = 3 * 10 ** (-3)\n",
        "l = 45 * 10**(-2)\n",
        "delta_P = 18* (10**4)\n",
        "d = 0.1\n",
        "\n",
        "DARCI_TO_SQM = 0.9869 * 10 ** (-12)"
      ],
      "execution_count": null,
      "outputs": []
    },
    {
      "cell_type": "code",
      "metadata": {
        "colab": {
          "base_uri": "https://localhost:8080/"
        },
        "id": "1Tnj2hHjrwZD",
        "outputId": "2d831ef6-a83d-4e36-8884-067a35dbd135"
      },
      "source": [
        "k = (4 * q * mu * l) / (delta_P * np.pi * d**2)\n",
        "k / DARCI_TO_SQM"
      ],
      "execution_count": null,
      "outputs": [
        {
          "output_type": "execute_result",
          "data": {
            "text/plain": [
              "4.838026439109189"
            ]
          },
          "metadata": {
            "tags": []
          },
          "execution_count": 37
        }
      ]
    },
    {
      "cell_type": "markdown",
      "metadata": {
        "id": "T5lItIYysaH7"
      },
      "source": [
        "Ответ: ~4.84 Дарси\n",
        "\n",
        "1 Дарси ~ $0.9869 \\cdot 10^{−12} \\;м^2$"
      ]
    },
    {
      "cell_type": "markdown",
      "metadata": {
        "id": "FUBBLkPEtMt0"
      },
      "source": [
        "## Задача 2.12 Закон Дарси"
      ]
    },
    {
      "cell_type": "markdown",
      "metadata": {
        "id": "N1cQLWX-tjft"
      },
      "source": [
        "Определить дебит дренажной галереи шириной $В = 100\\;м$, если толщина пласта $h=10\\;м$, расстояние до контура питания $L=10\\;км$, проницаемость пласта $k=1\\;Д$, динамический коэффициент вязкости жидкости $\\mu=1\\;сПз$, давление на контуре питания $P_{К} =100\\;атм$ и давление в галерее $P_{Г} =75\\;атм$. \n",
        "\n",
        "Движение жидкости напорное по закону Дарси."
      ]
    },
    {
      "cell_type": "markdown",
      "metadata": {
        "id": "etZoXTdrvEd5"
      },
      "source": [
        "Решение:\n",
        "\n",
        "Движение жидкости только по оси $X$\n",
        "\n",
        "$Q = w_{X} \\cdot S = \\cfrac{k}{\\mu} \\cdot \\cfrac{P_{К} - P_{Г}}{L} \\cdot B \\cdot h = \\cfrac {k \\cdot \\ B \\cdot h \\cdot \\Delta P}{\\mu \\cdot L}$"
      ]
    },
    {
      "cell_type": "code",
      "metadata": {
        "id": "NiNOOUsor5m9"
      },
      "source": [
        "k = 1 * DARCI_TO_SQM\n",
        "mu = 1 * 10 ** (-3)\n",
        "delta_P = 25 * ATM_TO_PA\n",
        "l = 10 * 10 ** 3\n",
        "b = 100\n",
        "h = 10\n",
        "\n",
        "SECOND_IN_DAY = 86400"
      ],
      "execution_count": null,
      "outputs": []
    },
    {
      "cell_type": "code",
      "metadata": {
        "colab": {
          "base_uri": "https://localhost:8080/"
        },
        "id": "OcRrd7QCwbwa",
        "outputId": "fa7e3b3c-a455-4226-dc50-54b79d943c46"
      },
      "source": [
        "q = (k * b * h * delta_P) / (mu * l)\n",
        "q * SECOND_IN_DAY"
      ],
      "execution_count": null,
      "outputs": [
        {
          "output_type": "execute_result",
          "data": {
            "text/plain": [
              "21.599490779999996"
            ]
          },
          "metadata": {
            "tags": []
          },
          "execution_count": 39
        }
      ]
    },
    {
      "cell_type": "markdown",
      "metadata": {
        "id": "e_YYZ30Kx7vm"
      },
      "source": [
        "Ответ: ~21.6 $м^3/сут$"
      ]
    },
    {
      "cell_type": "markdown",
      "metadata": {
        "id": "FS96clXaysiz"
      },
      "source": [
        "## Задача 2.13 Закон Дарси"
      ]
    },
    {
      "cell_type": "markdown",
      "metadata": {
        "id": "K92nVI2Ty6KY"
      },
      "source": [
        "Построить график распределения давления при одномерном движении в пласте несжимаемой жидкости по линейному закону фильтрации. Заданы длина $L=5\\;км$, ширина $B=300\\;м$ и толщина пласта $h=10\\;м$, коэффициент проницаемости $k=0.8\\;Д$, давление в галерее стока $P_{Г}=2.94\\;МПа$ и ее дебит $Q=30\\;м^3/сут$, динамическая вязкость жидкости $\\mu=4\\;сПз$."
      ]
    },
    {
      "cell_type": "markdown",
      "metadata": {
        "id": "FNrtZLFWETxr"
      },
      "source": [
        "Решение:\n",
        "\n",
        "$Q = w_{X} \\cdot S = \\cfrac{k}{\\mu} \\cdot \\cfrac{P_{К} - P_{Г}}{L} \\cdot B \\cdot h $\n",
        "\n",
        "$P_{К} = P_{Г} + \\cfrac{Q \\cdot \\mu \\cdot L}{k \\cdot B \\cdot h}$"
      ]
    },
    {
      "cell_type": "code",
      "metadata": {
        "id": "l2dNuiUtE0hm"
      },
      "source": [
        "q = 30 / SECOND_IN_DAY\n",
        "mu = 4 * 10 ** (-3)\n",
        "L = 5 * 10 ** 3\n",
        "k = 0.8 * DARCI_TO_SQM\n",
        "b = 300\n",
        "h = 10\n",
        "p_g = 2.94 * 10 ** 6"
      ],
      "execution_count": null,
      "outputs": []
    },
    {
      "cell_type": "code",
      "metadata": {
        "colab": {
          "base_uri": "https://localhost:8080/"
        },
        "id": "o0UpwFd8FaB_",
        "outputId": "a2095d16-6341-4722-cfed-c547c60ac2d7"
      },
      "source": [
        "p_k = p_g + (q * mu * l) / (k * b * h)\n",
        "p_k"
      ],
      "execution_count": null,
      "outputs": [
        {
          "output_type": "execute_result",
          "data": {
            "text/plain": [
              "8803853.518124469"
            ]
          },
          "metadata": {
            "tags": []
          },
          "execution_count": 41
        }
      ]
    },
    {
      "cell_type": "code",
      "metadata": {
        "id": "k-jh07VwIa1R"
      },
      "source": [
        "p_k = p_k / 10 ** 6\n",
        "p_g = p_g / 10 ** 6"
      ],
      "execution_count": null,
      "outputs": []
    },
    {
      "cell_type": "code",
      "metadata": {
        "colab": {
          "base_uri": "https://localhost:8080/"
        },
        "id": "PFl5y-FMFm7p",
        "outputId": "3ec3b42c-5236-47f0-c79f-b68dc809c4aa"
      },
      "source": [
        "fig = go.Figure()\n",
        "\n",
        "fig.add_trace(go.Scatter(x=[0, l / 10** 3], y=[p_k, p_g],\n",
        "                    mode='text+lines+markers',\n",
        "                    text=[\"P контура<br>{:.1f} МПа\".format(p_k), \n",
        "                          \"P галереи<br>{:.1f} МПа\".format(p_g)],\n",
        "                    textposition=\"top right\",\n",
        "                    name='КИН'))\n",
        "\n",
        "fig.update_layout( \n",
        "    xaxis=dict(\n",
        "        domain=[0.2, 0.9],\n",
        "        range=[-2, 12],\n",
        "        title='Расстояние (км)',\n",
        "        zeroline=True,\n",
        "        zerolinewidth=2, \n",
        "        zerolinecolor='red',\n",
        "    ),\n",
        "\n",
        "    yaxis=dict(\n",
        "        range=[-1, 10],\n",
        "        title=\"Давление, МПа\",\n",
        "        titlefont=dict(\n",
        "            color=\"#1f77b4\"\n",
        "        ),\n",
        "        tickfont=dict(\n",
        "            color=\"#1f77b4\"\n",
        "        ),\n",
        "        zeroline=True,\n",
        "        zerolinewidth=2, \n",
        "        zerolinecolor='red'\n",
        "    ),\n",
        "\n",
        "    title={\n",
        "        'text': \"Распределение давления при одномерном движении в пласте несжимаемой жидкости\",\n",
        "        'y':0.95,\n",
        "        'x':0.55,\n",
        "        'xanchor': 'center',\n",
        "        'yanchor': 'top'},\n",
        "    autosize=False,\n",
        "    width=1000,\n",
        "    height=500\n",
        ")\n",
        "\n",
        "fig.show()"
      ],
      "execution_count": null,
      "outputs": [
        {
          "output_type": "display_data",
          "data": {
            "text/html": [
              "<html>\n",
              "<head><meta charset=\"utf-8\" /></head>\n",
              "<body>\n",
              "    <div>\n",
              "            <script src=\"https://cdnjs.cloudflare.com/ajax/libs/mathjax/2.7.5/MathJax.js?config=TeX-AMS-MML_SVG\"></script><script type=\"text/javascript\">if (window.MathJax) {MathJax.Hub.Config({SVG: {font: \"STIX-Web\"}});}</script>\n",
              "                <script type=\"text/javascript\">window.PlotlyConfig = {MathJaxConfig: 'local'};</script>\n",
              "        <script src=\"https://cdn.plot.ly/plotly-latest.min.js\"></script>    \n",
              "            <div id=\"616be26b-636e-4c33-8a7e-8ec5d796c373\" class=\"plotly-graph-div\" style=\"height:500px; width:1000px;\"></div>\n",
              "            <script type=\"text/javascript\">\n",
              "                \n",
              "                    window.PLOTLYENV=window.PLOTLYENV || {};\n",
              "                    \n",
              "                if (document.getElementById(\"616be26b-636e-4c33-8a7e-8ec5d796c373\")) {\n",
              "                    Plotly.newPlot(\n",
              "                        '616be26b-636e-4c33-8a7e-8ec5d796c373',\n",
              "                        [{\"mode\": \"text+lines+markers\", \"name\": \"\\u041a\\u0418\\u041d\", \"text\": [\"P \\u043a\\u043e\\u043d\\u0442\\u0443\\u0440\\u0430<br>8.8 \\u041c\\u041f\\u0430\", \"P \\u0433\\u0430\\u043b\\u0435\\u0440\\u0435\\u0438<br>2.9 \\u041c\\u041f\\u0430\"], \"textposition\": \"top right\", \"type\": \"scatter\", \"x\": [0, 10.0], \"y\": [8.803853518124468, 2.94]}],\n",
              "                        {\"autosize\": false, \"height\": 500, \"template\": {\"data\": {\"bar\": [{\"error_x\": {\"color\": \"#2a3f5f\"}, \"error_y\": {\"color\": \"#2a3f5f\"}, \"marker\": {\"line\": {\"color\": \"#E5ECF6\", \"width\": 0.5}}, \"type\": \"bar\"}], \"barpolar\": [{\"marker\": {\"line\": {\"color\": \"#E5ECF6\", \"width\": 0.5}}, \"type\": \"barpolar\"}], \"carpet\": [{\"aaxis\": {\"endlinecolor\": \"#2a3f5f\", \"gridcolor\": \"white\", \"linecolor\": \"white\", \"minorgridcolor\": \"white\", \"startlinecolor\": \"#2a3f5f\"}, \"baxis\": {\"endlinecolor\": \"#2a3f5f\", \"gridcolor\": \"white\", \"linecolor\": \"white\", \"minorgridcolor\": \"white\", \"startlinecolor\": \"#2a3f5f\"}, \"type\": \"carpet\"}], \"choropleth\": [{\"colorbar\": {\"outlinewidth\": 0, \"ticks\": \"\"}, \"type\": \"choropleth\"}], \"contour\": [{\"colorbar\": {\"outlinewidth\": 0, \"ticks\": \"\"}, \"colorscale\": [[0.0, \"#0d0887\"], [0.1111111111111111, \"#46039f\"], [0.2222222222222222, \"#7201a8\"], [0.3333333333333333, \"#9c179e\"], [0.4444444444444444, \"#bd3786\"], [0.5555555555555556, \"#d8576b\"], [0.6666666666666666, \"#ed7953\"], [0.7777777777777778, \"#fb9f3a\"], [0.8888888888888888, \"#fdca26\"], [1.0, \"#f0f921\"]], \"type\": \"contour\"}], \"contourcarpet\": [{\"colorbar\": {\"outlinewidth\": 0, \"ticks\": \"\"}, \"type\": \"contourcarpet\"}], \"heatmap\": [{\"colorbar\": {\"outlinewidth\": 0, \"ticks\": \"\"}, \"colorscale\": [[0.0, \"#0d0887\"], [0.1111111111111111, \"#46039f\"], [0.2222222222222222, \"#7201a8\"], [0.3333333333333333, \"#9c179e\"], [0.4444444444444444, \"#bd3786\"], [0.5555555555555556, \"#d8576b\"], [0.6666666666666666, \"#ed7953\"], [0.7777777777777778, \"#fb9f3a\"], [0.8888888888888888, \"#fdca26\"], [1.0, \"#f0f921\"]], \"type\": \"heatmap\"}], \"heatmapgl\": [{\"colorbar\": {\"outlinewidth\": 0, \"ticks\": \"\"}, \"colorscale\": [[0.0, \"#0d0887\"], [0.1111111111111111, \"#46039f\"], [0.2222222222222222, \"#7201a8\"], [0.3333333333333333, \"#9c179e\"], [0.4444444444444444, \"#bd3786\"], [0.5555555555555556, \"#d8576b\"], [0.6666666666666666, \"#ed7953\"], [0.7777777777777778, \"#fb9f3a\"], [0.8888888888888888, \"#fdca26\"], [1.0, \"#f0f921\"]], \"type\": \"heatmapgl\"}], \"histogram\": [{\"marker\": {\"colorbar\": {\"outlinewidth\": 0, \"ticks\": \"\"}}, \"type\": \"histogram\"}], \"histogram2d\": [{\"colorbar\": {\"outlinewidth\": 0, \"ticks\": \"\"}, \"colorscale\": [[0.0, \"#0d0887\"], [0.1111111111111111, \"#46039f\"], [0.2222222222222222, \"#7201a8\"], [0.3333333333333333, \"#9c179e\"], [0.4444444444444444, \"#bd3786\"], [0.5555555555555556, \"#d8576b\"], [0.6666666666666666, \"#ed7953\"], [0.7777777777777778, \"#fb9f3a\"], [0.8888888888888888, \"#fdca26\"], [1.0, \"#f0f921\"]], \"type\": \"histogram2d\"}], \"histogram2dcontour\": [{\"colorbar\": {\"outlinewidth\": 0, \"ticks\": \"\"}, \"colorscale\": [[0.0, \"#0d0887\"], [0.1111111111111111, \"#46039f\"], [0.2222222222222222, \"#7201a8\"], [0.3333333333333333, \"#9c179e\"], [0.4444444444444444, \"#bd3786\"], [0.5555555555555556, \"#d8576b\"], [0.6666666666666666, \"#ed7953\"], [0.7777777777777778, \"#fb9f3a\"], [0.8888888888888888, \"#fdca26\"], [1.0, \"#f0f921\"]], \"type\": \"histogram2dcontour\"}], \"mesh3d\": [{\"colorbar\": {\"outlinewidth\": 0, \"ticks\": \"\"}, \"type\": \"mesh3d\"}], \"parcoords\": [{\"line\": {\"colorbar\": {\"outlinewidth\": 0, \"ticks\": \"\"}}, \"type\": \"parcoords\"}], \"pie\": [{\"automargin\": true, \"type\": \"pie\"}], \"scatter\": [{\"marker\": {\"colorbar\": {\"outlinewidth\": 0, \"ticks\": \"\"}}, \"type\": \"scatter\"}], \"scatter3d\": [{\"line\": {\"colorbar\": {\"outlinewidth\": 0, \"ticks\": \"\"}}, \"marker\": {\"colorbar\": {\"outlinewidth\": 0, \"ticks\": \"\"}}, \"type\": \"scatter3d\"}], \"scattercarpet\": [{\"marker\": {\"colorbar\": {\"outlinewidth\": 0, \"ticks\": \"\"}}, \"type\": \"scattercarpet\"}], \"scattergeo\": [{\"marker\": {\"colorbar\": {\"outlinewidth\": 0, \"ticks\": \"\"}}, \"type\": \"scattergeo\"}], \"scattergl\": [{\"marker\": {\"colorbar\": {\"outlinewidth\": 0, \"ticks\": \"\"}}, \"type\": \"scattergl\"}], \"scattermapbox\": [{\"marker\": {\"colorbar\": {\"outlinewidth\": 0, \"ticks\": \"\"}}, \"type\": \"scattermapbox\"}], \"scatterpolar\": [{\"marker\": {\"colorbar\": {\"outlinewidth\": 0, \"ticks\": \"\"}}, \"type\": \"scatterpolar\"}], \"scatterpolargl\": [{\"marker\": {\"colorbar\": {\"outlinewidth\": 0, \"ticks\": \"\"}}, \"type\": \"scatterpolargl\"}], \"scatterternary\": [{\"marker\": {\"colorbar\": {\"outlinewidth\": 0, \"ticks\": \"\"}}, \"type\": \"scatterternary\"}], \"surface\": [{\"colorbar\": {\"outlinewidth\": 0, \"ticks\": \"\"}, \"colorscale\": [[0.0, \"#0d0887\"], [0.1111111111111111, \"#46039f\"], [0.2222222222222222, \"#7201a8\"], [0.3333333333333333, \"#9c179e\"], [0.4444444444444444, \"#bd3786\"], [0.5555555555555556, \"#d8576b\"], [0.6666666666666666, \"#ed7953\"], [0.7777777777777778, \"#fb9f3a\"], [0.8888888888888888, \"#fdca26\"], [1.0, \"#f0f921\"]], \"type\": \"surface\"}], \"table\": [{\"cells\": {\"fill\": {\"color\": \"#EBF0F8\"}, \"line\": {\"color\": \"white\"}}, \"header\": {\"fill\": {\"color\": \"#C8D4E3\"}, \"line\": {\"color\": \"white\"}}, \"type\": \"table\"}]}, \"layout\": {\"annotationdefaults\": {\"arrowcolor\": \"#2a3f5f\", \"arrowhead\": 0, \"arrowwidth\": 1}, \"coloraxis\": {\"colorbar\": {\"outlinewidth\": 0, \"ticks\": \"\"}}, \"colorscale\": {\"diverging\": [[0, \"#8e0152\"], [0.1, \"#c51b7d\"], [0.2, \"#de77ae\"], [0.3, \"#f1b6da\"], [0.4, \"#fde0ef\"], [0.5, \"#f7f7f7\"], [0.6, \"#e6f5d0\"], [0.7, \"#b8e186\"], [0.8, \"#7fbc41\"], [0.9, \"#4d9221\"], [1, \"#276419\"]], \"sequential\": [[0.0, \"#0d0887\"], [0.1111111111111111, \"#46039f\"], [0.2222222222222222, \"#7201a8\"], [0.3333333333333333, \"#9c179e\"], [0.4444444444444444, \"#bd3786\"], [0.5555555555555556, \"#d8576b\"], [0.6666666666666666, \"#ed7953\"], [0.7777777777777778, \"#fb9f3a\"], [0.8888888888888888, \"#fdca26\"], [1.0, \"#f0f921\"]], \"sequentialminus\": [[0.0, \"#0d0887\"], [0.1111111111111111, \"#46039f\"], [0.2222222222222222, \"#7201a8\"], [0.3333333333333333, \"#9c179e\"], [0.4444444444444444, \"#bd3786\"], [0.5555555555555556, \"#d8576b\"], [0.6666666666666666, \"#ed7953\"], [0.7777777777777778, \"#fb9f3a\"], [0.8888888888888888, \"#fdca26\"], [1.0, \"#f0f921\"]]}, \"colorway\": [\"#636efa\", \"#EF553B\", \"#00cc96\", \"#ab63fa\", \"#FFA15A\", \"#19d3f3\", \"#FF6692\", \"#B6E880\", \"#FF97FF\", \"#FECB52\"], \"font\": {\"color\": \"#2a3f5f\"}, \"geo\": {\"bgcolor\": \"white\", \"lakecolor\": \"white\", \"landcolor\": \"#E5ECF6\", \"showlakes\": true, \"showland\": true, \"subunitcolor\": \"white\"}, \"hoverlabel\": {\"align\": \"left\"}, \"hovermode\": \"closest\", \"mapbox\": {\"style\": \"light\"}, \"paper_bgcolor\": \"white\", \"plot_bgcolor\": \"#E5ECF6\", \"polar\": {\"angularaxis\": {\"gridcolor\": \"white\", \"linecolor\": \"white\", \"ticks\": \"\"}, \"bgcolor\": \"#E5ECF6\", \"radialaxis\": {\"gridcolor\": \"white\", \"linecolor\": \"white\", \"ticks\": \"\"}}, \"scene\": {\"xaxis\": {\"backgroundcolor\": \"#E5ECF6\", \"gridcolor\": \"white\", \"gridwidth\": 2, \"linecolor\": \"white\", \"showbackground\": true, \"ticks\": \"\", \"zerolinecolor\": \"white\"}, \"yaxis\": {\"backgroundcolor\": \"#E5ECF6\", \"gridcolor\": \"white\", \"gridwidth\": 2, \"linecolor\": \"white\", \"showbackground\": true, \"ticks\": \"\", \"zerolinecolor\": \"white\"}, \"zaxis\": {\"backgroundcolor\": \"#E5ECF6\", \"gridcolor\": \"white\", \"gridwidth\": 2, \"linecolor\": \"white\", \"showbackground\": true, \"ticks\": \"\", \"zerolinecolor\": \"white\"}}, \"shapedefaults\": {\"line\": {\"color\": \"#2a3f5f\"}}, \"ternary\": {\"aaxis\": {\"gridcolor\": \"white\", \"linecolor\": \"white\", \"ticks\": \"\"}, \"baxis\": {\"gridcolor\": \"white\", \"linecolor\": \"white\", \"ticks\": \"\"}, \"bgcolor\": \"#E5ECF6\", \"caxis\": {\"gridcolor\": \"white\", \"linecolor\": \"white\", \"ticks\": \"\"}}, \"title\": {\"x\": 0.05}, \"xaxis\": {\"automargin\": true, \"gridcolor\": \"white\", \"linecolor\": \"white\", \"ticks\": \"\", \"title\": {\"standoff\": 15}, \"zerolinecolor\": \"white\", \"zerolinewidth\": 2}, \"yaxis\": {\"automargin\": true, \"gridcolor\": \"white\", \"linecolor\": \"white\", \"ticks\": \"\", \"title\": {\"standoff\": 15}, \"zerolinecolor\": \"white\", \"zerolinewidth\": 2}}}, \"title\": {\"text\": \"\\u0420\\u0430\\u0441\\u043f\\u0440\\u0435\\u0434\\u0435\\u043b\\u0435\\u043d\\u0438\\u0435 \\u0434\\u0430\\u0432\\u043b\\u0435\\u043d\\u0438\\u044f \\u043f\\u0440\\u0438 \\u043e\\u0434\\u043d\\u043e\\u043c\\u0435\\u0440\\u043d\\u043e\\u043c \\u0434\\u0432\\u0438\\u0436\\u0435\\u043d\\u0438\\u0438 \\u0432 \\u043f\\u043b\\u0430\\u0441\\u0442\\u0435 \\u043d\\u0435\\u0441\\u0436\\u0438\\u043c\\u0430\\u0435\\u043c\\u043e\\u0439 \\u0436\\u0438\\u0434\\u043a\\u043e\\u0441\\u0442\\u0438\", \"x\": 0.55, \"xanchor\": \"center\", \"y\": 0.95, \"yanchor\": \"top\"}, \"width\": 1000, \"xaxis\": {\"domain\": [0.2, 0.9], \"range\": [-2, 12], \"title\": {\"text\": \"\\u0420\\u0430\\u0441\\u0441\\u0442\\u043e\\u044f\\u043d\\u0438\\u0435 (\\u043a\\u043c)\"}, \"zeroline\": true, \"zerolinecolor\": \"red\", \"zerolinewidth\": 2}, \"yaxis\": {\"range\": [-1, 10], \"tickfont\": {\"color\": \"#1f77b4\"}, \"title\": {\"font\": {\"color\": \"#1f77b4\"}, \"text\": \"\\u0414\\u0430\\u0432\\u043b\\u0435\\u043d\\u0438\\u0435, \\u041c\\u041f\\u0430\"}, \"zeroline\": true, \"zerolinecolor\": \"red\", \"zerolinewidth\": 2}},\n",
              "                        {\"responsive\": true}\n",
              "                    ).then(function(){\n",
              "                            \n",
              "var gd = document.getElementById('616be26b-636e-4c33-8a7e-8ec5d796c373');\n",
              "var x = new MutationObserver(function (mutations, observer) {{\n",
              "        var display = window.getComputedStyle(gd).display;\n",
              "        if (!display || display === 'none') {{\n",
              "            console.log([gd, 'removed!']);\n",
              "            Plotly.purge(gd);\n",
              "            observer.disconnect();\n",
              "        }}\n",
              "}});\n",
              "\n",
              "// Listen for the removal of the full notebook cells\n",
              "var notebookContainer = gd.closest('#notebook-container');\n",
              "if (notebookContainer) {{\n",
              "    x.observe(notebookContainer, {childList: true});\n",
              "}}\n",
              "\n",
              "// Listen for the clearing of the current output cell\n",
              "var outputEl = gd.closest('.output');\n",
              "if (outputEl) {{\n",
              "    x.observe(outputEl, {childList: true});\n",
              "}}\n",
              "\n",
              "                        })\n",
              "                };\n",
              "                \n",
              "            </script>\n",
              "        </div>\n",
              "</body>\n",
              "</html>"
            ]
          },
          "metadata": {
            "tags": []
          }
        }
      ]
    },
    {
      "cell_type": "markdown",
      "metadata": {
        "id": "f7UE8nlKyt83"
      },
      "source": [
        "## Задача 2.14 Закон Дарси"
      ]
    },
    {
      "cell_type": "markdown",
      "metadata": {
        "id": "NlUzbTkwyvUc"
      },
      "source": [
        "Определить дебит нефтяной скважины (в т/сут) в случае установившейся плоско-радиальной фильтрации жидкости по закону Дарси, если известно, что давление на контуре питания $P_{К}=11\\;МПа$, давление на забое скважины $P_{С}=7\\;МПа$, проницаемость пласта $k=1\\;Д$, толщина пласта $h=10\\;м$, диаметр скважины $d_{С}=20\\;см$, радиус контура питания $R_{К}=15\\;км$, динамический коэффициент вязкости жидкости $\\mu=4\\;мПа*c$ и плотность $\\rho=860\\;кг/м^3$"
      ]
    },
    {
      "cell_type": "markdown",
      "metadata": {
        "id": "ynkmAIrxzwl-"
      },
      "source": [
        "Решение:\n",
        "\n",
        "Формула Дюпюи (определение дебита центральной скважины в круговом пласте):\n",
        "\n",
        "$Q = \\cfrac{2 \\cdot \\pi \\cdot k \\cdot h}{\\mu} \\cdot \\cfrac{P_{К} - P_{С}}{ln \\cfrac{R_{К}}{r_{С}}}$"
      ]
    },
    {
      "cell_type": "code",
      "metadata": {
        "id": "JWUyVV-ExYtP"
      },
      "source": [
        "k = 1 * DARCI_TO_SQM\n",
        "h = 10\n",
        "mu = 4 * 10 ** (-3)\n",
        "delta_P = 4 * 10 ** 6\n",
        "R = 15 * 10 ** 3\n",
        "d = 20"
      ],
      "execution_count": null,
      "outputs": []
    },
    {
      "cell_type": "code",
      "metadata": {
        "colab": {
          "base_uri": "https://localhost:8080/"
        },
        "id": "NutXi4-h2BkK",
        "outputId": "8fedc0a6-88e4-47f9-b40c-f65736d9540e"
      },
      "source": [
        "q = (2 * np.pi * k * h * delta_P) / (mu * np.log(2 * R / d))\n",
        "q * SECOND_IN_DAY"
      ],
      "execution_count": null,
      "outputs": [
        {
          "output_type": "execute_result",
          "data": {
            "text/plain": [
              "732.5851290191985"
            ]
          },
          "metadata": {
            "tags": []
          },
          "execution_count": 45
        }
      ]
    },
    {
      "cell_type": "markdown",
      "metadata": {
        "id": "Q_w9bX2d3A-2"
      },
      "source": [
        "Ответ: ~0.73 т/сут"
      ]
    },
    {
      "cell_type": "markdown",
      "metadata": {
        "id": "dc9CPi643RMi"
      },
      "source": [
        "## Задача 2.15 Скин фактор"
      ]
    },
    {
      "cell_type": "markdown",
      "metadata": {
        "id": "oAeS4cha3TN3"
      },
      "source": [
        "Нефтяная скважина диаметром $d=20\\;см$, вскрывшая пласт толщиной $h=10\\;м$, проницаемостью $k=0.3\\;Д$, дает дебит $Q=130\\;м^3/сут$ при депрессии $\\Delta P=2\\;МПа$. Вязкость нефти $\\mu=3\\;мПа*с$. Расстояние до контура питания $R_{К}=700\\;м$. Определить коэффициент, учитывающий дополнительное фильтрационное сопротивление за счет несовершенства скважины $S=S_1+S_2$, коэффициент совершенства скважины $\\delta$ и приведенный радиус скважины $r_{c'}$\n"
      ]
    },
    {
      "cell_type": "markdown",
      "metadata": {
        "id": "fwbJw2bX6S1m"
      },
      "source": [
        "Решение:\n",
        "\n",
        "$\\delta = \\cfrac{Q_{НЕС}}{Q_{СОВ}}$\n",
        "\n",
        "$r_{c'} = r_{c} \\cdot exp^{-S}$\n",
        "\n",
        "Формула Дюпюи (определение дебита центральной скважины в круговом пласте):\n",
        "\n",
        "$Q_{СОВ} = \\cfrac{2 \\cdot \\pi \\cdot k \\cdot h}{\\mu} \\cdot \\cfrac{P_{К} - P_{С}}{ln \\cfrac{R_{К}}{r_{С}}}$\n",
        "\n",
        "$Q_{НЕС} = \\cfrac{2 \\cdot \\pi \\cdot k \\cdot h}{\\mu} \\cdot \\cfrac{P_{К} - P_{С}}{ln \\cfrac{R_{К}}{r_{С}} + S}$\n",
        "\n",
        "\n",
        "Соответственно:\n",
        "\n",
        "$\\delta = \\cfrac{Q_{НЕС}}{Q_{СОВ}} = \\cfrac{ln \\cfrac{R_{К}}{r_{С}}}{ln \\cfrac{R_{К}}{r_{С}} + S}$ \n",
        "\n",
        "$Q_{НЕС} \\cdot \\mu \\cdot (ln \\cfrac{R_{К}}{r_{С}} + S) = 2 \\cdot \\pi \\cdot k \\cdot h \\cdot \\Delta P$\n",
        "\n",
        "$S = \\cfrac{2 \\cdot \\pi \\cdot k \\cdot h \\cdot \\Delta P}{Q_{НЕС} \\cdot \\mu} - ln \\cfrac{R_{К}}{r_{С}}$"
      ]
    },
    {
      "cell_type": "code",
      "metadata": {
        "id": "Io961CTQ2xhO"
      },
      "source": [
        "k = 0.3 * DARCI_TO_SQM\n",
        "h = 10\n",
        "delta_P = 2 * 10 ** 6\n",
        "q = 130 / SECOND_IN_DAY\n",
        "mu = 3 * 10 ** (-3)\n",
        "R = 700\n",
        "d = 20"
      ],
      "execution_count": null,
      "outputs": []
    },
    {
      "cell_type": "code",
      "metadata": {
        "colab": {
          "base_uri": "https://localhost:8080/"
        },
        "id": "eTQglMQh-kjg",
        "outputId": "da162b5a-ce78-43cb-d998-7f09cfb199a1"
      },
      "source": [
        "s = (2 * np.pi * k * h * delta_P) / (q * mu) - np.log(2 * R / d)\n",
        "s"
      ],
      "execution_count": null,
      "outputs": [
        {
          "output_type": "execute_result",
          "data": {
            "text/plain": [
              "3.993899374600457"
            ]
          },
          "metadata": {
            "tags": []
          },
          "execution_count": 47
        }
      ]
    },
    {
      "cell_type": "code",
      "metadata": {
        "colab": {
          "base_uri": "https://localhost:8080/"
        },
        "id": "u2lqGVlI-r0V",
        "outputId": "236ac2f3-5251-4321-e78d-e8dd83427c05"
      },
      "source": [
        "delta = np.log(2 * R / d) / (np.log(2 * R / d) + s)\n",
        "delta"
      ],
      "execution_count": null,
      "outputs": [
        {
          "output_type": "execute_result",
          "data": {
            "text/plain": [
              "0.5154442901177416"
            ]
          },
          "metadata": {
            "tags": []
          },
          "execution_count": 48
        }
      ]
    },
    {
      "cell_type": "code",
      "metadata": {
        "colab": {
          "base_uri": "https://localhost:8080/"
        },
        "id": "Hezge3xB_iFv",
        "outputId": "e53c8daa-d4e0-4dbb-f158-b5e10e59922f"
      },
      "source": [
        "r_c = (d / 2) * np.exp (-s)\n",
        "r_c"
      ],
      "execution_count": null,
      "outputs": [
        {
          "output_type": "execute_result",
          "data": {
            "text/plain": [
              "0.18427717267040944"
            ]
          },
          "metadata": {
            "tags": []
          },
          "execution_count": 49
        }
      ]
    },
    {
      "cell_type": "markdown",
      "metadata": {
        "id": "UGAQVco7AR7c"
      },
      "source": [
        "Ответ:\n",
        "\n",
        "$S = 3.99$\n",
        "\n",
        "$\\delta = 0.52$\n",
        "\n",
        "$r_{C'} = 0.18\\;см$"
      ]
    },
    {
      "cell_type": "code",
      "metadata": {
        "id": "bR3DKB5c_u7i"
      },
      "source": [
        ""
      ],
      "execution_count": null,
      "outputs": []
    }
  ]
}